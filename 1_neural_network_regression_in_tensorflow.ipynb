{
  "nbformat": 4,
  "nbformat_minor": 0,
  "metadata": {
    "colab": {
      "provenance": [],
      "toc_visible": true,
      "mount_file_id": "14H9fffBB8ivMR1l5XU6qm-QDTrzO0u_W",
      "authorship_tag": "ABX9TyOM2SDNGztrgOBmOfkWqfXu",
      "include_colab_link": true
    },
    "kernelspec": {
      "name": "python3",
      "display_name": "Python 3"
    },
    "language_info": {
      "name": "python"
    }
  },
  "cells": [
    {
      "cell_type": "markdown",
      "metadata": {
        "id": "view-in-github",
        "colab_type": "text"
      },
      "source": [
        "<a href=\"https://colab.research.google.com/github/ShivajiMallela/Deep-learning-with-Tensorflow/blob/main/01_neural_network_regression_in_tensorflow.ipynb\" target=\"_parent\"><img src=\"https://colab.research.google.com/assets/colab-badge.svg\" alt=\"Open In Colab\"/></a>"
      ]
    },
    {
      "cell_type": "markdown",
      "source": [
        "# 01. Neural Network Regression with TensorFlow\n",
        "\n",
        "There are various definitions for a [regression problem](https://en.wikipedia.org/wiki/Regression_analysis), but for my learning purposes, I'll simplify it as: predicting a number.\n",
        "\n",
        "For example, I might want to:\n",
        "- Estimate the selling price of houses given information about them (such as the number of rooms, size, and number of bathrooms).\n",
        "- Determine the coordinates of a bounding box for an item in an image.\n",
        "- Calculate the cost of medical insurance for an individual based on their demographics (age, sex, gender, race).\n",
        "\n",
        "In this notebook, I'll lay the groundwork for taking a sample of inputs (my data), building a neural network to discover patterns in those inputs, and then making predictions (in the form of numbers) based on those inputs.\n",
        "\n",
        "## What I'll cover\n",
        "\n",
        "Specifically, I'll explore the following with TensorFlow:\n",
        "- Architecture of a regression model\n",
        "- Input shapes and output shapes\n",
        "  - `X`: features/data (inputs)\n",
        "  - `y`: labels (outputs)\n",
        "- Creating custom data to view and fit\n",
        "- Steps in modeling\n",
        "  - Creating a model\n",
        "  - Compiling a model\n",
        "    - Defining a loss function\n",
        "    - Setting up an optimizer\n",
        "    - Creating evaluation metrics\n",
        "  - Fitting a model (training it to find patterns in my data)\n",
        "- Evaluating a model\n",
        "  - Visualizing the model (\"visualize, visualize, visualize\")\n",
        "  - Analyzing training curves\n",
        "  - Comparing predictions to ground truth (using my evaluation metrics)\n",
        "- Saving a model (so I can reuse it later)\n",
        "- Loading a model\n",
        "\n",
        "I'll go through each step in detail.\n",
        "\n"
      ],
      "metadata": {
        "id": "rRaAob-3pDSF"
      }
    },
    {
      "cell_type": "code",
      "execution_count": 1,
      "metadata": {
        "id": "k-vgYxC7SzwA",
        "colab": {
          "base_uri": "https://localhost:8080/"
        },
        "outputId": "f2cc4a2c-79e7-4886-d1e5-b14db61622ba"
      },
      "outputs": [
        {
          "output_type": "stream",
          "name": "stdout",
          "text": [
            "2.15.0\n",
            "Notebook last run (end-to-end): 2024-06-21 17:19:55.013724\n"
          ]
        }
      ],
      "source": [
        "import tensorflow as tf\n",
        "print(tf.__version__)\n",
        "\n",
        "import datetime\n",
        "print(f\"Notebook last run (end-to-end): {datetime.datetime.now()}\")"
      ]
    },
    {
      "cell_type": "code",
      "source": [
        "import keras\n",
        "print(keras.__version__)"
      ],
      "metadata": {
        "colab": {
          "base_uri": "https://localhost:8080/"
        },
        "id": "MN2v0pLD7kCV",
        "outputId": "04de44cc-088c-4646-9225-5d08df64ba50"
      },
      "execution_count": 2,
      "outputs": [
        {
          "output_type": "stream",
          "name": "stdout",
          "text": [
            "2.15.0\n"
          ]
        }
      ]
    },
    {
      "cell_type": "markdown",
      "source": [
        "# Creating data to view and fit\n",
        "\n",
        "Since we're working on a **regression problem** (predicting a number) let's create some linear data (a straight line) to model."
      ],
      "metadata": {
        "id": "Xe8ib1YgkzZc"
      }
    },
    {
      "cell_type": "code",
      "source": [
        "import numpy as np\n",
        "import matplotlib.pyplot as plt\n",
        "\n",
        "# Create features\n",
        "X = np.array([-6.0, -4.0, -2.0, 0, 2.0, 4.0, 6.0, 8.0, 10.0, 12.0])\n",
        "\n",
        "# Create labels\n",
        "y = np.array([3.0, 5.0, 7.0, 9.0, 11.0, 13.0, 15.0, 17.0, 19.0, 21.0])\n",
        "\n",
        "# Visualize it\n",
        "plt.scatter(X, y)\n",
        "plt.xticks(X)\n",
        "plt.yticks(y);"
      ],
      "metadata": {
        "colab": {
          "base_uri": "https://localhost:8080/",
          "height": 430
        },
        "id": "esFEGDfpjND0",
        "outputId": "3d64f2f5-cb54-4551-9030-ccdd2b0448d3"
      },
      "execution_count": 3,
      "outputs": [
        {
          "output_type": "display_data",
          "data": {
            "text/plain": [
              "<Figure size 640x480 with 1 Axes>"
            ],
            "image/png": "[encoded data removed]"
          },
          "metadata": {}
        }
      ]
    },
    {
      "cell_type": "markdown",
      "source": [
        "Before I do any modeling, I need to calculate the pattern between `X` and `y`.\n",
        "\n",
        "For example, let's say I want to determine the `y` value based on this data if `X` is 17.0.\n",
        "\n",
        "Or how about if `X` is -10.0?\n",
        "\n",
        "This kind of pattern discovery is the essence of what I'll be building neural networks to do for me.\n"
      ],
      "metadata": {
        "id": "WH8xZ0TQrs2L"
      }
    },
    {
      "cell_type": "markdown",
      "source": [
        "# Regression Input Shapes and Output Shapes\n",
        "\n",
        "One of the most important concepts when working with neural networks is understanding the input and output shapes.\n",
        "\n",
        "The **input shape** refers to the shape of the data that goes into the model.\n",
        "\n",
        "The **output shape** refers to the shape of the data that you want to come out of the model.\n",
        "\n",
        "These shapes will vary depending on the problem we're working on.\n",
        "\n",
        "Neural networks take in numbers and output numbers. These numbers are usually represented as tensors (or arrays).\n",
        "\n",
        "Previously, I created data using NumPy arrays, but I could do the same with tensors.\n"
      ],
      "metadata": {
        "id": "dpmdyXvg7Bdy"
      }
    },
    {
      "cell_type": "code",
      "source": [
        "# Example input and output shapes of a regression model\n",
        "house_info = tf.constant([\"bedroom\", \"bathroom\", \"garage\"])\n",
        "house_price = tf.constant([908960])\n",
        "house_info, house_price"
      ],
      "metadata": {
        "colab": {
          "base_uri": "https://localhost:8080/"
        },
        "id": "DDRs7fbp7LIg",
        "outputId": "2ce6b589-1618-43ad-abea-fb25a501a132"
      },
      "execution_count": 4,
      "outputs": [
        {
          "output_type": "execute_result",
          "data": {
            "text/plain": [
              "(<tf.Tensor: shape=(3,), dtype=string, numpy=array([b'bedroom', b'bathroom', b'garage'], dtype=object)>,\n",
              " <tf.Tensor: shape=(1,), dtype=int32, numpy=array([908960], dtype=int32)>)"
            ]
          },
          "metadata": {},
          "execution_count": 4
        }
      ]
    },
    {
      "cell_type": "code",
      "source": [
        "house_info.shape, house_price.shape"
      ],
      "metadata": {
        "colab": {
          "base_uri": "https://localhost:8080/"
        },
        "id": "dj6RIyRY7qm_",
        "outputId": "a4f4213e-a6bc-4bf5-ce8e-eddb73d3d2b4"
      },
      "execution_count": 5,
      "outputs": [
        {
          "output_type": "execute_result",
          "data": {
            "text/plain": [
              "(TensorShape([3]), TensorShape([1]))"
            ]
          },
          "metadata": {},
          "execution_count": 5
        }
      ]
    },
    {
      "cell_type": "code",
      "source": [
        "import numpy as np\n",
        "import matplotlib.pyplot as plt\n",
        "\n",
        "# Create features\n",
        "X = tf.constant([-7.0, -4.0, -1.0, 2.0, 5.0, 8.0, 11.0, 14.0])\n",
        "\n",
        "# Create labels\n",
        "y = tf.constant([2.0, 5.0, 8.0, 11.0, 14.0, 17.0, 20.0, 23.0])\n",
        "\n",
        "# plot X and y\n",
        "plt.scatter(X,y);"
      ],
      "metadata": {
        "colab": {
          "base_uri": "https://localhost:8080/",
          "height": 430
        },
        "id": "GZidLCje73fm",
        "outputId": "97677b6d-2e16-4423-a230-cc9d013f6c38"
      },
      "execution_count": 6,
      "outputs": [
        {
          "output_type": "display_data",
          "data": {
            "text/plain": [
              "<Figure size 640x480 with 1 Axes>"
            ],
            "image/png": "[encoded data removed]"
          },
          "metadata": {}
        }
      ]
    },
    {
      "cell_type": "markdown",
      "source": [
        "Our goal here is to predict `y` by using value of `X`\n",
        "\n",
        "So our **input** will be `X` and our **output** will be `y`.\n",
        "\n",
        "Knowing this, what do you think our input and output shapes will be?\n",
        "\n",
        "Let's take a look."
      ],
      "metadata": {
        "id": "gZ6ZE2r88Ysg"
      }
    },
    {
      "cell_type": "code",
      "source": [
        "# Take a single example of X\n",
        "input_shape = X[0].shape\n",
        "\n",
        "# Take a single example of y\n",
        "output_shape = y[0].shape\n",
        "\n",
        "input_shape, output_shape # these are both scalars (no shape)"
      ],
      "metadata": {
        "colab": {
          "base_uri": "https://localhost:8080/"
        },
        "id": "0k4B3MLq8Yfp",
        "outputId": "7511a4a8-322e-42f6-cdf5-69ed1f1356b3"
      },
      "execution_count": 7,
      "outputs": [
        {
          "output_type": "execute_result",
          "data": {
            "text/plain": [
              "(TensorShape([]), TensorShape([]))"
            ]
          },
          "metadata": {},
          "execution_count": 7
        }
      ]
    },
    {
      "cell_type": "markdown",
      "source": [
        "In my case, I'm trying to build a model to predict the pattern between `X[0]` being `-7.0` and `y[0]` being `3.0`.\n",
        "\n",
        "So now I have my answer: I'm trying to use one `X` value to predict one `y` value.\n",
        "\n",
        "I might be thinking, \"this seems pretty complicated for just predicting a straight line...\".\n",
        "\n",
        "But the concepts that are covering here, the concepts of input and output shapes for a model, are fundamental.\n",
        "\n",
        "In fact, these are probably two of the things that we spend the most time on when working with neural networks: **making sure my inputs and outputs are in the correct shape**.\n"
      ],
      "metadata": {
        "id": "Rd_qYX5w73bM"
      }
    },
    {
      "cell_type": "markdown",
      "source": [
        "# Steps in Modeling with TensorFlow\n",
        "\n",
        "Now that I know what data I have and understand the input and output shapes, let's build a neural network to model it.\n",
        "\n",
        "In TensorFlow, there are typically three fundamental steps to creating and training a model:\n",
        "\n",
        "1. **Creating a model** - assembling the layers of a neural network either by using the [Functional](https://www.tensorflow.org/guide/keras/functional) or [Sequential API](https://www.tensorflow.org/api_docs/python/tf/keras/Sequential), or by importing a previously built model (known as transfer learning).\n",
        "2. **Compiling a model** - defining how the model's performance should be measured (loss/metrics) and specifying how it should improve (optimizer).\n",
        "3. **Fitting a model** - training the model to find patterns in the data (how `X` relates to `y`).\n",
        "\n",
        "Let's see these steps in action using the [Keras Sequential API](https://www.tensorflow.org/api_docs/python/tf/keras/Sequential) to build a model for my regression data. Then I'll walk through each step.\n",
        "\n",
        "> **Note:** From the version [TensorFlow 2.7.0](https://github.com/tensorflow/tensorflow/releases/tag/v2.7.0)+, the `fit()` function no longer automatically upscales input data from `(batch_size, )` to `(batch_size, 1)`. To address this, we need to expand the dimension of the input data using `tf.expand_dims(input_data, axis=-1)`.\n",
        ">\n",
        "> This means instead of using `model.fit(X, y, epochs=5)`, I should use `model.fit(tf.expand_dims(X, axis=-1), y, epochs=5)`.\n"
      ],
      "metadata": {
        "id": "LFU2Tqdi73Ys"
      }
    },
    {
      "cell_type": "code",
      "source": [
        "# Set Random seed\n",
        "tf.random.set_seed(42)\n",
        "\n",
        "# Create a model using sequential API\n",
        "model = tf.keras.Sequential([\n",
        "    tf.keras.layers.Dense(1)\n",
        "])\n",
        "\n",
        "# compile the model\n",
        "model.compile(loss=tf.keras.losses.mae,\n",
        "              optimizer = tf.keras.optimizers.SGD(),\n",
        "              metrics=[\"mae\"])\n",
        "\n",
        "# Fit the model\n",
        "model.fit(tf.expand_dims(X, axis=-1), y, epochs=5)"
      ],
      "metadata": {
        "colab": {
          "base_uri": "https://localhost:8080/"
        },
        "id": "AE6VftPf73Vy",
        "outputId": "80a3490d-cec5-4d73-97bf-64a8e3c1124d"
      },
      "execution_count": 8,
      "outputs": [
        {
          "output_type": "stream",
          "name": "stdout",
          "text": [
            "Epoch 1/5\n",
            "1/1 [==============================] - 1s 1s/step - loss: 12.9171 - mae: 12.9171\n",
            "Epoch 2/5\n",
            "1/1 [==============================] - 0s 22ms/step - loss: 12.7846 - mae: 12.7846\n",
            "Epoch 3/5\n",
            "1/1 [==============================] - 0s 23ms/step - loss: 12.6521 - mae: 12.6521\n",
            "Epoch 4/5\n",
            "1/1 [==============================] - 0s 21ms/step - loss: 12.5196 - mae: 12.5196\n",
            "Epoch 5/5\n",
            "1/1 [==============================] - 0s 20ms/step - loss: 12.3871 - mae: 12.3871\n"
          ]
        },
        {
          "output_type": "execute_result",
          "data": {
            "text/plain": [
              "<keras.src.callbacks.History at 0x7b72e8302470>"
            ]
          },
          "metadata": {},
          "execution_count": 8
        }
      ]
    },
    {
      "cell_type": "code",
      "source": [
        "# check out X and y\n",
        "X, y"
      ],
      "metadata": {
        "colab": {
          "base_uri": "https://localhost:8080/"
        },
        "id": "m2SLCulT73TH",
        "outputId": "0c823b42-df62-4722-c0c1-176b55417ba3"
      },
      "execution_count": 9,
      "outputs": [
        {
          "output_type": "execute_result",
          "data": {
            "text/plain": [
              "(<tf.Tensor: shape=(8,), dtype=float32, numpy=array([-7., -4., -1.,  2.,  5.,  8., 11., 14.], dtype=float32)>,\n",
              " <tf.Tensor: shape=(8,), dtype=float32, numpy=array([ 2.,  5.,  8., 11., 14., 17., 20., 23.], dtype=float32)>)"
            ]
          },
          "metadata": {},
          "execution_count": 9
        }
      ]
    },
    {
      "cell_type": "code",
      "source": [
        "# make a prediction with the model\n",
        "model.predict([24])"
      ],
      "metadata": {
        "colab": {
          "base_uri": "https://localhost:8080/"
        },
        "id": "t4PN2JWO73QO",
        "outputId": "1bb47c0d-2436-4a79-ab93-70339c6df903"
      },
      "execution_count": 10,
      "outputs": [
        {
          "output_type": "stream",
          "name": "stdout",
          "text": [
            "1/1 [==============================] - 0s 397ms/step\n"
          ]
        },
        {
          "output_type": "execute_result",
          "data": {
            "text/plain": [
              "array([[1.390107]], dtype=float32)"
            ]
          },
          "metadata": {},
          "execution_count": 10
        }
      ]
    },
    {
      "cell_type": "markdown",
      "source": [
        "It dosen't wen't well. the output should be near `33` because the data is linear, we can see `y=X+9` as per our data given."
      ],
      "metadata": {
        "id": "19paz6bH73NH"
      }
    },
    {
      "cell_type": "markdown",
      "source": [
        "# Improving a model\n",
        "\n",
        "How do you think you'd improve upon our current model?\n",
        "\n",
        "There are many different ways to potentially improve a neural network. Some of the most common include:\n",
        "\n",
        "- increasing the number of layers (making the network deeper).\n",
        "- increasing the number of hidden units (making the network wider) and changing the learning rate. Because these values are all human-changeable, they're referred to as [hyperparameters](https://en.wikipedia.org/wiki/Hyperparameter_(machine_learning)) and the practice of trying to find the best hyperparameters is referred to as [hyperparameter tuning](https://en.wikipedia.org/wiki/Hyperparameter_optimization).\n",
        "- Change the activation functions.\n",
        "- Change the optimization funcitons.\n",
        "- change the learning rate.\n",
        "- fitting on more data.\n",
        "- fitting for longer."
      ],
      "metadata": {
        "id": "lWlIPa8473GZ"
      }
    },
    {
      "cell_type": "code",
      "source": [
        "#set random seed\n",
        "tf.random.set_seed(42)\n",
        "\n",
        "model = tf.keras.Sequential([\n",
        "    tf.keras.layers.Dense(50, activation=\"relu\"),\n",
        "    tf.keras.layers.Dense(1)\n",
        "])\n",
        "\n",
        "model.compile(loss = tf.keras.losses.mae,\n",
        "              optimizer = tf.keras.optimizers.Adam(learning_rate=0.01),\n",
        "              metrics = [\"mae\"])\n",
        "\n",
        "model.fit(tf.expand_dims(X, axis=-1), y, epochs=100)"
      ],
      "metadata": {
        "colab": {
          "base_uri": "https://localhost:8080/"
        },
        "id": "MPXWZD6Gz2kG",
        "outputId": "a08fef43-7cc2-4f7f-d91e-d7e26ce24a11"
      },
      "execution_count": 11,
      "outputs": [
        {
          "output_type": "stream",
          "name": "stdout",
          "text": [
            "Epoch 1/100\n",
            "1/1 [==============================] - 1s 1s/step - loss: 11.4317 - mae: 11.4317\n",
            "Epoch 2/100\n",
            "1/1 [==============================] - 0s 17ms/step - loss: 10.7419 - mae: 10.7419\n",
            "Epoch 3/100\n",
            "1/1 [==============================] - 0s 44ms/step - loss: 10.0557 - mae: 10.0557\n",
            "Epoch 4/100\n",
            "1/1 [==============================] - 0s 25ms/step - loss: 9.3634 - mae: 9.3634\n",
            "Epoch 5/100\n",
            "1/1 [==============================] - 0s 35ms/step - loss: 8.6637 - mae: 8.6637\n",
            "Epoch 6/100\n",
            "1/1 [==============================] - 0s 32ms/step - loss: 7.9586 - mae: 7.9586\n",
            "Epoch 7/100\n",
            "1/1 [==============================] - 0s 17ms/step - loss: 7.2428 - mae: 7.2428\n",
            "Epoch 8/100\n",
            "1/1 [==============================] - 0s 14ms/step - loss: 6.5141 - mae: 6.5141\n",
            "Epoch 9/100\n",
            "1/1 [==============================] - 0s 25ms/step - loss: 5.7922 - mae: 5.7922\n",
            "Epoch 10/100\n",
            "1/1 [==============================] - 0s 46ms/step - loss: 5.1718 - mae: 5.1718\n",
            "Epoch 11/100\n",
            "1/1 [==============================] - 0s 31ms/step - loss: 4.5338 - mae: 4.5338\n",
            "Epoch 12/100\n",
            "1/1 [==============================] - 0s 23ms/step - loss: 3.8737 - mae: 3.8737\n",
            "Epoch 13/100\n",
            "1/1 [==============================] - 0s 20ms/step - loss: 3.4798 - mae: 3.4798\n",
            "Epoch 14/100\n",
            "1/1 [==============================] - 0s 22ms/step - loss: 3.4166 - mae: 3.4166\n",
            "Epoch 15/100\n",
            "1/1 [==============================] - 0s 21ms/step - loss: 3.5409 - mae: 3.5409\n",
            "Epoch 16/100\n",
            "1/1 [==============================] - 0s 26ms/step - loss: 3.6469 - mae: 3.6469\n",
            "Epoch 17/100\n",
            "1/1 [==============================] - 0s 22ms/step - loss: 3.9051 - mae: 3.9051\n",
            "Epoch 18/100\n",
            "1/1 [==============================] - 0s 24ms/step - loss: 4.0828 - mae: 4.0828\n",
            "Epoch 19/100\n",
            "1/1 [==============================] - 0s 51ms/step - loss: 4.1841 - mae: 4.1841\n",
            "Epoch 20/100\n",
            "1/1 [==============================] - 0s 29ms/step - loss: 4.2183 - mae: 4.2183\n",
            "Epoch 21/100\n",
            "1/1 [==============================] - 0s 38ms/step - loss: 4.1942 - mae: 4.1942\n",
            "Epoch 22/100\n",
            "1/1 [==============================] - 0s 32ms/step - loss: 4.1195 - mae: 4.1195\n",
            "Epoch 23/100\n",
            "1/1 [==============================] - 0s 74ms/step - loss: 4.0014 - mae: 4.0014\n",
            "Epoch 24/100\n",
            "1/1 [==============================] - 0s 48ms/step - loss: 3.8469 - mae: 3.8469\n",
            "Epoch 25/100\n",
            "1/1 [==============================] - 0s 44ms/step - loss: 3.6617 - mae: 3.6617\n",
            "Epoch 26/100\n",
            "1/1 [==============================] - 0s 52ms/step - loss: 3.5024 - mae: 3.5024\n",
            "Epoch 27/100\n",
            "1/1 [==============================] - 0s 51ms/step - loss: 3.4199 - mae: 3.4199\n",
            "Epoch 28/100\n",
            "1/1 [==============================] - 0s 43ms/step - loss: 3.3376 - mae: 3.3376\n",
            "Epoch 29/100\n",
            "1/1 [==============================] - 0s 28ms/step - loss: 3.2559 - mae: 3.2559\n",
            "Epoch 30/100\n",
            "1/1 [==============================] - 0s 56ms/step - loss: 3.1884 - mae: 3.1884\n",
            "Epoch 31/100\n",
            "1/1 [==============================] - 0s 46ms/step - loss: 3.2436 - mae: 3.2436\n",
            "Epoch 32/100\n",
            "1/1 [==============================] - 0s 28ms/step - loss: 3.2789 - mae: 3.2789\n",
            "Epoch 33/100\n",
            "1/1 [==============================] - 0s 70ms/step - loss: 3.2966 - mae: 3.2966\n",
            "Epoch 34/100\n",
            "1/1 [==============================] - 0s 68ms/step - loss: 3.2981 - mae: 3.2981\n",
            "Epoch 35/100\n",
            "1/1 [==============================] - 0s 60ms/step - loss: 3.2850 - mae: 3.2850\n",
            "Epoch 36/100\n",
            "1/1 [==============================] - 0s 56ms/step - loss: 3.2590 - mae: 3.2590\n",
            "Epoch 37/100\n",
            "1/1 [==============================] - 0s 71ms/step - loss: 3.2211 - mae: 3.2211\n",
            "Epoch 38/100\n",
            "1/1 [==============================] - 0s 35ms/step - loss: 3.1720 - mae: 3.1720\n",
            "Epoch 39/100\n",
            "1/1 [==============================] - 0s 53ms/step - loss: 3.1125 - mae: 3.1125\n",
            "Epoch 40/100\n",
            "1/1 [==============================] - 0s 47ms/step - loss: 3.0431 - mae: 3.0431\n",
            "Epoch 41/100\n",
            "1/1 [==============================] - 0s 54ms/step - loss: 2.9643 - mae: 2.9643\n",
            "Epoch 42/100\n",
            "1/1 [==============================] - 0s 70ms/step - loss: 2.9470 - mae: 2.9470\n",
            "Epoch 43/100\n",
            "1/1 [==============================] - 0s 39ms/step - loss: 2.9508 - mae: 2.9508\n",
            "Epoch 44/100\n",
            "1/1 [==============================] - 0s 41ms/step - loss: 2.9450 - mae: 2.9450\n",
            "Epoch 45/100\n",
            "1/1 [==============================] - 0s 19ms/step - loss: 2.9292 - mae: 2.9292\n",
            "Epoch 46/100\n",
            "1/1 [==============================] - 0s 38ms/step - loss: 2.9027 - mae: 2.9027\n",
            "Epoch 47/100\n",
            "1/1 [==============================] - 0s 54ms/step - loss: 2.8677 - mae: 2.8677\n",
            "Epoch 48/100\n",
            "1/1 [==============================] - 0s 29ms/step - loss: 2.8220 - mae: 2.8220\n",
            "Epoch 49/100\n",
            "1/1 [==============================] - 0s 43ms/step - loss: 2.7679 - mae: 2.7679\n",
            "Epoch 50/100\n",
            "1/1 [==============================] - 0s 40ms/step - loss: 2.7169 - mae: 2.7169\n",
            "Epoch 51/100\n",
            "1/1 [==============================] - 0s 30ms/step - loss: 2.6998 - mae: 2.6998\n",
            "Epoch 52/100\n",
            "1/1 [==============================] - 0s 33ms/step - loss: 2.6444 - mae: 2.6444\n",
            "Epoch 53/100\n",
            "1/1 [==============================] - 0s 38ms/step - loss: 2.5528 - mae: 2.5528\n",
            "Epoch 54/100\n",
            "1/1 [==============================] - 0s 62ms/step - loss: 2.5458 - mae: 2.5458\n",
            "Epoch 55/100\n",
            "1/1 [==============================] - 0s 37ms/step - loss: 2.5453 - mae: 2.5453\n",
            "Epoch 56/100\n",
            "1/1 [==============================] - 0s 32ms/step - loss: 2.5208 - mae: 2.5208\n",
            "Epoch 57/100\n",
            "1/1 [==============================] - 0s 33ms/step - loss: 2.4750 - mae: 2.4750\n",
            "Epoch 58/100\n",
            "1/1 [==============================] - 0s 41ms/step - loss: 2.4096 - mae: 2.4096\n",
            "Epoch 59/100\n",
            "1/1 [==============================] - 0s 34ms/step - loss: 2.3256 - mae: 2.3256\n",
            "Epoch 60/100\n",
            "1/1 [==============================] - 0s 36ms/step - loss: 2.3114 - mae: 2.3114\n",
            "Epoch 61/100\n",
            "1/1 [==============================] - 0s 87ms/step - loss: 2.2917 - mae: 2.2917\n",
            "Epoch 62/100\n",
            "1/1 [==============================] - 0s 83ms/step - loss: 2.2597 - mae: 2.2597\n",
            "Epoch 63/100\n",
            "1/1 [==============================] - 0s 30ms/step - loss: 2.2156 - mae: 2.2156\n",
            "Epoch 64/100\n",
            "1/1 [==============================] - 0s 41ms/step - loss: 2.1591 - mae: 2.1591\n",
            "Epoch 65/100\n",
            "1/1 [==============================] - 0s 20ms/step - loss: 2.0911 - mae: 2.0911\n",
            "Epoch 66/100\n",
            "1/1 [==============================] - 0s 23ms/step - loss: 2.0106 - mae: 2.0106\n",
            "Epoch 67/100\n",
            "1/1 [==============================] - 0s 27ms/step - loss: 1.9173 - mae: 1.9173\n",
            "Epoch 68/100\n",
            "1/1 [==============================] - 0s 59ms/step - loss: 1.8110 - mae: 1.8110\n",
            "Epoch 69/100\n",
            "1/1 [==============================] - 0s 24ms/step - loss: 1.7639 - mae: 1.7639\n",
            "Epoch 70/100\n",
            "1/1 [==============================] - 0s 42ms/step - loss: 1.6975 - mae: 1.6975\n",
            "Epoch 71/100\n",
            "1/1 [==============================] - 0s 27ms/step - loss: 1.6120 - mae: 1.6120\n",
            "Epoch 72/100\n",
            "1/1 [==============================] - 0s 36ms/step - loss: 1.5034 - mae: 1.5034\n",
            "Epoch 73/100\n",
            "1/1 [==============================] - 0s 59ms/step - loss: 1.4392 - mae: 1.4392\n",
            "Epoch 74/100\n",
            "1/1 [==============================] - 0s 32ms/step - loss: 1.3812 - mae: 1.3812\n",
            "Epoch 75/100\n",
            "1/1 [==============================] - 0s 30ms/step - loss: 1.3080 - mae: 1.3080\n",
            "Epoch 76/100\n",
            "1/1 [==============================] - 0s 35ms/step - loss: 1.2153 - mae: 1.2153\n",
            "Epoch 77/100\n",
            "1/1 [==============================] - 0s 35ms/step - loss: 1.1076 - mae: 1.1076\n",
            "Epoch 78/100\n",
            "1/1 [==============================] - 0s 35ms/step - loss: 0.9905 - mae: 0.9905\n",
            "Epoch 79/100\n",
            "1/1 [==============================] - 0s 51ms/step - loss: 0.8827 - mae: 0.8827\n",
            "Epoch 80/100\n",
            "1/1 [==============================] - 0s 30ms/step - loss: 0.7808 - mae: 0.7808\n",
            "Epoch 81/100\n",
            "1/1 [==============================] - 0s 24ms/step - loss: 0.6739 - mae: 0.6739\n",
            "Epoch 82/100\n",
            "1/1 [==============================] - 0s 36ms/step - loss: 0.5822 - mae: 0.5822\n",
            "Epoch 83/100\n",
            "1/1 [==============================] - 0s 29ms/step - loss: 0.4731 - mae: 0.4731\n",
            "Epoch 84/100\n",
            "1/1 [==============================] - 0s 24ms/step - loss: 0.3480 - mae: 0.3480\n",
            "Epoch 85/100\n",
            "1/1 [==============================] - 0s 22ms/step - loss: 0.3613 - mae: 0.3613\n",
            "Epoch 86/100\n",
            "1/1 [==============================] - 0s 17ms/step - loss: 0.3120 - mae: 0.3120\n",
            "Epoch 87/100\n",
            "1/1 [==============================] - 0s 27ms/step - loss: 0.3032 - mae: 0.3032\n",
            "Epoch 88/100\n",
            "1/1 [==============================] - 0s 19ms/step - loss: 0.3490 - mae: 0.3490\n",
            "Epoch 89/100\n",
            "1/1 [==============================] - 0s 20ms/step - loss: 0.3475 - mae: 0.3475\n",
            "Epoch 90/100\n",
            "1/1 [==============================] - 0s 29ms/step - loss: 0.3263 - mae: 0.3263\n",
            "Epoch 91/100\n",
            "1/1 [==============================] - 0s 22ms/step - loss: 0.3789 - mae: 0.3789\n",
            "Epoch 92/100\n",
            "1/1 [==============================] - 0s 25ms/step - loss: 0.3620 - mae: 0.3620\n",
            "Epoch 93/100\n",
            "1/1 [==============================] - 0s 47ms/step - loss: 0.4075 - mae: 0.4075\n",
            "Epoch 94/100\n",
            "1/1 [==============================] - 0s 25ms/step - loss: 0.3548 - mae: 0.3548\n",
            "Epoch 95/100\n",
            "1/1 [==============================] - 0s 49ms/step - loss: 0.3085 - mae: 0.3085\n",
            "Epoch 96/100\n",
            "1/1 [==============================] - 0s 25ms/step - loss: 0.2503 - mae: 0.2503\n",
            "Epoch 97/100\n",
            "1/1 [==============================] - 0s 26ms/step - loss: 0.2341 - mae: 0.2341\n",
            "Epoch 98/100\n",
            "1/1 [==============================] - 0s 40ms/step - loss: 0.2595 - mae: 0.2595\n",
            "Epoch 99/100\n",
            "1/1 [==============================] - 0s 44ms/step - loss: 0.2423 - mae: 0.2423\n",
            "Epoch 100/100\n",
            "1/1 [==============================] - 0s 38ms/step - loss: 0.1849 - mae: 0.1849\n"
          ]
        },
        {
          "output_type": "execute_result",
          "data": {
            "text/plain": [
              "<keras.src.callbacks.History at 0x7b72e8111c30>"
            ]
          },
          "metadata": {},
          "execution_count": 11
        }
      ]
    },
    {
      "cell_type": "markdown",
      "source": [
        "You might've noticed the loss value decrease from before (and keep decreasing as the number of epochs gets higher).\n",
        "\n",
        "What do you think this means for when we make a prediction with our model?\n",
        "\n",
        "How about we try predict on 24.0 again?"
      ],
      "metadata": {
        "id": "MxXPVfu0GPPx"
      }
    },
    {
      "cell_type": "code",
      "source": [
        "X, y"
      ],
      "metadata": {
        "colab": {
          "base_uri": "https://localhost:8080/"
        },
        "id": "FWZK66A8GWjn",
        "outputId": "4b15095c-d010-430d-a07f-2c32d12fcff2"
      },
      "execution_count": 12,
      "outputs": [
        {
          "output_type": "execute_result",
          "data": {
            "text/plain": [
              "(<tf.Tensor: shape=(8,), dtype=float32, numpy=array([-7., -4., -1.,  2.,  5.,  8., 11., 14.], dtype=float32)>,\n",
              " <tf.Tensor: shape=(8,), dtype=float32, numpy=array([ 2.,  5.,  8., 11., 14., 17., 20., 23.], dtype=float32)>)"
            ]
          },
          "metadata": {},
          "execution_count": 12
        }
      ]
    },
    {
      "cell_type": "code",
      "source": [
        "model.predict([24])"
      ],
      "metadata": {
        "colab": {
          "base_uri": "https://localhost:8080/"
        },
        "id": "JW_5018j2UEd",
        "outputId": "3a3ad37c-8d70-45d7-fe9c-e7d0accb6eef"
      },
      "execution_count": 13,
      "outputs": [
        {
          "output_type": "stream",
          "name": "stdout",
          "text": [
            "1/1 [==============================] - 0s 187ms/step\n"
          ]
        },
        {
          "output_type": "execute_result",
          "data": {
            "text/plain": [
              "array([[34.23399]], dtype=float32)"
            ]
          },
          "metadata": {},
          "execution_count": 13
        }
      ]
    },
    {
      "cell_type": "markdown",
      "source": [
        "We've almost got the required output.\n",
        "\n",
        "Now, we've trained a model, how could we evaluate it?"
      ],
      "metadata": {
        "id": "zlxtsT0VPWxH"
      }
    },
    {
      "cell_type": "markdown",
      "source": [
        "# Evaluating a Model\n",
        "\n",
        "A typical workflow I'll follow when building neural networks is:\n",
        "\n",
        "```\n",
        "Build a model -> Evaluate it -> Build (tweak) a model -> Evaluate it -> Build (tweak) a model -> Evaluate it...\n",
        "```\n",
        "\n",
        "The tweaking comes from not necessarily building a model from scratch but adjusting an existing one.\n",
        "\n",
        "### Visualize, Visualize, Visualize\n",
        "\n",
        "When it comes to evaluation, one should remember the phrase: \"visualize, visualize, visualize.\"\n",
        "\n",
        "This is because it's often more effective to see something (doing) than to think about it.\n",
        "\n",
        "It's a good idea to visualize:\n",
        "* **The data** - what data am I working with? What does it look like?\n",
        "* **The model itself** - what does the architecture look like? What are the different shapes?\n",
        "* **The training of the model** - how does the model perform as it learns?\n",
        "* **The predictions of the model** - how do the model's predictions compare to the ground truth (the original labels)?\n",
        "\n",
        "I'll start by visualizing the model.\n",
        "\n",
        "But first, I'll create a slightly larger dataset and a new model to use (it'll be similar to the previous one, but more practice is always beneficial).\n"
      ],
      "metadata": {
        "id": "PkKLRTHnQVxD"
      }
    },
    {
      "cell_type": "code",
      "source": [
        "# Make bigger dataset\n",
        "X = np.arange(-100, 100, 4)\n",
        "X"
      ],
      "metadata": {
        "colab": {
          "base_uri": "https://localhost:8080/"
        },
        "id": "nDk3TmPWYO9O",
        "outputId": "5ffa6120-e440-4be6-df8f-f9da814e4812"
      },
      "execution_count": 14,
      "outputs": [
        {
          "output_type": "execute_result",
          "data": {
            "text/plain": [
              "array([-100,  -96,  -92,  -88,  -84,  -80,  -76,  -72,  -68,  -64,  -60,\n",
              "        -56,  -52,  -48,  -44,  -40,  -36,  -32,  -28,  -24,  -20,  -16,\n",
              "        -12,   -8,   -4,    0,    4,    8,   12,   16,   20,   24,   28,\n",
              "         32,   36,   40,   44,   48,   52,   56,   60,   64,   68,   72,\n",
              "         76,   80,   84,   88,   92,   96])"
            ]
          },
          "metadata": {},
          "execution_count": 14
        }
      ]
    },
    {
      "cell_type": "code",
      "source": [
        "# Make labels for the dataset\n",
        "y = np.arange(-90, 110, 4)\n",
        "y"
      ],
      "metadata": {
        "colab": {
          "base_uri": "https://localhost:8080/"
        },
        "id": "zEeIgug6bxzW",
        "outputId": "d82565f5-657b-4fe8-f92f-eae840715a79"
      },
      "execution_count": 15,
      "outputs": [
        {
          "output_type": "execute_result",
          "data": {
            "text/plain": [
              "array([-90, -86, -82, -78, -74, -70, -66, -62, -58, -54, -50, -46, -42,\n",
              "       -38, -34, -30, -26, -22, -18, -14, -10,  -6,  -2,   2,   6,  10,\n",
              "        14,  18,  22,  26,  30,  34,  38,  42,  46,  50,  54,  58,  62,\n",
              "        66,  70,  74,  78,  82,  86,  90,  94,  98, 102, 106])"
            ]
          },
          "metadata": {},
          "execution_count": 15
        }
      ]
    },
    {
      "cell_type": "markdown",
      "source": [
        "## Split Data into Training/Test Set\n",
        "\n",
        "One of the most common and important steps in a machine learning project is creating training and test sets (and sometimes a validation set).\n",
        "\n",
        "Each set has a specific purpose:\n",
        "* **Training set** - the model learns from this data, typically 70-80% of the total data available.\n",
        "* **Validation set** - the model gets tuned on this data, typically 10-15% of the total data available.\n",
        "* **Test set** - the model gets evaluated on this data to test what it has learned, typically 10-15% of the total data available.\n",
        "\n",
        "For now, I'll just use a training and test set. This means I'll have a dataset for my model to learn on as well as one to be evaluated on.\n",
        "\n",
        "I can create them by splitting my `X` and `y` arrays.\n",
        "\n",
        "> 🔑 **Note:** When dealing with real-world data, this step is typically done right at the start of a project (the test set should always be kept separate from all other data). I want my model to learn on the training data and then evaluate it on the test data to get an indication of how well it **generalizes** to unseen examples.\n"
      ],
      "metadata": {
        "id": "nhyuIze0j3Z_"
      }
    },
    {
      "cell_type": "code",
      "source": [
        "len(X)"
      ],
      "metadata": {
        "colab": {
          "base_uri": "https://localhost:8080/"
        },
        "id": "F3vbcfxnkvPL",
        "outputId": "b3267fd1-fe04-4734-ba0a-37b2bdba0a08"
      },
      "execution_count": 16,
      "outputs": [
        {
          "output_type": "execute_result",
          "data": {
            "text/plain": [
              "50"
            ]
          },
          "metadata": {},
          "execution_count": 16
        }
      ]
    },
    {
      "cell_type": "code",
      "source": [
        "# splitting it into training and test tests\n",
        "X_train = X[:40]\n",
        "X_test = X[40:]\n",
        "y_train = y[:40]\n",
        "y_test = X[40:]\n",
        "\n",
        "X_train.shape, X_test.shape, y_train.shape, y_test.shape"
      ],
      "metadata": {
        "colab": {
          "base_uri": "https://localhost:8080/"
        },
        "id": "6M4xoUkUcFT9",
        "outputId": "38107d07-9a77-49d7-c2c5-b7988c503722"
      },
      "execution_count": 17,
      "outputs": [
        {
          "output_type": "execute_result",
          "data": {
            "text/plain": [
              "((40,), (10,), (40,), (10,))"
            ]
          },
          "metadata": {},
          "execution_count": 17
        }
      ]
    },
    {
      "cell_type": "markdown",
      "source": [
        "## Visualizing the data"
      ],
      "metadata": {
        "id": "iMcQgLQflLOl"
      }
    },
    {
      "cell_type": "code",
      "source": [
        "plt.figure(figsize=(10,7))\n",
        "# Plot training data in blue\n",
        "plt.scatter(X_train, y_train, c='b', label='Training data')\n",
        "# Plot test data in green\n",
        "plt.scatter(X_test, y_test, c='g', label='Testing data')\n",
        "# show the legend\n",
        "plt.legend();"
      ],
      "metadata": {
        "colab": {
          "base_uri": "https://localhost:8080/",
          "height": 599
        },
        "id": "8OhkoSsNdfSA",
        "outputId": "681e8475-f949-4f99-9e20-290fd17d3030"
      },
      "execution_count": 18,
      "outputs": [
        {
          "output_type": "display_data",
          "data": {
            "text/plain": [
              "<Figure size 1000x700 with 1 Axes>"
            ],
            "image/png": "[encoded data removed]"
          },
          "metadata": {}
        }
      ]
    },
    {
      "cell_type": "code",
      "source": [
        "# Set the random seed\n",
        "tf.random.set_seed(42)\n",
        "\n",
        "# Create a model\n",
        "model = tf.keras.Sequential([\n",
        "        tf.keras.layers.Dense(1)\n",
        "    ])\n",
        "\n",
        "model .compile(loss = tf.keras.losses.mae,\n",
        "               optimizer=tf.keras.optimizers.SGD(),\n",
        "               metrics=[\"mae\"])\n",
        "\n",
        "# Fit the model\n",
        "# model.fit(tf.expand_dims(X_train, axis=-1), y_train, epochs=100) # commented out on purpose (not fitting it just yet)"
      ],
      "metadata": {
        "id": "EtIUYeSPd9e8"
      },
      "execution_count": 19,
      "outputs": []
    },
    {
      "cell_type": "markdown",
      "source": [
        "## Visualizing the model\n",
        "\n",
        "You can take a look at the layers and shapes of your model by calling [`summary()`](https://www.tensorflow.org/api_docs/python/tf/keras/Model#summary) on it"
      ],
      "metadata": {
        "id": "DgnZjmusmAOy"
      }
    },
    {
      "cell_type": "code",
      "source": [
        "#model.summary() # Doesn't work (model not fit/built) try to run it by uncommenting the code"
      ],
      "metadata": {
        "id": "lodXoXTkgIAp"
      },
      "execution_count": 20,
      "outputs": []
    },
    {
      "cell_type": "markdown",
      "source": [
        "The cell above errors because we haven't fit or built our model.\n",
        "\n",
        "We also haven't told it what input shape it should be expecting.\n",
        "\n",
        "We can let our model know the input shape of our data using the `input_shape` parameter to the first layer (usually if `input_shape` isn't defined, Keras tries to figure it out automatically)."
      ],
      "metadata": {
        "id": "F_WwOdDPmLuu"
      }
    },
    {
      "cell_type": "code",
      "source": [
        "# Set random seed\n",
        "tf.random.set_seed(42)\n",
        "\n",
        "# Create a model (same as above)\n",
        "model = tf.keras.Sequential([\n",
        "  tf.keras.layers.Dense(1, input_shape=[1]) # define the input_shape to our model\n",
        "])\n",
        "\n",
        "# Compile model (same as above)\n",
        "model.compile(loss=tf.keras.losses.mae,\n",
        "              optimizer=tf.keras.optimizers.SGD(),\n",
        "              metrics=[\"mae\"])"
      ],
      "metadata": {
        "id": "65N2e0Pnmpcf"
      },
      "execution_count": 21,
      "outputs": []
    },
    {
      "cell_type": "code",
      "source": [
        "model.summary()"
      ],
      "metadata": {
        "colab": {
          "base_uri": "https://localhost:8080/"
        },
        "id": "0IfPF-dhgNxL",
        "outputId": "120e548d-fd3e-411c-bf33-b4cfa0c6dde4"
      },
      "execution_count": 22,
      "outputs": [
        {
          "output_type": "stream",
          "name": "stdout",
          "text": [
            "Model: \"sequential_3\"\n",
            "_________________________________________________________________\n",
            " Layer (type)                Output Shape              Param #   \n",
            "=================================================================\n",
            " dense_4 (Dense)             (None, 1)                 2         \n",
            "                                                                 \n",
            "=================================================================\n",
            "Total params: 2 (8.00 Byte)\n",
            "Trainable params: 2 (8.00 Byte)\n",
            "Non-trainable params: 0 (0.00 Byte)\n",
            "_________________________________________________________________\n"
          ]
        }
      ]
    },
    {
      "cell_type": "markdown",
      "source": [
        "Calling `summary()` on our model shows us the layers it contains, the output shape and the number of parameters.\n",
        "\n",
        "**Total params:** The total number of parameters (weights and biases) in the model.\n",
        "\n",
        "**Trainable params:** Parameters that the model will learn and update during training.\n",
        "\n",
        "**Non-trainable params:** Parameters that remain fixed and are not updated during training. This can include frozen layers or certain types of layers like batch normalization.\n",
        "Example: In a simple model, if a dense layer has 50 trainable parameters and another has 6, total params would be 56. If the first layer is frozen, 50 would be non-trainable, leaving 6 trainable params."
      ],
      "metadata": {
        "id": "ElKuN7BinYZA"
      }
    },
    {
      "cell_type": "code",
      "source": [
        "# Fit the model to the training data\n",
        "model.fit(X_train, y_train, epochs=100, verbose=0) # verbose controls how much gets output"
      ],
      "metadata": {
        "colab": {
          "base_uri": "https://localhost:8080/"
        },
        "id": "SDTH-Bkknor1",
        "outputId": "64601597-5d4b-460f-d222-2ef36575c763"
      },
      "execution_count": 23,
      "outputs": [
        {
          "output_type": "execute_result",
          "data": {
            "text/plain": [
              "<keras.src.callbacks.History at 0x7b72e376eb00>"
            ]
          },
          "metadata": {},
          "execution_count": 23
        }
      ]
    },
    {
      "cell_type": "code",
      "source": [
        "model.summary()"
      ],
      "metadata": {
        "colab": {
          "base_uri": "https://localhost:8080/"
        },
        "id": "CpGS5B9dnroW",
        "outputId": "65ba2597-3f21-4dfd-f264-5e099a77bff4"
      },
      "execution_count": 24,
      "outputs": [
        {
          "output_type": "stream",
          "name": "stdout",
          "text": [
            "Model: \"sequential_3\"\n",
            "_________________________________________________________________\n",
            " Layer (type)                Output Shape              Param #   \n",
            "=================================================================\n",
            " dense_4 (Dense)             (None, 1)                 2         \n",
            "                                                                 \n",
            "=================================================================\n",
            "Total params: 2 (8.00 Byte)\n",
            "Trainable params: 2 (8.00 Byte)\n",
            "Non-trainable params: 0 (0.00 Byte)\n",
            "_________________________________________________________________\n"
          ]
        }
      ]
    },
    {
      "cell_type": "markdown",
      "source": [
        "Alongside summary, you can also view a 2D plot of the model using `plot_model()`."
      ],
      "metadata": {
        "id": "BfHkGtGJnwt-"
      }
    },
    {
      "cell_type": "code",
      "source": [
        "from tensorflow.keras.utils import plot_model\n",
        "\n",
        "plot_model(model, show_shapes=True)"
      ],
      "metadata": {
        "colab": {
          "base_uri": "https://localhost:8080/",
          "height": 201
        },
        "id": "KEZBmHHvgVbF",
        "outputId": "46e984ce-08ce-419e-f71c-80187dd199fe"
      },
      "execution_count": 25,
      "outputs": [
        {
          "output_type": "execute_result",
          "data": {
            "image/png": "[encoded data removed]",
            "text/plain": [
              "<IPython.core.display.Image object>"
            ]
          },
          "metadata": {},
          "execution_count": 25
        }
      ]
    },
    {
      "cell_type": "markdown",
      "source": [
        "## Visualizing the predictions\n",
        "\n",
        "Now we've got a trained model, let's visualize some predictions.\n",
        "\n",
        "To visualize predictions, it's always a good idea to plot them against the ground truth labels.\n",
        "\n",
        "Often you'll see this in the form of `y_test` vs. `y_pred` (ground truth vs. predictions).\n",
        "\n",
        "First, we'll make some predictions on the test data (`X_test`), remember the model has never seen the test data."
      ],
      "metadata": {
        "id": "YrCzhhCOpM5R"
      }
    },
    {
      "cell_type": "code",
      "source": [
        "y_preds = model.predict(X_test)\n",
        "y_preds"
      ],
      "metadata": {
        "colab": {
          "base_uri": "https://localhost:8080/"
        },
        "id": "kwyKfvNVgdlm",
        "outputId": "1055ebb7-0abf-4732-d07f-0ceae13c7419"
      },
      "execution_count": 26,
      "outputs": [
        {
          "output_type": "stream",
          "name": "stdout",
          "text": [
            "1/1 [==============================] - 0s 353ms/step\n"
          ]
        },
        {
          "output_type": "execute_result",
          "data": {
            "text/plain": [
              "array([[44.353104],\n",
              "       [47.2246  ],\n",
              "       [50.0961  ],\n",
              "       [52.967598],\n",
              "       [55.839096],\n",
              "       [58.710594],\n",
              "       [61.582096],\n",
              "       [64.4536  ],\n",
              "       [67.32509 ],\n",
              "       [70.196594]], dtype=float32)"
            ]
          },
          "metadata": {},
          "execution_count": 26
        }
      ]
    },
    {
      "cell_type": "code",
      "source": [
        "def plot_predictions(train_data = X_train,\n",
        "                     train_labels=y_train,\n",
        "                     test_data=X_test,\n",
        "                     test_labels=y_test,\n",
        "                     predictions=y_preds):\n",
        "  \"\"\"\n",
        "  plots training data, test data, and compares predicitons\n",
        "  \"\"\"\n",
        "\n",
        "  plt.figure(figsize=(10,7))\n",
        "  # plot training data in blue\n",
        "  plt.scatter(train_data, train_labels, c='b', label='Training data')\n",
        "  # plot test data in green\n",
        "  plt.scatter(test_data, test_labels, c='g', label=\"Test data\")\n",
        "  # plot predictions in red\n",
        "  plt.scatter(test_data, predictions, c='r', label='Predictions')\n",
        "  plt.legend();"
      ],
      "metadata": {
        "id": "nB7h8Q8kgiMC"
      },
      "execution_count": 27,
      "outputs": []
    },
    {
      "cell_type": "code",
      "source": [
        "plot_predictions(X_train, y_train, X_test, y_test, y_preds)"
      ],
      "metadata": {
        "colab": {
          "base_uri": "https://localhost:8080/",
          "height": 599
        },
        "id": "IPHr_hYgiKAC",
        "outputId": "43f40f75-fdb3-4aeb-eb8e-d8538232aeb4"
      },
      "execution_count": 28,
      "outputs": [
        {
          "output_type": "display_data",
          "data": {
            "text/plain": [
              "<Figure size 1000x700 with 1 Axes>"
            ],
            "image/png": "[encoded data removed]"
          },
          "metadata": {}
        }
      ]
    },
    {
      "cell_type": "markdown",
      "source": [
        "## Evaluating Predictions\n",
        "\n",
        "Alongside visualizations, evaluation metrics are my best alternative for assessing my model.\n",
        "\n",
        "Depending on the problem I'm working on, different models use different evaluation metrics.\n",
        "\n",
        "Two of the main metrics used for regression problems are:\n",
        "* **Mean Absolute Error (MAE)** - the mean difference between each of the predictions.\n",
        "* **Mean Squared Error (MSE)** - the squared mean difference between the predictions (use this if larger errors are more detrimental than smaller errors).\n",
        "\n",
        "The lower each of these values, the better.\n",
        "\n",
        "we can also use [`model.evaluate()`](https://www.tensorflow.org/api_docs/python/tf/keras/Model#evaluate), which will return the loss of the model as well as any metrics set up during the compile step.\n"
      ],
      "metadata": {
        "id": "E6YWo7tAj0wy"
      }
    },
    {
      "cell_type": "code",
      "source": [
        "# Evaluate the model on the test set\n",
        "model.evaluate(X_test, y_test)"
      ],
      "metadata": {
        "colab": {
          "base_uri": "https://localhost:8080/"
        },
        "id": "C2D7jj1giY6L",
        "outputId": "925c0726-e544-4a79-e188-6aca0a69f2e3"
      },
      "execution_count": 29,
      "outputs": [
        {
          "output_type": "stream",
          "name": "stdout",
          "text": [
            "1/1 [==============================] - 0s 466ms/step - loss: 20.7252 - mae: 20.7252\n"
          ]
        },
        {
          "output_type": "execute_result",
          "data": {
            "text/plain": [
              "[20.725154876708984, 20.725154876708984]"
            ]
          },
          "metadata": {},
          "execution_count": 29
        }
      ]
    },
    {
      "cell_type": "markdown",
      "source": [
        "In our case, since we used MAE for the loss function as well as MAE for the metrics, `model.evaulate()` returns them both.\n",
        "\n",
        "TensorFlow also has built in functions for MSE and MAE.\n",
        "\n",
        "For many evaluation functions, the premise is the same: compare predictions to the ground truth labels."
      ],
      "metadata": {
        "id": "SvAqGTwCm7jq"
      }
    },
    {
      "cell_type": "code",
      "source": [
        "mae = tf.metrics.mean_absolute_error(y_true=y_test,\n",
        "                                    y_pred=y_preds)\n",
        "mae"
      ],
      "metadata": {
        "id": "HKxorM7ojjgo",
        "colab": {
          "base_uri": "https://localhost:8080/"
        },
        "outputId": "2aaad0a5-67b6-46a7-e097-852414b537d5"
      },
      "execution_count": 30,
      "outputs": [
        {
          "output_type": "execute_result",
          "data": {
            "text/plain": [
              "<tf.Tensor: shape=(10,), dtype=float32, numpy=\n",
              "array([33.646896, 30.775396, 27.9039  , 25.032402, 22.160904, 19.289406,\n",
              "       16.734324, 14.527842, 12.804947, 11.521362], dtype=float32)>"
            ]
          },
          "metadata": {},
          "execution_count": 30
        }
      ]
    },
    {
      "cell_type": "markdown",
      "source": [
        "we got 10 values, instead of 1\n",
        "This is because our `y_test` and `y_preds` tensors are different shapes"
      ],
      "metadata": {
        "id": "e1VHY8lGnjqs"
      }
    },
    {
      "cell_type": "code",
      "source": [
        "# Check the test label tensor values\n",
        "y_test"
      ],
      "metadata": {
        "colab": {
          "base_uri": "https://localhost:8080/"
        },
        "id": "XcfIQjWynepf",
        "outputId": "03036216-2eac-4938-8dcb-4e9a3c852b03"
      },
      "execution_count": 31,
      "outputs": [
        {
          "output_type": "execute_result",
          "data": {
            "text/plain": [
              "array([60, 64, 68, 72, 76, 80, 84, 88, 92, 96])"
            ]
          },
          "metadata": {},
          "execution_count": 31
        }
      ]
    },
    {
      "cell_type": "code",
      "source": [
        "# Check the predictions tensor values\n",
        "y_preds"
      ],
      "metadata": {
        "colab": {
          "base_uri": "https://localhost:8080/"
        },
        "id": "BuqMei4roCTo",
        "outputId": "3999b0ec-0887-46a1-dd1b-f00e0c135196"
      },
      "execution_count": 32,
      "outputs": [
        {
          "output_type": "execute_result",
          "data": {
            "text/plain": [
              "array([[44.353104],\n",
              "       [47.2246  ],\n",
              "       [50.0961  ],\n",
              "       [52.967598],\n",
              "       [55.839096],\n",
              "       [58.710594],\n",
              "       [61.582096],\n",
              "       [64.4536  ],\n",
              "       [67.32509 ],\n",
              "       [70.196594]], dtype=float32)"
            ]
          },
          "metadata": {},
          "execution_count": 32
        }
      ]
    },
    {
      "cell_type": "code",
      "source": [
        "y_test.shape, y_preds.shape"
      ],
      "metadata": {
        "colab": {
          "base_uri": "https://localhost:8080/"
        },
        "id": "4cLVn2s-oPPl",
        "outputId": "c3f5960a-1afa-4e18-a13b-96578ce6ce5e"
      },
      "execution_count": 33,
      "outputs": [
        {
          "output_type": "execute_result",
          "data": {
            "text/plain": [
              "((10,), (10, 1))"
            ]
          },
          "metadata": {},
          "execution_count": 33
        }
      ]
    },
    {
      "cell_type": "markdown",
      "source": [
        "We can fix it using [`squeeze()`](https://www.tensorflow.org/api_docs/python/tf/squeeze), it'll remove the the `1` dimension from our `y_preds` tensor, making it the same shape as `y_test`."
      ],
      "metadata": {
        "id": "DendbKSHom8Z"
      }
    },
    {
      "cell_type": "code",
      "source": [
        "y_preds.shape, y_preds.squeeze().shape"
      ],
      "metadata": {
        "colab": {
          "base_uri": "https://localhost:8080/"
        },
        "id": "I38V-h4WoYrR",
        "outputId": "41123768-f7eb-4fa3-b202-8cc5203bec40"
      },
      "execution_count": 34,
      "outputs": [
        {
          "output_type": "execute_result",
          "data": {
            "text/plain": [
              "((10, 1), (10,))"
            ]
          },
          "metadata": {},
          "execution_count": 34
        }
      ]
    },
    {
      "cell_type": "code",
      "source": [
        "y_test, y_preds.squeeze()"
      ],
      "metadata": {
        "colab": {
          "base_uri": "https://localhost:8080/"
        },
        "id": "JRaKjeaSowSE",
        "outputId": "24d02788-b53e-4b74-e21c-a2ae80bb16f5"
      },
      "execution_count": 35,
      "outputs": [
        {
          "output_type": "execute_result",
          "data": {
            "text/plain": [
              "(array([60, 64, 68, 72, 76, 80, 84, 88, 92, 96]),\n",
              " array([44.353104, 47.2246  , 50.0961  , 52.967598, 55.839096, 58.710594,\n",
              "        61.582096, 64.4536  , 67.32509 , 70.196594], dtype=float32))"
            ]
          },
          "metadata": {},
          "execution_count": 35
        }
      ]
    },
    {
      "cell_type": "code",
      "source": [
        "# Calculate the mae\n",
        "mae = tf.metrics.mean_absolute_error(y_true=y_test,\n",
        "                                    y_pred=y_preds.squeeze())\n",
        "mae"
      ],
      "metadata": {
        "colab": {
          "base_uri": "https://localhost:8080/"
        },
        "id": "hZ1ex9HPo5-H",
        "outputId": "8b23f15c-7632-4ca1-b8bc-70da9b514005"
      },
      "execution_count": 36,
      "outputs": [
        {
          "output_type": "execute_result",
          "data": {
            "text/plain": [
              "<tf.Tensor: shape=(), dtype=float32, numpy=20.725155>"
            ]
          },
          "metadata": {},
          "execution_count": 36
        }
      ]
    },
    {
      "cell_type": "code",
      "source": [
        "mse = tf.metrics.mean_squared_error(y_true=y_test,\n",
        "                                    y_pred=y_preds.squeeze())\n",
        "mse"
      ],
      "metadata": {
        "colab": {
          "base_uri": "https://localhost:8080/"
        },
        "id": "hIgqO6uBwhSs",
        "outputId": "18f5cff6-3308-4f2d-c66c-896601380591"
      },
      "execution_count": 37,
      "outputs": [
        {
          "output_type": "execute_result",
          "data": {
            "text/plain": [
              "<tf.Tensor: shape=(), dtype=float32, numpy=440.03848>"
            ]
          },
          "metadata": {},
          "execution_count": 37
        }
      ]
    },
    {
      "cell_type": "code",
      "source": [
        "# Returns the same as tf.metrics.mean_absolute_error()\n",
        "tf.reduce_mean(tf.abs(y_test-y_preds.squeeze()))"
      ],
      "metadata": {
        "colab": {
          "base_uri": "https://localhost:8080/"
        },
        "id": "_PFMHxXzwzxB",
        "outputId": "0f7bbcff-c82f-4e85-8e49-e396f20586ba"
      },
      "execution_count": 38,
      "outputs": [
        {
          "output_type": "execute_result",
          "data": {
            "text/plain": [
              "<tf.Tensor: shape=(), dtype=float64, numpy=20.72515296936035>"
            ]
          },
          "metadata": {},
          "execution_count": 38
        }
      ]
    },
    {
      "cell_type": "code",
      "source": [
        "def mae(y_test, y_pred):\n",
        "  \"\"\"\n",
        "  Calculuates mean absolute error between y_test and y_preds.\n",
        "  \"\"\"\n",
        "  return tf.metrics.mean_absolute_error(y_test,\n",
        "                                        y_pred)\n",
        "\n",
        "def mse(y_test, y_pred):\n",
        "  \"\"\"\n",
        "  Calculates mean squared error between y_test and y_preds.\n",
        "  \"\"\"\n",
        "  return tf.metrics.mean_squared_error(y_test,\n",
        "                                       y_pred)"
      ],
      "metadata": {
        "id": "7flgMzwQw577"
      },
      "execution_count": 39,
      "outputs": []
    },
    {
      "cell_type": "markdown",
      "source": [
        "# Running Experiments to Improve a Model\n",
        "\n",
        "After seeing the evaluation metrics and the predictions my model makes, I'll likely want to improve it.\n",
        "\n",
        "There are many different ways to do this, but three of the main ones are:\n",
        "1. **Get more data** - acquire more examples for the model to train on, providing more opportunities to learn patterns.\n",
        "2. **Make the model larger (use a more complex model)** - this could involve adding more layers or more hidden units in each layer.\n",
        "3. **Train for longer** - give the model more time to find patterns in the data.\n",
        "\n",
        "So I'll focus on how I can improve my model using strategies 2 and 3.\n",
        "\n",
        "To do this, I'll build three models and compare their results:\n",
        "1. `model_1` - same as the original model, with 1 layer, trained for 100 epochs.\n",
        "2. `model_2` - with 2 layers, trained for 100 epochs.\n",
        "3. `model_3` - with 2 layers, trained for 500 epochs.\n",
        "\n",
        "**Build `model_1`**\n"
      ],
      "metadata": {
        "id": "inWTgv76x08u"
      }
    },
    {
      "cell_type": "code",
      "source": [
        "# set random seed\n",
        "tf.random.set_seed(42)\n",
        "\n",
        "# Replicate the original model\n",
        "model_1 = tf.keras.Sequential([\n",
        "    tf.keras.layers.Dense(1)\n",
        "])\n",
        "\n",
        "# Compile the model\n",
        "model_1.compile(loss=tf.keras.losses.mae,\n",
        "              optimizer=tf.keras.optimizers.SGD(),\n",
        "              metrics=[\"mae\"])"
      ],
      "metadata": {
        "id": "nWgNVrwHx0Mt"
      },
      "execution_count": 40,
      "outputs": []
    },
    {
      "cell_type": "code",
      "source": [
        "model_1.fit(tf.expand_dims(X_train, axis=-1), y_train, epochs=100)"
      ],
      "metadata": {
        "colab": {
          "base_uri": "https://localhost:8080/"
        },
        "id": "R6s1CEVt2ZXN",
        "outputId": "d7f32426-e47a-41b8-84c4-20300ef96cab",
        "collapsed": true
      },
      "execution_count": 41,
      "outputs": [
        {
          "output_type": "stream",
          "name": "stdout",
          "text": [
            "Epoch 1/100\n",
            "2/2 [==============================] - 1s 45ms/step - loss: 51.4556 - mae: 51.4556\n",
            "Epoch 2/100\n",
            "2/2 [==============================] - 0s 14ms/step - loss: 18.2963 - mae: 18.2963\n",
            "Epoch 3/100\n",
            "2/2 [==============================] - 0s 31ms/step - loss: 10.0681 - mae: 10.0681\n",
            "Epoch 4/100\n",
            "2/2 [==============================] - 0s 14ms/step - loss: 9.5581 - mae: 9.5581\n",
            "Epoch 5/100\n",
            "2/2 [==============================] - 0s 17ms/step - loss: 10.4640 - mae: 10.4640\n",
            "Epoch 6/100\n",
            "2/2 [==============================] - 0s 22ms/step - loss: 9.6927 - mae: 9.6927\n",
            "Epoch 7/100\n",
            "2/2 [==============================] - 0s 27ms/step - loss: 8.7912 - mae: 8.7912\n",
            "Epoch 8/100\n",
            "2/2 [==============================] - 0s 14ms/step - loss: 9.0733 - mae: 9.0733\n",
            "Epoch 9/100\n",
            "2/2 [==============================] - 0s 23ms/step - loss: 19.2840 - mae: 19.2840\n",
            "Epoch 10/100\n",
            "2/2 [==============================] - 0s 26ms/step - loss: 10.4182 - mae: 10.4182\n",
            "Epoch 11/100\n",
            "2/2 [==============================] - 0s 43ms/step - loss: 8.5230 - mae: 8.5230\n",
            "Epoch 12/100\n",
            "2/2 [==============================] - 0s 38ms/step - loss: 10.9105 - mae: 10.9105\n",
            "Epoch 13/100\n",
            "2/2 [==============================] - 0s 22ms/step - loss: 7.5723 - mae: 7.5723\n",
            "Epoch 14/100\n",
            "2/2 [==============================] - 0s 24ms/step - loss: 10.0139 - mae: 10.0139\n",
            "Epoch 15/100\n",
            "2/2 [==============================] - 0s 20ms/step - loss: 9.4184 - mae: 9.4184\n",
            "Epoch 16/100\n",
            "2/2 [==============================] - 0s 20ms/step - loss: 8.5623 - mae: 8.5623\n",
            "Epoch 17/100\n",
            "2/2 [==============================] - 0s 20ms/step - loss: 13.6796 - mae: 13.6796\n",
            "Epoch 18/100\n",
            "2/2 [==============================] - 0s 26ms/step - loss: 11.5169 - mae: 11.5169\n",
            "Epoch 19/100\n",
            "2/2 [==============================] - 0s 22ms/step - loss: 17.8645 - mae: 17.8645\n",
            "Epoch 20/100\n",
            "2/2 [==============================] - 0s 17ms/step - loss: 14.9995 - mae: 14.9995\n",
            "Epoch 21/100\n",
            "2/2 [==============================] - 0s 29ms/step - loss: 10.8744 - mae: 10.8744\n",
            "Epoch 22/100\n",
            "2/2 [==============================] - 0s 18ms/step - loss: 8.6282 - mae: 8.6282\n",
            "Epoch 23/100\n",
            "2/2 [==============================] - 0s 21ms/step - loss: 9.6981 - mae: 9.6981\n",
            "Epoch 24/100\n",
            "2/2 [==============================] - 0s 18ms/step - loss: 8.5894 - mae: 8.5894\n",
            "Epoch 25/100\n",
            "2/2 [==============================] - 0s 16ms/step - loss: 11.6041 - mae: 11.6041\n",
            "Epoch 26/100\n",
            "2/2 [==============================] - 0s 28ms/step - loss: 15.1361 - mae: 15.1361\n",
            "Epoch 27/100\n",
            "2/2 [==============================] - 0s 44ms/step - loss: 11.8830 - mae: 11.8830\n",
            "Epoch 28/100\n",
            "2/2 [==============================] - 0s 65ms/step - loss: 13.9268 - mae: 13.9268\n",
            "Epoch 29/100\n",
            "2/2 [==============================] - 0s 39ms/step - loss: 9.6125 - mae: 9.6125\n",
            "Epoch 30/100\n",
            "2/2 [==============================] - 0s 28ms/step - loss: 17.1824 - mae: 17.1824\n",
            "Epoch 31/100\n",
            "2/2 [==============================] - 0s 42ms/step - loss: 22.8833 - mae: 22.8833\n",
            "Epoch 32/100\n",
            "2/2 [==============================] - 0s 65ms/step - loss: 7.9214 - mae: 7.9214\n",
            "Epoch 33/100\n",
            "2/2 [==============================] - 0s 32ms/step - loss: 14.1334 - mae: 14.1334\n",
            "Epoch 34/100\n",
            "2/2 [==============================] - 0s 20ms/step - loss: 12.3779 - mae: 12.3779\n",
            "Epoch 35/100\n",
            "2/2 [==============================] - 0s 40ms/step - loss: 8.2680 - mae: 8.2680\n",
            "Epoch 36/100\n",
            "2/2 [==============================] - 0s 58ms/step - loss: 10.4894 - mae: 10.4894\n",
            "Epoch 37/100\n",
            "2/2 [==============================] - 0s 36ms/step - loss: 10.1342 - mae: 10.1342\n",
            "Epoch 38/100\n",
            "2/2 [==============================] - 0s 34ms/step - loss: 11.3294 - mae: 11.3294\n",
            "Epoch 39/100\n",
            "2/2 [==============================] - 0s 16ms/step - loss: 14.7563 - mae: 14.7563\n",
            "Epoch 40/100\n",
            "2/2 [==============================] - 0s 19ms/step - loss: 12.8866 - mae: 12.8866\n",
            "Epoch 41/100\n",
            "2/2 [==============================] - 0s 14ms/step - loss: 9.2762 - mae: 9.2762\n",
            "Epoch 42/100\n",
            "2/2 [==============================] - 0s 11ms/step - loss: 11.0103 - mae: 11.0103\n",
            "Epoch 43/100\n",
            "2/2 [==============================] - 0s 14ms/step - loss: 8.3389 - mae: 8.3389\n",
            "Epoch 44/100\n",
            "2/2 [==============================] - 0s 19ms/step - loss: 13.0542 - mae: 13.0542\n",
            "Epoch 45/100\n",
            "2/2 [==============================] - 0s 13ms/step - loss: 13.6767 - mae: 13.6767\n",
            "Epoch 46/100\n",
            "2/2 [==============================] - 0s 16ms/step - loss: 8.2893 - mae: 8.2893\n",
            "Epoch 47/100\n",
            "2/2 [==============================] - 0s 23ms/step - loss: 8.7304 - mae: 8.7304\n",
            "Epoch 48/100\n",
            "2/2 [==============================] - 0s 20ms/step - loss: 10.0308 - mae: 10.0308\n",
            "Epoch 49/100\n",
            "2/2 [==============================] - 0s 16ms/step - loss: 8.5153 - mae: 8.5153\n",
            "Epoch 50/100\n",
            "2/2 [==============================] - 0s 16ms/step - loss: 9.0207 - mae: 9.0207\n",
            "Epoch 51/100\n",
            "2/2 [==============================] - 0s 16ms/step - loss: 9.3789 - mae: 9.3789\n",
            "Epoch 52/100\n",
            "2/2 [==============================] - 0s 14ms/step - loss: 14.1756 - mae: 14.1756\n",
            "Epoch 53/100\n",
            "2/2 [==============================] - 0s 18ms/step - loss: 14.8878 - mae: 14.8878\n",
            "Epoch 54/100\n",
            "2/2 [==============================] - 0s 19ms/step - loss: 14.8264 - mae: 14.8264\n",
            "Epoch 55/100\n",
            "2/2 [==============================] - 0s 17ms/step - loss: 12.6082 - mae: 12.6082\n",
            "Epoch 56/100\n",
            "2/2 [==============================] - 0s 18ms/step - loss: 7.5987 - mae: 7.5987\n",
            "Epoch 57/100\n",
            "2/2 [==============================] - 0s 31ms/step - loss: 8.7958 - mae: 8.7958\n",
            "Epoch 58/100\n",
            "2/2 [==============================] - 0s 29ms/step - loss: 8.3837 - mae: 8.3837\n",
            "Epoch 59/100\n",
            "2/2 [==============================] - 0s 17ms/step - loss: 9.1804 - mae: 9.1804\n",
            "Epoch 60/100\n",
            "2/2 [==============================] - 0s 26ms/step - loss: 9.1229 - mae: 9.1229\n",
            "Epoch 61/100\n",
            "2/2 [==============================] - 0s 68ms/step - loss: 10.6621 - mae: 10.6621\n",
            "Epoch 62/100\n",
            "2/2 [==============================] - 0s 81ms/step - loss: 7.4411 - mae: 7.4411\n",
            "Epoch 63/100\n",
            "2/2 [==============================] - 0s 40ms/step - loss: 10.5331 - mae: 10.5331\n",
            "Epoch 64/100\n",
            "2/2 [==============================] - 0s 28ms/step - loss: 12.1405 - mae: 12.1405\n",
            "Epoch 65/100\n",
            "2/2 [==============================] - 0s 23ms/step - loss: 9.4646 - mae: 9.4646\n",
            "Epoch 66/100\n",
            "2/2 [==============================] - 0s 25ms/step - loss: 11.5467 - mae: 11.5467\n",
            "Epoch 67/100\n",
            "2/2 [==============================] - 0s 24ms/step - loss: 8.0281 - mae: 8.0281\n",
            "Epoch 68/100\n",
            "2/2 [==============================] - 0s 20ms/step - loss: 8.5614 - mae: 8.5614\n",
            "Epoch 69/100\n",
            "2/2 [==============================] - 0s 20ms/step - loss: 12.2313 - mae: 12.2313\n",
            "Epoch 70/100\n",
            "2/2 [==============================] - 0s 23ms/step - loss: 8.9454 - mae: 8.9454\n",
            "Epoch 71/100\n",
            "2/2 [==============================] - 0s 29ms/step - loss: 9.9188 - mae: 9.9188\n",
            "Epoch 72/100\n",
            "2/2 [==============================] - 0s 24ms/step - loss: 9.9617 - mae: 9.9617\n",
            "Epoch 73/100\n",
            "2/2 [==============================] - 0s 26ms/step - loss: 12.4140 - mae: 12.4140\n",
            "Epoch 74/100\n",
            "2/2 [==============================] - 0s 22ms/step - loss: 10.6072 - mae: 10.6072\n",
            "Epoch 75/100\n",
            "2/2 [==============================] - 0s 26ms/step - loss: 9.6185 - mae: 9.6185\n",
            "Epoch 76/100\n",
            "2/2 [==============================] - 0s 21ms/step - loss: 11.0787 - mae: 11.0787\n",
            "Epoch 77/100\n",
            "2/2 [==============================] - 0s 35ms/step - loss: 8.2681 - mae: 8.2681\n",
            "Epoch 78/100\n",
            "2/2 [==============================] - 0s 23ms/step - loss: 8.9471 - mae: 8.9471\n",
            "Epoch 79/100\n",
            "2/2 [==============================] - 0s 15ms/step - loss: 19.8350 - mae: 19.8350\n",
            "Epoch 80/100\n",
            "2/2 [==============================] - 0s 13ms/step - loss: 17.7834 - mae: 17.7834\n",
            "Epoch 81/100\n",
            "2/2 [==============================] - 0s 12ms/step - loss: 7.0984 - mae: 7.0984\n",
            "Epoch 82/100\n",
            "2/2 [==============================] - 0s 19ms/step - loss: 10.3934 - mae: 10.3934\n",
            "Epoch 83/100\n",
            "2/2 [==============================] - 0s 13ms/step - loss: 9.8125 - mae: 9.8125\n",
            "Epoch 84/100\n",
            "2/2 [==============================] - 0s 8ms/step - loss: 7.9516 - mae: 7.9516\n",
            "Epoch 85/100\n",
            "2/2 [==============================] - 0s 27ms/step - loss: 9.4673 - mae: 9.4673\n",
            "Epoch 86/100\n",
            "2/2 [==============================] - 0s 13ms/step - loss: 9.5093 - mae: 9.5093\n",
            "Epoch 87/100\n",
            "2/2 [==============================] - 0s 18ms/step - loss: 11.4615 - mae: 11.4615\n",
            "Epoch 88/100\n",
            "2/2 [==============================] - 0s 19ms/step - loss: 9.9597 - mae: 9.9597\n",
            "Epoch 89/100\n",
            "2/2 [==============================] - 0s 23ms/step - loss: 7.2572 - mae: 7.2572\n",
            "Epoch 90/100\n",
            "2/2 [==============================] - 0s 26ms/step - loss: 12.7242 - mae: 12.7242\n",
            "Epoch 91/100\n",
            "2/2 [==============================] - 0s 22ms/step - loss: 7.3243 - mae: 7.3243\n",
            "Epoch 92/100\n",
            "2/2 [==============================] - 0s 25ms/step - loss: 7.6897 - mae: 7.6897\n",
            "Epoch 93/100\n",
            "2/2 [==============================] - 0s 19ms/step - loss: 7.1208 - mae: 7.1208\n",
            "Epoch 94/100\n",
            "2/2 [==============================] - 0s 10ms/step - loss: 12.5694 - mae: 12.5694\n",
            "Epoch 95/100\n",
            "2/2 [==============================] - 0s 14ms/step - loss: 9.9446 - mae: 9.9446\n",
            "Epoch 96/100\n",
            "2/2 [==============================] - 0s 11ms/step - loss: 9.1334 - mae: 9.1334\n",
            "Epoch 97/100\n",
            "2/2 [==============================] - 0s 13ms/step - loss: 12.0641 - mae: 12.0641\n",
            "Epoch 98/100\n",
            "2/2 [==============================] - 0s 14ms/step - loss: 9.0906 - mae: 9.0906\n",
            "Epoch 99/100\n",
            "2/2 [==============================] - 0s 13ms/step - loss: 8.4945 - mae: 8.4945\n",
            "Epoch 100/100\n",
            "2/2 [==============================] - 0s 8ms/step - loss: 14.4315 - mae: 14.4315\n"
          ]
        },
        {
          "output_type": "execute_result",
          "data": {
            "text/plain": [
              "<keras.src.callbacks.History at 0x7b72e31ed1e0>"
            ]
          },
          "metadata": {},
          "execution_count": 41
        }
      ]
    },
    {
      "cell_type": "code",
      "source": [
        "y_preds_1=model_1.predict(X_test)\n",
        "plot_predictions(predictions=y_preds_1)"
      ],
      "metadata": {
        "colab": {
          "base_uri": "https://localhost:8080/",
          "height": 616
        },
        "id": "P-fCYdpe29ur",
        "outputId": "c922c1b1-bd64-40bd-a384-54abd3199491"
      },
      "execution_count": 42,
      "outputs": [
        {
          "output_type": "stream",
          "name": "stdout",
          "text": [
            "1/1 [==============================] - 0s 211ms/step\n"
          ]
        },
        {
          "output_type": "display_data",
          "data": {
            "text/plain": [
              "<Figure size 1000x700 with 1 Axes>"
            ],
            "image/png": "[encoded data removed]"
          },
          "metadata": {}
        }
      ]
    },
    {
      "cell_type": "code",
      "source": [
        "# Calculate mae and mse\n",
        "mae_1 = mae(y_test, y_preds_1.squeeze()).numpy()\n",
        "mse_1 = mse(y_test, y_preds_1.squeeze()).numpy()\n",
        "mae_1, mse_1"
      ],
      "metadata": {
        "colab": {
          "base_uri": "https://localhost:8080/"
        },
        "id": "md9I7h1n3t0t",
        "outputId": "b7dd0243-7e2e-4ee5-82a3-81c76dc638cf"
      },
      "execution_count": 43,
      "outputs": [
        {
          "output_type": "execute_result",
          "data": {
            "text/plain": [
              "(20.677856, 438.0501)"
            ]
          },
          "metadata": {},
          "execution_count": 43
        }
      ]
    },
    {
      "cell_type": "code",
      "source": [
        "model_2 = tf.keras.Sequential([\n",
        "    tf.keras.layers.Dense(10),\n",
        "    tf.keras.layers.Dense(1)\n",
        "])\n",
        "\n",
        "model_2.compile(loss=tf.keras.losses.mae,\n",
        "              optimizer=tf.keras.optimizers.SGD(),\n",
        "              metrics=[\"mae\"])"
      ],
      "metadata": {
        "id": "DYjOk5XU4Iqt"
      },
      "execution_count": 44,
      "outputs": []
    },
    {
      "cell_type": "code",
      "source": [
        "model_2.fit(tf.expand_dims(X_train, axis=-1), y_train, epochs=100, verbose=0)"
      ],
      "metadata": {
        "colab": {
          "base_uri": "https://localhost:8080/"
        },
        "collapsed": true,
        "id": "L45uTesAzOXP",
        "outputId": "321d8e73-c702-4fa1-9182-5ba16968c386"
      },
      "execution_count": 45,
      "outputs": [
        {
          "output_type": "execute_result",
          "data": {
            "text/plain": [
              "<keras.src.callbacks.History at 0x7b72e309d030>"
            ]
          },
          "metadata": {},
          "execution_count": 45
        }
      ]
    },
    {
      "cell_type": "code",
      "source": [
        "y_preds_2 = model_2.predict(X_test)\n",
        "plot_predictions(predictions=y_preds_2)"
      ],
      "metadata": {
        "colab": {
          "base_uri": "https://localhost:8080/",
          "height": 654
        },
        "id": "UUkX94O-zZW9",
        "outputId": "21b07cff-a39c-42f5-e0ba-5d33486d8c3f"
      },
      "execution_count": 46,
      "outputs": [
        {
          "output_type": "stream",
          "name": "stderr",
          "text": [
            "WARNING:tensorflow:5 out of the last 5 calls to <function Model.make_predict_function.<locals>.predict_function at 0x7b72e2d9dea0> triggered tf.function retracing. Tracing is expensive and the excessive number of tracings could be due to (1) creating @tf.function repeatedly in a loop, (2) passing tensors with different shapes, (3) passing Python objects instead of tensors. For (1), please define your @tf.function outside of the loop. For (2), @tf.function has reduce_retracing=True option that can avoid unnecessary retracing. For (3), please refer to https://www.tensorflow.org/guide/function#controlling_retracing and https://www.tensorflow.org/api_docs/python/tf/function for  more details.\n"
          ]
        },
        {
          "output_type": "stream",
          "name": "stdout",
          "text": [
            "1/1 [==============================] - 0s 63ms/step\n"
          ]
        },
        {
          "output_type": "display_data",
          "data": {
            "text/plain": [
              "<Figure size 1000x700 with 1 Axes>"
            ],
            "image/png": "[encoded data removed]"
          },
          "metadata": {}
        }
      ]
    },
    {
      "cell_type": "code",
      "source": [
        "y_preds_2"
      ],
      "metadata": {
        "colab": {
          "base_uri": "https://localhost:8080/"
        },
        "id": "UVXxP2H-2hyT",
        "outputId": "29bba19d-080a-4c86-fa3b-cc9e77157f5c"
      },
      "execution_count": 47,
      "outputs": [
        {
          "output_type": "execute_result",
          "data": {
            "text/plain": [
              "array([[ 70.304276],\n",
              "       [ 74.87718 ],\n",
              "       [ 79.45008 ],\n",
              "       [ 84.02299 ],\n",
              "       [ 88.5959  ],\n",
              "       [ 93.16881 ],\n",
              "       [ 97.74171 ],\n",
              "       [102.31461 ],\n",
              "       [106.88752 ],\n",
              "       [111.46043 ]], dtype=float32)"
            ]
          },
          "metadata": {},
          "execution_count": 47
        }
      ]
    },
    {
      "cell_type": "code",
      "source": [
        "# Calculate model_2 metrics\n",
        "mae_2 = mae(y_test, y_preds_2.squeeze()).numpy()\n",
        "mse_2 = mse(y_test, y_preds_2.squeeze()).numpy()\n",
        "mae_2, mse_2"
      ],
      "metadata": {
        "colab": {
          "base_uri": "https://localhost:8080/"
        },
        "id": "fKGX3HFQ0TIA",
        "outputId": "9bc2bc85-22d2-465d-fc9a-e2582edcb9b6"
      },
      "execution_count": 48,
      "outputs": [
        {
          "output_type": "execute_result",
          "data": {
            "text/plain": [
              "(12.88235, 168.66277)"
            ]
          },
          "metadata": {},
          "execution_count": 48
        }
      ]
    },
    {
      "cell_type": "code",
      "source": [
        "model_3 = tf.keras.Sequential([\n",
        "    tf.keras.layers.Dense(10),\n",
        "    tf.keras.layers.Dense(1)\n",
        "])\n",
        "\n",
        "model_3.compile(loss=tf.keras.losses.mae,\n",
        "                optimizer=tf.keras.optimizers.SGD(),\n",
        "                metrics=[\"mae\"])\n",
        "\n",
        "model_3.fit(tf.expand_dims(X_train, axis=-1), y_train, epochs=500, verbose=0)"
      ],
      "metadata": {
        "colab": {
          "base_uri": "https://localhost:8080/"
        },
        "collapsed": true,
        "id": "cvDf4bwS1q1P",
        "outputId": "c4f19ff4-1dd8-4364-c381-a2a721043cb2"
      },
      "execution_count": 49,
      "outputs": [
        {
          "output_type": "execute_result",
          "data": {
            "text/plain": [
              "<keras.src.callbacks.History at 0x7b72e2ca4610>"
            ]
          },
          "metadata": {},
          "execution_count": 49
        }
      ]
    },
    {
      "cell_type": "code",
      "source": [
        "y_preds_3 = model_3.predict(X_test)\n",
        "plot_predictions(predictions=y_preds_3)"
      ],
      "metadata": {
        "colab": {
          "base_uri": "https://localhost:8080/",
          "height": 654
        },
        "id": "CdBmnpH83xPj",
        "outputId": "4743c7ac-518a-4152-9cbc-ea2fa8f57791"
      },
      "execution_count": 50,
      "outputs": [
        {
          "output_type": "stream",
          "name": "stderr",
          "text": [
            "WARNING:tensorflow:6 out of the last 6 calls to <function Model.make_predict_function.<locals>.predict_function at 0x7b72e2d9edd0> triggered tf.function retracing. Tracing is expensive and the excessive number of tracings could be due to (1) creating @tf.function repeatedly in a loop, (2) passing tensors with different shapes, (3) passing Python objects instead of tensors. For (1), please define your @tf.function outside of the loop. For (2), @tf.function has reduce_retracing=True option that can avoid unnecessary retracing. For (3), please refer to https://www.tensorflow.org/guide/function#controlling_retracing and https://www.tensorflow.org/api_docs/python/tf/function for  more details.\n"
          ]
        },
        {
          "output_type": "stream",
          "name": "stdout",
          "text": [
            "1/1 [==============================] - 0s 59ms/step\n"
          ]
        },
        {
          "output_type": "display_data",
          "data": {
            "text/plain": [
              "<Figure size 1000x700 with 1 Axes>"
            ],
            "image/png": "[encoded data removed]"
          },
          "metadata": {}
        }
      ]
    },
    {
      "cell_type": "markdown",
      "source": [
        "As it turns out, our model might've trained too long and has thus resulted in worse results (we'll see ways to prevent training for too long later on)."
      ],
      "metadata": {
        "id": "g7qAtjEb47OA"
      }
    },
    {
      "cell_type": "code",
      "source": [
        "mae_3 = mae(y_test, tf.squeeze(y_preds_3)).numpy()\n",
        "mse_3 = mse(y_test, tf.squeeze(y_preds_3)).numpy()\n",
        "mae_3, mse_3"
      ],
      "metadata": {
        "colab": {
          "base_uri": "https://localhost:8080/"
        },
        "id": "GbUtuBo146zo",
        "outputId": "f364ce77-cb96-4620-be82-d09b72fcd8e9"
      },
      "execution_count": 51,
      "outputs": [
        {
          "output_type": "execute_result",
          "data": {
            "text/plain": [
              "(57.612816, 3403.2612)"
            ]
          },
          "metadata": {},
          "execution_count": 51
        }
      ]
    },
    {
      "cell_type": "markdown",
      "source": [
        "## Comparing results"
      ],
      "metadata": {
        "id": "rcVp6koG5RUF"
      }
    },
    {
      "cell_type": "code",
      "source": [
        "model_results = [[\"model_1\", mae_1, mse_1],\n",
        "                 [\"model_2\", mae_2, mse_2],\n",
        "                 [\"model_3\", mae_3, mse_3]]"
      ],
      "metadata": {
        "id": "ybatuM3E41hu"
      },
      "execution_count": 52,
      "outputs": []
    },
    {
      "cell_type": "code",
      "source": [
        "import pandas as pd\n",
        "all_results = pd.DataFrame(model_results, columns=[\"model\", \"mae\",\"mse\"])"
      ],
      "metadata": {
        "id": "eZGad-uD5kTa"
      },
      "execution_count": 53,
      "outputs": []
    },
    {
      "cell_type": "code",
      "source": [
        "all_results"
      ],
      "metadata": {
        "colab": {
          "base_uri": "https://localhost:8080/",
          "height": 143
        },
        "collapsed": true,
        "id": "5U6kXBhj5uGl",
        "outputId": "e86bbf2c-72ac-4cc6-d5ab-6796fbcfc726"
      },
      "execution_count": 54,
      "outputs": [
        {
          "output_type": "execute_result",
          "data": {
            "text/plain": [
              "     model        mae          mse\n",
              "0  model_1  20.677856   438.050110\n",
              "1  model_2  12.882350   168.662766\n",
              "2  model_3  57.612816  3403.261230"
            ],
            "text/html": [
              "\n",
              "  <div id=\"df-d15668dc-d9f8-46b2-a9d0-7d368683b71a\" class=\"colab-df-container\">\n",
              "    <div>\n",
              "<style scoped>\n",
              "    .dataframe tbody tr th:only-of-type {\n",
              "        vertical-align: middle;\n",
              "    }\n",
              "\n",
              "    .dataframe tbody tr th {\n",
              "        vertical-align: top;\n",
              "    }\n",
              "\n",
              "    .dataframe thead th {\n",
              "        text-align: right;\n",
              "    }\n",
              "</style>\n",
              "<table border=\"1\" class=\"dataframe\">\n",
              "  <thead>\n",
              "    <tr style=\"text-align: right;\">\n",
              "      <th></th>\n",
              "      <th>model</th>\n",
              "      <th>mae</th>\n",
              "      <th>mse</th>\n",
              "    </tr>\n",
              "  </thead>\n",
              "  <tbody>\n",
              "    <tr>\n",
              "      <th>0</th>\n",
              "      <td>model_1</td>\n",
              "      <td>20.677856</td>\n",
              "      <td>438.050110</td>\n",
              "    </tr>\n",
              "    <tr>\n",
              "      <th>1</th>\n",
              "      <td>model_2</td>\n",
              "      <td>12.882350</td>\n",
              "      <td>168.662766</td>\n",
              "    </tr>\n",
              "    <tr>\n",
              "      <th>2</th>\n",
              "      <td>model_3</td>\n",
              "      <td>57.612816</td>\n",
              "      <td>3403.261230</td>\n",
              "    </tr>\n",
              "  </tbody>\n",
              "</table>\n",
              "</div>\n",
              "    <div class=\"colab-df-buttons\">\n",
              "\n",
              "  <div class=\"colab-df-container\">\n",
              "    <button class=\"colab-df-convert\" onclick=\"convertToInteractive('df-d15668dc-d9f8-46b2-a9d0-7d368683b71a')\"\n",
              "            title=\"Convert this dataframe to an interactive table.\"\n",
              "            style=\"display:none;\">\n",
              "\n",
              "  <svg xmlns=\"http://www.w3.org/2000/svg\" height=\"24px\" viewBox=\"0 -960 960 960\">\n",
              "    <path d=\"M120-120v-720h720v720H120Zm60-500h600v-160H180v160Zm220 220h160v-160H400v160Zm0 220h160v-160H400v160ZM180-400h160v-160H180v160Zm440 0h160v-160H620v160ZM180-180h160v-160H180v160Zm440 0h160v-160H620v160Z\"/>\n",
              "  </svg>\n",
              "    </button>\n",
              "\n",
              "  <style>\n",
              "    .colab-df-container {\n",
              "      display:flex;\n",
              "      gap: 12px;\n",
              "    }\n",
              "\n",
              "    .colab-df-convert {\n",
              "      background-color: #E8F0FE;\n",
              "      border: none;\n",
              "      border-radius: 50%;\n",
              "      cursor: pointer;\n",
              "      display: none;\n",
              "      fill: #1967D2;\n",
              "      height: 32px;\n",
              "      padding: 0 0 0 0;\n",
              "      width: 32px;\n",
              "    }\n",
              "\n",
              "    .colab-df-convert:hover {\n",
              "      background-color: #E2EBFA;\n",
              "      box-shadow: 0px 1px 2px rgba(60, 64, 67, 0.3), 0px 1px 3px 1px rgba(60, 64, 67, 0.15);\n",
              "      fill: #174EA6;\n",
              "    }\n",
              "\n",
              "    .colab-df-buttons div {\n",
              "      margin-bottom: 4px;\n",
              "    }\n",
              "\n",
              "    [theme=dark] .colab-df-convert {\n",
              "      background-color: #3B4455;\n",
              "      fill: #D2E3FC;\n",
              "    }\n",
              "\n",
              "    [theme=dark] .colab-df-convert:hover {\n",
              "      background-color: #434B5C;\n",
              "      box-shadow: 0px 1px 3px 1px rgba(0, 0, 0, 0.15);\n",
              "      filter: drop-shadow(0px 1px 2px rgba(0, 0, 0, 0.3));\n",
              "      fill: #FFFFFF;\n",
              "    }\n",
              "  </style>\n",
              "\n",
              "    <script>\n",
              "      const buttonEl =\n",
              "        document.querySelector('#df-d15668dc-d9f8-46b2-a9d0-7d368683b71a button.colab-df-convert');\n",
              "      buttonEl.style.display =\n",
              "        google.colab.kernel.accessAllowed ? 'block' : 'none';\n",
              "\n",
              "      async function convertToInteractive(key) {\n",
              "        const element = document.querySelector('#df-d15668dc-d9f8-46b2-a9d0-7d368683b71a');\n",
              "        const dataTable =\n",
              "          await google.colab.kernel.invokeFunction('convertToInteractive',\n",
              "                                                    [key], {});\n",
              "        if (!dataTable) return;\n",
              "\n",
              "        const docLinkHtml = 'Like what you see? Visit the ' +\n",
              "          '<a target=\"_blank\" href=https://colab.research.google.com/notebooks/data_table.ipynb>data table notebook</a>'\n",
              "          + ' to learn more about interactive tables.';\n",
              "        element.innerHTML = '';\n",
              "        dataTable['output_type'] = 'display_data';\n",
              "        await google.colab.output.renderOutput(dataTable, element);\n",
              "        const docLink = document.createElement('div');\n",
              "        docLink.innerHTML = docLinkHtml;\n",
              "        element.appendChild(docLink);\n",
              "      }\n",
              "    </script>\n",
              "  </div>\n",
              "\n",
              "\n",
              "<div id=\"df-39dfbf6d-402f-4cc1-95da-ae1829af16b2\">\n",
              "  <button class=\"colab-df-quickchart\" onclick=\"quickchart('df-39dfbf6d-402f-4cc1-95da-ae1829af16b2')\"\n",
              "            title=\"Suggest charts\"\n",
              "            style=\"display:none;\">\n",
              "\n",
              "<svg xmlns=\"http://www.w3.org/2000/svg\" height=\"24px\"viewBox=\"0 0 24 24\"\n",
              "     width=\"24px\">\n",
              "    <g>\n",
              "        <path d=\"M19 3H5c-1.1 0-2 .9-2 2v14c0 1.1.9 2 2 2h14c1.1 0 2-.9 2-2V5c0-1.1-.9-2-2-2zM9 17H7v-7h2v7zm4 0h-2V7h2v10zm4 0h-2v-4h2v4z\"/>\n",
              "    </g>\n",
              "</svg>\n",
              "  </button>\n",
              "\n",
              "<style>\n",
              "  .colab-df-quickchart {\n",
              "      --bg-color: #E8F0FE;\n",
              "      --fill-color: #1967D2;\n",
              "      --hover-bg-color: #E2EBFA;\n",
              "      --hover-fill-color: #174EA6;\n",
              "      --disabled-fill-color: #AAA;\n",
              "      --disabled-bg-color: #DDD;\n",
              "  }\n",
              "\n",
              "  [theme=dark] .colab-df-quickchart {\n",
              "      --bg-color: #3B4455;\n",
              "      --fill-color: #D2E3FC;\n",
              "      --hover-bg-color: #434B5C;\n",
              "      --hover-fill-color: #FFFFFF;\n",
              "      --disabled-bg-color: #3B4455;\n",
              "      --disabled-fill-color: #666;\n",
              "  }\n",
              "\n",
              "  .colab-df-quickchart {\n",
              "    background-color: var(--bg-color);\n",
              "    border: none;\n",
              "    border-radius: 50%;\n",
              "    cursor: pointer;\n",
              "    display: none;\n",
              "    fill: var(--fill-color);\n",
              "    height: 32px;\n",
              "    padding: 0;\n",
              "    width: 32px;\n",
              "  }\n",
              "\n",
              "  .colab-df-quickchart:hover {\n",
              "    background-color: var(--hover-bg-color);\n",
              "    box-shadow: 0 1px 2px rgba(60, 64, 67, 0.3), 0 1px 3px 1px rgba(60, 64, 67, 0.15);\n",
              "    fill: var(--button-hover-fill-color);\n",
              "  }\n",
              "\n",
              "  .colab-df-quickchart-complete:disabled,\n",
              "  .colab-df-quickchart-complete:disabled:hover {\n",
              "    background-color: var(--disabled-bg-color);\n",
              "    fill: var(--disabled-fill-color);\n",
              "    box-shadow: none;\n",
              "  }\n",
              "\n",
              "  .colab-df-spinner {\n",
              "    border: 2px solid var(--fill-color);\n",
              "    border-color: transparent;\n",
              "    border-bottom-color: var(--fill-color);\n",
              "    animation:\n",
              "      spin 1s steps(1) infinite;\n",
              "  }\n",
              "\n",
              "  @keyframes spin {\n",
              "    0% {\n",
              "      border-color: transparent;\n",
              "      border-bottom-color: var(--fill-color);\n",
              "      border-left-color: var(--fill-color);\n",
              "    }\n",
              "    20% {\n",
              "      border-color: transparent;\n",
              "      border-left-color: var(--fill-color);\n",
              "      border-top-color: var(--fill-color);\n",
              "    }\n",
              "    30% {\n",
              "      border-color: transparent;\n",
              "      border-left-color: var(--fill-color);\n",
              "      border-top-color: var(--fill-color);\n",
              "      border-right-color: var(--fill-color);\n",
              "    }\n",
              "    40% {\n",
              "      border-color: transparent;\n",
              "      border-right-color: var(--fill-color);\n",
              "      border-top-color: var(--fill-color);\n",
              "    }\n",
              "    60% {\n",
              "      border-color: transparent;\n",
              "      border-right-color: var(--fill-color);\n",
              "    }\n",
              "    80% {\n",
              "      border-color: transparent;\n",
              "      border-right-color: var(--fill-color);\n",
              "      border-bottom-color: var(--fill-color);\n",
              "    }\n",
              "    90% {\n",
              "      border-color: transparent;\n",
              "      border-bottom-color: var(--fill-color);\n",
              "    }\n",
              "  }\n",
              "</style>\n",
              "\n",
              "  <script>\n",
              "    async function quickchart(key) {\n",
              "      const quickchartButtonEl =\n",
              "        document.querySelector('#' + key + ' button');\n",
              "      quickchartButtonEl.disabled = true;  // To prevent multiple clicks.\n",
              "      quickchartButtonEl.classList.add('colab-df-spinner');\n",
              "      try {\n",
              "        const charts = await google.colab.kernel.invokeFunction(\n",
              "            'suggestCharts', [key], {});\n",
              "      } catch (error) {\n",
              "        console.error('Error during call to suggestCharts:', error);\n",
              "      }\n",
              "      quickchartButtonEl.classList.remove('colab-df-spinner');\n",
              "      quickchartButtonEl.classList.add('colab-df-quickchart-complete');\n",
              "    }\n",
              "    (() => {\n",
              "      let quickchartButtonEl =\n",
              "        document.querySelector('#df-39dfbf6d-402f-4cc1-95da-ae1829af16b2 button');\n",
              "      quickchartButtonEl.style.display =\n",
              "        google.colab.kernel.accessAllowed ? 'block' : 'none';\n",
              "    })();\n",
              "  </script>\n",
              "</div>\n",
              "\n",
              "  <div id=\"id_878e2799-db13-4ce9-a465-e41284d8d7a7\">\n",
              "    <style>\n",
              "      .colab-df-generate {\n",
              "        background-color: #E8F0FE;\n",
              "        border: none;\n",
              "        border-radius: 50%;\n",
              "        cursor: pointer;\n",
              "        display: none;\n",
              "        fill: #1967D2;\n",
              "        height: 32px;\n",
              "        padding: 0 0 0 0;\n",
              "        width: 32px;\n",
              "      }\n",
              "\n",
              "      .colab-df-generate:hover {\n",
              "        background-color: #E2EBFA;\n",
              "        box-shadow: 0px 1px 2px rgba(60, 64, 67, 0.3), 0px 1px 3px 1px rgba(60, 64, 67, 0.15);\n",
              "        fill: #174EA6;\n",
              "      }\n",
              "\n",
              "      [theme=dark] .colab-df-generate {\n",
              "        background-color: #3B4455;\n",
              "        fill: #D2E3FC;\n",
              "      }\n",
              "\n",
              "      [theme=dark] .colab-df-generate:hover {\n",
              "        background-color: #434B5C;\n",
              "        box-shadow: 0px 1px 3px 1px rgba(0, 0, 0, 0.15);\n",
              "        filter: drop-shadow(0px 1px 2px rgba(0, 0, 0, 0.3));\n",
              "        fill: #FFFFFF;\n",
              "      }\n",
              "    </style>\n",
              "    <button class=\"colab-df-generate\" onclick=\"generateWithVariable('all_results')\"\n",
              "            title=\"Generate code using this dataframe.\"\n",
              "            style=\"display:none;\">\n",
              "\n",
              "  <svg xmlns=\"http://www.w3.org/2000/svg\" height=\"24px\"viewBox=\"0 0 24 24\"\n",
              "       width=\"24px\">\n",
              "    <path d=\"M7,19H8.4L18.45,9,17,7.55,7,17.6ZM5,21V16.75L18.45,3.32a2,2,0,0,1,2.83,0l1.4,1.43a1.91,1.91,0,0,1,.58,1.4,1.91,1.91,0,0,1-.58,1.4L9.25,21ZM18.45,9,17,7.55Zm-12,3A5.31,5.31,0,0,0,4.9,8.1,5.31,5.31,0,0,0,1,6.5,5.31,5.31,0,0,0,4.9,4.9,5.31,5.31,0,0,0,6.5,1,5.31,5.31,0,0,0,8.1,4.9,5.31,5.31,0,0,0,12,6.5,5.46,5.46,0,0,0,6.5,12Z\"/>\n",
              "  </svg>\n",
              "    </button>\n",
              "    <script>\n",
              "      (() => {\n",
              "      const buttonEl =\n",
              "        document.querySelector('#id_878e2799-db13-4ce9-a465-e41284d8d7a7 button.colab-df-generate');\n",
              "      buttonEl.style.display =\n",
              "        google.colab.kernel.accessAllowed ? 'block' : 'none';\n",
              "\n",
              "      buttonEl.onclick = () => {\n",
              "        google.colab.notebook.generateWithVariable('all_results');\n",
              "      }\n",
              "      })();\n",
              "    </script>\n",
              "  </div>\n",
              "\n",
              "    </div>\n",
              "  </div>\n"
            ],
            "application/vnd.google.colaboratory.intrinsic+json": {
              "type": "dataframe",
              "variable_name": "all_results",
              "summary": "{\n  \"name\": \"all_results\",\n  \"rows\": 3,\n  \"fields\": [\n    {\n      \"column\": \"model\",\n      \"properties\": {\n        \"dtype\": \"string\",\n        \"num_unique_values\": 3,\n        \"samples\": [\n          \"model_1\",\n          \"model_2\",\n          \"model_3\"\n        ],\n        \"semantic_type\": \"\",\n        \"description\": \"\"\n      }\n    },\n    {\n      \"column\": \"mae\",\n      \"properties\": {\n        \"dtype\": \"float32\",\n        \"num_unique_values\": 3,\n        \"samples\": [\n          20.6778564453125,\n          12.882349967956543,\n          57.612815856933594\n        ],\n        \"semantic_type\": \"\",\n        \"description\": \"\"\n      }\n    },\n    {\n      \"column\": \"mse\",\n      \"properties\": {\n        \"dtype\": \"float32\",\n        \"num_unique_values\": 3,\n        \"samples\": [\n          438.05010986328125,\n          168.6627655029297,\n          3403.26123046875\n        ],\n        \"semantic_type\": \"\",\n        \"description\": \"\"\n      }\n    }\n  ]\n}"
            }
          },
          "metadata": {},
          "execution_count": 54
        }
      ]
    },
    {
      "cell_type": "code",
      "source": [
        "list(all_results.model), list(all_results.mae), list(all_results.mse)"
      ],
      "metadata": {
        "colab": {
          "base_uri": "https://localhost:8080/"
        },
        "id": "flEmHAa19vFU",
        "outputId": "72df659c-83cb-436d-8ec0-7d15a88f253a"
      },
      "execution_count": 55,
      "outputs": [
        {
          "output_type": "execute_result",
          "data": {
            "text/plain": [
              "(['model_1', 'model_2', 'model_3'],\n",
              " [20.6778564453125, 12.882349967956543, 57.612815856933594],\n",
              " [438.05010986328125, 168.6627655029297, 3403.26123046875])"
            ]
          },
          "metadata": {},
          "execution_count": 55
        }
      ]
    },
    {
      "source": [
        "import matplotlib.pyplot as plt\n",
        "\n",
        "models = list(all_results.model)\n",
        "mae_values = list(all_results.mae)\n",
        "mse_values = list(all_results.mse)\n",
        "\n",
        "# Set width of bars\n",
        "bar_width = 0.35\n",
        "\n",
        "# Set position of bars on X axis\n",
        "r1 = range(len(models))\n",
        "r2 = [x + bar_width for x in r1]\n",
        "\n",
        "# Make the plot\n",
        "plt.bar(r1, mae_values, color='b', width=bar_width, edgecolor='grey', label='MAE')\n",
        "plt.bar(r2, mse_values, color='g', width=bar_width, edgecolor='grey', label='MSE')\n",
        "\n",
        "# Add xticks on the middle of the group bars\n",
        "plt.xlabel('Models')\n",
        "plt.xticks([r + bar_width/2 for r in range(len(models))], models)\n",
        "\n",
        "# Create legend & Show graphic\n",
        "plt.ylabel('Error Value')\n",
        "plt.title('Model Performance Comparison')\n",
        "plt.legend();"
      ],
      "cell_type": "code",
      "execution_count": 56,
      "outputs": [
        {
          "output_type": "display_data",
          "data": {
            "text/plain": [
              "<Figure size 640x480 with 1 Axes>"
            ],
            "image/png": "[encoded data removed]"
          },
          "metadata": {}
        }
      ],
      "metadata": {
        "colab": {
          "base_uri": "https://localhost:8080/",
          "height": 472
        },
        "id": "zrLOoWBb9LU-",
        "outputId": "4a684fca-2ca3-4cb6-9813-075da25321dd"
      }
    },
    {
      "cell_type": "markdown",
      "source": [
        "From above experiments, it looks like `model_2` performed the best.\n",
        "\n",
        "This is a key part of machine learning modeling: trying many different combinations of models and seeing which one performs best.\n",
        "\n",
        "Each model we build is a small experiment.\n",
        "\n",
        "# Tracking Experiments\n",
        "\n",
        "> 📖 **Resource:** As we build more models, we should also look into using tools such as:\n",
        "* [**TensorBoard**](https://tensorboard.dev/) - a component of the TensorFlow library to help track modeling experiments.\n",
        "* [**Weights & Biases**](https://www.wandb.com/) - a tool for tracking all kinds of machine learning experiments (good news is that Weights & Biases integrates with TensorBoard).\n"
      ],
      "metadata": {
        "id": "PkIY1K_E6Xdf"
      }
    },
    {
      "cell_type": "markdown",
      "source": [
        "# Saving our models\n",
        "\n",
        "Saving models is a critical part of the machine learning workflow. It ensures that the trained model can be reused, shared, and deployed without having to retrain it from scratch.\n",
        "\n",
        "There are two main formats we can save our model's:\n",
        "1. The SavedModel format.\n",
        "2. The HDF5 format."
      ],
      "metadata": {
        "id": "7h5nE9LiAX1U"
      }
    },
    {
      "cell_type": "code",
      "source": [
        "# Saving model using the SavedModel format\n",
        "model_2.save(\"Best_model_SavedModel_format\")"
      ],
      "metadata": {
        "id": "7GhtgbzFAXMq"
      },
      "execution_count": 57,
      "outputs": []
    },
    {
      "cell_type": "code",
      "source": [
        "# Saving model using the HDF5 format\n",
        "model_2.save(\"Best_model_HDF5_format\")"
      ],
      "metadata": {
        "id": "QmXkWRWt5vUC"
      },
      "execution_count": 58,
      "outputs": []
    },
    {
      "cell_type": "markdown",
      "source": [
        "# Loading our saved models\n",
        "\n",
        "we can load the saved models using `tf.keras.models.load_model` method."
      ],
      "metadata": {
        "id": "u7unC-bRLbC8"
      }
    },
    {
      "cell_type": "code",
      "source": [
        "# Loading the 'SavedModel' format model\n",
        "load_SavedModel = tf.keras.models.load_model('/content/Best_model_SavedModel_format')"
      ],
      "metadata": {
        "id": "85kwF9NUGmmq"
      },
      "execution_count": 59,
      "outputs": []
    },
    {
      "cell_type": "code",
      "source": [
        "load_SavedModel.summary()"
      ],
      "metadata": {
        "colab": {
          "base_uri": "https://localhost:8080/"
        },
        "id": "apHBIWUyHCFH",
        "outputId": "40a32eec-f350-4814-de46-57ebf4a38554"
      },
      "execution_count": 60,
      "outputs": [
        {
          "output_type": "stream",
          "name": "stdout",
          "text": [
            "Model: \"sequential_5\"\n",
            "_________________________________________________________________\n",
            " Layer (type)                Output Shape              Param #   \n",
            "=================================================================\n",
            " dense_6 (Dense)             (None, 10)                20        \n",
            "                                                                 \n",
            " dense_7 (Dense)             (None, 1)                 11        \n",
            "                                                                 \n",
            "=================================================================\n",
            "Total params: 31 (124.00 Byte)\n",
            "Trainable params: 31 (124.00 Byte)\n",
            "Non-trainable params: 0 (0.00 Byte)\n",
            "_________________________________________________________________\n"
          ]
        }
      ]
    },
    {
      "cell_type": "code",
      "source": [
        "# Compare model_2 predictions with SavedModel format model predictions\n",
        "model_2_preds = model_2.predict(X_test)\n",
        "loaded_SavedModel_format_preds = load_SavedModel.predict(X_test)\n",
        "model_2_preds == loaded_SavedModel_format_preds"
      ],
      "metadata": {
        "colab": {
          "base_uri": "https://localhost:8080/"
        },
        "id": "rpx7ojg7HFB0",
        "outputId": "a5737759-b0b5-499e-ed01-c51ab48a4fff"
      },
      "execution_count": 61,
      "outputs": [
        {
          "output_type": "stream",
          "name": "stdout",
          "text": [
            "1/1 [==============================] - 0s 23ms/step\n",
            "1/1 [==============================] - 0s 58ms/step\n"
          ]
        },
        {
          "output_type": "execute_result",
          "data": {
            "text/plain": [
              "array([[ True],\n",
              "       [ True],\n",
              "       [ True],\n",
              "       [ True],\n",
              "       [ True],\n",
              "       [ True],\n",
              "       [ True],\n",
              "       [ True],\n",
              "       [ True],\n",
              "       [ True]])"
            ]
          },
          "metadata": {},
          "execution_count": 61
        }
      ]
    },
    {
      "cell_type": "code",
      "source": [
        "# Compare the mae of model_2_preds with SavedModel format model preds\n",
        "mae(y_test, model_2_preds) == mae(y_test, loaded_SavedModel_format_preds)"
      ],
      "metadata": {
        "colab": {
          "base_uri": "https://localhost:8080/"
        },
        "id": "SdjAoM3pIqij",
        "outputId": "db3ed654-1f3c-4255-c171-eab6699895f7"
      },
      "execution_count": 62,
      "outputs": [
        {
          "output_type": "execute_result",
          "data": {
            "text/plain": [
              "<tf.Tensor: shape=(10,), dtype=bool, numpy=\n",
              "array([ True,  True,  True,  True,  True,  True,  True,  True,  True,\n",
              "        True])>"
            ]
          },
          "metadata": {},
          "execution_count": 62
        }
      ]
    },
    {
      "cell_type": "code",
      "source": [
        "# Load HDF5 format model\n",
        "load_HDF5 = tf.keras.models.load_model(\"/content/Best_model_HDF5_format\")\n",
        "load_HDF5.summary()"
      ],
      "metadata": {
        "colab": {
          "base_uri": "https://localhost:8080/"
        },
        "id": "JpMIyFT_I5A3",
        "outputId": "c1a35aca-79d6-4d31-c938-77d99a88b805"
      },
      "execution_count": 63,
      "outputs": [
        {
          "output_type": "stream",
          "name": "stdout",
          "text": [
            "Model: \"sequential_5\"\n",
            "_________________________________________________________________\n",
            " Layer (type)                Output Shape              Param #   \n",
            "=================================================================\n",
            " dense_6 (Dense)             (None, 10)                20        \n",
            "                                                                 \n",
            " dense_7 (Dense)             (None, 1)                 11        \n",
            "                                                                 \n",
            "=================================================================\n",
            "Total params: 31 (124.00 Byte)\n",
            "Trainable params: 31 (124.00 Byte)\n",
            "Non-trainable params: 0 (0.00 Byte)\n",
            "_________________________________________________________________\n"
          ]
        }
      ]
    },
    {
      "cell_type": "code",
      "source": [
        "# Compare model_2 predictions with HDF5 format model predictions\n",
        "loaded_HDF5_preds = load_HDF5.predict(X_test)\n",
        "model_2_preds == loaded_HDF5_preds"
      ],
      "metadata": {
        "colab": {
          "base_uri": "https://localhost:8080/"
        },
        "id": "MumNEtQnJQVd",
        "outputId": "0fa90aa1-52e5-4805-d7a0-bf7e1781f59f"
      },
      "execution_count": 64,
      "outputs": [
        {
          "output_type": "stream",
          "name": "stdout",
          "text": [
            "1/1 [==============================] - 0s 66ms/step\n"
          ]
        },
        {
          "output_type": "execute_result",
          "data": {
            "text/plain": [
              "array([[ True],\n",
              "       [ True],\n",
              "       [ True],\n",
              "       [ True],\n",
              "       [ True],\n",
              "       [ True],\n",
              "       [ True],\n",
              "       [ True],\n",
              "       [ True],\n",
              "       [ True]])"
            ]
          },
          "metadata": {},
          "execution_count": 64
        }
      ]
    },
    {
      "cell_type": "code",
      "source": [
        "# Compare the mae of model_2_preds with HDF5 format model preds\n",
        "mae(y_test, model_2_preds) == mae(y_test, loaded_HDF5_preds)"
      ],
      "metadata": {
        "colab": {
          "base_uri": "https://localhost:8080/"
        },
        "id": "Y3xI4ZftKbiq",
        "outputId": "420762d5-90a6-4aa8-92d0-24866e8f6a8e"
      },
      "execution_count": 65,
      "outputs": [
        {
          "output_type": "execute_result",
          "data": {
            "text/plain": [
              "<tf.Tensor: shape=(10,), dtype=bool, numpy=\n",
              "array([ True,  True,  True,  True,  True,  True,  True,  True,  True,\n",
              "        True])>"
            ]
          },
          "metadata": {},
          "execution_count": 65
        }
      ]
    },
    {
      "cell_type": "markdown",
      "source": [
        "# Download a model/files from Google Colab\n",
        "\n",
        "if we want to download files from Google Colab:\n",
        "1. we can go to \"files\" tab and right click on the file that we want and click \"download\".\n",
        "2. By using the code.\n",
        "3. Save it to Google Drive by connecting Google Drive and copying it there."
      ],
      "metadata": {
        "id": "ChZfSv8dMuQS"
      }
    },
    {
      "cell_type": "code",
      "source": [
        "import os\n",
        "# Specify the file path\n",
        "file_path = \"/content/Best_model_HDF5_format\"\n",
        "\n",
        "# Check if the file exists\n",
        "if os.path.exists(file_path):\n",
        "    # Get the file size\n",
        "    file_size = os.path.getsize(file_path)\n",
        "    print(f\"File size: {file_size} bytes\")\n",
        "else:\n",
        "    print(\"File not found!\")\n"
      ],
      "metadata": {
        "colab": {
          "base_uri": "https://localhost:8080/"
        },
        "id": "-Qj4fyhjPz8p",
        "outputId": "d527b1f3-4792-4e0f-d39f-c6778380e7cb"
      },
      "execution_count": 66,
      "outputs": [
        {
          "output_type": "stream",
          "name": "stdout",
          "text": [
            "File size: 4096 bytes\n"
          ]
        }
      ]
    },
    {
      "cell_type": "code",
      "source": [
        "# Download a file from Google Colab using code\n",
        "from google.colab import files\n",
        "files.download(\"/content/Best_model_HDF5_format\")"
      ],
      "metadata": {
        "colab": {
          "base_uri": "https://localhost:8080/",
          "height": 34
        },
        "id": "a51BNMssNVo4",
        "outputId": "efc02a84-c9fe-44b4-8407-40a3060567f3"
      },
      "execution_count": 67,
      "outputs": [
        {
          "output_type": "display_data",
          "data": {
            "text/plain": [
              "<IPython.core.display.Javascript object>"
            ],
            "application/javascript": [
              "\n",
              "    async function download(id, filename, size) {\n",
              "      if (!google.colab.kernel.accessAllowed) {\n",
              "        return;\n",
              "      }\n",
              "      const div = document.createElement('div');\n",
              "      const label = document.createElement('label');\n",
              "      label.textContent = `Downloading \"${filename}\": `;\n",
              "      div.appendChild(label);\n",
              "      const progress = document.createElement('progress');\n",
              "      progress.max = size;\n",
              "      div.appendChild(progress);\n",
              "      document.body.appendChild(div);\n",
              "\n",
              "      const buffers = [];\n",
              "      let downloaded = 0;\n",
              "\n",
              "      const channel = await google.colab.kernel.comms.open(id);\n",
              "      // Send a message to notify the kernel that we're ready.\n",
              "      channel.send({})\n",
              "\n",
              "      for await (const message of channel.messages) {\n",
              "        // Send a message to notify the kernel that we're ready.\n",
              "        channel.send({})\n",
              "        if (message.buffers) {\n",
              "          for (const buffer of message.buffers) {\n",
              "            buffers.push(buffer);\n",
              "            downloaded += buffer.byteLength;\n",
              "            progress.value = downloaded;\n",
              "          }\n",
              "        }\n",
              "      }\n",
              "      const blob = new Blob(buffers, {type: 'application/binary'});\n",
              "      const a = document.createElement('a');\n",
              "      a.href = window.URL.createObjectURL(blob);\n",
              "      a.download = filename;\n",
              "      div.appendChild(a);\n",
              "      a.click();\n",
              "      div.remove();\n",
              "    }\n",
              "  "
            ]
          },
          "metadata": {}
        },
        {
          "output_type": "display_data",
          "data": {
            "text/plain": [
              "<IPython.core.display.Javascript object>"
            ],
            "application/javascript": [
              "download(\"download_c148d317-1b03-4ee7-b608-c6e0863ff52d\", \"Best_model_HDF5_format\", 4096)"
            ]
          },
          "metadata": {}
        }
      ]
    },
    {
      "cell_type": "code",
      "source": [
        "# Save a file from Google Colab to Google Drive (requires mounting drive)\n",
        "!cp -r /content/Best_model_SavedModel_format /content/saved_models"
      ],
      "metadata": {
        "id": "I16nf-x_ODq1"
      },
      "execution_count": 68,
      "outputs": []
    },
    {
      "cell_type": "code",
      "source": [
        "!ls /content/saved_models"
      ],
      "metadata": {
        "id": "nIWoqCqAPPmo",
        "colab": {
          "base_uri": "https://localhost:8080/"
        },
        "outputId": "d3cd2186-53a8-458b-9335-596a24f2da7f"
      },
      "execution_count": 69,
      "outputs": [
        {
          "output_type": "stream",
          "name": "stdout",
          "text": [
            "assets\tfingerprint.pb\tkeras_metadata.pb  saved_model.pb  variables\n"
          ]
        }
      ]
    },
    {
      "cell_type": "markdown",
      "source": [
        "# A larger example"
      ],
      "metadata": {
        "id": "cid9EywkWF_L"
      }
    },
    {
      "cell_type": "code",
      "source": [
        "import tensorflow as tf\n",
        "import pandas as pd\n",
        "import matplotlib.pyplot as plt"
      ],
      "metadata": {
        "id": "ntB_gxAnX3AT"
      },
      "execution_count": 70,
      "outputs": []
    },
    {
      "cell_type": "markdown",
      "source": [
        "Dataset: [Insurance.csv](https://raw.githubusercontent.com/stedy/Machine-Learning-with-R-datasets/master/insurance.csv)."
      ],
      "metadata": {
        "id": "DRBXdGxyWce2"
      }
    },
    {
      "cell_type": "code",
      "source": [
        "insurance = pd.read_csv(\"https://raw.githubusercontent.com/stedy/Machine-Learning-with-R-datasets/master/insurance.csv\")\n",
        "insurance.head()"
      ],
      "metadata": {
        "colab": {
          "base_uri": "https://localhost:8080/",
          "height": 206
        },
        "id": "Xww5LxmoYB-h",
        "outputId": "e71451ee-852e-4e95-ab87-d5e17cfdebc8"
      },
      "execution_count": 71,
      "outputs": [
        {
          "output_type": "execute_result",
          "data": {
            "text/plain": [
              "   age     sex     bmi  children smoker     region      charges\n",
              "0   19  female  27.900         0    yes  southwest  16884.92400\n",
              "1   18    male  33.770         1     no  southeast   1725.55230\n",
              "2   28    male  33.000         3     no  southeast   4449.46200\n",
              "3   33    male  22.705         0     no  northwest  21984.47061\n",
              "4   32    male  28.880         0     no  northwest   3866.85520"
            ],
            "text/html": [
              "\n",
              "  <div id=\"df-001e906e-26b7-40e8-a20a-3fa7e53131e1\" class=\"colab-df-container\">\n",
              "    <div>\n",
              "<style scoped>\n",
              "    .dataframe tbody tr th:only-of-type {\n",
              "        vertical-align: middle;\n",
              "    }\n",
              "\n",
              "    .dataframe tbody tr th {\n",
              "        vertical-align: top;\n",
              "    }\n",
              "\n",
              "    .dataframe thead th {\n",
              "        text-align: right;\n",
              "    }\n",
              "</style>\n",
              "<table border=\"1\" class=\"dataframe\">\n",
              "  <thead>\n",
              "    <tr style=\"text-align: right;\">\n",
              "      <th></th>\n",
              "      <th>age</th>\n",
              "      <th>sex</th>\n",
              "      <th>bmi</th>\n",
              "      <th>children</th>\n",
              "      <th>smoker</th>\n",
              "      <th>region</th>\n",
              "      <th>charges</th>\n",
              "    </tr>\n",
              "  </thead>\n",
              "  <tbody>\n",
              "    <tr>\n",
              "      <th>0</th>\n",
              "      <td>19</td>\n",
              "      <td>female</td>\n",
              "      <td>27.900</td>\n",
              "      <td>0</td>\n",
              "      <td>yes</td>\n",
              "      <td>southwest</td>\n",
              "      <td>16884.92400</td>\n",
              "    </tr>\n",
              "    <tr>\n",
              "      <th>1</th>\n",
              "      <td>18</td>\n",
              "      <td>male</td>\n",
              "      <td>33.770</td>\n",
              "      <td>1</td>\n",
              "      <td>no</td>\n",
              "      <td>southeast</td>\n",
              "      <td>1725.55230</td>\n",
              "    </tr>\n",
              "    <tr>\n",
              "      <th>2</th>\n",
              "      <td>28</td>\n",
              "      <td>male</td>\n",
              "      <td>33.000</td>\n",
              "      <td>3</td>\n",
              "      <td>no</td>\n",
              "      <td>southeast</td>\n",
              "      <td>4449.46200</td>\n",
              "    </tr>\n",
              "    <tr>\n",
              "      <th>3</th>\n",
              "      <td>33</td>\n",
              "      <td>male</td>\n",
              "      <td>22.705</td>\n",
              "      <td>0</td>\n",
              "      <td>no</td>\n",
              "      <td>northwest</td>\n",
              "      <td>21984.47061</td>\n",
              "    </tr>\n",
              "    <tr>\n",
              "      <th>4</th>\n",
              "      <td>32</td>\n",
              "      <td>male</td>\n",
              "      <td>28.880</td>\n",
              "      <td>0</td>\n",
              "      <td>no</td>\n",
              "      <td>northwest</td>\n",
              "      <td>3866.85520</td>\n",
              "    </tr>\n",
              "  </tbody>\n",
              "</table>\n",
              "</div>\n",
              "    <div class=\"colab-df-buttons\">\n",
              "\n",
              "  <div class=\"colab-df-container\">\n",
              "    <button class=\"colab-df-convert\" onclick=\"convertToInteractive('df-001e906e-26b7-40e8-a20a-3fa7e53131e1')\"\n",
              "            title=\"Convert this dataframe to an interactive table.\"\n",
              "            style=\"display:none;\">\n",
              "\n",
              "  <svg xmlns=\"http://www.w3.org/2000/svg\" height=\"24px\" viewBox=\"0 -960 960 960\">\n",
              "    <path d=\"M120-120v-720h720v720H120Zm60-500h600v-160H180v160Zm220 220h160v-160H400v160Zm0 220h160v-160H400v160ZM180-400h160v-160H180v160Zm440 0h160v-160H620v160ZM180-180h160v-160H180v160Zm440 0h160v-160H620v160Z\"/>\n",
              "  </svg>\n",
              "    </button>\n",
              "\n",
              "  <style>\n",
              "    .colab-df-container {\n",
              "      display:flex;\n",
              "      gap: 12px;\n",
              "    }\n",
              "\n",
              "    .colab-df-convert {\n",
              "      background-color: #E8F0FE;\n",
              "      border: none;\n",
              "      border-radius: 50%;\n",
              "      cursor: pointer;\n",
              "      display: none;\n",
              "      fill: #1967D2;\n",
              "      height: 32px;\n",
              "      padding: 0 0 0 0;\n",
              "      width: 32px;\n",
              "    }\n",
              "\n",
              "    .colab-df-convert:hover {\n",
              "      background-color: #E2EBFA;\n",
              "      box-shadow: 0px 1px 2px rgba(60, 64, 67, 0.3), 0px 1px 3px 1px rgba(60, 64, 67, 0.15);\n",
              "      fill: #174EA6;\n",
              "    }\n",
              "\n",
              "    .colab-df-buttons div {\n",
              "      margin-bottom: 4px;\n",
              "    }\n",
              "\n",
              "    [theme=dark] .colab-df-convert {\n",
              "      background-color: #3B4455;\n",
              "      fill: #D2E3FC;\n",
              "    }\n",
              "\n",
              "    [theme=dark] .colab-df-convert:hover {\n",
              "      background-color: #434B5C;\n",
              "      box-shadow: 0px 1px 3px 1px rgba(0, 0, 0, 0.15);\n",
              "      filter: drop-shadow(0px 1px 2px rgba(0, 0, 0, 0.3));\n",
              "      fill: #FFFFFF;\n",
              "    }\n",
              "  </style>\n",
              "\n",
              "    <script>\n",
              "      const buttonEl =\n",
              "        document.querySelector('#df-001e906e-26b7-40e8-a20a-3fa7e53131e1 button.colab-df-convert');\n",
              "      buttonEl.style.display =\n",
              "        google.colab.kernel.accessAllowed ? 'block' : 'none';\n",
              "\n",
              "      async function convertToInteractive(key) {\n",
              "        const element = document.querySelector('#df-001e906e-26b7-40e8-a20a-3fa7e53131e1');\n",
              "        const dataTable =\n",
              "          await google.colab.kernel.invokeFunction('convertToInteractive',\n",
              "                                                    [key], {});\n",
              "        if (!dataTable) return;\n",
              "\n",
              "        const docLinkHtml = 'Like what you see? Visit the ' +\n",
              "          '<a target=\"_blank\" href=https://colab.research.google.com/notebooks/data_table.ipynb>data table notebook</a>'\n",
              "          + ' to learn more about interactive tables.';\n",
              "        element.innerHTML = '';\n",
              "        dataTable['output_type'] = 'display_data';\n",
              "        await google.colab.output.renderOutput(dataTable, element);\n",
              "        const docLink = document.createElement('div');\n",
              "        docLink.innerHTML = docLinkHtml;\n",
              "        element.appendChild(docLink);\n",
              "      }\n",
              "    </script>\n",
              "  </div>\n",
              "\n",
              "\n",
              "<div id=\"df-2c2f61b6-5d96-4d05-84fc-05286b81d1b8\">\n",
              "  <button class=\"colab-df-quickchart\" onclick=\"quickchart('df-2c2f61b6-5d96-4d05-84fc-05286b81d1b8')\"\n",
              "            title=\"Suggest charts\"\n",
              "            style=\"display:none;\">\n",
              "\n",
              "<svg xmlns=\"http://www.w3.org/2000/svg\" height=\"24px\"viewBox=\"0 0 24 24\"\n",
              "     width=\"24px\">\n",
              "    <g>\n",
              "        <path d=\"M19 3H5c-1.1 0-2 .9-2 2v14c0 1.1.9 2 2 2h14c1.1 0 2-.9 2-2V5c0-1.1-.9-2-2-2zM9 17H7v-7h2v7zm4 0h-2V7h2v10zm4 0h-2v-4h2v4z\"/>\n",
              "    </g>\n",
              "</svg>\n",
              "  </button>\n",
              "\n",
              "<style>\n",
              "  .colab-df-quickchart {\n",
              "      --bg-color: #E8F0FE;\n",
              "      --fill-color: #1967D2;\n",
              "      --hover-bg-color: #E2EBFA;\n",
              "      --hover-fill-color: #174EA6;\n",
              "      --disabled-fill-color: #AAA;\n",
              "      --disabled-bg-color: #DDD;\n",
              "  }\n",
              "\n",
              "  [theme=dark] .colab-df-quickchart {\n",
              "      --bg-color: #3B4455;\n",
              "      --fill-color: #D2E3FC;\n",
              "      --hover-bg-color: #434B5C;\n",
              "      --hover-fill-color: #FFFFFF;\n",
              "      --disabled-bg-color: #3B4455;\n",
              "      --disabled-fill-color: #666;\n",
              "  }\n",
              "\n",
              "  .colab-df-quickchart {\n",
              "    background-color: var(--bg-color);\n",
              "    border: none;\n",
              "    border-radius: 50%;\n",
              "    cursor: pointer;\n",
              "    display: none;\n",
              "    fill: var(--fill-color);\n",
              "    height: 32px;\n",
              "    padding: 0;\n",
              "    width: 32px;\n",
              "  }\n",
              "\n",
              "  .colab-df-quickchart:hover {\n",
              "    background-color: var(--hover-bg-color);\n",
              "    box-shadow: 0 1px 2px rgba(60, 64, 67, 0.3), 0 1px 3px 1px rgba(60, 64, 67, 0.15);\n",
              "    fill: var(--button-hover-fill-color);\n",
              "  }\n",
              "\n",
              "  .colab-df-quickchart-complete:disabled,\n",
              "  .colab-df-quickchart-complete:disabled:hover {\n",
              "    background-color: var(--disabled-bg-color);\n",
              "    fill: var(--disabled-fill-color);\n",
              "    box-shadow: none;\n",
              "  }\n",
              "\n",
              "  .colab-df-spinner {\n",
              "    border: 2px solid var(--fill-color);\n",
              "    border-color: transparent;\n",
              "    border-bottom-color: var(--fill-color);\n",
              "    animation:\n",
              "      spin 1s steps(1) infinite;\n",
              "  }\n",
              "\n",
              "  @keyframes spin {\n",
              "    0% {\n",
              "      border-color: transparent;\n",
              "      border-bottom-color: var(--fill-color);\n",
              "      border-left-color: var(--fill-color);\n",
              "    }\n",
              "    20% {\n",
              "      border-color: transparent;\n",
              "      border-left-color: var(--fill-color);\n",
              "      border-top-color: var(--fill-color);\n",
              "    }\n",
              "    30% {\n",
              "      border-color: transparent;\n",
              "      border-left-color: var(--fill-color);\n",
              "      border-top-color: var(--fill-color);\n",
              "      border-right-color: var(--fill-color);\n",
              "    }\n",
              "    40% {\n",
              "      border-color: transparent;\n",
              "      border-right-color: var(--fill-color);\n",
              "      border-top-color: var(--fill-color);\n",
              "    }\n",
              "    60% {\n",
              "      border-color: transparent;\n",
              "      border-right-color: var(--fill-color);\n",
              "    }\n",
              "    80% {\n",
              "      border-color: transparent;\n",
              "      border-right-color: var(--fill-color);\n",
              "      border-bottom-color: var(--fill-color);\n",
              "    }\n",
              "    90% {\n",
              "      border-color: transparent;\n",
              "      border-bottom-color: var(--fill-color);\n",
              "    }\n",
              "  }\n",
              "</style>\n",
              "\n",
              "  <script>\n",
              "    async function quickchart(key) {\n",
              "      const quickchartButtonEl =\n",
              "        document.querySelector('#' + key + ' button');\n",
              "      quickchartButtonEl.disabled = true;  // To prevent multiple clicks.\n",
              "      quickchartButtonEl.classList.add('colab-df-spinner');\n",
              "      try {\n",
              "        const charts = await google.colab.kernel.invokeFunction(\n",
              "            'suggestCharts', [key], {});\n",
              "      } catch (error) {\n",
              "        console.error('Error during call to suggestCharts:', error);\n",
              "      }\n",
              "      quickchartButtonEl.classList.remove('colab-df-spinner');\n",
              "      quickchartButtonEl.classList.add('colab-df-quickchart-complete');\n",
              "    }\n",
              "    (() => {\n",
              "      let quickchartButtonEl =\n",
              "        document.querySelector('#df-2c2f61b6-5d96-4d05-84fc-05286b81d1b8 button');\n",
              "      quickchartButtonEl.style.display =\n",
              "        google.colab.kernel.accessAllowed ? 'block' : 'none';\n",
              "    })();\n",
              "  </script>\n",
              "</div>\n",
              "\n",
              "    </div>\n",
              "  </div>\n"
            ],
            "application/vnd.google.colaboratory.intrinsic+json": {
              "type": "dataframe",
              "variable_name": "insurance",
              "summary": "{\n  \"name\": \"insurance\",\n  \"rows\": 1338,\n  \"fields\": [\n    {\n      \"column\": \"age\",\n      \"properties\": {\n        \"dtype\": \"number\",\n        \"std\": 14,\n        \"min\": 18,\n        \"max\": 64,\n        \"num_unique_values\": 47,\n        \"samples\": [\n          21,\n          45,\n          36\n        ],\n        \"semantic_type\": \"\",\n        \"description\": \"\"\n      }\n    },\n    {\n      \"column\": \"sex\",\n      \"properties\": {\n        \"dtype\": \"category\",\n        \"num_unique_values\": 2,\n        \"samples\": [\n          \"male\",\n          \"female\"\n        ],\n        \"semantic_type\": \"\",\n        \"description\": \"\"\n      }\n    },\n    {\n      \"column\": \"bmi\",\n      \"properties\": {\n        \"dtype\": \"number\",\n        \"std\": 6.098186911679014,\n        \"min\": 15.96,\n        \"max\": 53.13,\n        \"num_unique_values\": 548,\n        \"samples\": [\n          23.18,\n          26.885\n        ],\n        \"semantic_type\": \"\",\n        \"description\": \"\"\n      }\n    },\n    {\n      \"column\": \"children\",\n      \"properties\": {\n        \"dtype\": \"number\",\n        \"std\": 1,\n        \"min\": 0,\n        \"max\": 5,\n        \"num_unique_values\": 6,\n        \"samples\": [\n          0,\n          1\n        ],\n        \"semantic_type\": \"\",\n        \"description\": \"\"\n      }\n    },\n    {\n      \"column\": \"smoker\",\n      \"properties\": {\n        \"dtype\": \"category\",\n        \"num_unique_values\": 2,\n        \"samples\": [\n          \"no\",\n          \"yes\"\n        ],\n        \"semantic_type\": \"\",\n        \"description\": \"\"\n      }\n    },\n    {\n      \"column\": \"region\",\n      \"properties\": {\n        \"dtype\": \"category\",\n        \"num_unique_values\": 4,\n        \"samples\": [\n          \"southeast\",\n          \"northeast\"\n        ],\n        \"semantic_type\": \"\",\n        \"description\": \"\"\n      }\n    },\n    {\n      \"column\": \"charges\",\n      \"properties\": {\n        \"dtype\": \"number\",\n        \"std\": 12110.011236694001,\n        \"min\": 1121.8739,\n        \"max\": 63770.42801,\n        \"num_unique_values\": 1337,\n        \"samples\": [\n          8688.85885,\n          5708.867\n        ],\n        \"semantic_type\": \"\",\n        \"description\": \"\"\n      }\n    }\n  ]\n}"
            }
          },
          "metadata": {},
          "execution_count": 71
        }
      ]
    },
    {
      "cell_type": "code",
      "source": [
        "# Convert categorical data into numbers\n",
        "insurance_one_hot = pd.get_dummies(insurance, dtype=int)\n",
        "insurance_one_hot.head()"
      ],
      "metadata": {
        "id": "QPTG2nbHP1MP",
        "colab": {
          "base_uri": "https://localhost:8080/",
          "height": 226
        },
        "outputId": "62e9b402-aefa-47ce-d24f-47d855d3b4cd"
      },
      "execution_count": 72,
      "outputs": [
        {
          "output_type": "execute_result",
          "data": {
            "text/plain": [
              "   age     bmi  children      charges  sex_female  sex_male  smoker_no  \\\n",
              "0   19  27.900         0  16884.92400           1         0          0   \n",
              "1   18  33.770         1   1725.55230           0         1          1   \n",
              "2   28  33.000         3   4449.46200           0         1          1   \n",
              "3   33  22.705         0  21984.47061           0         1          1   \n",
              "4   32  28.880         0   3866.85520           0         1          1   \n",
              "\n",
              "   smoker_yes  region_northeast  region_northwest  region_southeast  \\\n",
              "0           1                 0                 0                 0   \n",
              "1           0                 0                 0                 1   \n",
              "2           0                 0                 0                 1   \n",
              "3           0                 0                 1                 0   \n",
              "4           0                 0                 1                 0   \n",
              "\n",
              "   region_southwest  \n",
              "0                 1  \n",
              "1                 0  \n",
              "2                 0  \n",
              "3                 0  \n",
              "4                 0  "
            ],
            "text/html": [
              "\n",
              "  <div id=\"df-e53e8a15-701e-45f8-ade2-19042132a26b\" class=\"colab-df-container\">\n",
              "    <div>\n",
              "<style scoped>\n",
              "    .dataframe tbody tr th:only-of-type {\n",
              "        vertical-align: middle;\n",
              "    }\n",
              "\n",
              "    .dataframe tbody tr th {\n",
              "        vertical-align: top;\n",
              "    }\n",
              "\n",
              "    .dataframe thead th {\n",
              "        text-align: right;\n",
              "    }\n",
              "</style>\n",
              "<table border=\"1\" class=\"dataframe\">\n",
              "  <thead>\n",
              "    <tr style=\"text-align: right;\">\n",
              "      <th></th>\n",
              "      <th>age</th>\n",
              "      <th>bmi</th>\n",
              "      <th>children</th>\n",
              "      <th>charges</th>\n",
              "      <th>sex_female</th>\n",
              "      <th>sex_male</th>\n",
              "      <th>smoker_no</th>\n",
              "      <th>smoker_yes</th>\n",
              "      <th>region_northeast</th>\n",
              "      <th>region_northwest</th>\n",
              "      <th>region_southeast</th>\n",
              "      <th>region_southwest</th>\n",
              "    </tr>\n",
              "  </thead>\n",
              "  <tbody>\n",
              "    <tr>\n",
              "      <th>0</th>\n",
              "      <td>19</td>\n",
              "      <td>27.900</td>\n",
              "      <td>0</td>\n",
              "      <td>16884.92400</td>\n",
              "      <td>1</td>\n",
              "      <td>0</td>\n",
              "      <td>0</td>\n",
              "      <td>1</td>\n",
              "      <td>0</td>\n",
              "      <td>0</td>\n",
              "      <td>0</td>\n",
              "      <td>1</td>\n",
              "    </tr>\n",
              "    <tr>\n",
              "      <th>1</th>\n",
              "      <td>18</td>\n",
              "      <td>33.770</td>\n",
              "      <td>1</td>\n",
              "      <td>1725.55230</td>\n",
              "      <td>0</td>\n",
              "      <td>1</td>\n",
              "      <td>1</td>\n",
              "      <td>0</td>\n",
              "      <td>0</td>\n",
              "      <td>0</td>\n",
              "      <td>1</td>\n",
              "      <td>0</td>\n",
              "    </tr>\n",
              "    <tr>\n",
              "      <th>2</th>\n",
              "      <td>28</td>\n",
              "      <td>33.000</td>\n",
              "      <td>3</td>\n",
              "      <td>4449.46200</td>\n",
              "      <td>0</td>\n",
              "      <td>1</td>\n",
              "      <td>1</td>\n",
              "      <td>0</td>\n",
              "      <td>0</td>\n",
              "      <td>0</td>\n",
              "      <td>1</td>\n",
              "      <td>0</td>\n",
              "    </tr>\n",
              "    <tr>\n",
              "      <th>3</th>\n",
              "      <td>33</td>\n",
              "      <td>22.705</td>\n",
              "      <td>0</td>\n",
              "      <td>21984.47061</td>\n",
              "      <td>0</td>\n",
              "      <td>1</td>\n",
              "      <td>1</td>\n",
              "      <td>0</td>\n",
              "      <td>0</td>\n",
              "      <td>1</td>\n",
              "      <td>0</td>\n",
              "      <td>0</td>\n",
              "    </tr>\n",
              "    <tr>\n",
              "      <th>4</th>\n",
              "      <td>32</td>\n",
              "      <td>28.880</td>\n",
              "      <td>0</td>\n",
              "      <td>3866.85520</td>\n",
              "      <td>0</td>\n",
              "      <td>1</td>\n",
              "      <td>1</td>\n",
              "      <td>0</td>\n",
              "      <td>0</td>\n",
              "      <td>1</td>\n",
              "      <td>0</td>\n",
              "      <td>0</td>\n",
              "    </tr>\n",
              "  </tbody>\n",
              "</table>\n",
              "</div>\n",
              "    <div class=\"colab-df-buttons\">\n",
              "\n",
              "  <div class=\"colab-df-container\">\n",
              "    <button class=\"colab-df-convert\" onclick=\"convertToInteractive('df-e53e8a15-701e-45f8-ade2-19042132a26b')\"\n",
              "            title=\"Convert this dataframe to an interactive table.\"\n",
              "            style=\"display:none;\">\n",
              "\n",
              "  <svg xmlns=\"http://www.w3.org/2000/svg\" height=\"24px\" viewBox=\"0 -960 960 960\">\n",
              "    <path d=\"M120-120v-720h720v720H120Zm60-500h600v-160H180v160Zm220 220h160v-160H400v160Zm0 220h160v-160H400v160ZM180-400h160v-160H180v160Zm440 0h160v-160H620v160ZM180-180h160v-160H180v160Zm440 0h160v-160H620v160Z\"/>\n",
              "  </svg>\n",
              "    </button>\n",
              "\n",
              "  <style>\n",
              "    .colab-df-container {\n",
              "      display:flex;\n",
              "      gap: 12px;\n",
              "    }\n",
              "\n",
              "    .colab-df-convert {\n",
              "      background-color: #E8F0FE;\n",
              "      border: none;\n",
              "      border-radius: 50%;\n",
              "      cursor: pointer;\n",
              "      display: none;\n",
              "      fill: #1967D2;\n",
              "      height: 32px;\n",
              "      padding: 0 0 0 0;\n",
              "      width: 32px;\n",
              "    }\n",
              "\n",
              "    .colab-df-convert:hover {\n",
              "      background-color: #E2EBFA;\n",
              "      box-shadow: 0px 1px 2px rgba(60, 64, 67, 0.3), 0px 1px 3px 1px rgba(60, 64, 67, 0.15);\n",
              "      fill: #174EA6;\n",
              "    }\n",
              "\n",
              "    .colab-df-buttons div {\n",
              "      margin-bottom: 4px;\n",
              "    }\n",
              "\n",
              "    [theme=dark] .colab-df-convert {\n",
              "      background-color: #3B4455;\n",
              "      fill: #D2E3FC;\n",
              "    }\n",
              "\n",
              "    [theme=dark] .colab-df-convert:hover {\n",
              "      background-color: #434B5C;\n",
              "      box-shadow: 0px 1px 3px 1px rgba(0, 0, 0, 0.15);\n",
              "      filter: drop-shadow(0px 1px 2px rgba(0, 0, 0, 0.3));\n",
              "      fill: #FFFFFF;\n",
              "    }\n",
              "  </style>\n",
              "\n",
              "    <script>\n",
              "      const buttonEl =\n",
              "        document.querySelector('#df-e53e8a15-701e-45f8-ade2-19042132a26b button.colab-df-convert');\n",
              "      buttonEl.style.display =\n",
              "        google.colab.kernel.accessAllowed ? 'block' : 'none';\n",
              "\n",
              "      async function convertToInteractive(key) {\n",
              "        const element = document.querySelector('#df-e53e8a15-701e-45f8-ade2-19042132a26b');\n",
              "        const dataTable =\n",
              "          await google.colab.kernel.invokeFunction('convertToInteractive',\n",
              "                                                    [key], {});\n",
              "        if (!dataTable) return;\n",
              "\n",
              "        const docLinkHtml = 'Like what you see? Visit the ' +\n",
              "          '<a target=\"_blank\" href=https://colab.research.google.com/notebooks/data_table.ipynb>data table notebook</a>'\n",
              "          + ' to learn more about interactive tables.';\n",
              "        element.innerHTML = '';\n",
              "        dataTable['output_type'] = 'display_data';\n",
              "        await google.colab.output.renderOutput(dataTable, element);\n",
              "        const docLink = document.createElement('div');\n",
              "        docLink.innerHTML = docLinkHtml;\n",
              "        element.appendChild(docLink);\n",
              "      }\n",
              "    </script>\n",
              "  </div>\n",
              "\n",
              "\n",
              "<div id=\"df-26cba6fe-0ac9-4f1e-ab22-17d1bea77c6d\">\n",
              "  <button class=\"colab-df-quickchart\" onclick=\"quickchart('df-26cba6fe-0ac9-4f1e-ab22-17d1bea77c6d')\"\n",
              "            title=\"Suggest charts\"\n",
              "            style=\"display:none;\">\n",
              "\n",
              "<svg xmlns=\"http://www.w3.org/2000/svg\" height=\"24px\"viewBox=\"0 0 24 24\"\n",
              "     width=\"24px\">\n",
              "    <g>\n",
              "        <path d=\"M19 3H5c-1.1 0-2 .9-2 2v14c0 1.1.9 2 2 2h14c1.1 0 2-.9 2-2V5c0-1.1-.9-2-2-2zM9 17H7v-7h2v7zm4 0h-2V7h2v10zm4 0h-2v-4h2v4z\"/>\n",
              "    </g>\n",
              "</svg>\n",
              "  </button>\n",
              "\n",
              "<style>\n",
              "  .colab-df-quickchart {\n",
              "      --bg-color: #E8F0FE;\n",
              "      --fill-color: #1967D2;\n",
              "      --hover-bg-color: #E2EBFA;\n",
              "      --hover-fill-color: #174EA6;\n",
              "      --disabled-fill-color: #AAA;\n",
              "      --disabled-bg-color: #DDD;\n",
              "  }\n",
              "\n",
              "  [theme=dark] .colab-df-quickchart {\n",
              "      --bg-color: #3B4455;\n",
              "      --fill-color: #D2E3FC;\n",
              "      --hover-bg-color: #434B5C;\n",
              "      --hover-fill-color: #FFFFFF;\n",
              "      --disabled-bg-color: #3B4455;\n",
              "      --disabled-fill-color: #666;\n",
              "  }\n",
              "\n",
              "  .colab-df-quickchart {\n",
              "    background-color: var(--bg-color);\n",
              "    border: none;\n",
              "    border-radius: 50%;\n",
              "    cursor: pointer;\n",
              "    display: none;\n",
              "    fill: var(--fill-color);\n",
              "    height: 32px;\n",
              "    padding: 0;\n",
              "    width: 32px;\n",
              "  }\n",
              "\n",
              "  .colab-df-quickchart:hover {\n",
              "    background-color: var(--hover-bg-color);\n",
              "    box-shadow: 0 1px 2px rgba(60, 64, 67, 0.3), 0 1px 3px 1px rgba(60, 64, 67, 0.15);\n",
              "    fill: var(--button-hover-fill-color);\n",
              "  }\n",
              "\n",
              "  .colab-df-quickchart-complete:disabled,\n",
              "  .colab-df-quickchart-complete:disabled:hover {\n",
              "    background-color: var(--disabled-bg-color);\n",
              "    fill: var(--disabled-fill-color);\n",
              "    box-shadow: none;\n",
              "  }\n",
              "\n",
              "  .colab-df-spinner {\n",
              "    border: 2px solid var(--fill-color);\n",
              "    border-color: transparent;\n",
              "    border-bottom-color: var(--fill-color);\n",
              "    animation:\n",
              "      spin 1s steps(1) infinite;\n",
              "  }\n",
              "\n",
              "  @keyframes spin {\n",
              "    0% {\n",
              "      border-color: transparent;\n",
              "      border-bottom-color: var(--fill-color);\n",
              "      border-left-color: var(--fill-color);\n",
              "    }\n",
              "    20% {\n",
              "      border-color: transparent;\n",
              "      border-left-color: var(--fill-color);\n",
              "      border-top-color: var(--fill-color);\n",
              "    }\n",
              "    30% {\n",
              "      border-color: transparent;\n",
              "      border-left-color: var(--fill-color);\n",
              "      border-top-color: var(--fill-color);\n",
              "      border-right-color: var(--fill-color);\n",
              "    }\n",
              "    40% {\n",
              "      border-color: transparent;\n",
              "      border-right-color: var(--fill-color);\n",
              "      border-top-color: var(--fill-color);\n",
              "    }\n",
              "    60% {\n",
              "      border-color: transparent;\n",
              "      border-right-color: var(--fill-color);\n",
              "    }\n",
              "    80% {\n",
              "      border-color: transparent;\n",
              "      border-right-color: var(--fill-color);\n",
              "      border-bottom-color: var(--fill-color);\n",
              "    }\n",
              "    90% {\n",
              "      border-color: transparent;\n",
              "      border-bottom-color: var(--fill-color);\n",
              "    }\n",
              "  }\n",
              "</style>\n",
              "\n",
              "  <script>\n",
              "    async function quickchart(key) {\n",
              "      const quickchartButtonEl =\n",
              "        document.querySelector('#' + key + ' button');\n",
              "      quickchartButtonEl.disabled = true;  // To prevent multiple clicks.\n",
              "      quickchartButtonEl.classList.add('colab-df-spinner');\n",
              "      try {\n",
              "        const charts = await google.colab.kernel.invokeFunction(\n",
              "            'suggestCharts', [key], {});\n",
              "      } catch (error) {\n",
              "        console.error('Error during call to suggestCharts:', error);\n",
              "      }\n",
              "      quickchartButtonEl.classList.remove('colab-df-spinner');\n",
              "      quickchartButtonEl.classList.add('colab-df-quickchart-complete');\n",
              "    }\n",
              "    (() => {\n",
              "      let quickchartButtonEl =\n",
              "        document.querySelector('#df-26cba6fe-0ac9-4f1e-ab22-17d1bea77c6d button');\n",
              "      quickchartButtonEl.style.display =\n",
              "        google.colab.kernel.accessAllowed ? 'block' : 'none';\n",
              "    })();\n",
              "  </script>\n",
              "</div>\n",
              "\n",
              "    </div>\n",
              "  </div>\n"
            ],
            "application/vnd.google.colaboratory.intrinsic+json": {
              "type": "dataframe",
              "variable_name": "insurance_one_hot",
              "summary": "{\n  \"name\": \"insurance_one_hot\",\n  \"rows\": 1338,\n  \"fields\": [\n    {\n      \"column\": \"age\",\n      \"properties\": {\n        \"dtype\": \"number\",\n        \"std\": 14,\n        \"min\": 18,\n        \"max\": 64,\n        \"num_unique_values\": 47,\n        \"samples\": [\n          21,\n          45,\n          36\n        ],\n        \"semantic_type\": \"\",\n        \"description\": \"\"\n      }\n    },\n    {\n      \"column\": \"bmi\",\n      \"properties\": {\n        \"dtype\": \"number\",\n        \"std\": 6.098186911679014,\n        \"min\": 15.96,\n        \"max\": 53.13,\n        \"num_unique_values\": 548,\n        \"samples\": [\n          23.18,\n          26.885,\n          29.26\n        ],\n        \"semantic_type\": \"\",\n        \"description\": \"\"\n      }\n    },\n    {\n      \"column\": \"children\",\n      \"properties\": {\n        \"dtype\": \"number\",\n        \"std\": 1,\n        \"min\": 0,\n        \"max\": 5,\n        \"num_unique_values\": 6,\n        \"samples\": [\n          0,\n          1,\n          4\n        ],\n        \"semantic_type\": \"\",\n        \"description\": \"\"\n      }\n    },\n    {\n      \"column\": \"charges\",\n      \"properties\": {\n        \"dtype\": \"number\",\n        \"std\": 12110.011236694001,\n        \"min\": 1121.8739,\n        \"max\": 63770.42801,\n        \"num_unique_values\": 1337,\n        \"samples\": [\n          8688.85885,\n          5708.867,\n          11436.73815\n        ],\n        \"semantic_type\": \"\",\n        \"description\": \"\"\n      }\n    },\n    {\n      \"column\": \"sex_female\",\n      \"properties\": {\n        \"dtype\": \"number\",\n        \"std\": 0,\n        \"min\": 0,\n        \"max\": 1,\n        \"num_unique_values\": 2,\n        \"samples\": [\n          0,\n          1\n        ],\n        \"semantic_type\": \"\",\n        \"description\": \"\"\n      }\n    },\n    {\n      \"column\": \"sex_male\",\n      \"properties\": {\n        \"dtype\": \"number\",\n        \"std\": 0,\n        \"min\": 0,\n        \"max\": 1,\n        \"num_unique_values\": 2,\n        \"samples\": [\n          1,\n          0\n        ],\n        \"semantic_type\": \"\",\n        \"description\": \"\"\n      }\n    },\n    {\n      \"column\": \"smoker_no\",\n      \"properties\": {\n        \"dtype\": \"number\",\n        \"std\": 0,\n        \"min\": 0,\n        \"max\": 1,\n        \"num_unique_values\": 2,\n        \"samples\": [\n          1,\n          0\n        ],\n        \"semantic_type\": \"\",\n        \"description\": \"\"\n      }\n    },\n    {\n      \"column\": \"smoker_yes\",\n      \"properties\": {\n        \"dtype\": \"number\",\n        \"std\": 0,\n        \"min\": 0,\n        \"max\": 1,\n        \"num_unique_values\": 2,\n        \"samples\": [\n          0,\n          1\n        ],\n        \"semantic_type\": \"\",\n        \"description\": \"\"\n      }\n    },\n    {\n      \"column\": \"region_northeast\",\n      \"properties\": {\n        \"dtype\": \"number\",\n        \"std\": 0,\n        \"min\": 0,\n        \"max\": 1,\n        \"num_unique_values\": 2,\n        \"samples\": [\n          1,\n          0\n        ],\n        \"semantic_type\": \"\",\n        \"description\": \"\"\n      }\n    },\n    {\n      \"column\": \"region_northwest\",\n      \"properties\": {\n        \"dtype\": \"number\",\n        \"std\": 0,\n        \"min\": 0,\n        \"max\": 1,\n        \"num_unique_values\": 2,\n        \"samples\": [\n          1,\n          0\n        ],\n        \"semantic_type\": \"\",\n        \"description\": \"\"\n      }\n    },\n    {\n      \"column\": \"region_southeast\",\n      \"properties\": {\n        \"dtype\": \"number\",\n        \"std\": 0,\n        \"min\": 0,\n        \"max\": 1,\n        \"num_unique_values\": 2,\n        \"samples\": [\n          1,\n          0\n        ],\n        \"semantic_type\": \"\",\n        \"description\": \"\"\n      }\n    },\n    {\n      \"column\": \"region_southwest\",\n      \"properties\": {\n        \"dtype\": \"number\",\n        \"std\": 0,\n        \"min\": 0,\n        \"max\": 1,\n        \"num_unique_values\": 2,\n        \"samples\": [\n          0,\n          1\n        ],\n        \"semantic_type\": \"\",\n        \"description\": \"\"\n      }\n    }\n  ]\n}"
            }
          },
          "metadata": {},
          "execution_count": 72
        }
      ]
    },
    {
      "cell_type": "code",
      "source": [
        "# Create X and y values (features and labels)\n",
        "X = insurance_one_hot.drop(\"charges\", axis=1)\n",
        "y = insurance_one_hot[\"charges\"]\n",
        "\n",
        "# shape of X and y\n",
        "X.shape, y.shape"
      ],
      "metadata": {
        "colab": {
          "base_uri": "https://localhost:8080/"
        },
        "id": "Ij71GI-WYrOb",
        "outputId": "2fb06726-5ca9-4e50-fe00-474bebc09520"
      },
      "execution_count": 73,
      "outputs": [
        {
          "output_type": "execute_result",
          "data": {
            "text/plain": [
              "((1338, 11), (1338,))"
            ]
          },
          "metadata": {},
          "execution_count": 73
        }
      ]
    },
    {
      "cell_type": "code",
      "source": [
        "# splitting data into training and test sets\n",
        "from sklearn.model_selection import train_test_split\n",
        "X_train, X_test, y_train, y_test = train_test_split(X, y, test_size=0.2, random_state=42)\n",
        "X_train.shape, X_test.shape, y_train.shape, y_test.shape"
      ],
      "metadata": {
        "colab": {
          "base_uri": "https://localhost:8080/"
        },
        "id": "fS6ctMclZ9LE",
        "outputId": "6650102b-2c06-4890-c883-1568a3af6e3b"
      },
      "execution_count": 74,
      "outputs": [
        {
          "output_type": "execute_result",
          "data": {
            "text/plain": [
              "((1070, 11), (268, 11), (1070,), (268,))"
            ]
          },
          "metadata": {},
          "execution_count": 74
        }
      ]
    },
    {
      "cell_type": "code",
      "source": [
        "# set random seed\n",
        "tf.random.set_seed(42)\n",
        "\n",
        "# Create a Sequential model\n",
        "model_insurance = tf.keras.Sequential([\n",
        "    tf.keras.layers.Dense(10),\n",
        "    tf.keras.layers.Dense(1)\n",
        "])\n",
        "\n",
        "# compile the model\n",
        "model_insurance.compile(loss=tf.keras.losses.mae,\n",
        "              optimizer=tf.keras.optimizers.SGD(),\n",
        "              metrics=[\"mae\"])\n",
        "\n",
        "# fit training and test sets\n",
        "model_insurance.fit(X_train, y_train, epochs=100)"
      ],
      "metadata": {
        "colab": {
          "base_uri": "https://localhost:8080/"
        },
        "collapsed": true,
        "id": "tDkSZjM4lucW",
        "outputId": "34b495e1-085c-49c3-c33b-b5e7d170cd27"
      },
      "execution_count": 75,
      "outputs": [
        {
          "output_type": "stream",
          "name": "stdout",
          "text": [
            "Epoch 1/100\n",
            "34/34 [==============================] - 1s 3ms/step - loss: 8615.8135 - mae: 8615.8135\n",
            "Epoch 2/100\n",
            "34/34 [==============================] - 0s 3ms/step - loss: 7877.3540 - mae: 7877.3540\n",
            "Epoch 3/100\n",
            "34/34 [==============================] - 0s 3ms/step - loss: 7512.6519 - mae: 7512.6519\n",
            "Epoch 4/100\n",
            "34/34 [==============================] - 0s 3ms/step - loss: 7771.7002 - mae: 7771.7002\n",
            "Epoch 5/100\n",
            "34/34 [==============================] - 0s 4ms/step - loss: 7691.5645 - mae: 7691.5645\n",
            "Epoch 6/100\n",
            "34/34 [==============================] - 0s 3ms/step - loss: 7642.7554 - mae: 7642.7554\n",
            "Epoch 7/100\n",
            "34/34 [==============================] - 0s 5ms/step - loss: 7505.1646 - mae: 7505.1646\n",
            "Epoch 8/100\n",
            "34/34 [==============================] - 0s 6ms/step - loss: 7689.4492 - mae: 7689.4492\n",
            "Epoch 9/100\n",
            "34/34 [==============================] - 0s 5ms/step - loss: 7453.9126 - mae: 7453.9126\n",
            "Epoch 10/100\n",
            "34/34 [==============================] - 0s 5ms/step - loss: 7648.6724 - mae: 7648.6724\n",
            "Epoch 11/100\n",
            "34/34 [==============================] - 0s 5ms/step - loss: 7490.3608 - mae: 7490.3608\n",
            "Epoch 12/100\n",
            "34/34 [==============================] - 0s 4ms/step - loss: 7556.0923 - mae: 7556.0923\n",
            "Epoch 13/100\n",
            "34/34 [==============================] - 0s 4ms/step - loss: 7654.4375 - mae: 7654.4375\n",
            "Epoch 14/100\n",
            "34/34 [==============================] - 0s 4ms/step - loss: 7685.0488 - mae: 7685.0488\n",
            "Epoch 15/100\n",
            "34/34 [==============================] - 0s 4ms/step - loss: 7673.5708 - mae: 7673.5708\n",
            "Epoch 16/100\n",
            "34/34 [==============================] - 0s 3ms/step - loss: 7690.3560 - mae: 7690.3560\n",
            "Epoch 17/100\n",
            "34/34 [==============================] - 0s 3ms/step - loss: 7513.9067 - mae: 7513.9067\n",
            "Epoch 18/100\n",
            "34/34 [==============================] - 0s 3ms/step - loss: 7736.4565 - mae: 7736.4565\n",
            "Epoch 19/100\n",
            "34/34 [==============================] - 0s 4ms/step - loss: 7642.9199 - mae: 7642.9199\n",
            "Epoch 20/100\n",
            "34/34 [==============================] - 0s 3ms/step - loss: 7918.4531 - mae: 7918.4531\n",
            "Epoch 21/100\n",
            "34/34 [==============================] - 0s 3ms/step - loss: 7540.1323 - mae: 7540.1323\n",
            "Epoch 22/100\n",
            "34/34 [==============================] - 0s 4ms/step - loss: 7962.1675 - mae: 7962.1675\n",
            "Epoch 23/100\n",
            "34/34 [==============================] - 0s 4ms/step - loss: 7637.4478 - mae: 7637.4478\n",
            "Epoch 24/100\n",
            "34/34 [==============================] - 0s 4ms/step - loss: 7548.8540 - mae: 7548.8540\n",
            "Epoch 25/100\n",
            "34/34 [==============================] - 0s 4ms/step - loss: 7653.3667 - mae: 7653.3667\n",
            "Epoch 26/100\n",
            "34/34 [==============================] - 0s 3ms/step - loss: 7641.1167 - mae: 7641.1167\n",
            "Epoch 27/100\n",
            "34/34 [==============================] - 0s 3ms/step - loss: 7406.0649 - mae: 7406.0649\n",
            "Epoch 28/100\n",
            "34/34 [==============================] - 0s 4ms/step - loss: 7467.6006 - mae: 7467.6006\n",
            "Epoch 29/100\n",
            "34/34 [==============================] - 0s 4ms/step - loss: 7625.6572 - mae: 7625.6572\n",
            "Epoch 30/100\n",
            "34/34 [==============================] - 0s 6ms/step - loss: 7537.6572 - mae: 7537.6572\n",
            "Epoch 31/100\n",
            "34/34 [==============================] - 0s 4ms/step - loss: 7695.8159 - mae: 7695.8159\n",
            "Epoch 32/100\n",
            "34/34 [==============================] - 0s 4ms/step - loss: 7482.1084 - mae: 7482.1084\n",
            "Epoch 33/100\n",
            "34/34 [==============================] - 0s 4ms/step - loss: 7360.0596 - mae: 7360.0596\n",
            "Epoch 34/100\n",
            "34/34 [==============================] - 0s 4ms/step - loss: 7451.2988 - mae: 7451.2988\n",
            "Epoch 35/100\n",
            "34/34 [==============================] - 0s 4ms/step - loss: 7606.1499 - mae: 7606.1499\n",
            "Epoch 36/100\n",
            "34/34 [==============================] - 0s 4ms/step - loss: 7576.4224 - mae: 7576.4224\n",
            "Epoch 37/100\n",
            "34/34 [==============================] - 0s 7ms/step - loss: 7502.6235 - mae: 7502.6235\n",
            "Epoch 38/100\n",
            "34/34 [==============================] - 0s 6ms/step - loss: 7423.6670 - mae: 7423.6670\n",
            "Epoch 39/100\n",
            "34/34 [==============================] - 0s 5ms/step - loss: 7508.4932 - mae: 7508.4932\n",
            "Epoch 40/100\n",
            "34/34 [==============================] - 0s 2ms/step - loss: 7330.1138 - mae: 7330.1138\n",
            "Epoch 41/100\n",
            "34/34 [==============================] - 0s 2ms/step - loss: 7714.2222 - mae: 7714.2222\n",
            "Epoch 42/100\n",
            "34/34 [==============================] - 0s 2ms/step - loss: 7395.1904 - mae: 7395.1904\n",
            "Epoch 43/100\n",
            "34/34 [==============================] - 0s 2ms/step - loss: 7699.6577 - mae: 7699.6577\n",
            "Epoch 44/100\n",
            "34/34 [==============================] - 0s 2ms/step - loss: 7297.7505 - mae: 7297.7505\n",
            "Epoch 45/100\n",
            "34/34 [==============================] - 0s 2ms/step - loss: 7459.6587 - mae: 7459.6587\n",
            "Epoch 46/100\n",
            "34/34 [==============================] - 0s 2ms/step - loss: 7457.2227 - mae: 7457.2227\n",
            "Epoch 47/100\n",
            "34/34 [==============================] - 0s 2ms/step - loss: 7575.7881 - mae: 7575.7881\n",
            "Epoch 48/100\n",
            "34/34 [==============================] - 0s 2ms/step - loss: 7176.9238 - mae: 7176.9238\n",
            "Epoch 49/100\n",
            "34/34 [==============================] - 0s 2ms/step - loss: 7491.6880 - mae: 7491.6880\n",
            "Epoch 50/100\n",
            "34/34 [==============================] - 0s 2ms/step - loss: 7493.0981 - mae: 7493.0981\n",
            "Epoch 51/100\n",
            "34/34 [==============================] - 0s 2ms/step - loss: 7404.7886 - mae: 7404.7886\n",
            "Epoch 52/100\n",
            "34/34 [==============================] - 0s 2ms/step - loss: 7589.2974 - mae: 7589.2974\n",
            "Epoch 53/100\n",
            "34/34 [==============================] - 0s 2ms/step - loss: 7504.7227 - mae: 7504.7227\n",
            "Epoch 54/100\n",
            "34/34 [==============================] - 0s 2ms/step - loss: 7217.6313 - mae: 7217.6313\n",
            "Epoch 55/100\n",
            "34/34 [==============================] - 0s 3ms/step - loss: 7338.3364 - mae: 7338.3364\n",
            "Epoch 56/100\n",
            "34/34 [==============================] - 0s 4ms/step - loss: 7288.0864 - mae: 7288.0864\n",
            "Epoch 57/100\n",
            "34/34 [==============================] - 0s 4ms/step - loss: 7485.2417 - mae: 7485.2417\n",
            "Epoch 58/100\n",
            "34/34 [==============================] - 0s 4ms/step - loss: 7218.4512 - mae: 7218.4512\n",
            "Epoch 59/100\n",
            "34/34 [==============================] - 0s 4ms/step - loss: 7573.2256 - mae: 7573.2256\n",
            "Epoch 60/100\n",
            "34/34 [==============================] - 0s 2ms/step - loss: 7473.3188 - mae: 7473.3188\n",
            "Epoch 61/100\n",
            "34/34 [==============================] - 0s 2ms/step - loss: 7475.7373 - mae: 7475.7373\n",
            "Epoch 62/100\n",
            "34/34 [==============================] - 0s 2ms/step - loss: 7483.7739 - mae: 7483.7739\n",
            "Epoch 63/100\n",
            "34/34 [==============================] - 0s 2ms/step - loss: 7431.4473 - mae: 7431.4473\n",
            "Epoch 64/100\n",
            "34/34 [==============================] - 0s 4ms/step - loss: 7415.6626 - mae: 7415.6626\n",
            "Epoch 65/100\n",
            "34/34 [==============================] - 0s 3ms/step - loss: 7636.0703 - mae: 7636.0703\n",
            "Epoch 66/100\n",
            "34/34 [==============================] - 0s 3ms/step - loss: 7268.5020 - mae: 7268.5020\n",
            "Epoch 67/100\n",
            "34/34 [==============================] - 0s 4ms/step - loss: 7333.1606 - mae: 7333.1606\n",
            "Epoch 68/100\n",
            "34/34 [==============================] - 0s 3ms/step - loss: 7526.9541 - mae: 7526.9541\n",
            "Epoch 69/100\n",
            "34/34 [==============================] - 0s 2ms/step - loss: 7571.3687 - mae: 7571.3687\n",
            "Epoch 70/100\n",
            "34/34 [==============================] - 0s 3ms/step - loss: 7475.2759 - mae: 7475.2759\n",
            "Epoch 71/100\n",
            "34/34 [==============================] - 0s 3ms/step - loss: 7354.8618 - mae: 7354.8618\n",
            "Epoch 72/100\n",
            "34/34 [==============================] - 0s 2ms/step - loss: 7309.2446 - mae: 7309.2446\n",
            "Epoch 73/100\n",
            "34/34 [==============================] - 0s 2ms/step - loss: 7363.2134 - mae: 7363.2134\n",
            "Epoch 74/100\n",
            "34/34 [==============================] - 0s 2ms/step - loss: 7401.5522 - mae: 7401.5522\n",
            "Epoch 75/100\n",
            "34/34 [==============================] - 0s 2ms/step - loss: 7271.0195 - mae: 7271.0195\n",
            "Epoch 76/100\n",
            "34/34 [==============================] - 0s 2ms/step - loss: 7268.1382 - mae: 7268.1382\n",
            "Epoch 77/100\n",
            "34/34 [==============================] - 0s 2ms/step - loss: 7432.0728 - mae: 7432.0728\n",
            "Epoch 78/100\n",
            "34/34 [==============================] - 0s 2ms/step - loss: 7035.2534 - mae: 7035.2534\n",
            "Epoch 79/100\n",
            "34/34 [==============================] - 0s 2ms/step - loss: 7496.3159 - mae: 7496.3159\n",
            "Epoch 80/100\n",
            "34/34 [==============================] - 0s 2ms/step - loss: 7182.3457 - mae: 7182.3457\n",
            "Epoch 81/100\n",
            "34/34 [==============================] - 0s 2ms/step - loss: 7151.8110 - mae: 7151.8110\n",
            "Epoch 82/100\n",
            "34/34 [==============================] - 0s 2ms/step - loss: 7217.1079 - mae: 7217.1079\n",
            "Epoch 83/100\n",
            "34/34 [==============================] - 0s 2ms/step - loss: 7314.1265 - mae: 7314.1265\n",
            "Epoch 84/100\n",
            "34/34 [==============================] - 0s 2ms/step - loss: 7292.3496 - mae: 7292.3496\n",
            "Epoch 85/100\n",
            "34/34 [==============================] - 0s 2ms/step - loss: 7647.4692 - mae: 7647.4692\n",
            "Epoch 86/100\n",
            "34/34 [==============================] - 0s 3ms/step - loss: 7401.7095 - mae: 7401.7095\n",
            "Epoch 87/100\n",
            "34/34 [==============================] - 0s 3ms/step - loss: 7290.3086 - mae: 7290.3086\n",
            "Epoch 88/100\n",
            "34/34 [==============================] - 0s 2ms/step - loss: 7395.7705 - mae: 7395.7705\n",
            "Epoch 89/100\n",
            "34/34 [==============================] - 0s 2ms/step - loss: 7464.1768 - mae: 7464.1768\n",
            "Epoch 90/100\n",
            "34/34 [==============================] - 0s 2ms/step - loss: 7145.6470 - mae: 7145.6470\n",
            "Epoch 91/100\n",
            "34/34 [==============================] - 0s 2ms/step - loss: 7246.1079 - mae: 7246.1079\n",
            "Epoch 92/100\n",
            "34/34 [==============================] - 0s 2ms/step - loss: 7317.3711 - mae: 7317.3711\n",
            "Epoch 93/100\n",
            "34/34 [==============================] - 0s 2ms/step - loss: 7474.6084 - mae: 7474.6084\n",
            "Epoch 94/100\n",
            "34/34 [==============================] - 0s 2ms/step - loss: 7380.6636 - mae: 7380.6636\n",
            "Epoch 95/100\n",
            "34/34 [==============================] - 0s 2ms/step - loss: 7452.6797 - mae: 7452.6797\n",
            "Epoch 96/100\n",
            "34/34 [==============================] - 0s 2ms/step - loss: 7258.4946 - mae: 7258.4946\n",
            "Epoch 97/100\n",
            "34/34 [==============================] - 0s 3ms/step - loss: 7167.0952 - mae: 7167.0952\n",
            "Epoch 98/100\n",
            "34/34 [==============================] - 0s 3ms/step - loss: 7470.0386 - mae: 7470.0386\n",
            "Epoch 99/100\n",
            "34/34 [==============================] - 0s 3ms/step - loss: 7320.0693 - mae: 7320.0693\n",
            "Epoch 100/100\n",
            "34/34 [==============================] - 0s 3ms/step - loss: 7113.4609 - mae: 7113.4609\n"
          ]
        },
        {
          "output_type": "execute_result",
          "data": {
            "text/plain": [
              "<keras.src.callbacks.History at 0x7b72d2685840>"
            ]
          },
          "metadata": {},
          "execution_count": 75
        }
      ]
    },
    {
      "cell_type": "code",
      "source": [
        "# check the results of the insurance model on the test data\n",
        "model_insurance.evaluate(X_test, y_test)"
      ],
      "metadata": {
        "colab": {
          "base_uri": "https://localhost:8080/"
        },
        "id": "WE-1jX4An0OD",
        "outputId": "7d95ce91-5713-4e84-927b-2e59321f1825"
      },
      "execution_count": 76,
      "outputs": [
        {
          "output_type": "stream",
          "name": "stdout",
          "text": [
            "9/9 [==============================] - 0s 4ms/step - loss: 8727.6006 - mae: 8727.6006\n"
          ]
        },
        {
          "output_type": "execute_result",
          "data": {
            "text/plain": [
              "[8727.6005859375, 8727.6005859375]"
            ]
          },
          "metadata": {},
          "execution_count": 76
        }
      ]
    },
    {
      "cell_type": "markdown",
      "source": [
        "So our model isn't performing well, let's try to improve it!"
      ],
      "metadata": {
        "id": "s0iD7R3ZqqRQ"
      }
    },
    {
      "cell_type": "code",
      "source": [
        "# set random seed\n",
        "tf.random.set_seed(42)\n",
        "\n",
        "# Create a Sequential model\n",
        "model_insurance2 = tf.keras.Sequential([\n",
        "    tf.keras.layers.Dense(10, activation=\"relu\"),\n",
        "    tf.keras.layers.Dense(1)\n",
        "])\n",
        "\n",
        "# compile the model\n",
        "model_insurance2.compile(loss=tf.keras.losses.mae,\n",
        "              optimizer=tf.keras.optimizers.Adam(learning_rate=0.1),\n",
        "              metrics=[\"mae\"])\n",
        "\n",
        "# fit training and test sets\n",
        "insurance_model_history = model_insurance2.fit(X_train, y_train, epochs=200, verbose=0)"
      ],
      "metadata": {
        "collapsed": true,
        "id": "_OKmML00qpqR"
      },
      "execution_count": 77,
      "outputs": []
    },
    {
      "cell_type": "code",
      "source": [
        "model_insurance2.evaluate(X_test, y_test)"
      ],
      "metadata": {
        "colab": {
          "base_uri": "https://localhost:8080/"
        },
        "id": "mxlr5-VIph0r",
        "outputId": "c27919d9-f80c-4a8b-9e68-fd80899e2c7b"
      },
      "execution_count": 78,
      "outputs": [
        {
          "output_type": "stream",
          "name": "stdout",
          "text": [
            "9/9 [==============================] - 0s 3ms/step - loss: 2922.1826 - mae: 2922.1826\n"
          ]
        },
        {
          "output_type": "execute_result",
          "data": {
            "text/plain": [
              "[2922.1826171875, 2922.1826171875]"
            ]
          },
          "metadata": {},
          "execution_count": 78
        }
      ]
    },
    {
      "cell_type": "markdown",
      "source": [
        "Much better when compared to previous model.\n",
        "\n",
        "> 🔑 **Note:** The [Adam optimizer](https://www.tensorflow.org/api_docs/python/tf/keras/optimizers/Adam) is a great starting choice. See Andrei Karpathy's \"Adam is safe\" point from [*A Recipe for Training Neural Networks*](http://karpathy.github.io/2019/04/25/recipe/) for more.\n",
        "\n",
        "Let's check out the loss curves of our model, we should see a downward trend."
      ],
      "metadata": {
        "id": "QJ61oLX4uJ4P"
      }
    },
    {
      "cell_type": "code",
      "source": [
        "# plot history (also known as loss curve)\n",
        "pd.DataFrame(insurance_model_history.history).plot()\n",
        "plt.ylabel(\"loss\")\n",
        "plt.xlabel(\"epochs\");"
      ],
      "metadata": {
        "colab": {
          "base_uri": "https://localhost:8080/",
          "height": 449
        },
        "id": "GtxAzX8gsc5I",
        "outputId": "87a47134-feb0-4fa2-fc5c-cdbf58efbb87"
      },
      "execution_count": 79,
      "outputs": [
        {
          "output_type": "display_data",
          "data": {
            "text/plain": [
              "<Figure size 640x480 with 1 Axes>"
            ],
            "image/png": "[encoded data removed]"
          },
          "metadata": {}
        }
      ]
    },
    {
      "cell_type": "markdown",
      "source": [
        "From this, it looks like our model's loss (and MAE) were both still decreasing (in our case, MAE and loss are the same, hence the lines in the plot overlap eachother).\n",
        "\n",
        "What this tells us is the loss might go down if we try training it for longer.\n",
        "\n",
        "> 🤔 **Question:** How long should you train for?\n",
        "\n",
        "> It depends on what problem we're working on. Sometimes training won't take very long, other times it'll take longer than we expect. A common method is to set your model training for a very long time (e.g. 1000's of epochs) but set it up with an [EarlyStopping callback](https://www.tensorflow.org/api_docs/python/tf/keras/callbacks/EarlyStopping) so it stops automatically when it stops improving.\n",
        "\n",
        "Let's train the same model as above for a little longer. We can do this but calling fit on it again."
      ],
      "metadata": {
        "id": "_1wz6S4EvGWB"
      }
    },
    {
      "cell_type": "code",
      "source": [
        "history_2 = model_insurance2.fit(X_train, y_train, epochs=100, verbose=0)"
      ],
      "metadata": {
        "id": "sfb72WaOvDVi"
      },
      "execution_count": 80,
      "outputs": []
    },
    {
      "cell_type": "code",
      "source": [
        "# Evaluate the model trained for 200 total epochs\n",
        "model_insurance2_loss, model_insurance2_mae = model_insurance2.evaluate(X_test, y_test)\n",
        "model_insurance2_loss, model_insurance2_mae"
      ],
      "metadata": {
        "colab": {
          "base_uri": "https://localhost:8080/"
        },
        "id": "EkBdijK8vyBL",
        "outputId": "a9a844bc-9993-44e2-96db-3fa304b71e15"
      },
      "execution_count": 81,
      "outputs": [
        {
          "output_type": "stream",
          "name": "stdout",
          "text": [
            "9/9 [==============================] - 0s 2ms/step - loss: 2893.0132 - mae: 2893.0132\n"
          ]
        },
        {
          "output_type": "execute_result",
          "data": {
            "text/plain": [
              "(2893.01318359375, 2893.01318359375)"
            ]
          },
          "metadata": {},
          "execution_count": 81
        }
      ]
    },
    {
      "cell_type": "markdown",
      "source": [
        " Training for an extra 100 epochs we see about a 10% decrease in error."
      ],
      "metadata": {
        "id": "l8_joP8NwbAs"
      }
    },
    {
      "cell_type": "code",
      "source": [
        "# plot history (also known as loss curve)\n",
        "pd.DataFrame(history_2.history).plot()\n",
        "plt.ylabel(\"loss\")\n",
        "plt.xlabel(\"epochs\");"
      ],
      "metadata": {
        "colab": {
          "base_uri": "https://localhost:8080/",
          "height": 449
        },
        "id": "3EPn4uwlwo-z",
        "outputId": "f5677f2a-fb3d-41ca-a81d-9073a4ac8009"
      },
      "execution_count": 82,
      "outputs": [
        {
          "output_type": "display_data",
          "data": {
            "text/plain": [
              "<Figure size 640x480 with 1 Axes>"
            ],
            "image/png": "[encoded data removed]"
          },
          "metadata": {}
        }
      ]
    },
    {
      "cell_type": "markdown",
      "source": [
        "# Preprocessing data (normalization and Standardization)\n",
        "\n",
        "A common practice when working with neural networks is to make sure all of the data we pass to them is in the range of 0 to 1.\n",
        "\n",
        "This practice is called **normalization** (scaling all values from their original range, such as between 0 and 100,000, to be between 0 and 1).\n",
        "\n",
        "There is another process called **standardization**, which converts all of the data to unit variance and a mean of 0.\n",
        "\n",
        "These two practices are often part of a preprocessing pipeline (a series of functions to prepare data for use with neural networks).\n",
        "\n",
        "Knowing this, some of the major steps we'll take to preprocess data for a neural network include:\n",
        "* Turning all data into numbers (a neural network can't handle strings).\n",
        "* Making sure data is in the right shape (verifying input and output shapes).\n",
        "* [**Feature scaling**](https://scikit-learn.org/stable/modules/preprocessing.html#preprocessing-scaler):\n",
        "    * Normalizing data (making sure all values are between 0 and 1). This is done by subtracting the minimum value and then dividing by the maximum value minus the minimum. This is also referred to as min-max scaling.\n",
        "    * Standardizing data (making sure all values have a mean of 0 and a variance of 1). This is done by subtracting the mean value from the target feature and then dividing it by the standard deviation.\n",
        "    * Which one should we use?\n",
        "      * **With neural networks, we should tend to favor normalization** as they usually perform better with values between 0 and 1 (this is especially true with image processing). However, neural networks can often perform well with minimal feature scaling.\n",
        "\n",
        "> 📖 **Resource:** For more on preprocessing data, reading the following resources:\n",
        "* [Scikit-Learn's documentation on preprocessing data](https://scikit-learn.org/stable/modules/preprocessing.html#preprocessing-data).\n",
        "* [Scale, Standardize or Normalize with Scikit-Learn by Jeff Hale](https://towardsdatascience.com/scale-standardize-or-normalize-with-scikit-learn-6ccc7d176a02).\n",
        "\n",
        "We've already turned data into numbers using `get_dummies()`, now we'll see how to normalize it as well.\n"
      ],
      "metadata": {
        "id": "4NzhnSLVfICf"
      }
    },
    {
      "cell_type": "code",
      "source": [
        "import pandas as pd\n",
        "import numpy as np\n",
        "import tensorflow as tf\n",
        "\n",
        "# Read the insurance dataset\n",
        "insurance = pd.read_csv(\"https://raw.githubusercontent.com/stedy/Machine-Learning-with-R-datasets/master/insurance.csv\")"
      ],
      "metadata": {
        "id": "Tbr5MelMf9ef"
      },
      "execution_count": 83,
      "outputs": []
    },
    {
      "cell_type": "code",
      "source": [
        "# check out the data\n",
        "insurance.head()"
      ],
      "metadata": {
        "colab": {
          "base_uri": "https://localhost:8080/",
          "height": 206
        },
        "id": "GLGx1RMbiZv8",
        "outputId": "34d8c558-93a7-46e8-8c8a-db1368b116a6"
      },
      "execution_count": 84,
      "outputs": [
        {
          "output_type": "execute_result",
          "data": {
            "text/plain": [
              "   age     sex     bmi  children smoker     region      charges\n",
              "0   19  female  27.900         0    yes  southwest  16884.92400\n",
              "1   18    male  33.770         1     no  southeast   1725.55230\n",
              "2   28    male  33.000         3     no  southeast   4449.46200\n",
              "3   33    male  22.705         0     no  northwest  21984.47061\n",
              "4   32    male  28.880         0     no  northwest   3866.85520"
            ],
            "text/html": [
              "\n",
              "  <div id=\"df-309e2fe7-2c30-4e46-a9fe-7c9ca64749e3\" class=\"colab-df-container\">\n",
              "    <div>\n",
              "<style scoped>\n",
              "    .dataframe tbody tr th:only-of-type {\n",
              "        vertical-align: middle;\n",
              "    }\n",
              "\n",
              "    .dataframe tbody tr th {\n",
              "        vertical-align: top;\n",
              "    }\n",
              "\n",
              "    .dataframe thead th {\n",
              "        text-align: right;\n",
              "    }\n",
              "</style>\n",
              "<table border=\"1\" class=\"dataframe\">\n",
              "  <thead>\n",
              "    <tr style=\"text-align: right;\">\n",
              "      <th></th>\n",
              "      <th>age</th>\n",
              "      <th>sex</th>\n",
              "      <th>bmi</th>\n",
              "      <th>children</th>\n",
              "      <th>smoker</th>\n",
              "      <th>region</th>\n",
              "      <th>charges</th>\n",
              "    </tr>\n",
              "  </thead>\n",
              "  <tbody>\n",
              "    <tr>\n",
              "      <th>0</th>\n",
              "      <td>19</td>\n",
              "      <td>female</td>\n",
              "      <td>27.900</td>\n",
              "      <td>0</td>\n",
              "      <td>yes</td>\n",
              "      <td>southwest</td>\n",
              "      <td>16884.92400</td>\n",
              "    </tr>\n",
              "    <tr>\n",
              "      <th>1</th>\n",
              "      <td>18</td>\n",
              "      <td>male</td>\n",
              "      <td>33.770</td>\n",
              "      <td>1</td>\n",
              "      <td>no</td>\n",
              "      <td>southeast</td>\n",
              "      <td>1725.55230</td>\n",
              "    </tr>\n",
              "    <tr>\n",
              "      <th>2</th>\n",
              "      <td>28</td>\n",
              "      <td>male</td>\n",
              "      <td>33.000</td>\n",
              "      <td>3</td>\n",
              "      <td>no</td>\n",
              "      <td>southeast</td>\n",
              "      <td>4449.46200</td>\n",
              "    </tr>\n",
              "    <tr>\n",
              "      <th>3</th>\n",
              "      <td>33</td>\n",
              "      <td>male</td>\n",
              "      <td>22.705</td>\n",
              "      <td>0</td>\n",
              "      <td>no</td>\n",
              "      <td>northwest</td>\n",
              "      <td>21984.47061</td>\n",
              "    </tr>\n",
              "    <tr>\n",
              "      <th>4</th>\n",
              "      <td>32</td>\n",
              "      <td>male</td>\n",
              "      <td>28.880</td>\n",
              "      <td>0</td>\n",
              "      <td>no</td>\n",
              "      <td>northwest</td>\n",
              "      <td>3866.85520</td>\n",
              "    </tr>\n",
              "  </tbody>\n",
              "</table>\n",
              "</div>\n",
              "    <div class=\"colab-df-buttons\">\n",
              "\n",
              "  <div class=\"colab-df-container\">\n",
              "    <button class=\"colab-df-convert\" onclick=\"convertToInteractive('df-309e2fe7-2c30-4e46-a9fe-7c9ca64749e3')\"\n",
              "            title=\"Convert this dataframe to an interactive table.\"\n",
              "            style=\"display:none;\">\n",
              "\n",
              "  <svg xmlns=\"http://www.w3.org/2000/svg\" height=\"24px\" viewBox=\"0 -960 960 960\">\n",
              "    <path d=\"M120-120v-720h720v720H120Zm60-500h600v-160H180v160Zm220 220h160v-160H400v160Zm0 220h160v-160H400v160ZM180-400h160v-160H180v160Zm440 0h160v-160H620v160ZM180-180h160v-160H180v160Zm440 0h160v-160H620v160Z\"/>\n",
              "  </svg>\n",
              "    </button>\n",
              "\n",
              "  <style>\n",
              "    .colab-df-container {\n",
              "      display:flex;\n",
              "      gap: 12px;\n",
              "    }\n",
              "\n",
              "    .colab-df-convert {\n",
              "      background-color: #E8F0FE;\n",
              "      border: none;\n",
              "      border-radius: 50%;\n",
              "      cursor: pointer;\n",
              "      display: none;\n",
              "      fill: #1967D2;\n",
              "      height: 32px;\n",
              "      padding: 0 0 0 0;\n",
              "      width: 32px;\n",
              "    }\n",
              "\n",
              "    .colab-df-convert:hover {\n",
              "      background-color: #E2EBFA;\n",
              "      box-shadow: 0px 1px 2px rgba(60, 64, 67, 0.3), 0px 1px 3px 1px rgba(60, 64, 67, 0.15);\n",
              "      fill: #174EA6;\n",
              "    }\n",
              "\n",
              "    .colab-df-buttons div {\n",
              "      margin-bottom: 4px;\n",
              "    }\n",
              "\n",
              "    [theme=dark] .colab-df-convert {\n",
              "      background-color: #3B4455;\n",
              "      fill: #D2E3FC;\n",
              "    }\n",
              "\n",
              "    [theme=dark] .colab-df-convert:hover {\n",
              "      background-color: #434B5C;\n",
              "      box-shadow: 0px 1px 3px 1px rgba(0, 0, 0, 0.15);\n",
              "      filter: drop-shadow(0px 1px 2px rgba(0, 0, 0, 0.3));\n",
              "      fill: #FFFFFF;\n",
              "    }\n",
              "  </style>\n",
              "\n",
              "    <script>\n",
              "      const buttonEl =\n",
              "        document.querySelector('#df-309e2fe7-2c30-4e46-a9fe-7c9ca64749e3 button.colab-df-convert');\n",
              "      buttonEl.style.display =\n",
              "        google.colab.kernel.accessAllowed ? 'block' : 'none';\n",
              "\n",
              "      async function convertToInteractive(key) {\n",
              "        const element = document.querySelector('#df-309e2fe7-2c30-4e46-a9fe-7c9ca64749e3');\n",
              "        const dataTable =\n",
              "          await google.colab.kernel.invokeFunction('convertToInteractive',\n",
              "                                                    [key], {});\n",
              "        if (!dataTable) return;\n",
              "\n",
              "        const docLinkHtml = 'Like what you see? Visit the ' +\n",
              "          '<a target=\"_blank\" href=https://colab.research.google.com/notebooks/data_table.ipynb>data table notebook</a>'\n",
              "          + ' to learn more about interactive tables.';\n",
              "        element.innerHTML = '';\n",
              "        dataTable['output_type'] = 'display_data';\n",
              "        await google.colab.output.renderOutput(dataTable, element);\n",
              "        const docLink = document.createElement('div');\n",
              "        docLink.innerHTML = docLinkHtml;\n",
              "        element.appendChild(docLink);\n",
              "      }\n",
              "    </script>\n",
              "  </div>\n",
              "\n",
              "\n",
              "<div id=\"df-3293cb5f-9954-4b98-910b-cb2e0ee1b171\">\n",
              "  <button class=\"colab-df-quickchart\" onclick=\"quickchart('df-3293cb5f-9954-4b98-910b-cb2e0ee1b171')\"\n",
              "            title=\"Suggest charts\"\n",
              "            style=\"display:none;\">\n",
              "\n",
              "<svg xmlns=\"http://www.w3.org/2000/svg\" height=\"24px\"viewBox=\"0 0 24 24\"\n",
              "     width=\"24px\">\n",
              "    <g>\n",
              "        <path d=\"M19 3H5c-1.1 0-2 .9-2 2v14c0 1.1.9 2 2 2h14c1.1 0 2-.9 2-2V5c0-1.1-.9-2-2-2zM9 17H7v-7h2v7zm4 0h-2V7h2v10zm4 0h-2v-4h2v4z\"/>\n",
              "    </g>\n",
              "</svg>\n",
              "  </button>\n",
              "\n",
              "<style>\n",
              "  .colab-df-quickchart {\n",
              "      --bg-color: #E8F0FE;\n",
              "      --fill-color: #1967D2;\n",
              "      --hover-bg-color: #E2EBFA;\n",
              "      --hover-fill-color: #174EA6;\n",
              "      --disabled-fill-color: #AAA;\n",
              "      --disabled-bg-color: #DDD;\n",
              "  }\n",
              "\n",
              "  [theme=dark] .colab-df-quickchart {\n",
              "      --bg-color: #3B4455;\n",
              "      --fill-color: #D2E3FC;\n",
              "      --hover-bg-color: #434B5C;\n",
              "      --hover-fill-color: #FFFFFF;\n",
              "      --disabled-bg-color: #3B4455;\n",
              "      --disabled-fill-color: #666;\n",
              "  }\n",
              "\n",
              "  .colab-df-quickchart {\n",
              "    background-color: var(--bg-color);\n",
              "    border: none;\n",
              "    border-radius: 50%;\n",
              "    cursor: pointer;\n",
              "    display: none;\n",
              "    fill: var(--fill-color);\n",
              "    height: 32px;\n",
              "    padding: 0;\n",
              "    width: 32px;\n",
              "  }\n",
              "\n",
              "  .colab-df-quickchart:hover {\n",
              "    background-color: var(--hover-bg-color);\n",
              "    box-shadow: 0 1px 2px rgba(60, 64, 67, 0.3), 0 1px 3px 1px rgba(60, 64, 67, 0.15);\n",
              "    fill: var(--button-hover-fill-color);\n",
              "  }\n",
              "\n",
              "  .colab-df-quickchart-complete:disabled,\n",
              "  .colab-df-quickchart-complete:disabled:hover {\n",
              "    background-color: var(--disabled-bg-color);\n",
              "    fill: var(--disabled-fill-color);\n",
              "    box-shadow: none;\n",
              "  }\n",
              "\n",
              "  .colab-df-spinner {\n",
              "    border: 2px solid var(--fill-color);\n",
              "    border-color: transparent;\n",
              "    border-bottom-color: var(--fill-color);\n",
              "    animation:\n",
              "      spin 1s steps(1) infinite;\n",
              "  }\n",
              "\n",
              "  @keyframes spin {\n",
              "    0% {\n",
              "      border-color: transparent;\n",
              "      border-bottom-color: var(--fill-color);\n",
              "      border-left-color: var(--fill-color);\n",
              "    }\n",
              "    20% {\n",
              "      border-color: transparent;\n",
              "      border-left-color: var(--fill-color);\n",
              "      border-top-color: var(--fill-color);\n",
              "    }\n",
              "    30% {\n",
              "      border-color: transparent;\n",
              "      border-left-color: var(--fill-color);\n",
              "      border-top-color: var(--fill-color);\n",
              "      border-right-color: var(--fill-color);\n",
              "    }\n",
              "    40% {\n",
              "      border-color: transparent;\n",
              "      border-right-color: var(--fill-color);\n",
              "      border-top-color: var(--fill-color);\n",
              "    }\n",
              "    60% {\n",
              "      border-color: transparent;\n",
              "      border-right-color: var(--fill-color);\n",
              "    }\n",
              "    80% {\n",
              "      border-color: transparent;\n",
              "      border-right-color: var(--fill-color);\n",
              "      border-bottom-color: var(--fill-color);\n",
              "    }\n",
              "    90% {\n",
              "      border-color: transparent;\n",
              "      border-bottom-color: var(--fill-color);\n",
              "    }\n",
              "  }\n",
              "</style>\n",
              "\n",
              "  <script>\n",
              "    async function quickchart(key) {\n",
              "      const quickchartButtonEl =\n",
              "        document.querySelector('#' + key + ' button');\n",
              "      quickchartButtonEl.disabled = true;  // To prevent multiple clicks.\n",
              "      quickchartButtonEl.classList.add('colab-df-spinner');\n",
              "      try {\n",
              "        const charts = await google.colab.kernel.invokeFunction(\n",
              "            'suggestCharts', [key], {});\n",
              "      } catch (error) {\n",
              "        console.error('Error during call to suggestCharts:', error);\n",
              "      }\n",
              "      quickchartButtonEl.classList.remove('colab-df-spinner');\n",
              "      quickchartButtonEl.classList.add('colab-df-quickchart-complete');\n",
              "    }\n",
              "    (() => {\n",
              "      let quickchartButtonEl =\n",
              "        document.querySelector('#df-3293cb5f-9954-4b98-910b-cb2e0ee1b171 button');\n",
              "      quickchartButtonEl.style.display =\n",
              "        google.colab.kernel.accessAllowed ? 'block' : 'none';\n",
              "    })();\n",
              "  </script>\n",
              "</div>\n",
              "\n",
              "    </div>\n",
              "  </div>\n"
            ],
            "application/vnd.google.colaboratory.intrinsic+json": {
              "type": "dataframe",
              "variable_name": "insurance",
              "summary": "{\n  \"name\": \"insurance\",\n  \"rows\": 1338,\n  \"fields\": [\n    {\n      \"column\": \"age\",\n      \"properties\": {\n        \"dtype\": \"number\",\n        \"std\": 14,\n        \"min\": 18,\n        \"max\": 64,\n        \"num_unique_values\": 47,\n        \"samples\": [\n          21,\n          45,\n          36\n        ],\n        \"semantic_type\": \"\",\n        \"description\": \"\"\n      }\n    },\n    {\n      \"column\": \"sex\",\n      \"properties\": {\n        \"dtype\": \"category\",\n        \"num_unique_values\": 2,\n        \"samples\": [\n          \"male\",\n          \"female\"\n        ],\n        \"semantic_type\": \"\",\n        \"description\": \"\"\n      }\n    },\n    {\n      \"column\": \"bmi\",\n      \"properties\": {\n        \"dtype\": \"number\",\n        \"std\": 6.098186911679014,\n        \"min\": 15.96,\n        \"max\": 53.13,\n        \"num_unique_values\": 548,\n        \"samples\": [\n          23.18,\n          26.885\n        ],\n        \"semantic_type\": \"\",\n        \"description\": \"\"\n      }\n    },\n    {\n      \"column\": \"children\",\n      \"properties\": {\n        \"dtype\": \"number\",\n        \"std\": 1,\n        \"min\": 0,\n        \"max\": 5,\n        \"num_unique_values\": 6,\n        \"samples\": [\n          0,\n          1\n        ],\n        \"semantic_type\": \"\",\n        \"description\": \"\"\n      }\n    },\n    {\n      \"column\": \"smoker\",\n      \"properties\": {\n        \"dtype\": \"category\",\n        \"num_unique_values\": 2,\n        \"samples\": [\n          \"no\",\n          \"yes\"\n        ],\n        \"semantic_type\": \"\",\n        \"description\": \"\"\n      }\n    },\n    {\n      \"column\": \"region\",\n      \"properties\": {\n        \"dtype\": \"category\",\n        \"num_unique_values\": 4,\n        \"samples\": [\n          \"southeast\",\n          \"northeast\"\n        ],\n        \"semantic_type\": \"\",\n        \"description\": \"\"\n      }\n    },\n    {\n      \"column\": \"charges\",\n      \"properties\": {\n        \"dtype\": \"number\",\n        \"std\": 12110.011236694001,\n        \"min\": 1121.8739,\n        \"max\": 63770.42801,\n        \"num_unique_values\": 1337,\n        \"samples\": [\n          8688.85885,\n          5708.867\n        ],\n        \"semantic_type\": \"\",\n        \"description\": \"\"\n      }\n    }\n  ]\n}"
            }
          },
          "metadata": {},
          "execution_count": 84
        }
      ]
    },
    {
      "cell_type": "code",
      "source": [
        "# preprocessing using sklearn\n",
        "from sklearn.compose import make_column_transformer\n",
        "from sklearn.model_selection import train_test_split\n",
        "from sklearn.preprocessing import MinMaxScaler, OneHotEncoder\n",
        "\n",
        "ct = make_column_transformer(\n",
        "    (MinMaxScaler(), [\"age\",\"bmi\",\"children\"]), # get all the values between 0 and 1\n",
        "    (OneHotEncoder(handle_unknown=\"ignore\"), ['sex','smoker','region'])\n",
        ")\n",
        "\n",
        "# Create X and y\n",
        "X = insurance.drop(\"charges\", axis=1)\n",
        "y = insurance[\"charges\"]\n",
        "\n",
        "# Build our training and test sets (use random state to ensure same split as before)\n",
        "X_train, X_test, y_train, y_test = train_test_split(X, y, test_size=0.2, random_state=42)\n",
        "\n",
        "# Fit column transformer on the training data only (doing so on test data would result in data leakage)\n",
        "ct.fit(X_train)\n",
        "\n",
        "# Transform training and test data with normalization (MinMaxScalar) and one hot encoding(OneHotEncoder)\n",
        "X_train_normal = ct.transform(X_train)\n",
        "X_test_normal = ct.transform(X_test)"
      ],
      "metadata": {
        "id": "kPr7Qh7NihJr"
      },
      "execution_count": 85,
      "outputs": []
    },
    {
      "cell_type": "markdown",
      "source": [
        "Now we've normalized it and one-hot encoding it, what does our data look like now?"
      ],
      "metadata": {
        "id": "oUql1V70rQWL"
      }
    },
    {
      "cell_type": "code",
      "source": [
        "# Non-normalized and non-one-hot encoded data example\n",
        "X_train.loc[0]"
      ],
      "metadata": {
        "colab": {
          "base_uri": "https://localhost:8080/"
        },
        "id": "Yg69wRe2qxt_",
        "outputId": "f3d0d171-3238-4f9b-e580-1a677eeef8c1"
      },
      "execution_count": 86,
      "outputs": [
        {
          "output_type": "execute_result",
          "data": {
            "text/plain": [
              "age                19\n",
              "sex            female\n",
              "bmi              27.9\n",
              "children            0\n",
              "smoker            yes\n",
              "region      southwest\n",
              "Name: 0, dtype: object"
            ]
          },
          "metadata": {},
          "execution_count": 86
        }
      ]
    },
    {
      "cell_type": "code",
      "source": [
        "# Normalized and one-hot encoded example\n",
        "X_train_normal[0]"
      ],
      "metadata": {
        "colab": {
          "base_uri": "https://localhost:8080/"
        },
        "id": "iixKed1RrTfG",
        "outputId": "f51889a3-9cc1-4228-b7be-3a3a779008a7"
      },
      "execution_count": 87,
      "outputs": [
        {
          "output_type": "execute_result",
          "data": {
            "text/plain": [
              "array([0.60869565, 0.10734463, 0.4       , 1.        , 0.        ,\n",
              "       1.        , 0.        , 0.        , 1.        , 0.        ,\n",
              "       0.        ])"
            ]
          },
          "metadata": {},
          "execution_count": 87
        }
      ]
    },
    {
      "cell_type": "code",
      "source": [
        "# Notice the normalized/one-hot encoded shape is larger because of the extra columns\n",
        "X_train_normal.shape, X_train.shape"
      ],
      "metadata": {
        "colab": {
          "base_uri": "https://localhost:8080/"
        },
        "id": "xItKXFZNrW_T",
        "outputId": "34e2abf8-d8a8-464c-ce8f-dcff43872c30"
      },
      "execution_count": 88,
      "outputs": [
        {
          "output_type": "execute_result",
          "data": {
            "text/plain": [
              "((1070, 11), (1070, 6))"
            ]
          },
          "metadata": {},
          "execution_count": 88
        }
      ]
    },
    {
      "cell_type": "markdown",
      "source": [
        "Our data is normalized and numerical, let's model it.\n",
        "\n",
        "Lets, create a `model_insurance3`."
      ],
      "metadata": {
        "id": "JjIYySORrZf1"
      }
    },
    {
      "cell_type": "code",
      "source": [
        "# set random seed\n",
        "tf.random.set_seed(42)\n",
        "\n",
        "# Create a Sequential model\n",
        "model_insurance3 = tf.keras.Sequential([\n",
        "    tf.keras.layers.Dense(100, activation='relu'),\n",
        "    tf.keras.layers.Dense(100, activation=\"relu\"),\n",
        "    tf.keras.layers.Dense(1)\n",
        "])\n",
        "\n",
        "# compile the model\n",
        "model_insurance3.compile(loss=tf.keras.losses.mae,\n",
        "              optimizer=tf.keras.optimizers.Adam(learning_rate=0.1),\n",
        "              metrics=[\"mae\"])\n",
        "\n",
        "# fit training and test sets\n",
        "model_insurance3.fit(X_train_normal, y_train, epochs=200, verbose=0)"
      ],
      "metadata": {
        "colab": {
          "base_uri": "https://localhost:8080/"
        },
        "collapsed": true,
        "id": "djhgZkxRrcTH",
        "outputId": "87e0b130-9789-47e2-a71a-c6cd92bf9aea"
      },
      "execution_count": 89,
      "outputs": [
        {
          "output_type": "execute_result",
          "data": {
            "text/plain": [
              "<keras.src.callbacks.History at 0x7b72e15daa40>"
            ]
          },
          "metadata": {},
          "execution_count": 89
        }
      ]
    },
    {
      "cell_type": "code",
      "source": [
        "# Evaluate 3rd model\n",
        "model_insurance3_loss, model_insurance3_mae = model_insurance3.evaluate(X_test_normal, y_test)"
      ],
      "metadata": {
        "colab": {
          "base_uri": "https://localhost:8080/"
        },
        "id": "YA-6UtuLvdF1",
        "outputId": "e7a0561f-1e4f-49e8-a03b-ea4092c17aaa"
      },
      "execution_count": 90,
      "outputs": [
        {
          "output_type": "stream",
          "name": "stdout",
          "text": [
            "9/9 [==============================] - 0s 3ms/step - loss: 2006.5420 - mae: 2006.5420\n"
          ]
        }
      ]
    },
    {
      "cell_type": "markdown",
      "source": [
        "we can see some improvement in our predictions.\n",
        "\n",
        "This is **one of the main benefits of normalization: faster convergence time** (a fancy way of saying, your model gets to better results faster).\n",
        "\n",
        "the results may change if we were to alter the architectures of the models, e.g. more hidden units per layer or more layers.\n",
        "\n",
        "But since our main goal as neural network practitioners is to decrease the time between experiments, anything that helps us get better results sooner is a plus."
      ],
      "metadata": {
        "id": "fsVGeoJkxO0i"
      }
    }
  ]
}
