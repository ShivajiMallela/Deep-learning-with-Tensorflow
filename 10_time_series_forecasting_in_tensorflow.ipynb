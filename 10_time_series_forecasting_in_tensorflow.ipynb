{
  "nbformat": 4,
  "nbformat_minor": 0,
  "metadata": {
    "colab": {
      "provenance": [],
      "gpuType": "T4",
      "include_colab_link": true
    },
    "kernelspec": {
      "name": "python3",
      "display_name": "Python 3"
    },
    "language_info": {
      "name": "python"
    },
    "accelerator": "GPU"
  },
  "cells": [
    {
      "cell_type": "markdown",
      "metadata": {
        "id": "view-in-github",
        "colab_type": "text"
      },
      "source": [
        "<a href=\"https://colab.research.google.com/github/ShivajiMallela/Deep-learning-with-Tensorflow/blob/main/10_time_series_forecasting_in_tensorflow.ipynb\" target=\"_parent\"><img src=\"https://colab.research.google.com/assets/colab-badge.svg\" alt=\"Open In Colab\"/></a>"
      ]
    },
    {
      "cell_type": "markdown",
      "source": [
        "# 10. Milestone Project 3: Time Series Forecasting in TensorFlow (BitPredict 💰📈)\n",
        "\n",
        "The goal of this notebook is to help you get familiar with working with time series data.\n",
        "\n",
        "In this project, we’ll build a series of models to attempt to predict the price of Bitcoin.\n",
        "\n",
        "Welcome to Milestone Project 3, BitPredict 💰📈!\n",
        "\n",
        "> 🔑 **Note:** ⚠️ This is not financial advice. As you'll see, time series forecasting for stock market prices can be quite challenging.\n",
        "\n",
        "## What is a Time Series Problem?\n",
        "\n",
        "Time series problems involve data collected over time.\n",
        "\n",
        "Examples include:\n",
        "- The number of staff members in a company over 10 years\n",
        "- Sales of computers over the past 5 years\n",
        "- Electricity usage over the past 50 years\n",
        "\n",
        "Time series can range from short (seconds/minutes) to long (years/decades). The problems you investigate can generally be categorized into two types:\n",
        "\n",
        "\n",
        "| Problem Type | Examples | Output |\n",
        "| ------------ | -------- | ------ |\n",
        "| **Classification** | Anomaly detection, time series identification (e.g., identifying the source of a time series) | Discrete (a label) |\n",
        "| **Forecasting** | Predicting stock market prices, forecasting future product demand, determining inventory requirements | Continuous (a number) |\n",
        "\n",
        "In both cases, a supervised learning approach is typically used, meaning you have example data with associated labels.\n",
        "\n",
        "For instance, in forecasting Bitcoin prices, your data could be the historical prices of Bitcoin over the past month, and the label could be today’s price (the label isn’t tomorrow’s price because that’s what we’re trying to predict).\n",
        "\n",
        "So, can you guess what kind of problem BitPredict 💰📈 is?\n",
        "\n",
        "## What We’re Going to Cover\n",
        "\n",
        "Are you ready? We have a lot to go through:\n",
        "\n",
        "* **Get Time Series Data**:\n",
        "  - Load historical Bitcoin prices using pandas/Python's CSV module\n",
        "* **Format Data for a Time Series Problem**:\n",
        "  - Creating training and test sets (the wrong way)\n",
        "  - Creating training and test sets (the right way)\n",
        "  - Visualizing time series data\n",
        "  - Turning time series data into a supervised learning problem (windowing)\n",
        "  - Preparing univariate and multivariate (more than one variable) data\n",
        "* **Evaluating a Time Series Forecasting Model**\n",
        "* **Setting Up a Series of Deep Learning Modelling Experiments**:\n",
        "  - Dense (fully-connected) networks\n",
        "  - Sequence models (LSTM and 1D CNN)\n",
        "  - Ensembling (combining multiple models together)\n",
        "  - Multivariate models\n",
        "  - Replicating the N-BEATS algorithm using TensorFlow layer subclassing\n",
        "* **Creating a Model Checkpoint** to save the best performing model during training\n",
        "* **Making Predictions (Forecasts)** with a Time Series Model\n",
        "* **Creating Prediction Intervals** for Time Series Model Forecasts\n",
        "* **Discussing Two Different Types of Uncertainty in Machine Learning**: Data Uncertainty and Model Uncertainty\n",
        "* **Demonstrating the Challenges of Forecasting in an Open System** (the Turkey Problem)\n"
      ],
      "metadata": {
        "id": "VlFEQB5hSmVf"
      }
    },
    {
      "cell_type": "markdown",
      "source": [
        "## Get Data\n",
        "\n",
        "To build a time series forecasting model, the first thing we need is data.\n",
        "\n",
        "Since we’re aiming to predict the price of Bitcoin, we’ll require historical Bitcoin data.\n",
        "\n",
        "Specifically, we’ll be using Bitcoin prices from **01 October 2013** to **18 May 2021**.\n",
        "\n",
        "### Why these dates?\n",
        "\n",
        "- **01 October 2013**: This is when our data source ([Coindesk](https://www.coindesk.com/price/bitcoin)) started recording Bitcoin prices.\n",
        "- **18 May 2021**: This is the date when this notebook was created by instructor.\n",
        "\n",
        "If you’re following this notebook at a later date, you can apply the same methods to predict on newer data—you’ll just need to adjust the data source accordingly.\n",
        "\n",
        "> 📖 **Resource:** To get the historical Bitcoin data, visit the [Coindesk page for Bitcoin prices](https://www.coindesk.com/price/bitcoin), click on \"All,\" then click on \"Export Data\" and select \"CSV.\"\n",
        "\n",
        "You can also access the data we’re using from [GitHub](https://github.com/mrdbourke/tensorflow-deep-learning/blob/main/extras/BTC_USD_2013-10-01_2021-05-18-CoinDesk.csv).\n"
      ],
      "metadata": {
        "id": "OM7kelNuTT-o"
      }
    },
    {
      "cell_type": "code",
      "source": [
        "!pip install tensorflow==2.15"
      ],
      "metadata": {
        "colab": {
          "base_uri": "https://localhost:8080/",
          "height": 1000
        },
        "id": "yW7R1OGvMT1j",
        "outputId": "e2cc1da4-5076-4a5d-f2f8-ae6a7a7829b5"
      },
      "execution_count": 82,
      "outputs": [
        {
          "output_type": "stream",
          "name": "stdout",
          "text": [
            "Collecting tensorflow==2.15\n",
            "  Downloading tensorflow-2.15.0-cp310-cp310-manylinux_2_17_x86_64.manylinux2014_x86_64.whl.metadata (4.4 kB)\n",
            "Requirement already satisfied: absl-py>=1.0.0 in /usr/local/lib/python3.10/dist-packages (from tensorflow==2.15) (1.4.0)\n",
            "Requirement already satisfied: astunparse>=1.6.0 in /usr/local/lib/python3.10/dist-packages (from tensorflow==2.15) (1.6.3)\n",
            "Requirement already satisfied: flatbuffers>=23.5.26 in /usr/local/lib/python3.10/dist-packages (from tensorflow==2.15) (24.3.25)\n",
            "Requirement already satisfied: gast!=0.5.0,!=0.5.1,!=0.5.2,>=0.2.1 in /usr/local/lib/python3.10/dist-packages (from tensorflow==2.15) (0.6.0)\n",
            "Requirement already satisfied: google-pasta>=0.1.1 in /usr/local/lib/python3.10/dist-packages (from tensorflow==2.15) (0.2.0)\n",
            "Requirement already satisfied: h5py>=2.9.0 in /usr/local/lib/python3.10/dist-packages (from tensorflow==2.15) (3.11.0)\n",
            "Requirement already satisfied: libclang>=13.0.0 in /usr/local/lib/python3.10/dist-packages (from tensorflow==2.15) (18.1.1)\n",
            "Collecting ml-dtypes~=0.2.0 (from tensorflow==2.15)\n",
            "  Downloading ml_dtypes-0.2.0-cp310-cp310-manylinux_2_17_x86_64.manylinux2014_x86_64.whl.metadata (20 kB)\n",
            "Requirement already satisfied: numpy<2.0.0,>=1.23.5 in /usr/local/lib/python3.10/dist-packages (from tensorflow==2.15) (1.26.4)\n",
            "Requirement already satisfied: opt-einsum>=2.3.2 in /usr/local/lib/python3.10/dist-packages (from tensorflow==2.15) (3.3.0)\n",
            "Requirement already satisfied: packaging in /usr/local/lib/python3.10/dist-packages (from tensorflow==2.15) (24.1)\n",
            "Requirement already satisfied: protobuf!=4.21.0,!=4.21.1,!=4.21.2,!=4.21.3,!=4.21.4,!=4.21.5,<5.0.0dev,>=3.20.3 in /usr/local/lib/python3.10/dist-packages (from tensorflow==2.15) (3.20.3)\n",
            "Requirement already satisfied: setuptools in /usr/local/lib/python3.10/dist-packages (from tensorflow==2.15) (71.0.4)\n",
            "Requirement already satisfied: six>=1.12.0 in /usr/local/lib/python3.10/dist-packages (from tensorflow==2.15) (1.16.0)\n",
            "Requirement already satisfied: termcolor>=1.1.0 in /usr/local/lib/python3.10/dist-packages (from tensorflow==2.15) (2.4.0)\n",
            "Requirement already satisfied: typing-extensions>=3.6.6 in /usr/local/lib/python3.10/dist-packages (from tensorflow==2.15) (4.12.2)\n",
            "Collecting wrapt<1.15,>=1.11.0 (from tensorflow==2.15)\n",
            "  Downloading wrapt-1.14.1-cp310-cp310-manylinux_2_5_x86_64.manylinux1_x86_64.manylinux_2_17_x86_64.manylinux2014_x86_64.whl.metadata (6.7 kB)\n",
            "Requirement already satisfied: tensorflow-io-gcs-filesystem>=0.23.1 in /usr/local/lib/python3.10/dist-packages (from tensorflow==2.15) (0.37.1)\n",
            "Requirement already satisfied: grpcio<2.0,>=1.24.3 in /usr/local/lib/python3.10/dist-packages (from tensorflow==2.15) (1.64.1)\n",
            "Collecting tensorboard<2.16,>=2.15 (from tensorflow==2.15)\n",
            "  Downloading tensorboard-2.15.2-py3-none-any.whl.metadata (1.7 kB)\n",
            "Collecting tensorflow-estimator<2.16,>=2.15.0 (from tensorflow==2.15)\n",
            "  Downloading tensorflow_estimator-2.15.0-py2.py3-none-any.whl.metadata (1.3 kB)\n",
            "Collecting keras<2.16,>=2.15.0 (from tensorflow==2.15)\n",
            "  Downloading keras-2.15.0-py3-none-any.whl.metadata (2.4 kB)\n",
            "Requirement already satisfied: wheel<1.0,>=0.23.0 in /usr/local/lib/python3.10/dist-packages (from astunparse>=1.6.0->tensorflow==2.15) (0.44.0)\n",
            "Requirement already satisfied: google-auth<3,>=1.6.3 in /usr/local/lib/python3.10/dist-packages (from tensorboard<2.16,>=2.15->tensorflow==2.15) (2.27.0)\n",
            "Requirement already satisfied: google-auth-oauthlib<2,>=0.5 in /usr/local/lib/python3.10/dist-packages (from tensorboard<2.16,>=2.15->tensorflow==2.15) (1.2.1)\n",
            "Requirement already satisfied: markdown>=2.6.8 in /usr/local/lib/python3.10/dist-packages (from tensorboard<2.16,>=2.15->tensorflow==2.15) (3.7)\n",
            "Requirement already satisfied: requests<3,>=2.21.0 in /usr/local/lib/python3.10/dist-packages (from tensorboard<2.16,>=2.15->tensorflow==2.15) (2.32.3)\n",
            "Requirement already satisfied: tensorboard-data-server<0.8.0,>=0.7.0 in /usr/local/lib/python3.10/dist-packages (from tensorboard<2.16,>=2.15->tensorflow==2.15) (0.7.2)\n",
            "Requirement already satisfied: werkzeug>=1.0.1 in /usr/local/lib/python3.10/dist-packages (from tensorboard<2.16,>=2.15->tensorflow==2.15) (3.0.4)\n",
            "Requirement already satisfied: cachetools<6.0,>=2.0.0 in /usr/local/lib/python3.10/dist-packages (from google-auth<3,>=1.6.3->tensorboard<2.16,>=2.15->tensorflow==2.15) (5.5.0)\n",
            "Requirement already satisfied: pyasn1-modules>=0.2.1 in /usr/local/lib/python3.10/dist-packages (from google-auth<3,>=1.6.3->tensorboard<2.16,>=2.15->tensorflow==2.15) (0.4.0)\n",
            "Requirement already satisfied: rsa<5,>=3.1.4 in /usr/local/lib/python3.10/dist-packages (from google-auth<3,>=1.6.3->tensorboard<2.16,>=2.15->tensorflow==2.15) (4.9)\n",
            "Requirement already satisfied: requests-oauthlib>=0.7.0 in /usr/local/lib/python3.10/dist-packages (from google-auth-oauthlib<2,>=0.5->tensorboard<2.16,>=2.15->tensorflow==2.15) (1.3.1)\n",
            "Requirement already satisfied: charset-normalizer<4,>=2 in /usr/local/lib/python3.10/dist-packages (from requests<3,>=2.21.0->tensorboard<2.16,>=2.15->tensorflow==2.15) (3.3.2)\n",
            "Requirement already satisfied: idna<4,>=2.5 in /usr/local/lib/python3.10/dist-packages (from requests<3,>=2.21.0->tensorboard<2.16,>=2.15->tensorflow==2.15) (3.7)\n",
            "Requirement already satisfied: urllib3<3,>=1.21.1 in /usr/local/lib/python3.10/dist-packages (from requests<3,>=2.21.0->tensorboard<2.16,>=2.15->tensorflow==2.15) (2.0.7)\n",
            "Requirement already satisfied: certifi>=2017.4.17 in /usr/local/lib/python3.10/dist-packages (from requests<3,>=2.21.0->tensorboard<2.16,>=2.15->tensorflow==2.15) (2024.7.4)\n",
            "Requirement already satisfied: MarkupSafe>=2.1.1 in /usr/local/lib/python3.10/dist-packages (from werkzeug>=1.0.1->tensorboard<2.16,>=2.15->tensorflow==2.15) (2.1.5)\n",
            "Requirement already satisfied: pyasn1<0.7.0,>=0.4.6 in /usr/local/lib/python3.10/dist-packages (from pyasn1-modules>=0.2.1->google-auth<3,>=1.6.3->tensorboard<2.16,>=2.15->tensorflow==2.15) (0.6.0)\n",
            "Requirement already satisfied: oauthlib>=3.0.0 in /usr/local/lib/python3.10/dist-packages (from requests-oauthlib>=0.7.0->google-auth-oauthlib<2,>=0.5->tensorboard<2.16,>=2.15->tensorflow==2.15) (3.2.2)\n",
            "Downloading tensorflow-2.15.0-cp310-cp310-manylinux_2_17_x86_64.manylinux2014_x86_64.whl (475.2 MB)\n",
            "\u001b[2K   \u001b[90m━━━━━━━━━━━━━━━━━━━━━━━━━━━━━━━━━━━━━━━━\u001b[0m \u001b[32m475.2/475.2 MB\u001b[0m \u001b[31m3.1 MB/s\u001b[0m eta \u001b[36m0:00:00\u001b[0m\n",
            "\u001b[?25hDownloading keras-2.15.0-py3-none-any.whl (1.7 MB)\n",
            "\u001b[2K   \u001b[90m━━━━━━━━━━━━━━━━━━━━━━━━━━━━━━━━━━━━━━━━\u001b[0m \u001b[32m1.7/1.7 MB\u001b[0m \u001b[31m41.0 MB/s\u001b[0m eta \u001b[36m0:00:00\u001b[0m\n",
            "\u001b[?25hDownloading ml_dtypes-0.2.0-cp310-cp310-manylinux_2_17_x86_64.manylinux2014_x86_64.whl (1.0 MB)\n",
            "\u001b[2K   \u001b[90m━━━━━━━━━━━━━━━━━━━━━━━━━━━━━━━━━━━━━━━━\u001b[0m \u001b[32m1.0/1.0 MB\u001b[0m \u001b[31m33.2 MB/s\u001b[0m eta \u001b[36m0:00:00\u001b[0m\n",
            "\u001b[?25hDownloading tensorboard-2.15.2-py3-none-any.whl (5.5 MB)\n",
            "\u001b[2K   \u001b[90m━━━━━━━━━━━━━━━━━━━━━━━━━━━━━━━━━━━━━━━━\u001b[0m \u001b[32m5.5/5.5 MB\u001b[0m \u001b[31m47.3 MB/s\u001b[0m eta \u001b[36m0:00:00\u001b[0m\n",
            "\u001b[?25hDownloading tensorflow_estimator-2.15.0-py2.py3-none-any.whl (441 kB)\n",
            "\u001b[2K   \u001b[90m━━━━━━━━━━━━━━━━━━━━━━━━━━━━━━━━━━━━━━━━\u001b[0m \u001b[32m442.0/442.0 kB\u001b[0m \u001b[31m25.6 MB/s\u001b[0m eta \u001b[36m0:00:00\u001b[0m\n",
            "\u001b[?25hDownloading wrapt-1.14.1-cp310-cp310-manylinux_2_5_x86_64.manylinux1_x86_64.manylinux_2_17_x86_64.manylinux2014_x86_64.whl (77 kB)\n",
            "\u001b[2K   \u001b[90m━━━━━━━━━━━━━━━━━━━━━━━━━━━━━━━━━━━━━━━━\u001b[0m \u001b[32m77.9/77.9 kB\u001b[0m \u001b[31m6.3 MB/s\u001b[0m eta \u001b[36m0:00:00\u001b[0m\n",
            "\u001b[?25hInstalling collected packages: wrapt, tensorflow-estimator, ml-dtypes, keras, tensorboard, tensorflow\n",
            "  Attempting uninstall: wrapt\n",
            "    Found existing installation: wrapt 1.16.0\n",
            "    Uninstalling wrapt-1.16.0:\n",
            "      Successfully uninstalled wrapt-1.16.0\n",
            "  Attempting uninstall: ml-dtypes\n",
            "    Found existing installation: ml-dtypes 0.4.0\n",
            "    Uninstalling ml-dtypes-0.4.0:\n",
            "      Successfully uninstalled ml-dtypes-0.4.0\n",
            "  Attempting uninstall: keras\n",
            "    Found existing installation: keras 3.4.1\n",
            "    Uninstalling keras-3.4.1:\n",
            "      Successfully uninstalled keras-3.4.1\n",
            "  Attempting uninstall: tensorboard\n",
            "    Found existing installation: tensorboard 2.17.0\n",
            "    Uninstalling tensorboard-2.17.0:\n",
            "      Successfully uninstalled tensorboard-2.17.0\n",
            "  Attempting uninstall: tensorflow\n",
            "    Found existing installation: tensorflow 2.17.0\n",
            "    Uninstalling tensorflow-2.17.0:\n",
            "      Successfully uninstalled tensorflow-2.17.0\n",
            "\u001b[31mERROR: pip's dependency resolver does not currently take into account all the packages that are installed. This behaviour is the source of the following dependency conflicts.\n",
            "tensorstore 0.1.64 requires ml-dtypes>=0.3.1, but you have ml-dtypes 0.2.0 which is incompatible.\n",
            "tf-keras 2.17.0 requires tensorflow<2.18,>=2.17, but you have tensorflow 2.15.0 which is incompatible.\u001b[0m\u001b[31m\n",
            "\u001b[0mSuccessfully installed keras-2.15.0 ml-dtypes-0.2.0 tensorboard-2.15.2 tensorflow-2.15.0 tensorflow-estimator-2.15.0 wrapt-1.14.1\n"
          ]
        },
        {
          "output_type": "display_data",
          "data": {
            "application/vnd.colab-display-data+json": {
              "pip_warning": {
                "packages": [
                  "keras",
                  "ml_dtypes",
                  "tensorflow",
                  "wrapt"
                ]
              },
              "id": "593660d052644e40a84c941179988d45"
            }
          },
          "metadata": {}
        }
      ]
    },
    {
      "cell_type": "code",
      "source": [
        "import tensorflow as tf\n",
        "print(tf.__version__)"
      ],
      "metadata": {
        "colab": {
          "base_uri": "https://localhost:8080/"
        },
        "id": "lmwkTwnUMaz5",
        "outputId": "3ba59b6b-e46a-485d-813b-a494e5ae8131"
      },
      "execution_count": 2,
      "outputs": [
        {
          "output_type": "stream",
          "name": "stdout",
          "text": [
            "2.15.0\n"
          ]
        }
      ]
    },
    {
      "cell_type": "code",
      "execution_count": 3,
      "metadata": {
        "id": "ABU6JPfsQVYe",
        "colab": {
          "base_uri": "https://localhost:8080/"
        },
        "outputId": "d8d5d3db-f463-4958-c729-3d2b05442983"
      },
      "outputs": [
        {
          "output_type": "stream",
          "name": "stdout",
          "text": [
            "--2024-08-27 00:19:18--  https://raw.githubusercontent.com/mrdbourke/tensorflow-deep-learning/main/extras/BTC_USD_2013-10-01_2021-05-18-CoinDesk.csv\n",
            "Resolving raw.githubusercontent.com (raw.githubusercontent.com)... 185.199.108.133, 185.199.109.133, 185.199.110.133, ...\n",
            "Connecting to raw.githubusercontent.com (raw.githubusercontent.com)|185.199.108.133|:443... connected.\n",
            "HTTP request sent, awaiting response... 200 OK\n",
            "Length: 178509 (174K) [text/plain]\n",
            "Saving to: ‘BTC_USD_2013-10-01_2021-05-18-CoinDesk.csv.1’\n",
            "\n",
            "\r          BTC_USD_2   0%[                    ]       0  --.-KB/s               \rBTC_USD_2013-10-01_ 100%[===================>] 174.33K  --.-KB/s    in 0.02s   \n",
            "\n",
            "2024-08-27 00:19:19 (8.64 MB/s) - ‘BTC_USD_2013-10-01_2021-05-18-CoinDesk.csv.1’ saved [178509/178509]\n",
            "\n"
          ]
        }
      ],
      "source": [
        "# Download Bitcoin historical data from GitHub\n",
        "# Note: you'll need to select \"Raw\" to download the data in the correct format\n",
        "!wget https://raw.githubusercontent.com/mrdbourke/tensorflow-deep-learning/main/extras/BTC_USD_2013-10-01_2021-05-18-CoinDesk.csv"
      ]
    },
    {
      "cell_type": "markdown",
      "source": [
        "### Importing time series data with pandas\n",
        "Now we've got some data to work with, let's import it using pandas so we can visualize it.\n",
        "\n",
        "Because our data is in **CSV (comma separated values)** format (a very common data format for time series), we'll use the pandas [`read_csv()`](https://pandas.pydata.org/pandas-docs/stable/reference/api/pandas.read_csv.html) function.\n",
        "\n",
        "And because our data has a date component, we'll tell pandas to parse the dates using the `parse_dates` parameter passing it the name our of the date column (\"Date\")."
      ],
      "metadata": {
        "id": "WN4fEb2RUa_M"
      }
    },
    {
      "cell_type": "code",
      "source": [
        "#import with pandas\n",
        "import pandas as pd\n",
        "# parse dates and set date column to index\n",
        "df = pd.read_csv(\"/content/BTC_USD_2013-10-01_2021-05-18-CoinDesk.csv\",\n",
        "                 parse_dates = ['Date'],\n",
        "                 index_col = ['Date']) # parse the date column\n",
        "\n",
        "df.head()"
      ],
      "metadata": {
        "colab": {
          "base_uri": "https://localhost:8080/",
          "height": 238
        },
        "id": "NDSBZkIZUYpU",
        "outputId": "8b514576-7978-42da-99ec-3f05cdc4de58"
      },
      "execution_count": 4,
      "outputs": [
        {
          "output_type": "execute_result",
          "data": {
            "text/plain": [
              "           Currency  Closing Price (USD)  24h Open (USD)  24h High (USD)  \\\n",
              "Date                                                                       \n",
              "2013-10-01      BTC            123.65499       124.30466       124.75166   \n",
              "2013-10-02      BTC            125.45500       123.65499       125.75850   \n",
              "2013-10-03      BTC            108.58483       125.45500       125.66566   \n",
              "2013-10-04      BTC            118.67466       108.58483       118.67500   \n",
              "2013-10-05      BTC            121.33866       118.67466       121.93633   \n",
              "\n",
              "            24h Low (USD)  \n",
              "Date                       \n",
              "2013-10-01      122.56349  \n",
              "2013-10-02      123.63383  \n",
              "2013-10-03       83.32833  \n",
              "2013-10-04      107.05816  \n",
              "2013-10-05      118.00566  "
            ],
            "text/html": [
              "\n",
              "  <div id=\"df-aeaeeaac-5285-44e4-b720-2c1d7a260c00\" class=\"colab-df-container\">\n",
              "    <div>\n",
              "<style scoped>\n",
              "    .dataframe tbody tr th:only-of-type {\n",
              "        vertical-align: middle;\n",
              "    }\n",
              "\n",
              "    .dataframe tbody tr th {\n",
              "        vertical-align: top;\n",
              "    }\n",
              "\n",
              "    .dataframe thead th {\n",
              "        text-align: right;\n",
              "    }\n",
              "</style>\n",
              "<table border=\"1\" class=\"dataframe\">\n",
              "  <thead>\n",
              "    <tr style=\"text-align: right;\">\n",
              "      <th></th>\n",
              "      <th>Currency</th>\n",
              "      <th>Closing Price (USD)</th>\n",
              "      <th>24h Open (USD)</th>\n",
              "      <th>24h High (USD)</th>\n",
              "      <th>24h Low (USD)</th>\n",
              "    </tr>\n",
              "    <tr>\n",
              "      <th>Date</th>\n",
              "      <th></th>\n",
              "      <th></th>\n",
              "      <th></th>\n",
              "      <th></th>\n",
              "      <th></th>\n",
              "    </tr>\n",
              "  </thead>\n",
              "  <tbody>\n",
              "    <tr>\n",
              "      <th>2013-10-01</th>\n",
              "      <td>BTC</td>\n",
              "      <td>123.65499</td>\n",
              "      <td>124.30466</td>\n",
              "      <td>124.75166</td>\n",
              "      <td>122.56349</td>\n",
              "    </tr>\n",
              "    <tr>\n",
              "      <th>2013-10-02</th>\n",
              "      <td>BTC</td>\n",
              "      <td>125.45500</td>\n",
              "      <td>123.65499</td>\n",
              "      <td>125.75850</td>\n",
              "      <td>123.63383</td>\n",
              "    </tr>\n",
              "    <tr>\n",
              "      <th>2013-10-03</th>\n",
              "      <td>BTC</td>\n",
              "      <td>108.58483</td>\n",
              "      <td>125.45500</td>\n",
              "      <td>125.66566</td>\n",
              "      <td>83.32833</td>\n",
              "    </tr>\n",
              "    <tr>\n",
              "      <th>2013-10-04</th>\n",
              "      <td>BTC</td>\n",
              "      <td>118.67466</td>\n",
              "      <td>108.58483</td>\n",
              "      <td>118.67500</td>\n",
              "      <td>107.05816</td>\n",
              "    </tr>\n",
              "    <tr>\n",
              "      <th>2013-10-05</th>\n",
              "      <td>BTC</td>\n",
              "      <td>121.33866</td>\n",
              "      <td>118.67466</td>\n",
              "      <td>121.93633</td>\n",
              "      <td>118.00566</td>\n",
              "    </tr>\n",
              "  </tbody>\n",
              "</table>\n",
              "</div>\n",
              "    <div class=\"colab-df-buttons\">\n",
              "\n",
              "  <div class=\"colab-df-container\">\n",
              "    <button class=\"colab-df-convert\" onclick=\"convertToInteractive('df-aeaeeaac-5285-44e4-b720-2c1d7a260c00')\"\n",
              "            title=\"Convert this dataframe to an interactive table.\"\n",
              "            style=\"display:none;\">\n",
              "\n",
              "  <svg xmlns=\"http://www.w3.org/2000/svg\" height=\"24px\" viewBox=\"0 -960 960 960\">\n",
              "    <path d=\"M120-120v-720h720v720H120Zm60-500h600v-160H180v160Zm220 220h160v-160H400v160Zm0 220h160v-160H400v160ZM180-400h160v-160H180v160Zm440 0h160v-160H620v160ZM180-180h160v-160H180v160Zm440 0h160v-160H620v160Z\"/>\n",
              "  </svg>\n",
              "    </button>\n",
              "\n",
              "  <style>\n",
              "    .colab-df-container {\n",
              "      display:flex;\n",
              "      gap: 12px;\n",
              "    }\n",
              "\n",
              "    .colab-df-convert {\n",
              "      background-color: #E8F0FE;\n",
              "      border: none;\n",
              "      border-radius: 50%;\n",
              "      cursor: pointer;\n",
              "      display: none;\n",
              "      fill: #1967D2;\n",
              "      height: 32px;\n",
              "      padding: 0 0 0 0;\n",
              "      width: 32px;\n",
              "    }\n",
              "\n",
              "    .colab-df-convert:hover {\n",
              "      background-color: #E2EBFA;\n",
              "      box-shadow: 0px 1px 2px rgba(60, 64, 67, 0.3), 0px 1px 3px 1px rgba(60, 64, 67, 0.15);\n",
              "      fill: #174EA6;\n",
              "    }\n",
              "\n",
              "    .colab-df-buttons div {\n",
              "      margin-bottom: 4px;\n",
              "    }\n",
              "\n",
              "    [theme=dark] .colab-df-convert {\n",
              "      background-color: #3B4455;\n",
              "      fill: #D2E3FC;\n",
              "    }\n",
              "\n",
              "    [theme=dark] .colab-df-convert:hover {\n",
              "      background-color: #434B5C;\n",
              "      box-shadow: 0px 1px 3px 1px rgba(0, 0, 0, 0.15);\n",
              "      filter: drop-shadow(0px 1px 2px rgba(0, 0, 0, 0.3));\n",
              "      fill: #FFFFFF;\n",
              "    }\n",
              "  </style>\n",
              "\n",
              "    <script>\n",
              "      const buttonEl =\n",
              "        document.querySelector('#df-aeaeeaac-5285-44e4-b720-2c1d7a260c00 button.colab-df-convert');\n",
              "      buttonEl.style.display =\n",
              "        google.colab.kernel.accessAllowed ? 'block' : 'none';\n",
              "\n",
              "      async function convertToInteractive(key) {\n",
              "        const element = document.querySelector('#df-aeaeeaac-5285-44e4-b720-2c1d7a260c00');\n",
              "        const dataTable =\n",
              "          await google.colab.kernel.invokeFunction('convertToInteractive',\n",
              "                                                    [key], {});\n",
              "        if (!dataTable) return;\n",
              "\n",
              "        const docLinkHtml = 'Like what you see? Visit the ' +\n",
              "          '<a target=\"_blank\" href=https://colab.research.google.com/notebooks/data_table.ipynb>data table notebook</a>'\n",
              "          + ' to learn more about interactive tables.';\n",
              "        element.innerHTML = '';\n",
              "        dataTable['output_type'] = 'display_data';\n",
              "        await google.colab.output.renderOutput(dataTable, element);\n",
              "        const docLink = document.createElement('div');\n",
              "        docLink.innerHTML = docLinkHtml;\n",
              "        element.appendChild(docLink);\n",
              "      }\n",
              "    </script>\n",
              "  </div>\n",
              "\n",
              "\n",
              "<div id=\"df-4c9826f4-e3cf-425c-93ea-f9a1857e11f0\">\n",
              "  <button class=\"colab-df-quickchart\" onclick=\"quickchart('df-4c9826f4-e3cf-425c-93ea-f9a1857e11f0')\"\n",
              "            title=\"Suggest charts\"\n",
              "            style=\"display:none;\">\n",
              "\n",
              "<svg xmlns=\"http://www.w3.org/2000/svg\" height=\"24px\"viewBox=\"0 0 24 24\"\n",
              "     width=\"24px\">\n",
              "    <g>\n",
              "        <path d=\"M19 3H5c-1.1 0-2 .9-2 2v14c0 1.1.9 2 2 2h14c1.1 0 2-.9 2-2V5c0-1.1-.9-2-2-2zM9 17H7v-7h2v7zm4 0h-2V7h2v10zm4 0h-2v-4h2v4z\"/>\n",
              "    </g>\n",
              "</svg>\n",
              "  </button>\n",
              "\n",
              "<style>\n",
              "  .colab-df-quickchart {\n",
              "      --bg-color: #E8F0FE;\n",
              "      --fill-color: #1967D2;\n",
              "      --hover-bg-color: #E2EBFA;\n",
              "      --hover-fill-color: #174EA6;\n",
              "      --disabled-fill-color: #AAA;\n",
              "      --disabled-bg-color: #DDD;\n",
              "  }\n",
              "\n",
              "  [theme=dark] .colab-df-quickchart {\n",
              "      --bg-color: #3B4455;\n",
              "      --fill-color: #D2E3FC;\n",
              "      --hover-bg-color: #434B5C;\n",
              "      --hover-fill-color: #FFFFFF;\n",
              "      --disabled-bg-color: #3B4455;\n",
              "      --disabled-fill-color: #666;\n",
              "  }\n",
              "\n",
              "  .colab-df-quickchart {\n",
              "    background-color: var(--bg-color);\n",
              "    border: none;\n",
              "    border-radius: 50%;\n",
              "    cursor: pointer;\n",
              "    display: none;\n",
              "    fill: var(--fill-color);\n",
              "    height: 32px;\n",
              "    padding: 0;\n",
              "    width: 32px;\n",
              "  }\n",
              "\n",
              "  .colab-df-quickchart:hover {\n",
              "    background-color: var(--hover-bg-color);\n",
              "    box-shadow: 0 1px 2px rgba(60, 64, 67, 0.3), 0 1px 3px 1px rgba(60, 64, 67, 0.15);\n",
              "    fill: var(--button-hover-fill-color);\n",
              "  }\n",
              "\n",
              "  .colab-df-quickchart-complete:disabled,\n",
              "  .colab-df-quickchart-complete:disabled:hover {\n",
              "    background-color: var(--disabled-bg-color);\n",
              "    fill: var(--disabled-fill-color);\n",
              "    box-shadow: none;\n",
              "  }\n",
              "\n",
              "  .colab-df-spinner {\n",
              "    border: 2px solid var(--fill-color);\n",
              "    border-color: transparent;\n",
              "    border-bottom-color: var(--fill-color);\n",
              "    animation:\n",
              "      spin 1s steps(1) infinite;\n",
              "  }\n",
              "\n",
              "  @keyframes spin {\n",
              "    0% {\n",
              "      border-color: transparent;\n",
              "      border-bottom-color: var(--fill-color);\n",
              "      border-left-color: var(--fill-color);\n",
              "    }\n",
              "    20% {\n",
              "      border-color: transparent;\n",
              "      border-left-color: var(--fill-color);\n",
              "      border-top-color: var(--fill-color);\n",
              "    }\n",
              "    30% {\n",
              "      border-color: transparent;\n",
              "      border-left-color: var(--fill-color);\n",
              "      border-top-color: var(--fill-color);\n",
              "      border-right-color: var(--fill-color);\n",
              "    }\n",
              "    40% {\n",
              "      border-color: transparent;\n",
              "      border-right-color: var(--fill-color);\n",
              "      border-top-color: var(--fill-color);\n",
              "    }\n",
              "    60% {\n",
              "      border-color: transparent;\n",
              "      border-right-color: var(--fill-color);\n",
              "    }\n",
              "    80% {\n",
              "      border-color: transparent;\n",
              "      border-right-color: var(--fill-color);\n",
              "      border-bottom-color: var(--fill-color);\n",
              "    }\n",
              "    90% {\n",
              "      border-color: transparent;\n",
              "      border-bottom-color: var(--fill-color);\n",
              "    }\n",
              "  }\n",
              "</style>\n",
              "\n",
              "  <script>\n",
              "    async function quickchart(key) {\n",
              "      const quickchartButtonEl =\n",
              "        document.querySelector('#' + key + ' button');\n",
              "      quickchartButtonEl.disabled = true;  // To prevent multiple clicks.\n",
              "      quickchartButtonEl.classList.add('colab-df-spinner');\n",
              "      try {\n",
              "        const charts = await google.colab.kernel.invokeFunction(\n",
              "            'suggestCharts', [key], {});\n",
              "      } catch (error) {\n",
              "        console.error('Error during call to suggestCharts:', error);\n",
              "      }\n",
              "      quickchartButtonEl.classList.remove('colab-df-spinner');\n",
              "      quickchartButtonEl.classList.add('colab-df-quickchart-complete');\n",
              "    }\n",
              "    (() => {\n",
              "      let quickchartButtonEl =\n",
              "        document.querySelector('#df-4c9826f4-e3cf-425c-93ea-f9a1857e11f0 button');\n",
              "      quickchartButtonEl.style.display =\n",
              "        google.colab.kernel.accessAllowed ? 'block' : 'none';\n",
              "    })();\n",
              "  </script>\n",
              "</div>\n",
              "\n",
              "    </div>\n",
              "  </div>\n"
            ],
            "application/vnd.google.colaboratory.intrinsic+json": {
              "type": "dataframe",
              "variable_name": "df",
              "summary": "{\n  \"name\": \"df\",\n  \"rows\": 2787,\n  \"fields\": [\n    {\n      \"column\": \"Date\",\n      \"properties\": {\n        \"dtype\": \"date\",\n        \"min\": \"2013-10-01 00:00:00\",\n        \"max\": \"2021-05-18 00:00:00\",\n        \"num_unique_values\": 2787,\n        \"samples\": [\n          \"2019-06-11 00:00:00\",\n          \"2021-05-03 00:00:00\",\n          \"2017-10-05 00:00:00\"\n        ],\n        \"semantic_type\": \"\",\n        \"description\": \"\"\n      }\n    },\n    {\n      \"column\": \"Currency\",\n      \"properties\": {\n        \"dtype\": \"category\",\n        \"num_unique_values\": 1,\n        \"samples\": [\n          \"BTC\"\n        ],\n        \"semantic_type\": \"\",\n        \"description\": \"\"\n      }\n    },\n    {\n      \"column\": \"Closing Price (USD)\",\n      \"properties\": {\n        \"dtype\": \"number\",\n        \"std\": 10887.84744436952,\n        \"min\": 108.58483,\n        \"max\": 63346.7890351052,\n        \"num_unique_values\": 2787,\n        \"samples\": [\n          7954.0062377205\n        ],\n        \"semantic_type\": \"\",\n        \"description\": \"\"\n      }\n    },\n    {\n      \"column\": \"24h Open (USD)\",\n      \"properties\": {\n        \"dtype\": \"number\",\n        \"std\": 10863.80077212387,\n        \"min\": 108.58483,\n        \"max\": 63562.6735446382,\n        \"num_unique_values\": 2787,\n        \"samples\": [\n          7600.9225047785\n        ],\n        \"semantic_type\": \"\",\n        \"description\": \"\"\n      }\n    },\n    {\n      \"column\": \"24h High (USD)\",\n      \"properties\": {\n        \"dtype\": \"number\",\n        \"std\": 11206.779756254151,\n        \"min\": 118.675,\n        \"max\": 64801.787869525,\n        \"num_unique_values\": 2787,\n        \"samples\": [\n          8064.9001353225\n        ],\n        \"semantic_type\": \"\",\n        \"description\": \"\"\n      }\n    },\n    {\n      \"column\": \"24h Low (USD)\",\n      \"properties\": {\n        \"dtype\": \"number\",\n        \"std\": 10475.8112518284,\n        \"min\": 83.32833,\n        \"max\": 62094.6329143272,\n        \"num_unique_values\": 2785,\n        \"samples\": [\n          7714.610306452\n        ],\n        \"semantic_type\": \"\",\n        \"description\": \"\"\n      }\n    }\n  ]\n}"
            }
          },
          "metadata": {},
          "execution_count": 4
        }
      ]
    },
    {
      "cell_type": "code",
      "source": [
        "df.info()"
      ],
      "metadata": {
        "colab": {
          "base_uri": "https://localhost:8080/"
        },
        "id": "2Ukqci1cVEr4",
        "outputId": "8887365d-575f-41a3-c017-9b9e31d2b164"
      },
      "execution_count": 5,
      "outputs": [
        {
          "output_type": "stream",
          "name": "stdout",
          "text": [
            "<class 'pandas.core.frame.DataFrame'>\n",
            "DatetimeIndex: 2787 entries, 2013-10-01 to 2021-05-18\n",
            "Data columns (total 5 columns):\n",
            " #   Column               Non-Null Count  Dtype  \n",
            "---  ------               --------------  -----  \n",
            " 0   Currency             2787 non-null   object \n",
            " 1   Closing Price (USD)  2787 non-null   float64\n",
            " 2   24h Open (USD)       2787 non-null   float64\n",
            " 3   24h High (USD)       2787 non-null   float64\n",
            " 4   24h Low (USD)        2787 non-null   float64\n",
            "dtypes: float64(4), object(1)\n",
            "memory usage: 130.6+ KB\n"
          ]
        }
      ]
    },
    {
      "cell_type": "code",
      "source": [
        "len(df)"
      ],
      "metadata": {
        "colab": {
          "base_uri": "https://localhost:8080/"
        },
        "id": "n5iLM3OfVGd0",
        "outputId": "b58fd116-49c5-4e69-b754-893b8fb90ebf"
      },
      "execution_count": 6,
      "outputs": [
        {
          "output_type": "execute_result",
          "data": {
            "text/plain": [
              "2787"
            ]
          },
          "metadata": {},
          "execution_count": 6
        }
      ]
    },
    {
      "cell_type": "code",
      "source": [
        "bitcoin_prices = pd.DataFrame(df['Closing Price (USD)']).rename(columns={\"Closing Price (USD)\":\"Price\"})\n",
        "bitcoin_prices.head()"
      ],
      "metadata": {
        "colab": {
          "base_uri": "https://localhost:8080/",
          "height": 238
        },
        "id": "TgcNg_gxVIZq",
        "outputId": "77b40573-d8f5-444e-8098-93a22af81533"
      },
      "execution_count": 7,
      "outputs": [
        {
          "output_type": "execute_result",
          "data": {
            "text/plain": [
              "                Price\n",
              "Date                 \n",
              "2013-10-01  123.65499\n",
              "2013-10-02  125.45500\n",
              "2013-10-03  108.58483\n",
              "2013-10-04  118.67466\n",
              "2013-10-05  121.33866"
            ],
            "text/html": [
              "\n",
              "  <div id=\"df-860f53c5-163a-428a-a953-c4d8bdf6bd0e\" class=\"colab-df-container\">\n",
              "    <div>\n",
              "<style scoped>\n",
              "    .dataframe tbody tr th:only-of-type {\n",
              "        vertical-align: middle;\n",
              "    }\n",
              "\n",
              "    .dataframe tbody tr th {\n",
              "        vertical-align: top;\n",
              "    }\n",
              "\n",
              "    .dataframe thead th {\n",
              "        text-align: right;\n",
              "    }\n",
              "</style>\n",
              "<table border=\"1\" class=\"dataframe\">\n",
              "  <thead>\n",
              "    <tr style=\"text-align: right;\">\n",
              "      <th></th>\n",
              "      <th>Price</th>\n",
              "    </tr>\n",
              "    <tr>\n",
              "      <th>Date</th>\n",
              "      <th></th>\n",
              "    </tr>\n",
              "  </thead>\n",
              "  <tbody>\n",
              "    <tr>\n",
              "      <th>2013-10-01</th>\n",
              "      <td>123.65499</td>\n",
              "    </tr>\n",
              "    <tr>\n",
              "      <th>2013-10-02</th>\n",
              "      <td>125.45500</td>\n",
              "    </tr>\n",
              "    <tr>\n",
              "      <th>2013-10-03</th>\n",
              "      <td>108.58483</td>\n",
              "    </tr>\n",
              "    <tr>\n",
              "      <th>2013-10-04</th>\n",
              "      <td>118.67466</td>\n",
              "    </tr>\n",
              "    <tr>\n",
              "      <th>2013-10-05</th>\n",
              "      <td>121.33866</td>\n",
              "    </tr>\n",
              "  </tbody>\n",
              "</table>\n",
              "</div>\n",
              "    <div class=\"colab-df-buttons\">\n",
              "\n",
              "  <div class=\"colab-df-container\">\n",
              "    <button class=\"colab-df-convert\" onclick=\"convertToInteractive('df-860f53c5-163a-428a-a953-c4d8bdf6bd0e')\"\n",
              "            title=\"Convert this dataframe to an interactive table.\"\n",
              "            style=\"display:none;\">\n",
              "\n",
              "  <svg xmlns=\"http://www.w3.org/2000/svg\" height=\"24px\" viewBox=\"0 -960 960 960\">\n",
              "    <path d=\"M120-120v-720h720v720H120Zm60-500h600v-160H180v160Zm220 220h160v-160H400v160Zm0 220h160v-160H400v160ZM180-400h160v-160H180v160Zm440 0h160v-160H620v160ZM180-180h160v-160H180v160Zm440 0h160v-160H620v160Z\"/>\n",
              "  </svg>\n",
              "    </button>\n",
              "\n",
              "  <style>\n",
              "    .colab-df-container {\n",
              "      display:flex;\n",
              "      gap: 12px;\n",
              "    }\n",
              "\n",
              "    .colab-df-convert {\n",
              "      background-color: #E8F0FE;\n",
              "      border: none;\n",
              "      border-radius: 50%;\n",
              "      cursor: pointer;\n",
              "      display: none;\n",
              "      fill: #1967D2;\n",
              "      height: 32px;\n",
              "      padding: 0 0 0 0;\n",
              "      width: 32px;\n",
              "    }\n",
              "\n",
              "    .colab-df-convert:hover {\n",
              "      background-color: #E2EBFA;\n",
              "      box-shadow: 0px 1px 2px rgba(60, 64, 67, 0.3), 0px 1px 3px 1px rgba(60, 64, 67, 0.15);\n",
              "      fill: #174EA6;\n",
              "    }\n",
              "\n",
              "    .colab-df-buttons div {\n",
              "      margin-bottom: 4px;\n",
              "    }\n",
              "\n",
              "    [theme=dark] .colab-df-convert {\n",
              "      background-color: #3B4455;\n",
              "      fill: #D2E3FC;\n",
              "    }\n",
              "\n",
              "    [theme=dark] .colab-df-convert:hover {\n",
              "      background-color: #434B5C;\n",
              "      box-shadow: 0px 1px 3px 1px rgba(0, 0, 0, 0.15);\n",
              "      filter: drop-shadow(0px 1px 2px rgba(0, 0, 0, 0.3));\n",
              "      fill: #FFFFFF;\n",
              "    }\n",
              "  </style>\n",
              "\n",
              "    <script>\n",
              "      const buttonEl =\n",
              "        document.querySelector('#df-860f53c5-163a-428a-a953-c4d8bdf6bd0e button.colab-df-convert');\n",
              "      buttonEl.style.display =\n",
              "        google.colab.kernel.accessAllowed ? 'block' : 'none';\n",
              "\n",
              "      async function convertToInteractive(key) {\n",
              "        const element = document.querySelector('#df-860f53c5-163a-428a-a953-c4d8bdf6bd0e');\n",
              "        const dataTable =\n",
              "          await google.colab.kernel.invokeFunction('convertToInteractive',\n",
              "                                                    [key], {});\n",
              "        if (!dataTable) return;\n",
              "\n",
              "        const docLinkHtml = 'Like what you see? Visit the ' +\n",
              "          '<a target=\"_blank\" href=https://colab.research.google.com/notebooks/data_table.ipynb>data table notebook</a>'\n",
              "          + ' to learn more about interactive tables.';\n",
              "        element.innerHTML = '';\n",
              "        dataTable['output_type'] = 'display_data';\n",
              "        await google.colab.output.renderOutput(dataTable, element);\n",
              "        const docLink = document.createElement('div');\n",
              "        docLink.innerHTML = docLinkHtml;\n",
              "        element.appendChild(docLink);\n",
              "      }\n",
              "    </script>\n",
              "  </div>\n",
              "\n",
              "\n",
              "<div id=\"df-c609d2a8-57a4-43d9-89b6-da47a4d514dc\">\n",
              "  <button class=\"colab-df-quickchart\" onclick=\"quickchart('df-c609d2a8-57a4-43d9-89b6-da47a4d514dc')\"\n",
              "            title=\"Suggest charts\"\n",
              "            style=\"display:none;\">\n",
              "\n",
              "<svg xmlns=\"http://www.w3.org/2000/svg\" height=\"24px\"viewBox=\"0 0 24 24\"\n",
              "     width=\"24px\">\n",
              "    <g>\n",
              "        <path d=\"M19 3H5c-1.1 0-2 .9-2 2v14c0 1.1.9 2 2 2h14c1.1 0 2-.9 2-2V5c0-1.1-.9-2-2-2zM9 17H7v-7h2v7zm4 0h-2V7h2v10zm4 0h-2v-4h2v4z\"/>\n",
              "    </g>\n",
              "</svg>\n",
              "  </button>\n",
              "\n",
              "<style>\n",
              "  .colab-df-quickchart {\n",
              "      --bg-color: #E8F0FE;\n",
              "      --fill-color: #1967D2;\n",
              "      --hover-bg-color: #E2EBFA;\n",
              "      --hover-fill-color: #174EA6;\n",
              "      --disabled-fill-color: #AAA;\n",
              "      --disabled-bg-color: #DDD;\n",
              "  }\n",
              "\n",
              "  [theme=dark] .colab-df-quickchart {\n",
              "      --bg-color: #3B4455;\n",
              "      --fill-color: #D2E3FC;\n",
              "      --hover-bg-color: #434B5C;\n",
              "      --hover-fill-color: #FFFFFF;\n",
              "      --disabled-bg-color: #3B4455;\n",
              "      --disabled-fill-color: #666;\n",
              "  }\n",
              "\n",
              "  .colab-df-quickchart {\n",
              "    background-color: var(--bg-color);\n",
              "    border: none;\n",
              "    border-radius: 50%;\n",
              "    cursor: pointer;\n",
              "    display: none;\n",
              "    fill: var(--fill-color);\n",
              "    height: 32px;\n",
              "    padding: 0;\n",
              "    width: 32px;\n",
              "  }\n",
              "\n",
              "  .colab-df-quickchart:hover {\n",
              "    background-color: var(--hover-bg-color);\n",
              "    box-shadow: 0 1px 2px rgba(60, 64, 67, 0.3), 0 1px 3px 1px rgba(60, 64, 67, 0.15);\n",
              "    fill: var(--button-hover-fill-color);\n",
              "  }\n",
              "\n",
              "  .colab-df-quickchart-complete:disabled,\n",
              "  .colab-df-quickchart-complete:disabled:hover {\n",
              "    background-color: var(--disabled-bg-color);\n",
              "    fill: var(--disabled-fill-color);\n",
              "    box-shadow: none;\n",
              "  }\n",
              "\n",
              "  .colab-df-spinner {\n",
              "    border: 2px solid var(--fill-color);\n",
              "    border-color: transparent;\n",
              "    border-bottom-color: var(--fill-color);\n",
              "    animation:\n",
              "      spin 1s steps(1) infinite;\n",
              "  }\n",
              "\n",
              "  @keyframes spin {\n",
              "    0% {\n",
              "      border-color: transparent;\n",
              "      border-bottom-color: var(--fill-color);\n",
              "      border-left-color: var(--fill-color);\n",
              "    }\n",
              "    20% {\n",
              "      border-color: transparent;\n",
              "      border-left-color: var(--fill-color);\n",
              "      border-top-color: var(--fill-color);\n",
              "    }\n",
              "    30% {\n",
              "      border-color: transparent;\n",
              "      border-left-color: var(--fill-color);\n",
              "      border-top-color: var(--fill-color);\n",
              "      border-right-color: var(--fill-color);\n",
              "    }\n",
              "    40% {\n",
              "      border-color: transparent;\n",
              "      border-right-color: var(--fill-color);\n",
              "      border-top-color: var(--fill-color);\n",
              "    }\n",
              "    60% {\n",
              "      border-color: transparent;\n",
              "      border-right-color: var(--fill-color);\n",
              "    }\n",
              "    80% {\n",
              "      border-color: transparent;\n",
              "      border-right-color: var(--fill-color);\n",
              "      border-bottom-color: var(--fill-color);\n",
              "    }\n",
              "    90% {\n",
              "      border-color: transparent;\n",
              "      border-bottom-color: var(--fill-color);\n",
              "    }\n",
              "  }\n",
              "</style>\n",
              "\n",
              "  <script>\n",
              "    async function quickchart(key) {\n",
              "      const quickchartButtonEl =\n",
              "        document.querySelector('#' + key + ' button');\n",
              "      quickchartButtonEl.disabled = true;  // To prevent multiple clicks.\n",
              "      quickchartButtonEl.classList.add('colab-df-spinner');\n",
              "      try {\n",
              "        const charts = await google.colab.kernel.invokeFunction(\n",
              "            'suggestCharts', [key], {});\n",
              "      } catch (error) {\n",
              "        console.error('Error during call to suggestCharts:', error);\n",
              "      }\n",
              "      quickchartButtonEl.classList.remove('colab-df-spinner');\n",
              "      quickchartButtonEl.classList.add('colab-df-quickchart-complete');\n",
              "    }\n",
              "    (() => {\n",
              "      let quickchartButtonEl =\n",
              "        document.querySelector('#df-c609d2a8-57a4-43d9-89b6-da47a4d514dc button');\n",
              "      quickchartButtonEl.style.display =\n",
              "        google.colab.kernel.accessAllowed ? 'block' : 'none';\n",
              "    })();\n",
              "  </script>\n",
              "</div>\n",
              "\n",
              "    </div>\n",
              "  </div>\n"
            ],
            "application/vnd.google.colaboratory.intrinsic+json": {
              "type": "dataframe",
              "variable_name": "bitcoin_prices",
              "summary": "{\n  \"name\": \"bitcoin_prices\",\n  \"rows\": 2787,\n  \"fields\": [\n    {\n      \"column\": \"Date\",\n      \"properties\": {\n        \"dtype\": \"date\",\n        \"min\": \"2013-10-01 00:00:00\",\n        \"max\": \"2021-05-18 00:00:00\",\n        \"num_unique_values\": 2787,\n        \"samples\": [\n          \"2019-06-11 00:00:00\",\n          \"2021-05-03 00:00:00\",\n          \"2017-10-05 00:00:00\"\n        ],\n        \"semantic_type\": \"\",\n        \"description\": \"\"\n      }\n    },\n    {\n      \"column\": \"Price\",\n      \"properties\": {\n        \"dtype\": \"number\",\n        \"std\": 10887.84744436952,\n        \"min\": 108.58483,\n        \"max\": 63346.7890351052,\n        \"num_unique_values\": 2787,\n        \"samples\": [\n          7954.0062377205,\n          56427.0431250152,\n          4186.78374\n        ],\n        \"semantic_type\": \"\",\n        \"description\": \"\"\n      }\n    }\n  ]\n}"
            }
          },
          "metadata": {},
          "execution_count": 7
        }
      ]
    },
    {
      "cell_type": "code",
      "source": [
        "import matplotlib.pyplot as plt\n",
        "bitcoin_prices.plot(figsize=(10,7))\n",
        "plt.ylabel(\"BTC Price\")\n",
        "plt.title(\"Price of Bitcoin from 1 oct 2013 to 18 May 2021\", fontsize=16)\n",
        "plt.legend(fontsize=14);"
      ],
      "metadata": {
        "colab": {
          "base_uri": "https://localhost:8080/",
          "height": 643
        },
        "id": "4_WpdYDuZTbB",
        "outputId": "172309a1-abd2-436e-e6fb-7b172474ed78"
      },
      "execution_count": 8,
      "outputs": [
        {
          "output_type": "display_data",
          "data": {
            "text/plain": [
              "<Figure size 1000x700 with 1 Axes>"
            ],
            "image/png": "[encoded data removed]"
          },
          "metadata": {}
        }
      ]
    },
    {
      "cell_type": "markdown",
      "source": [
        "## Format Data Part 1: Creating Train and Test Sets for Time Series Data\n",
        "\n",
        "What’s the next step?\n",
        "\n",
        "If you guessed preparing our data for the model, you’re spot on.\n",
        "\n",
        "### What’s the most important first step in preparing any machine learning dataset?\n",
        "\n",
        "- Scaling?\n",
        "  - No...\n",
        "- Removing outliers?\n",
        "  - No...\n",
        "- How about creating train and test splits?\n",
        "  - Yes!\n",
        "\n",
        "Typically, you might use a function like Scikit-Learn’s [`train_test_split()`](https://scikit-learn.org/stable/modules/generated/sklearn.model_selection.train_test_split.html) to create train and test splits. However, as we’ll soon discover, this approach isn’t ideal for time series data.\n",
        "\n",
        "### What kind of data do we have?\n",
        "\n",
        "Before creating splits, it’s essential to understand the type of data we're working with.\n",
        "\n",
        "In time series problems, your data can be either **univariate** or **multivariate**.\n",
        "\n",
        "- **Univariate** time series data involves a single variable, such as using the price of Bitcoin to predict future prices of Bitcoin.\n",
        "- **Multivariate** time series data involves multiple variables, such as predicting electricity demand using factors like the day of the week, time of year, and the number of houses in a region.\n",
        "  \n",
        "Can you guess which one our data falls under?\n"
      ],
      "metadata": {
        "id": "-eUVqmePNpsA"
      }
    },
    {
      "cell_type": "markdown",
      "source": [
        "### Create train & test sets for time series (the wrong way)\n",
        "\n",
        "ok, we've figured out we're dealing with a univariate time series, so we only have to make a split on one variable (for multivariate time series, you will have to split multiple variables).\n",
        "\n",
        "How about we first see the *wrong way* for splitting time series data?\n",
        "\n",
        "Let's turn our DataFrame index and column into NumPy arrays."
      ],
      "metadata": {
        "id": "IcBEKpV7NtV3"
      }
    },
    {
      "cell_type": "code",
      "source": [
        "# Get bitcoin date array\n",
        "timesteps = bitcoin_prices.index.to_numpy()\n",
        "prices = bitcoin_prices['Price'].to_numpy()\n",
        "\n",
        "timesteps[:10], prices[:10]"
      ],
      "metadata": {
        "id": "aD0GPn-MasEa",
        "colab": {
          "base_uri": "https://localhost:8080/"
        },
        "outputId": "f1f50168-c47e-4371-eacc-7271a6ead127"
      },
      "execution_count": 9,
      "outputs": [
        {
          "output_type": "execute_result",
          "data": {
            "text/plain": [
              "(array(['2013-10-01T00:00:00.000000000', '2013-10-02T00:00:00.000000000',\n",
              "        '2013-10-03T00:00:00.000000000', '2013-10-04T00:00:00.000000000',\n",
              "        '2013-10-05T00:00:00.000000000', '2013-10-06T00:00:00.000000000',\n",
              "        '2013-10-07T00:00:00.000000000', '2013-10-08T00:00:00.000000000',\n",
              "        '2013-10-09T00:00:00.000000000', '2013-10-10T00:00:00.000000000'],\n",
              "       dtype='datetime64[ns]'),\n",
              " array([123.65499, 125.455  , 108.58483, 118.67466, 121.33866, 120.65533,\n",
              "        121.795  , 123.033  , 124.049  , 125.96116]))"
            ]
          },
          "metadata": {},
          "execution_count": 9
        }
      ]
    },
    {
      "cell_type": "code",
      "source": [
        "# wrong way of splitting train and test sets\n",
        "from sklearn.model_selection import train_test_split\n",
        "\n",
        "X_train, X_test, y_train, y_test = train_test_split(timesteps,\n",
        "                                                  prices,\n",
        "                                                  test_size=0.2,\n",
        "                                                  random_state=42)\n",
        "\n",
        "X_train.shape, X_test.shape, y_train.shape, y_test.shape"
      ],
      "metadata": {
        "colab": {
          "base_uri": "https://localhost:8080/"
        },
        "id": "w104t6vfOIqT",
        "outputId": "5eac76fa-3c49-4452-c0cd-0634a943dc5e"
      },
      "execution_count": 10,
      "outputs": [
        {
          "output_type": "execute_result",
          "data": {
            "text/plain": [
              "((2229,), (558,), (2229,), (558,))"
            ]
          },
          "metadata": {},
          "execution_count": 10
        }
      ]
    },
    {
      "cell_type": "code",
      "source": [
        "# Let's plot wrong train and test splits\n",
        "plt.figure(figsize=(10, 7))\n",
        "plt.scatter(X_train, y_train, s=5, label=\"Train data\")\n",
        "plt.scatter(X_test, y_test, s=5, label=\"Test data\")\n",
        "plt.xlabel(\"Date\")\n",
        "plt.ylabel(\"BTC Price\")\n",
        "plt.legend(fontsize=14)\n",
        "plt.show();"
      ],
      "metadata": {
        "colab": {
          "base_uri": "https://localhost:8080/",
          "height": 619
        },
        "id": "pKBrtzL_O0es",
        "outputId": "fa63bb62-f268-4c81-cce9-ea1770e5460f"
      },
      "execution_count": 11,
      "outputs": [
        {
          "output_type": "display_data",
          "data": {
            "text/plain": [
              "<Figure size 1000x700 with 1 Axes>"
            ],
            "image/png": "[encoded data removed]"
          },
          "metadata": {}
        }
      ]
    },
    {
      "cell_type": "markdown",
      "source": [
        "### Create train & test sets for time series (the right way)\n",
        "\n",
        "Of course, there's no way we can actually access data from the future.\n",
        "\n",
        "But we can engineer our test set to be in the future with respect to the training set.\n",
        "\n",
        "To do this, we can create an abitrary point in time to split our data.\n",
        "\n",
        "Everything before the point in time can be considered the training set and everything after the point in time can be considered the test set."
      ],
      "metadata": {
        "id": "pUsApPy6f9FX"
      }
    },
    {
      "cell_type": "code",
      "source": [
        "# Create train and test splits the right way for time series data\n",
        "split_size = int(0.8*len(prices))\n",
        "\n",
        "# Create train data splits (everything before the split)\n",
        "X_train, y_train = timesteps[:split_size], prices[:split_size]\n",
        "\n",
        "# Create test data splits (everything after the split)\n",
        "X_test, y_test = timesteps[split_size:], prices[split_size:]\n",
        "\n",
        "len(X_train), len(X_test), len(y_train), len(y_test)"
      ],
      "metadata": {
        "colab": {
          "base_uri": "https://localhost:8080/"
        },
        "id": "QbbLprySf1Ch",
        "outputId": "1260e82a-c846-4b1b-a268-e3aa2d1f4e6b"
      },
      "execution_count": 12,
      "outputs": [
        {
          "output_type": "execute_result",
          "data": {
            "text/plain": [
              "(2229, 558, 2229, 558)"
            ]
          },
          "metadata": {},
          "execution_count": 12
        }
      ]
    },
    {
      "cell_type": "markdown",
      "source": [
        "### Create a plotting function\n",
        "\n",
        "Rather than retyping `matplotlib` commands to continuously plot data, let's make a plotting function we can reuse later."
      ],
      "metadata": {
        "id": "gHihvi_se8un"
      }
    },
    {
      "cell_type": "code",
      "source": [
        "def plot_time_series(timesteps, values, format='.', start=0, end=None, label=None):\n",
        "  \"\"\"\n",
        "  Plots a timesteps (a series of points in time) against values (a series of values across timesteps).\n",
        "\n",
        "  Parameters\n",
        "  ---------\n",
        "  timesteps : array of timesteps\n",
        "  values : array of values across time\n",
        "  format : style of plot, default \".\"\n",
        "  start : where to start the plot (setting a value will index from start of timesteps & values)\n",
        "  end : where to end the plot (setting a value will index from end of timesteps & values)\n",
        "  label : label to show on plot of values\n",
        "  \"\"\"\n",
        "  #plot the series\n",
        "  plt.plot(timesteps[start:end], values[start:end], format, label=label)\n",
        "  plt.xlabel(\"Time\")\n",
        "  plt.ylabel(\"BTC Price\")\n",
        "  if label:\n",
        "    plt.legend(fontsize=14) #Make label bigger\n",
        "  plt.grid(True)"
      ],
      "metadata": {
        "id": "9Tb8n5EmO9uv"
      },
      "execution_count": 13,
      "outputs": []
    },
    {
      "cell_type": "code",
      "source": [
        "# Try out our plotting function\n",
        "plt.figure(figsize=(10, 7))\n",
        "plot_time_series(X_train, y_train, label='Train data')\n",
        "plot_time_series(X_test, y_test, label=\"Test data\")"
      ],
      "metadata": {
        "colab": {
          "base_uri": "https://localhost:8080/",
          "height": 619
        },
        "id": "K2kK1nb1fc1R",
        "outputId": "f699c102-b05a-428b-8520-89917a19d2b5"
      },
      "execution_count": 14,
      "outputs": [
        {
          "output_type": "display_data",
          "data": {
            "text/plain": [
              "<Figure size 1000x700 with 1 Axes>"
            ],
            "image/png": "[encoded data removed]"
          },
          "metadata": {}
        }
      ]
    },
    {
      "cell_type": "markdown",
      "source": [
        "## Modeling Experiments\n",
        "\n",
        "We can create a wide variety of models for our problem, as long as the data inputs and outputs are properly formatted.\n",
        "\n",
        "However, just because we *can* build *almost any* model, it doesn't mean it will perform well or be suitable for production use. We’ll explore this as we build and evaluate different models.\n",
        "\n",
        "### Two Key Terms: **Horizon** and **Window**\n",
        "\n",
        "Before diving into our modeling experiments, it's important to understand two key concepts:\n",
        "\n",
        "- **Horizon**: The number of time steps to predict into the future.\n",
        "- **Window**: The number of past time steps used to predict the horizon.\n",
        "\n",
        "For example, if we want to predict tomorrow's Bitcoin price (1-day horizon) using the last week's worth of prices (7-day window), the horizon would be 1, and the window would be 7.\n",
        "\n",
        "### Modeling Experiments Overview\n",
        "\n",
        "Now, let’s take a look at the modeling experiments we’ll run:\n",
        "\n",
        "| Model Number | Model Type | Horizon size | Window size | Extra data |\n",
        "| ------------- | ------------- | ------------- | ------------- | ------------- |\n",
        "| 0 | Naïve model (baseline) | NA | NA | NA |\n",
        "| 1 | Dense model | 1 | 7 | NA |\n",
        "| 2 | Same as 1 | 1 | 30 | NA |\n",
        "| 3 | Same as 1 | 7 | 30 | NA |\n",
        "| 4 | Conv1D | 1 | 7 | NA |\n",
        "| 5 | LSTM | 1 | 7 | NA |\n",
        "| 6 | Same as 1 (with multivariate data) | 1 | 7 | Block reward size |\n",
        "| 7 | [N-BEATs Algorithm](https://arxiv.org/pdf/1905.10437.pdf) | 1 | 7 | NA |\n",
        "| 8 | Ensemble (multiple models optimized on different loss functions) | 1 | 7 | NA |\n",
        "| 9 | Future prediction model | 1 | 7 | NA|\n",
        "| 10 | Same as 1 (with turkey 🦃 data introduced) | 1 | 7 | NA |\n",
        "\n",
        "> 🔑 **Note:** As you can see, we can build various models for the data we’re working with. However, this doesn’t guarantee their performance. Deep learning is a powerful tool, but it doesn’t always work. Always start with a simple model, then add complexity as needed.\n"
      ],
      "metadata": {
        "id": "9dSu0NAEfsTz"
      }
    },
    {
      "cell_type": "markdown",
      "source": [
        "## Model 0: Naïve Forecast (Baseline)\n",
        "\n",
        "Let's begin with a baseline model.\n",
        "\n",
        "One of the most common baselines for time series forecasting is the naïve model (also known as the [naïve forecast](https://otexts.com/fpp3/simple-methods.html#na%C3%AFve-method)). The best part? It requires no training.\n",
        "\n",
        "The naïve model simply predicts that the next timestep's value will be the same as the previous timestep's value. The formula for this is:\n",
        "\n",
        "$$\\hat{y}_{t} = y_{t-1}$$\n",
        "\n",
        "In plain English:\n",
        "> The prediction at timestep `t` (y-hat) is the same as the value at timestep `t-1` (the previous timestep).\n",
        "\n",
        "Sounds simple, right?\n",
        "\n",
        "But in an open system, like a stock or crypto market, it’s often surprisingly difficult to beat the naïve forecast with more complex models.\n",
        "\n",
        "> 🔑 **Note:** In this notebook, an **open system** refers to a system where inputs and outputs can freely flow, such as a market (stock or crypto). On the other hand, a **closed system** is where inputs and outputs are contained within the system (like a poker game with your friends, where you know the buy-in and the potential winnings). Time series forecasting in **open systems** is typically challenging.\n"
      ],
      "metadata": {
        "id": "8OATpPUiiqvM"
      }
    },
    {
      "cell_type": "code",
      "source": [
        "# creata a naive forecast\n",
        "naive_forecast = y_test[:-1] # Naive forecast equals value excluding the last value\n",
        "naive_forecast[:10], naive_forecast[-10:]"
      ],
      "metadata": {
        "colab": {
          "base_uri": "https://localhost:8080/"
        },
        "id": "2zA_MwYHiits",
        "outputId": "18fb398f-b50b-4731-e444-b18fdd7528c9"
      },
      "execution_count": 15,
      "outputs": [
        {
          "output_type": "execute_result",
          "data": {
            "text/plain": [
              "(array([9226.48582088, 8794.35864452, 8798.04205463, 9081.18687849,\n",
              "        8711.53433917, 8760.89271814, 8749.52059102, 8656.97092235,\n",
              "        8500.64355816, 8469.2608989 ]),\n",
              " array([57107.12067189, 58788.20967893, 58102.19142623, 55715.54665129,\n",
              "        56573.5554719 , 52147.82118698, 49764.1320816 , 50032.69313676,\n",
              "        47885.62525472, 45604.61575361]))"
            ]
          },
          "metadata": {},
          "execution_count": 15
        }
      ]
    },
    {
      "cell_type": "code",
      "source": [
        "y_test[-10:]"
      ],
      "metadata": {
        "colab": {
          "base_uri": "https://localhost:8080/"
        },
        "id": "ImXqdlQ5jkSi",
        "outputId": "c0355e62-c1c8-4e50-afa5-db1015ae4692"
      },
      "execution_count": 16,
      "outputs": [
        {
          "output_type": "execute_result",
          "data": {
            "text/plain": [
              "array([58788.20967893, 58102.19142623, 55715.54665129, 56573.5554719 ,\n",
              "       52147.82118698, 49764.1320816 , 50032.69313676, 47885.62525472,\n",
              "       45604.61575361, 43144.47129086])"
            ]
          },
          "metadata": {},
          "execution_count": 16
        }
      ]
    },
    {
      "cell_type": "code",
      "source": [
        "# Plot naive forecast\n",
        "plt.figure(figsize=(10, 7))\n",
        "plot_time_series(X_train, y_train, label=\"Train data\")\n",
        "plot_time_series(X_test, y_test, label='Test data')\n",
        "plot_time_series(X_test[1:], naive_forecast, format='-', label='Naive forecast')"
      ],
      "metadata": {
        "colab": {
          "base_uri": "https://localhost:8080/",
          "height": 619
        },
        "id": "yj0Oq6CejCI6",
        "outputId": "c0780bdd-a68d-493e-b461-7253629fe840"
      },
      "execution_count": 17,
      "outputs": [
        {
          "output_type": "display_data",
          "data": {
            "text/plain": [
              "<Figure size 1000x700 with 1 Axes>"
            ],
            "image/png": "[encoded data removed]"
          },
          "metadata": {}
        }
      ]
    },
    {
      "cell_type": "markdown",
      "source": [
        "The naive forecast looks like it's following the data well.\n",
        "\n",
        "Let's zoom in to take a better look.\n",
        "\n",
        "We can do so by creating an offset value and passing it to the `start` parameter of our `plot_time_series()` function."
      ],
      "metadata": {
        "id": "jjk7pkColuaW"
      }
    },
    {
      "cell_type": "code",
      "source": [
        "plt.figure(figsize=(10,7))\n",
        "offset=300\n",
        "plot_time_series(X_test, y_test, start=offset, label=\"Test_data\")\n",
        "plot_time_series(X_test[1:], naive_forecast, format='-', start=offset, label='Naive forecast')"
      ],
      "metadata": {
        "colab": {
          "base_uri": "https://localhost:8080/",
          "height": 619
        },
        "id": "pZ1Etqw2j_Ge",
        "outputId": "304901cb-4de4-450e-aa03-3705509cbdb0"
      },
      "execution_count": 18,
      "outputs": [
        {
          "output_type": "display_data",
          "data": {
            "text/plain": [
              "<Figure size 1000x700 with 1 Axes>"
            ],
            "image/png": "[encoded data removed]"
          },
          "metadata": {}
        }
      ]
    },
    {
      "cell_type": "markdown",
      "source": [
        "## Evaluating a Time Series Model\n",
        "\n",
        "When forecasting time series data, like predicting Bitcoin's price, we're often dealing with a regression problem.\n",
        "\n",
        "This means we can use regression evaluation metrics to measure how well our models perform.\n",
        "\n",
        "The key question we'll focus on is: **How do our model's predictions (`y_pred`) compare to the actual values (`y_true` or *ground truth values*)?**\n",
        "\n",
        "> 📖 **Resource:** We'll be using several metrics to evaluate the accuracy of our time series forecasts. Many of these metrics are detailed in [Forecasting: Principles and Practice chapter 5.8](https://otexts.com/fpp3/accuracy.html), which provides a deeper understanding of the concepts we'll cover.\n",
        "\n",
        "For the metrics below, **lower values indicate better performance** (e.g., an MAE of 0 is better than an MAE of 100).\n",
        "\n",
        "### Scale-Dependent Errors\n",
        "\n",
        "These metrics compare time series values and forecasts that are on the same scale.\n",
        "\n",
        "For example, comparing Bitcoin historical prices in USD to forecast values in USD.\n",
        "\n",
        "| Metric | Details | Code |\n",
        "| ----- | ----- | ----- |\n",
        "| **MAE** (Mean Absolute Error) | Easy to interpret (a forecast is X amount different from the actual value). Minimizing MAE leads to forecasts of the median. | [`tf.keras.metrics.mean_absolute_error()`](https://www.tensorflow.org/api_docs/python/tf/keras/metrics/MeanAbsoluteError) |\n",
        "| **RMSE** (Root Mean Square Error) | Minimizing RMSE leads to forecasts of the mean. | `tf.sqrt(`[`tf.keras.metrics.mean_squared_error()`](https://www.tensorflow.org/api_docs/python/tf/keras/metrics/RootMeanSquaredError)`)`|\n",
        "\n",
        "### Percentage Errors\n",
        "\n",
        "Percentage errors have no units, allowing comparisons across different datasets.\n",
        "\n",
        "| **Metric** | **Details** | **Code** |\n",
        "| ----- | ----- | ----- |\n",
        "| **MAPE** (Mean Absolute Percentage Error) | Most commonly used percentage error. May not work if `y=0`. | [`tf.keras.metrics.mean_absolute_percentage_error()`](https://www.tensorflow.org/api_docs/python/tf/keras/losses/MAPE) |\n",
        "| **sMAPE** (Symmetric Mean Absolute Percentage Error) | Not recommended by [Forecasting: Principles and Practice](https://otexts.com/fpp3/accuracy.html#percentage-errors), though used in forecasting competitions. | Custom implementation |\n",
        "\n",
        "### Scaled Errors\n",
        "\n",
        "Scaled errors are an alternative to percentage errors for comparing forecast performance across different time series.\n",
        "\n",
        "| **Metric** | **Details** | **Code** |\n",
        "| ----- | ----- | ----- |\n",
        "| **MASE** (Mean Absolute Scaled Error) | MASE equals one for the naïve forecast. A forecast performing better than the naïve should have a MASE of less than 1. | See sktime's [`mase_loss()`](https://github.com/alan-turing-institute/sktime/blob/ee7a06843a44f4aaec7582d847e36073a9ab0566/sktime/performance_metrics/forecasting/_functions.py#L16) |\n",
        "\n",
        "> 🤔 **Question:** With so many metrics, which one should I focus on? It depends on your problem, but MAE is often a good place to start due to its simplicity and ease of explanation.\n",
        "\n",
        "Since we'll be evaluating many models, let’s write a function to calculate these evaluation metrics for our forecasts.\n",
        "\n",
        "First, we’ll need TensorFlow.\n"
      ],
      "metadata": {
        "id": "L6Zl0sbAySvV"
      }
    },
    {
      "cell_type": "code",
      "source": [
        "import tensorflow as tf"
      ],
      "metadata": {
        "id": "E7ONyeRnmGf_"
      },
      "execution_count": 19,
      "outputs": []
    },
    {
      "cell_type": "code",
      "source": [
        "# MASE implemented courtesy of sktime - https://github.com/alan-turing-institute/sktime/blob/ee7a06843a44f4aaec7582d847e36073a9ab0566/sktime/performance_metrics/forecasting/_functions.py#L16\n",
        "def mean_absolute_scaled_error(y_true, y_pred):\n",
        "  \"\"\"\n",
        "  Implement MASE (assuming no seasonality of data)\n",
        "  \"\"\"\n",
        "  mae = tf.reduce_mean(tf.abs(y_true - y_pred))\n",
        "\n",
        "  # Find MAE of naive forecast (no seasonality)\n",
        "  mae_naive_no_season = tf.reduce_mean(tf.abs(y_true[1:] - y_pred[:-1])) # our seasonality is 1 day (hence the shifting of 1 day)\n",
        "\n",
        "  return mae/ mae_naive_no_season"
      ],
      "metadata": {
        "id": "071f7WjhwFss"
      },
      "execution_count": 20,
      "outputs": []
    },
    {
      "cell_type": "code",
      "source": [
        "def evaluate_preds(y_true, y_pred):\n",
        "    # Make sure float32 for metric calculations\n",
        "    y_true = tf.cast(y_true, dtype=tf.float32)\n",
        "    y_pred = tf.cast(y_pred, dtype=tf.float32)\n",
        "\n",
        "    # Calculate various metrics\n",
        "    mae = tf.keras.metrics.MeanAbsoluteError()(y_true, y_pred)\n",
        "    mse = tf.keras.metrics.MeanSquaredError()(y_true, y_pred)\n",
        "    rmse = tf.sqrt(mse)\n",
        "    mape = tf.keras.metrics.MeanAbsolutePercentageError()(y_true, y_pred)\n",
        "    mase = mean_absolute_scaled_error(y_true, y_pred)\n",
        "\n",
        "    return {\n",
        "        \"MAE\": mae.numpy(),\n",
        "        \"MSE\": mse.numpy(),\n",
        "        \"RMSE\": rmse.numpy(),\n",
        "        \"MAPE\": mape.numpy(),\n",
        "        \"MASE\": mase.numpy()\n",
        "    }"
      ],
      "metadata": {
        "id": "oRuAAOxawThD"
      },
      "execution_count": 21,
      "outputs": []
    },
    {
      "cell_type": "code",
      "source": [
        "naive_results = evaluate_preds(y_test[1:],\n",
        "                               naive_forecast)\n",
        "naive_results"
      ],
      "metadata": {
        "colab": {
          "base_uri": "https://localhost:8080/"
        },
        "id": "Z36gcqk-z9O8",
        "outputId": "06de7591-98a0-4297-8289-f590108cc5cd"
      },
      "execution_count": 22,
      "outputs": [
        {
          "output_type": "execute_result",
          "data": {
            "text/plain": [
              "{'MAE': 567.9802,\n",
              " 'MSE': 1147547.0,\n",
              " 'RMSE': 1071.2362,\n",
              " 'MAPE': 2.516525,\n",
              " 'MASE': 0.69212395}"
            ]
          },
          "metadata": {},
          "execution_count": 22
        }
      ]
    },
    {
      "cell_type": "code",
      "source": [
        "# Find average price of Bitcoin in test dataset\n",
        "tf.reduce_mean(y_test).numpy()"
      ],
      "metadata": {
        "colab": {
          "base_uri": "https://localhost:8080/"
        },
        "id": "SD3yYQrT0HDA",
        "outputId": "9d2ddfe7-8b3b-4dee-b01c-6d1d2af92624"
      },
      "execution_count": 23,
      "outputs": [
        {
          "output_type": "execute_result",
          "data": {
            "text/plain": [
              "20056.632963737222"
            ]
          },
          "metadata": {},
          "execution_count": 23
        }
      ]
    },
    {
      "cell_type": "markdown",
      "source": [
        "## Other kinds of time series forecasting models which can be used for baselines and actual forecasts\n",
        "\n",
        "Since we've got a naïve forecast baseline to work with, it's time we start building models to try and beat it.\n",
        "\n",
        "And because this course is focused on TensorFlow and deep learning, we're going to be using TensorFlow to build deep learning models to try and improve on our naïve forecasting results.\n",
        "\n",
        "That being said, there are many other kinds of models you may want to look into for building baselines/performing forecasts.\n",
        "\n",
        "Some of them may even beat our best performing models in this notebook, however, I'll leave trying them out for extra-curriculum.\n",
        "\n",
        "| **Model/Library Name** | **Resource** |\n",
        "| ----- | ----- |\n",
        "| Moving average | https://machinelearningmastery.com/moving-average-smoothing-for-time-series-forecasting-python/ |\n",
        "| ARIMA (Autoregression Integrated Moving Average) | https://machinelearningmastery.com/arima-for-time-series-forecasting-with-python/ |\n",
        "| sktime (Scikit-Learn for time series) | https://github.com/alan-turing-institute/sktime |\n",
        "| TensorFlow Decision Forests (random forest, gradient boosting trees) | https://www.tensorflow.org/decision_forests |\n",
        "| Facebook Kats (purpose-built forecasting and time series analysis library by Facebook) | https://github.com/facebookresearch/Kats |\n",
        "| LinkedIn Greykite (flexible, intuitive and fast forecasts) | https://github.com/linkedin/greykite |"
      ],
      "metadata": {
        "id": "2xLACIMCP9LN"
      }
    },
    {
      "cell_type": "markdown",
      "source": [
        "## Format Data Part 2: Windowing Dataset\n",
        "\n",
        "We’re almost ready to start building our models, but there's one more step (really two) to complete.\n",
        "\n",
        "We need to **window** our time series data.\n",
        "\n",
        "### Why Window the Data?\n",
        "\n",
        "Windowing transforms a time series dataset into a **supervised learning problem**.\n",
        "\n",
        "In other words, we use past data windows to predict future values.\n",
        "\n",
        "For instance, if we want to use a window of one week (`window=7`) to predict the next single value (`horizon=1`) for a univariate time series, it might look like this:\n",
        "\n",
        "```\n",
        "Window for one week (univariate time series)\n",
        "\n",
        "[0, 1, 2, 3, 4, 5, 6] -> [7]\n",
        "[1, 2, 3, 4, 5, 6, 7] -> [8]\n",
        "[2, 3, 4, 5, 6, 7, 8] -> [9]\n",
        "```\n",
        "\n",
        "\n",
        "For predicting Bitcoin prices, it would look like this:\n",
        "\n",
        "```\n",
        "Window for one week with the target of predicting the next day (Bitcoin prices)\n",
        "\n",
        "[123.654, 125.455, 108.584, 118.674, 121.338, 120.655, 121.795] -> [123.033]\n",
        "[125.455, 108.584, 118.674, 121.338, 120.655, 121.795, 123.033] -> [124.049]\n",
        "[108.584, 118.674, 121.338, 120.655, 121.795, 123.033, 124.049] -> [125.961]\n",
        "```\n",
        "\n",
        "Let's build some functions which take in a univariate time series and turn it into windows and horizons of specified sizes.\n",
        "\n",
        "We'll start with the default horizon size of 1 and a window size of 7 (these aren't necessarily the best values to use, I've just picked them).\n"
      ],
      "metadata": {
        "id": "9TGxGWKZPvUU"
      }
    },
    {
      "cell_type": "code",
      "source": [
        "HORIZON = 1\n",
        "WINDOW_SIZE = 7"
      ],
      "metadata": {
        "id": "OiF1-ceoQSZe"
      },
      "execution_count": 24,
      "outputs": []
    },
    {
      "cell_type": "code",
      "source": [
        "def get_labelled_windows(x, horizon=1):\n",
        "  \"\"\"\n",
        "  Creates labels for windowed dataset\n",
        "\n",
        "  E.g. if horizon=1 (Default)\n",
        "  Input: [1,2,3,4,5,6] -> output: ([1,2,3,4,5], [6])\n",
        "  \"\"\"\n",
        "  return x[:, :-horizon], x[:, -horizon:]"
      ],
      "metadata": {
        "id": "aof_Lnw1QepT"
      },
      "execution_count": 25,
      "outputs": []
    },
    {
      "cell_type": "code",
      "source": [
        "# Test out the window labelling function\n",
        "test_window, test_label = get_labelled_windows(tf.expand_dims(tf.range(8)+1, axis=0), horizon=HORIZON)\n",
        "print(f\"Window: {tf.squeeze(test_window).numpy()} -> Label: {tf.squeeze(test_label).numpy()}\")"
      ],
      "metadata": {
        "colab": {
          "base_uri": "https://localhost:8080/"
        },
        "id": "99KUzHgcRNan",
        "outputId": "a566470f-ba81-477a-86ce-12c6b22847d8"
      },
      "execution_count": 26,
      "outputs": [
        {
          "output_type": "stream",
          "name": "stdout",
          "text": [
            "Window: [1 2 3 4 5 6 7] -> Label: 8\n"
          ]
        }
      ]
    },
    {
      "cell_type": "markdown",
      "source": [
        "### Creating Windows for the Entire Time Series\n",
        "\n",
        "To efficiently create windows for the entire time series, we could use Python for loops. However, for large datasets, this approach can be slow.\n",
        "\n",
        "To speed up the process, we’ll use [NumPy's array indexing](https://numpy.org/doc/stable/reference/arrays.indexing.html).\n",
        "\n",
        "The following steps will help us:\n",
        "\n",
        "1. We’ll use NumPy to create overlapping slices (windows) of our time series data.\n",
        "2. These windows will be used to train our models.\n",
        "3. We’ll apply the `get_labelled_windows()` function (created earlier) to convert these window slices into labeled windows with a specified horizon.\n",
        "\n",
        "> 📖 **Resource:** The function created below is adapted from Syafiq Kamarul Azman's article [*Fast and Robust Sliding Window Vectorization with NumPy*](https://towardsdatascience.com/fast-and-robust-sliding-window-vectorization-with-numpy-3ad950ed62f5).\n"
      ],
      "metadata": {
        "id": "m36_iWYbNyxQ"
      }
    },
    {
      "cell_type": "code",
      "source": [
        "import numpy as np\n",
        "# create function to view NumPy arrays as windows\n",
        "def make_windows(x, window_size=7, horizon=1):\n",
        "  \"\"\"\n",
        "  Turns a 1D array into a 2D array of sequential windows of window size\n",
        "  \"\"\"\n",
        "  # 1. create a window of specific window_size (add the horizon on the end for later labelling)\n",
        "  window_step = np.expand_dims(np.arange(window_size+horizon), axis=0)\n",
        "\n",
        "  # 2. Create a 2D array of multiple window steps (minus 1 to account for 0 indexing)\n",
        "  window_indexes = window_step + np.expand_dims(np.arange(len(x)-(window_size+horizon-1)), axis=0).T # create 2D array of windows of size window_size\n",
        "\n",
        "  # 3. Index on the target array (time series) with 2D array of multiple window steps\n",
        "  windowed_array = x[window_indexes]\n",
        "\n",
        "  # 4. Get the labelled windows\n",
        "  windows, labels = get_labelled_windows(windowed_array, horizon=horizon)\n",
        "\n",
        "  return windows, labels\n"
      ],
      "metadata": {
        "id": "Q-LxRhHdRU-D"
      },
      "execution_count": 27,
      "outputs": []
    },
    {
      "cell_type": "markdown",
      "source": [
        "To understand above func refer to this:\n",
        "\n",
        "window_step = `[[0, 1, 2, 3, 4, 5, 6, 7]]`\n",
        "\n",
        "window_indexes will result in:\n",
        "`[[0], [1], [2],....] + [[0, 1, 2, 3, 4, 5, 6, 7]]`\n",
        "\n",
        "This results in:\n",
        "```\n",
        "[[0]+[0, 1, 2, 3, 4, 5, 6, 7],\n",
        "[1]+[0, 1, 2, 3, 4, 5, 6, 7],\n",
        "[2]+[0, 1, 2, 3, 4, 5, 6, 7],\n",
        "....] = [[0, 1, 2, 3, 4, 5, 6, 7], [1, 2, 3, 4, 5, 6, 7, 8], [2, 3, 4, 5, 6, 7, 8, 9],....]\n",
        "```"
      ],
      "metadata": {
        "id": "qnja2qpdTKvg"
      }
    },
    {
      "cell_type": "code",
      "source": [
        "full_windows, full_labels = make_windows(prices, window_size=WINDOW_SIZE, horizon=HORIZON)\n",
        "len(full_windows), len(full_labels)"
      ],
      "metadata": {
        "colab": {
          "base_uri": "https://localhost:8080/"
        },
        "id": "pPSBZN4oP2xh",
        "outputId": "fc6d21c0-35b7-475e-b787-ec9f0d02b2f2"
      },
      "execution_count": 28,
      "outputs": [
        {
          "output_type": "execute_result",
          "data": {
            "text/plain": [
              "(2780, 2780)"
            ]
          },
          "metadata": {},
          "execution_count": 28
        }
      ]
    },
    {
      "cell_type": "code",
      "source": [
        "# View the first 3 windows/labels\n",
        "for i in range(3):\n",
        "  print(f\"Window: {full_windows[i]} -> Label: {full_labels[i]}\")"
      ],
      "metadata": {
        "colab": {
          "base_uri": "https://localhost:8080/"
        },
        "id": "iH6q3jnuUuY1",
        "outputId": "bf1da541-29e8-4fce-e16a-b7411b4f4e8a"
      },
      "execution_count": 29,
      "outputs": [
        {
          "output_type": "stream",
          "name": "stdout",
          "text": [
            "Window: [123.65499 125.455   108.58483 118.67466 121.33866 120.65533 121.795  ] -> Label: [123.033]\n",
            "Window: [125.455   108.58483 118.67466 121.33866 120.65533 121.795   123.033  ] -> Label: [124.049]\n",
            "Window: [108.58483 118.67466 121.33866 120.65533 121.795   123.033   124.049  ] -> Label: [125.96116]\n"
          ]
        }
      ]
    },
    {
      "cell_type": "code",
      "source": [
        "# View the last 3 windows/labels\n",
        "for i in range(3):\n",
        "  print(f\"Window: {full_windows[i-3]} -> Label: {full_labels[i-3]}\")"
      ],
      "metadata": {
        "colab": {
          "base_uri": "https://localhost:8080/"
        },
        "id": "FWT73V4fUuxF",
        "outputId": "4203f5b4-19e9-43e8-ec8b-c7525292ca0b"
      },
      "execution_count": 30,
      "outputs": [
        {
          "output_type": "stream",
          "name": "stdout",
          "text": [
            "Window: [58788.20967893 58102.19142623 55715.54665129 56573.5554719\n",
            " 52147.82118698 49764.1320816  50032.69313676] -> Label: [47885.62525472]\n",
            "Window: [58102.19142623 55715.54665129 56573.5554719  52147.82118698\n",
            " 49764.1320816  50032.69313676 47885.62525472] -> Label: [45604.61575361]\n",
            "Window: [55715.54665129 56573.5554719  52147.82118698 49764.1320816\n",
            " 50032.69313676 47885.62525472 45604.61575361] -> Label: [43144.47129086]\n"
          ]
        }
      ]
    },
    {
      "cell_type": "code",
      "source": [
        "# Make the train/test splits\n",
        "def make_train_test_splits(windows, labels, test_split=0.2):\n",
        "  \"\"\"\n",
        "  Splits matching pairs of windows and labels into train and test splits.\n",
        "  \"\"\"\n",
        "  split_size = int(len(windows) * (1-test_split))\n",
        "  train_windows = windows[:split_size]\n",
        "  train_labels = labels[:split_size]\n",
        "  test_windows = windows[split_size:]\n",
        "  test_labels = labels[split_size:]\n",
        "  return train_windows, test_windows, train_labels, test_labels"
      ],
      "metadata": {
        "id": "jUJQY1_HXlQG"
      },
      "execution_count": 31,
      "outputs": []
    },
    {
      "cell_type": "code",
      "source": [
        "train_windows, test_windows, train_labels, test_labels = make_train_test_splits(full_windows, full_labels)\n",
        "len(train_windows), len(test_windows), len(train_labels), len(test_labels)"
      ],
      "metadata": {
        "colab": {
          "base_uri": "https://localhost:8080/"
        },
        "id": "HridSDpSpH39",
        "outputId": "879eed98-3cca-402c-ecad-841504505590"
      },
      "execution_count": 32,
      "outputs": [
        {
          "output_type": "execute_result",
          "data": {
            "text/plain": [
              "(2224, 556, 2224, 556)"
            ]
          },
          "metadata": {},
          "execution_count": 32
        }
      ]
    },
    {
      "cell_type": "code",
      "source": [
        "train_windows[:5], train_labels[:5]"
      ],
      "metadata": {
        "colab": {
          "base_uri": "https://localhost:8080/"
        },
        "id": "_C-VK0MnpSF8",
        "outputId": "9f007bce-c75d-4604-9d43-9ec3d9d6e975"
      },
      "execution_count": 33,
      "outputs": [
        {
          "output_type": "execute_result",
          "data": {
            "text/plain": [
              "(array([[123.65499, 125.455  , 108.58483, 118.67466, 121.33866, 120.65533,\n",
              "         121.795  ],\n",
              "        [125.455  , 108.58483, 118.67466, 121.33866, 120.65533, 121.795  ,\n",
              "         123.033  ],\n",
              "        [108.58483, 118.67466, 121.33866, 120.65533, 121.795  , 123.033  ,\n",
              "         124.049  ],\n",
              "        [118.67466, 121.33866, 120.65533, 121.795  , 123.033  , 124.049  ,\n",
              "         125.96116],\n",
              "        [121.33866, 120.65533, 121.795  , 123.033  , 124.049  , 125.96116,\n",
              "         125.27966]]),\n",
              " array([[123.033  ],\n",
              "        [124.049  ],\n",
              "        [125.96116],\n",
              "        [125.27966],\n",
              "        [125.9275 ]]))"
            ]
          },
          "metadata": {},
          "execution_count": 33
        }
      ]
    },
    {
      "cell_type": "code",
      "source": [
        "# Check to see if same (accounting for horizon and window size)\n",
        "np.array_equal(np.squeeze(train_labels[:-HORIZON-1]), y_train[WINDOW_SIZE:])"
      ],
      "metadata": {
        "colab": {
          "base_uri": "https://localhost:8080/"
        },
        "id": "yRNpFqwmpUOs",
        "outputId": "313ed333-0160-4866-f667-8ec6c88839c5"
      },
      "execution_count": 34,
      "outputs": [
        {
          "output_type": "execute_result",
          "data": {
            "text/plain": [
              "True"
            ]
          },
          "metadata": {},
          "execution_count": 34
        }
      ]
    },
    {
      "cell_type": "markdown",
      "source": [
        "## Create a Model Checkpoint\n",
        "\n",
        "We're almost ready to build our models—just one more crucial step!\n",
        "\n",
        "Given that our model's performance may vary across different experiments, it's important to ensure that we're comparing them fairly. This means we need to compare the best performance of each model against the best performance of other models.\n",
        "\n",
        "To make this comparison consistent, we'll save each model's best version during training. This approach allows us to run multiple experiments while keeping track of the best-performing models by saving them under different names.\n",
        "\n",
        "Next, we'll write a small function to create a `ModelCheckpoint` callback, which saves a model to a specified filename.\n"
      ],
      "metadata": {
        "id": "woQv4gFAszTg"
      }
    },
    {
      "cell_type": "code",
      "source": [
        "import os\n",
        "# create a function to implement a ModelCheckpoint callback with a specific filename\n",
        "def create_model_checkpoint(model_name, save_path=\"model_experiments\"):\n",
        "  return tf.keras.callbacks.ModelCheckpoint(filepath=os.path.join(save_path, model_name+\".keras\"),\n",
        "                                            verbose=1,\n",
        "                                            monitor='val_loss',\n",
        "                                            save_best_only= True)"
      ],
      "metadata": {
        "id": "dbpYREhus0mS"
      },
      "execution_count": 35,
      "outputs": []
    },
    {
      "cell_type": "markdown",
      "source": [
        "## Model 1: Dense model (window = 7, horizon = 1)\n",
        "\n",
        "Finally!\n",
        "\n",
        "Time to build one of our models.\n",
        "\n",
        "If you think we've been through a fair bit of preprocessing before getting here, you're right.\n",
        "\n",
        "Often, preparing data for a model is one of the largest parts of any machine learning project.\n",
        "\n",
        "And once you've got a good model in place, you'll probably notice far more improvements from manipulating the data (e.g. collecting more, improving the quality) than manipulating the model.\n",
        "\n",
        "We're going to start by keeping it simple, model_1 will have:\n",
        "\n",
        "A single dense layer with 128 hidden units and ReLU (rectified linear unit) activation\n",
        "An output layer with linear activation (or no activation)\n",
        "Adam optimizer and MAE loss function\n",
        "Batch size of 128\n",
        "100 epochs\n",
        "Why these values?\n",
        "\n",
        "I picked them out of experimentation.\n",
        "\n",
        "A batch size of 32 works pretty well too and we could always train for less epochs but since the model runs so fast (you'll see in a second, it's because the number of samples we have isn't massive) we might as well train for more.\n",
        "\n",
        "> 🔑 **Note:** As always, many of the values for machine learning problems are experimental. A reminder that the values you can set yourself in a machine learning algorithm (the hidden units, the batch size, horizon size, window size) are called [**hyperparameters**](https://en.wikipedia.org/wiki/Hyperparameter_(machine_learning). And experimenting to find the best values for hyperparameters is called **hyperparameter tuning**. Where as parameters learned by a model itself (patterns in the data, formally called weights & biases) are referred to as **parameters**.\n",
        "\n",
        "Let's import TensorFlow and build our first deep learning model for time series."
      ],
      "metadata": {
        "id": "OL7wayg5tReI"
      }
    },
    {
      "cell_type": "code",
      "source": [
        "import tensorflow as tf\n",
        "from tensorflow.keras import layers\n",
        "\n",
        "#set random seed for as reproducible results as possible\n",
        "tf.random.set_seed(42)\n",
        "\n",
        "# construct model\n",
        "model_1 = tf.keras.Sequential([\n",
        "    layers.Dense(128, activation='relu'),\n",
        "    layers.Dense(HORIZON, activation='linear')\n",
        "], name='model_1_dense')\n",
        "\n",
        "# Compile model\n",
        "model_1.compile(loss=\"mae\",\n",
        "                optimizer=tf.keras.optimizers.Adam(),\n",
        "                metrics=[\"mae\"]) # we don't necessarily need this when the loss function is already MAE\n",
        "\n",
        "# fit the model\n",
        "model_1.fit(x=train_windows,\n",
        "            y=train_labels,\n",
        "            epochs=100,\n",
        "            verbose=1,\n",
        "            batch_size=128,\n",
        "            validation_data = (test_windows, test_labels),\n",
        "            callbacks= [create_model_checkpoint(model_name=model_1.name)])"
      ],
      "metadata": {
        "colab": {
          "base_uri": "https://localhost:8080/"
        },
        "id": "lWtfEcHxS1MM",
        "outputId": "f516db16-e5b4-4866-c9a3-e92fe484c6d9"
      },
      "execution_count": 36,
      "outputs": [
        {
          "output_type": "stream",
          "name": "stdout",
          "text": [
            "Epoch 1/100\n",
            " 1/18 [>.............................] - ETA: 30s - loss: 3980.5796 - mae: 3980.5796\n",
            "Epoch 1: val_loss improved from inf to 1442.88953, saving model to model_experiments/model_1_dense.keras\n",
            "18/18 [==============================] - 2s 15ms/step - loss: 1949.0980 - mae: 1949.0980 - val_loss: 1442.8895 - val_mae: 1442.8895\n",
            "Epoch 2/100\n",
            " 1/18 [>.............................] - ETA: 0s - loss: 194.5340 - mae: 194.5340\n",
            "Epoch 2: val_loss did not improve from 1442.88953\n",
            "18/18 [==============================] - 0s 5ms/step - loss: 358.9848 - mae: 358.9848 - val_loss: 1651.7238 - val_mae: 1651.7238\n",
            "Epoch 3/100\n",
            " 1/18 [>.............................] - ETA: 0s - loss: 211.9918 - mae: 211.9918\n",
            "Epoch 3: val_loss improved from 1442.88953 to 1152.15405, saving model to model_experiments/model_1_dense.keras\n",
            "18/18 [==============================] - 0s 6ms/step - loss: 245.5477 - mae: 245.5477 - val_loss: 1152.1541 - val_mae: 1152.1541\n",
            "Epoch 4/100\n",
            " 1/18 [>.............................] - ETA: 0s - loss: 273.6373 - mae: 273.6373\n",
            "Epoch 4: val_loss improved from 1152.15405 to 1146.28674, saving model to model_experiments/model_1_dense.keras\n",
            "18/18 [==============================] - 0s 6ms/step - loss: 210.4139 - mae: 210.4139 - val_loss: 1146.2867 - val_mae: 1146.2867\n",
            "Epoch 5/100\n",
            " 1/18 [>.............................] - ETA: 0s - loss: 223.4936 - mae: 223.4936\n",
            "Epoch 5: val_loss improved from 1146.28674 to 1103.18054, saving model to model_experiments/model_1_dense.keras\n",
            "18/18 [==============================] - 0s 6ms/step - loss: 202.0605 - mae: 202.0605 - val_loss: 1103.1805 - val_mae: 1103.1805\n",
            "Epoch 6/100\n",
            " 1/18 [>.............................] - ETA: 0s - loss: 153.6144 - mae: 153.6144\n",
            "Epoch 6: val_loss improved from 1103.18054 to 1099.88440, saving model to model_experiments/model_1_dense.keras\n",
            "18/18 [==============================] - 0s 6ms/step - loss: 196.1523 - mae: 196.1523 - val_loss: 1099.8844 - val_mae: 1099.8844\n",
            "Epoch 7/100\n",
            " 1/18 [>.............................] - ETA: 0s - loss: 244.0168 - mae: 244.0168\n",
            "Epoch 7: val_loss improved from 1099.88440 to 1041.37573, saving model to model_experiments/model_1_dense.keras\n",
            "18/18 [==============================] - 0s 5ms/step - loss: 193.8843 - mae: 193.8843 - val_loss: 1041.3757 - val_mae: 1041.3757\n",
            "Epoch 8/100\n",
            "17/18 [===========================>..] - ETA: 0s - loss: 184.2217 - mae: 184.2217\n",
            "Epoch 8: val_loss improved from 1041.37573 to 1038.38220, saving model to model_experiments/model_1_dense.keras\n",
            "18/18 [==============================] - 0s 8ms/step - loss: 184.6172 - mae: 184.6172 - val_loss: 1038.3822 - val_mae: 1038.3822\n",
            "Epoch 9/100\n",
            " 1/18 [>.............................] - ETA: 0s - loss: 153.6463 - mae: 153.6463\n",
            "Epoch 9: val_loss did not improve from 1038.38220\n",
            "18/18 [==============================] - 0s 5ms/step - loss: 179.9497 - mae: 179.9497 - val_loss: 1049.8652 - val_mae: 1049.8652\n",
            "Epoch 10/100\n",
            " 1/18 [>.............................] - ETA: 0s - loss: 197.9604 - mae: 197.9604\n",
            "Epoch 10: val_loss improved from 1038.38220 to 971.32642, saving model to model_experiments/model_1_dense.keras\n",
            "18/18 [==============================] - 0s 6ms/step - loss: 176.3750 - mae: 176.3750 - val_loss: 971.3264 - val_mae: 971.3264\n",
            "Epoch 11/100\n",
            " 1/18 [>.............................] - ETA: 0s - loss: 196.3006 - mae: 196.3006\n",
            "Epoch 11: val_loss improved from 971.32642 to 938.17908, saving model to model_experiments/model_1_dense.keras\n",
            "18/18 [==============================] - 0s 6ms/step - loss: 171.1420 - mae: 171.1420 - val_loss: 938.1791 - val_mae: 938.1791\n",
            "Epoch 12/100\n",
            "18/18 [==============================] - ETA: 0s - loss: 168.0885 - mae: 168.0885\n",
            "Epoch 12: val_loss did not improve from 938.17908\n",
            "18/18 [==============================] - 0s 5ms/step - loss: 168.0885 - mae: 168.0885 - val_loss: 1027.3109 - val_mae: 1027.3109\n",
            "Epoch 13/100\n",
            " 1/18 [>.............................] - ETA: 0s - loss: 133.0980 - mae: 133.0980\n",
            "Epoch 13: val_loss improved from 938.17908 to 897.91748, saving model to model_experiments/model_1_dense.keras\n",
            "18/18 [==============================] - 0s 6ms/step - loss: 164.3074 - mae: 164.3074 - val_loss: 897.9175 - val_mae: 897.9175\n",
            "Epoch 14/100\n",
            " 1/18 [>.............................] - ETA: 0s - loss: 182.1411 - mae: 182.1411\n",
            "Epoch 14: val_loss did not improve from 897.91748\n",
            "18/18 [==============================] - 0s 4ms/step - loss: 157.6688 - mae: 157.6688 - val_loss: 899.1240 - val_mae: 899.1240\n",
            "Epoch 15/100\n",
            " 1/18 [>.............................] - ETA: 0s - loss: 156.9807 - mae: 156.9807\n",
            "Epoch 15: val_loss did not improve from 897.91748\n",
            "18/18 [==============================] - 0s 5ms/step - loss: 157.1892 - mae: 157.1892 - val_loss: 941.3062 - val_mae: 941.3062\n",
            "Epoch 16/100\n",
            " 1/18 [>.............................] - ETA: 0s - loss: 147.5678 - mae: 147.5678\n",
            "Epoch 16: val_loss improved from 897.91748 to 841.95026, saving model to model_experiments/model_1_dense.keras\n",
            "18/18 [==============================] - 0s 6ms/step - loss: 151.4151 - mae: 151.4151 - val_loss: 841.9503 - val_mae: 841.9503\n",
            "Epoch 17/100\n",
            " 1/18 [>.............................] - ETA: 0s - loss: 143.4678 - mae: 143.4678\n",
            "Epoch 17: val_loss improved from 841.95026 to 836.35547, saving model to model_experiments/model_1_dense.keras\n",
            "18/18 [==============================] - 0s 6ms/step - loss: 146.7571 - mae: 146.7571 - val_loss: 836.3555 - val_mae: 836.3555\n",
            "Epoch 18/100\n",
            "18/18 [==============================] - ETA: 0s - loss: 143.3917 - mae: 143.3917\n",
            "Epoch 18: val_loss improved from 836.35547 to 824.40729, saving model to model_experiments/model_1_dense.keras\n",
            "18/18 [==============================] - 0s 7ms/step - loss: 143.3917 - mae: 143.3917 - val_loss: 824.4073 - val_mae: 824.4073\n",
            "Epoch 19/100\n",
            " 1/18 [>.............................] - ETA: 0s - loss: 81.0683 - mae: 81.0683\n",
            "Epoch 19: val_loss improved from 824.40729 to 794.97192, saving model to model_experiments/model_1_dense.keras\n",
            "18/18 [==============================] - 0s 6ms/step - loss: 138.8539 - mae: 138.8539 - val_loss: 794.9719 - val_mae: 794.9719\n",
            "Epoch 20/100\n",
            " 1/18 [>.............................] - ETA: 0s - loss: 145.6209 - mae: 145.6209\n",
            "Epoch 20: val_loss improved from 794.97192 to 761.93280, saving model to model_experiments/model_1_dense.keras\n",
            "18/18 [==============================] - 0s 6ms/step - loss: 138.6017 - mae: 138.6017 - val_loss: 761.9328 - val_mae: 761.9328\n",
            "Epoch 21/100\n",
            " 1/18 [>.............................] - ETA: 0s - loss: 178.0469 - mae: 178.0469\n",
            "Epoch 21: val_loss improved from 761.93280 to 732.76489, saving model to model_experiments/model_1_dense.keras\n",
            "18/18 [==============================] - 0s 7ms/step - loss: 136.6729 - mae: 136.6729 - val_loss: 732.7649 - val_mae: 732.7649\n",
            "Epoch 22/100\n",
            " 1/18 [>.............................] - ETA: 0s - loss: 180.2505 - mae: 180.2505\n",
            "Epoch 22: val_loss improved from 732.76489 to 718.56970, saving model to model_experiments/model_1_dense.keras\n",
            "18/18 [==============================] - 0s 7ms/step - loss: 133.6360 - mae: 133.6360 - val_loss: 718.5697 - val_mae: 718.5697\n",
            "Epoch 23/100\n",
            " 1/18 [>.............................] - ETA: 0s - loss: 142.1596 - mae: 142.1596\n",
            "Epoch 23: val_loss improved from 718.56970 to 706.43677, saving model to model_experiments/model_1_dense.keras\n",
            "18/18 [==============================] - 0s 6ms/step - loss: 129.2038 - mae: 129.2038 - val_loss: 706.4368 - val_mae: 706.4368\n",
            "Epoch 24/100\n",
            " 1/18 [>.............................] - ETA: 0s - loss: 143.1459 - mae: 143.1459\n",
            "Epoch 24: val_loss improved from 706.43677 to 694.27936, saving model to model_experiments/model_1_dense.keras\n",
            "18/18 [==============================] - 0s 5ms/step - loss: 130.3835 - mae: 130.3835 - val_loss: 694.2794 - val_mae: 694.2794\n",
            "Epoch 25/100\n",
            " 1/18 [>.............................] - ETA: 0s - loss: 130.8921 - mae: 130.8921\n",
            "Epoch 25: val_loss improved from 694.27936 to 685.70782, saving model to model_experiments/model_1_dense.keras\n",
            "18/18 [==============================] - 0s 5ms/step - loss: 131.4737 - mae: 131.4737 - val_loss: 685.7078 - val_mae: 685.7078\n",
            "Epoch 26/100\n",
            " 1/18 [>.............................] - ETA: 0s - loss: 129.0458 - mae: 129.0458\n",
            "Epoch 26: val_loss did not improve from 685.70782\n",
            "18/18 [==============================] - 0s 6ms/step - loss: 126.5105 - mae: 126.5105 - val_loss: 688.6946 - val_mae: 688.6946\n",
            "Epoch 27/100\n",
            "17/18 [===========================>..] - ETA: 0s - loss: 124.4249 - mae: 124.4249\n",
            "Epoch 27: val_loss improved from 685.70782 to 665.50275, saving model to model_experiments/model_1_dense.keras\n",
            "18/18 [==============================] - 0s 7ms/step - loss: 124.8571 - mae: 124.8571 - val_loss: 665.5027 - val_mae: 665.5027\n",
            "Epoch 28/100\n",
            " 1/18 [>.............................] - ETA: 0s - loss: 120.1288 - mae: 120.1288\n",
            "Epoch 28: val_loss did not improve from 665.50275\n",
            "18/18 [==============================] - 0s 5ms/step - loss: 121.8443 - mae: 121.8443 - val_loss: 670.9582 - val_mae: 670.9582\n",
            "Epoch 29/100\n",
            " 1/18 [>.............................] - ETA: 0s - loss: 115.9848 - mae: 115.9848\n",
            "Epoch 29: val_loss did not improve from 665.50275\n",
            "18/18 [==============================] - 0s 5ms/step - loss: 121.1586 - mae: 121.1586 - val_loss: 681.2439 - val_mae: 681.2439\n",
            "Epoch 30/100\n",
            " 1/18 [>.............................] - ETA: 0s - loss: 138.9868 - mae: 138.9868\n",
            "Epoch 30: val_loss did not improve from 665.50275\n",
            "18/18 [==============================] - 0s 5ms/step - loss: 126.1935 - mae: 126.1935 - val_loss: 736.6911 - val_mae: 736.6911\n",
            "Epoch 31/100\n",
            "17/18 [===========================>..] - ETA: 0s - loss: 136.8014 - mae: 136.8014\n",
            "Epoch 31: val_loss did not improve from 665.50275\n",
            "18/18 [==============================] - 0s 5ms/step - loss: 136.9447 - mae: 136.9447 - val_loss: 869.2114 - val_mae: 869.2114\n",
            "Epoch 32/100\n",
            " 1/18 [>.............................] - ETA: 0s - loss: 147.0247 - mae: 147.0247\n",
            "Epoch 32: val_loss improved from 665.50275 to 643.45410, saving model to model_experiments/model_1_dense.keras\n",
            "18/18 [==============================] - 0s 6ms/step - loss: 132.9492 - mae: 132.9492 - val_loss: 643.4541 - val_mae: 643.4541\n",
            "Epoch 33/100\n",
            " 1/18 [>.............................] - ETA: 0s - loss: 147.2828 - mae: 147.2828\n",
            "Epoch 33: val_loss improved from 643.45410 to 631.77448, saving model to model_experiments/model_1_dense.keras\n",
            "18/18 [==============================] - 0s 6ms/step - loss: 121.9059 - mae: 121.9059 - val_loss: 631.7745 - val_mae: 631.7745\n",
            "Epoch 34/100\n",
            " 1/18 [>.............................] - ETA: 0s - loss: 128.8515 - mae: 128.8515\n",
            "Epoch 34: val_loss improved from 631.77448 to 627.83667, saving model to model_experiments/model_1_dense.keras\n",
            "18/18 [==============================] - 0s 6ms/step - loss: 117.6010 - mae: 117.6010 - val_loss: 627.8367 - val_mae: 627.8367\n",
            "Epoch 35/100\n",
            " 1/18 [>.............................] - ETA: 0s - loss: 103.2473 - mae: 103.2473\n",
            "Epoch 35: val_loss improved from 627.83667 to 623.58179, saving model to model_experiments/model_1_dense.keras\n",
            "18/18 [==============================] - 0s 6ms/step - loss: 116.4169 - mae: 116.4169 - val_loss: 623.5818 - val_mae: 623.5818\n",
            "Epoch 36/100\n",
            "16/18 [=========================>....] - ETA: 0s - loss: 122.1383 - mae: 122.1383\n",
            "Epoch 36: val_loss did not improve from 623.58179\n",
            "18/18 [==============================] - 0s 6ms/step - loss: 121.7522 - mae: 121.7522 - val_loss: 674.1799 - val_mae: 674.1799\n",
            "Epoch 37/100\n",
            " 1/18 [>.............................] - ETA: 0s - loss: 150.3443 - mae: 150.3443\n",
            "Epoch 37: val_loss improved from 623.58179 to 617.46857, saving model to model_experiments/model_1_dense.keras\n",
            "18/18 [==============================] - 0s 6ms/step - loss: 119.9775 - mae: 119.9775 - val_loss: 617.4686 - val_mae: 617.4686\n",
            "Epoch 38/100\n",
            " 1/18 [>.............................] - ETA: 0s - loss: 101.4537 - mae: 101.4537\n",
            "Epoch 38: val_loss improved from 617.46857 to 614.33289, saving model to model_experiments/model_1_dense.keras\n",
            "18/18 [==============================] - 0s 6ms/step - loss: 115.1303 - mae: 115.1303 - val_loss: 614.3329 - val_mae: 614.3329\n",
            "Epoch 39/100\n",
            " 1/18 [>.............................] - ETA: 0s - loss: 129.2573 - mae: 129.2573\n",
            "Epoch 39: val_loss did not improve from 614.33289\n",
            "18/18 [==============================] - 0s 4ms/step - loss: 116.4874 - mae: 116.4874 - val_loss: 664.3136 - val_mae: 664.3136\n",
            "Epoch 40/100\n",
            " 1/18 [>.............................] - ETA: 0s - loss: 112.6356 - mae: 112.6356\n",
            "Epoch 40: val_loss did not improve from 614.33289\n",
            "18/18 [==============================] - 0s 5ms/step - loss: 115.0864 - mae: 115.0864 - val_loss: 618.3373 - val_mae: 618.3373\n",
            "Epoch 41/100\n",
            " 1/18 [>.............................] - ETA: 0s - loss: 104.5732 - mae: 104.5732\n",
            "Epoch 41: val_loss did not improve from 614.33289\n",
            "18/18 [==============================] - 0s 5ms/step - loss: 115.4688 - mae: 115.4688 - val_loss: 624.2180 - val_mae: 624.2180\n",
            "Epoch 42/100\n",
            " 1/18 [>.............................] - ETA: 0s - loss: 107.7427 - mae: 107.7427\n",
            "Epoch 42: val_loss improved from 614.33289 to 612.97278, saving model to model_experiments/model_1_dense.keras\n",
            "18/18 [==============================] - 0s 6ms/step - loss: 118.7164 - mae: 118.7164 - val_loss: 612.9728 - val_mae: 612.9728\n",
            "Epoch 43/100\n",
            " 1/18 [>.............................] - ETA: 0s - loss: 95.6548 - mae: 95.6548\n",
            "Epoch 43: val_loss did not improve from 612.97278\n",
            "18/18 [==============================] - 0s 5ms/step - loss: 113.7769 - mae: 113.7769 - val_loss: 619.8649 - val_mae: 619.8649\n",
            "Epoch 44/100\n",
            " 1/18 [>.............................] - ETA: 0s - loss: 68.8075 - mae: 68.8075\n",
            "Epoch 44: val_loss did not improve from 612.97278\n",
            "18/18 [==============================] - 0s 4ms/step - loss: 114.9140 - mae: 114.9140 - val_loss: 615.9290 - val_mae: 615.9290\n",
            "Epoch 45/100\n",
            "18/18 [==============================] - ETA: 0s - loss: 114.7310 - mae: 114.7310\n",
            "Epoch 45: val_loss improved from 612.97278 to 612.35370, saving model to model_experiments/model_1_dense.keras\n",
            "18/18 [==============================] - 0s 7ms/step - loss: 114.7310 - mae: 114.7310 - val_loss: 612.3537 - val_mae: 612.3537\n",
            "Epoch 46/100\n",
            "18/18 [==============================] - ETA: 0s - loss: 114.5350 - mae: 114.5350\n",
            "Epoch 46: val_loss improved from 612.35370 to 598.01428, saving model to model_experiments/model_1_dense.keras\n",
            "18/18 [==============================] - 0s 7ms/step - loss: 114.5350 - mae: 114.5350 - val_loss: 598.0143 - val_mae: 598.0143\n",
            "Epoch 47/100\n",
            " 1/18 [>.............................] - ETA: 0s - loss: 101.7575 - mae: 101.7575\n",
            "Epoch 47: val_loss did not improve from 598.01428\n",
            "18/18 [==============================] - 0s 4ms/step - loss: 112.7882 - mae: 112.7882 - val_loss: 654.9181 - val_mae: 654.9181\n",
            "Epoch 48/100\n",
            " 1/18 [>.............................] - ETA: 0s - loss: 108.4871 - mae: 108.4871\n",
            "Epoch 48: val_loss did not improve from 598.01428\n",
            "18/18 [==============================] - 0s 5ms/step - loss: 112.8879 - mae: 112.8879 - val_loss: 627.8910 - val_mae: 627.8910\n",
            "Epoch 49/100\n",
            " 1/18 [>.............................] - ETA: 0s - loss: 166.1154 - mae: 166.1154\n",
            "Epoch 49: val_loss did not improve from 598.01428\n",
            "18/18 [==============================] - 0s 5ms/step - loss: 114.4590 - mae: 114.4590 - val_loss: 608.2815 - val_mae: 608.2815\n",
            "Epoch 50/100\n",
            " 1/18 [>.............................] - ETA: 0s - loss: 138.0576 - mae: 138.0576\n",
            "Epoch 50: val_loss did not improve from 598.01428\n",
            "18/18 [==============================] - 0s 6ms/step - loss: 116.2192 - mae: 116.2192 - val_loss: 615.9867 - val_mae: 615.9867\n",
            "Epoch 51/100\n",
            " 1/18 [>.............................] - ETA: 0s - loss: 98.0434 - mae: 98.0434\n",
            "Epoch 51: val_loss improved from 598.01428 to 593.51520, saving model to model_experiments/model_1_dense.keras\n",
            "18/18 [==============================] - 0s 6ms/step - loss: 112.3226 - mae: 112.3226 - val_loss: 593.5152 - val_mae: 593.5152\n",
            "Epoch 52/100\n",
            " 1/18 [>.............................] - ETA: 0s - loss: 121.2853 - mae: 121.2853\n",
            "Epoch 52: val_loss did not improve from 593.51520\n",
            "18/18 [==============================] - 0s 5ms/step - loss: 112.0225 - mae: 112.0225 - val_loss: 599.1949 - val_mae: 599.1949\n",
            "Epoch 53/100\n",
            " 1/18 [>.............................] - ETA: 0s - loss: 60.0929 - mae: 60.0929\n",
            "Epoch 53: val_loss did not improve from 593.51520\n",
            "18/18 [==============================] - 0s 5ms/step - loss: 115.3502 - mae: 115.3502 - val_loss: 594.4357 - val_mae: 594.4357\n",
            "Epoch 54/100\n",
            " 1/18 [>.............................] - ETA: 0s - loss: 101.9972 - mae: 101.9972\n",
            "Epoch 54: val_loss did not improve from 593.51520\n",
            "18/18 [==============================] - 0s 5ms/step - loss: 112.5453 - mae: 112.5453 - val_loss: 602.9428 - val_mae: 602.9428\n",
            "Epoch 55/100\n",
            "18/18 [==============================] - ETA: 0s - loss: 113.1752 - mae: 113.1752\n",
            "Epoch 55: val_loss improved from 593.51520 to 585.82172, saving model to model_experiments/model_1_dense.keras\n",
            "18/18 [==============================] - 0s 7ms/step - loss: 113.1752 - mae: 113.1752 - val_loss: 585.8217 - val_mae: 585.8217\n",
            "Epoch 56/100\n",
            "16/18 [=========================>....] - ETA: 0s - loss: 111.3749 - mae: 111.3749\n",
            "Epoch 56: val_loss did not improve from 585.82172\n",
            "18/18 [==============================] - 0s 6ms/step - loss: 110.1329 - mae: 110.1329 - val_loss: 756.5446 - val_mae: 756.5445\n",
            "Epoch 57/100\n",
            " 1/18 [>.............................] - ETA: 0s - loss: 114.0643 - mae: 114.0643\n",
            "Epoch 57: val_loss did not improve from 585.82172\n",
            "18/18 [==============================] - 0s 5ms/step - loss: 117.4872 - mae: 117.4872 - val_loss: 619.1915 - val_mae: 619.1915\n",
            "Epoch 58/100\n",
            " 1/18 [>.............................] - ETA: 0s - loss: 95.8025 - mae: 95.8025\n",
            "Epoch 58: val_loss did not improve from 585.82172\n",
            "18/18 [==============================] - 0s 4ms/step - loss: 116.6929 - mae: 116.6929 - val_loss: 625.3388 - val_mae: 625.3388\n",
            "Epoch 59/100\n",
            " 1/18 [>.............................] - ETA: 0s - loss: 95.2698 - mae: 95.2698\n",
            "Epoch 59: val_loss did not improve from 585.82172\n",
            "18/18 [==============================] - 0s 4ms/step - loss: 114.4393 - mae: 114.4393 - val_loss: 589.8687 - val_mae: 589.8687\n",
            "Epoch 60/100\n",
            " 1/18 [>.............................] - ETA: 0s - loss: 92.6624 - mae: 92.6624\n",
            "Epoch 60: val_loss did not improve from 585.82172\n",
            "18/18 [==============================] - 0s 5ms/step - loss: 110.3881 - mae: 110.3881 - val_loss: 637.1832 - val_mae: 637.1832\n",
            "Epoch 61/100\n",
            "18/18 [==============================] - ETA: 0s - loss: 112.8001 - mae: 112.8001\n",
            "Epoch 61: val_loss improved from 585.82172 to 584.66473, saving model to model_experiments/model_1_dense.keras\n",
            "18/18 [==============================] - 0s 6ms/step - loss: 112.8001 - mae: 112.8001 - val_loss: 584.6647 - val_mae: 584.6647\n",
            "Epoch 62/100\n",
            "18/18 [==============================] - ETA: 0s - loss: 109.3960 - mae: 109.3960\n",
            "Epoch 62: val_loss did not improve from 584.66473\n",
            "18/18 [==============================] - 0s 5ms/step - loss: 109.3960 - mae: 109.3960 - val_loss: 586.9297 - val_mae: 586.9297\n",
            "Epoch 63/100\n",
            " 1/18 [>.............................] - ETA: 0s - loss: 90.5093 - mae: 90.5093\n",
            "Epoch 63: val_loss did not improve from 584.66473\n",
            "18/18 [==============================] - 0s 5ms/step - loss: 113.0392 - mae: 113.0392 - val_loss: 629.2631 - val_mae: 629.2631\n",
            "Epoch 64/100\n",
            " 1/18 [>.............................] - ETA: 0s - loss: 89.7405 - mae: 89.7405\n",
            "Epoch 64: val_loss did not improve from 584.66473\n",
            "18/18 [==============================] - 0s 5ms/step - loss: 112.1988 - mae: 112.1988 - val_loss: 620.6354 - val_mae: 620.6354\n",
            "Epoch 65/100\n",
            "17/18 [===========================>..] - ETA: 0s - loss: 112.2336 - mae: 112.2336\n",
            "Epoch 65: val_loss improved from 584.66473 to 579.84961, saving model to model_experiments/model_1_dense.keras\n",
            "18/18 [==============================] - 0s 7ms/step - loss: 111.1919 - mae: 111.1919 - val_loss: 579.8496 - val_mae: 579.8496\n",
            "Epoch 66/100\n",
            " 1/18 [>.............................] - ETA: 0s - loss: 114.1308 - mae: 114.1308\n",
            "Epoch 66: val_loss did not improve from 579.84961\n",
            "18/18 [==============================] - 0s 6ms/step - loss: 109.7442 - mae: 109.7442 - val_loss: 588.4832 - val_mae: 588.4832\n",
            "Epoch 67/100\n",
            " 1/18 [>.............................] - ETA: 0s - loss: 92.5743 - mae: 92.5743\n",
            "Epoch 67: val_loss did not improve from 579.84961\n",
            "18/18 [==============================] - 0s 4ms/step - loss: 110.0158 - mae: 110.0158 - val_loss: 666.1110 - val_mae: 666.1110\n",
            "Epoch 68/100\n",
            " 1/18 [>.............................] - ETA: 0s - loss: 73.4997 - mae: 73.4997\n",
            "Epoch 68: val_loss did not improve from 579.84961\n",
            "18/18 [==============================] - 0s 5ms/step - loss: 116.1545 - mae: 116.1545 - val_loss: 694.4279 - val_mae: 694.4279\n",
            "Epoch 69/100\n",
            " 1/18 [>.............................] - ETA: 0s - loss: 105.7617 - mae: 105.7617\n",
            "Epoch 69: val_loss did not improve from 579.84961\n",
            "18/18 [==============================] - 0s 4ms/step - loss: 129.3978 - mae: 129.3978 - val_loss: 701.1807 - val_mae: 701.1807\n",
            "Epoch 70/100\n",
            " 1/18 [>.............................] - ETA: 0s - loss: 132.3051 - mae: 132.3051\n",
            "Epoch 70: val_loss did not improve from 579.84961\n",
            "18/18 [==============================] - 0s 5ms/step - loss: 124.0759 - mae: 124.0759 - val_loss: 598.3519 - val_mae: 598.3519\n",
            "Epoch 71/100\n",
            " 1/18 [>.............................] - ETA: 0s - loss: 90.9643 - mae: 90.9643\n",
            "Epoch 71: val_loss did not improve from 579.84961\n",
            "18/18 [==============================] - 0s 5ms/step - loss: 111.6328 - mae: 111.6328 - val_loss: 596.8652 - val_mae: 596.8652\n",
            "Epoch 72/100\n",
            " 1/18 [>.............................] - ETA: 0s - loss: 99.7630 - mae: 99.7630\n",
            "Epoch 72: val_loss did not improve from 579.84961\n",
            "18/18 [==============================] - 0s 5ms/step - loss: 108.9481 - mae: 108.9481 - val_loss: 585.6778 - val_mae: 585.6778\n",
            "Epoch 73/100\n",
            "17/18 [===========================>..] - ETA: 0s - loss: 115.3295 - mae: 115.3295\n",
            "Epoch 73: val_loss did not improve from 579.84961\n",
            "18/18 [==============================] - 0s 5ms/step - loss: 114.3260 - mae: 114.3260 - val_loss: 671.2426 - val_mae: 671.2426\n",
            "Epoch 74/100\n",
            " 1/18 [>.............................] - ETA: 0s - loss: 176.3308 - mae: 176.3308\n",
            "Epoch 74: val_loss improved from 579.84961 to 579.37537, saving model to model_experiments/model_1_dense.keras\n",
            "18/18 [==============================] - 0s 6ms/step - loss: 109.3897 - mae: 109.3897 - val_loss: 579.3754 - val_mae: 579.3754\n",
            "Epoch 75/100\n",
            "16/18 [=========================>....] - ETA: 0s - loss: 108.9082 - mae: 108.9082\n",
            "Epoch 75: val_loss did not improve from 579.37537\n",
            "18/18 [==============================] - 0s 6ms/step - loss: 110.8149 - mae: 110.8149 - val_loss: 597.2671 - val_mae: 597.2671\n",
            "Epoch 76/100\n",
            "18/18 [==============================] - ETA: 0s - loss: 112.6868 - mae: 112.6868\n",
            "Epoch 76: val_loss did not improve from 579.37537\n",
            "18/18 [==============================] - 0s 5ms/step - loss: 112.6868 - mae: 112.6868 - val_loss: 616.3376 - val_mae: 616.3376\n",
            "Epoch 77/100\n",
            " 1/18 [>.............................] - ETA: 0s - loss: 88.7542 - mae: 88.7542\n",
            "Epoch 77: val_loss improved from 579.37537 to 575.16925, saving model to model_experiments/model_1_dense.keras\n",
            "18/18 [==============================] - 0s 6ms/step - loss: 110.9776 - mae: 110.9776 - val_loss: 575.1693 - val_mae: 575.1693\n",
            "Epoch 78/100\n",
            " 1/18 [>.............................] - ETA: 0s - loss: 107.7643 - mae: 107.7643\n",
            "Epoch 78: val_loss improved from 575.16925 to 572.99213, saving model to model_experiments/model_1_dense.keras\n",
            "18/18 [==============================] - 0s 6ms/step - loss: 111.3245 - mae: 111.3245 - val_loss: 572.9921 - val_mae: 572.9921\n",
            "Epoch 79/100\n",
            " 1/18 [>.............................] - ETA: 0s - loss: 105.0384 - mae: 105.0384\n",
            "Epoch 79: val_loss did not improve from 572.99213\n",
            "18/18 [==============================] - 0s 5ms/step - loss: 110.4591 - mae: 110.4591 - val_loss: 636.3761 - val_mae: 636.3761\n",
            "Epoch 80/100\n",
            "18/18 [==============================] - ETA: 0s - loss: 111.1529 - mae: 111.1529\n",
            "Epoch 80: val_loss improved from 572.99213 to 572.32654, saving model to model_experiments/model_1_dense.keras\n",
            "18/18 [==============================] - 0s 7ms/step - loss: 111.1529 - mae: 111.1529 - val_loss: 572.3265 - val_mae: 572.3265\n",
            "Epoch 81/100\n",
            " 1/18 [>.............................] - ETA: 0s - loss: 95.0443 - mae: 95.0443\n",
            "Epoch 81: val_loss did not improve from 572.32654\n",
            "18/18 [==============================] - 0s 5ms/step - loss: 107.3027 - mae: 107.3027 - val_loss: 579.8823 - val_mae: 579.8823\n",
            "Epoch 82/100\n",
            " 1/18 [>.............................] - ETA: 0s - loss: 196.5132 - mae: 196.5132\n",
            "Epoch 82: val_loss did not improve from 572.32654\n",
            "18/18 [==============================] - 0s 4ms/step - loss: 116.2883 - mae: 116.2883 - val_loss: 573.1727 - val_mae: 573.1727\n",
            "Epoch 83/100\n",
            " 1/18 [>.............................] - ETA: 0s - loss: 106.9519 - mae: 106.9519\n",
            "Epoch 83: val_loss did not improve from 572.32654\n",
            "18/18 [==============================] - 0s 5ms/step - loss: 112.2761 - mae: 112.2761 - val_loss: 648.9014 - val_mae: 648.9014\n",
            "Epoch 84/100\n",
            "17/18 [===========================>..] - ETA: 0s - loss: 113.4821 - mae: 113.4821\n",
            "Epoch 84: val_loss did not improve from 572.32654\n",
            "18/18 [==============================] - 0s 6ms/step - loss: 112.9674 - mae: 112.9674 - val_loss: 573.1382 - val_mae: 573.1382\n",
            "Epoch 85/100\n",
            "17/18 [===========================>..] - ETA: 0s - loss: 106.0816 - mae: 106.0816\n",
            "Epoch 85: val_loss did not improve from 572.32654\n",
            "18/18 [==============================] - 0s 6ms/step - loss: 107.5559 - mae: 107.5559 - val_loss: 585.3397 - val_mae: 585.3397\n",
            "Epoch 86/100\n",
            " 1/18 [>.............................] - ETA: 0s - loss: 111.0504 - mae: 111.0504\n",
            "Epoch 86: val_loss did not improve from 572.32654\n",
            "18/18 [==============================] - 0s 5ms/step - loss: 109.9682 - mae: 109.9682 - val_loss: 621.9470 - val_mae: 621.9470\n",
            "Epoch 87/100\n",
            " 1/18 [>.............................] - ETA: 0s - loss: 125.3897 - mae: 125.3897\n",
            "Epoch 87: val_loss did not improve from 572.32654\n",
            "18/18 [==============================] - 0s 5ms/step - loss: 107.8547 - mae: 107.8547 - val_loss: 610.2308 - val_mae: 610.2308\n",
            "Epoch 88/100\n",
            " 1/18 [>.............................] - ETA: 0s - loss: 139.1501 - mae: 139.1501\n",
            "Epoch 88: val_loss did not improve from 572.32654\n",
            "18/18 [==============================] - 0s 5ms/step - loss: 108.2772 - mae: 108.2772 - val_loss: 579.2593 - val_mae: 579.2593\n",
            "Epoch 89/100\n",
            "16/18 [=========================>....] - ETA: 0s - loss: 104.5577 - mae: 104.5577\n",
            "Epoch 89: val_loss did not improve from 572.32654\n",
            "18/18 [==============================] - 0s 7ms/step - loss: 109.1616 - mae: 109.1616 - val_loss: 597.7336 - val_mae: 597.7336\n",
            "Epoch 90/100\n",
            "14/18 [======================>.......] - ETA: 0s - loss: 104.4423 - mae: 104.4423\n",
            "Epoch 90: val_loss did not improve from 572.32654\n",
            "18/18 [==============================] - 0s 7ms/step - loss: 106.5276 - mae: 106.5276 - val_loss: 622.6559 - val_mae: 622.6559\n",
            "Epoch 91/100\n",
            "15/18 [========================>.....] - ETA: 0s - loss: 111.3065 - mae: 111.3065\n",
            "Epoch 91: val_loss did not improve from 572.32654\n",
            "18/18 [==============================] - 0s 7ms/step - loss: 110.0669 - mae: 110.0669 - val_loss: 587.6340 - val_mae: 587.6340\n",
            "Epoch 92/100\n",
            "14/18 [======================>.......] - ETA: 0s - loss: 111.2374 - mae: 111.2374\n",
            "Epoch 92: val_loss did not improve from 572.32654\n",
            "18/18 [==============================] - 0s 6ms/step - loss: 111.2673 - mae: 111.2673 - val_loss: 574.7473 - val_mae: 574.7473\n",
            "Epoch 93/100\n",
            "14/18 [======================>.......] - ETA: 0s - loss: 117.5661 - mae: 117.5661\n",
            "Epoch 93: val_loss did not improve from 572.32654\n",
            "18/18 [==============================] - 0s 8ms/step - loss: 114.6371 - mae: 114.6371 - val_loss: 619.6642 - val_mae: 619.6642\n",
            "Epoch 94/100\n",
            "15/18 [========================>.....] - ETA: 0s - loss: 112.3362 - mae: 112.3362\n",
            "Epoch 94: val_loss did not improve from 572.32654\n",
            "18/18 [==============================] - 0s 7ms/step - loss: 109.3988 - mae: 109.3988 - val_loss: 587.1377 - val_mae: 587.1377\n",
            "Epoch 95/100\n",
            "15/18 [========================>.....] - ETA: 0s - loss: 105.7796 - mae: 105.7796\n",
            "Epoch 95: val_loss improved from 572.32654 to 568.74774, saving model to model_experiments/model_1_dense.keras\n",
            "18/18 [==============================] - 0s 8ms/step - loss: 106.5099 - mae: 106.5099 - val_loss: 568.7477 - val_mae: 568.7477\n",
            "Epoch 96/100\n",
            "12/18 [===================>..........] - ETA: 0s - loss: 108.5616 - mae: 108.5616\n",
            "Epoch 96: val_loss did not improve from 568.74774\n",
            "18/18 [==============================] - 0s 8ms/step - loss: 110.1502 - mae: 110.1502 - val_loss: 648.2643 - val_mae: 648.2643\n",
            "Epoch 97/100\n",
            "16/18 [=========================>....] - ETA: 0s - loss: 108.4890 - mae: 108.4890\n",
            "Epoch 97: val_loss did not improve from 568.74774\n",
            "18/18 [==============================] - 0s 7ms/step - loss: 109.6073 - mae: 109.6073 - val_loss: 575.8596 - val_mae: 575.8596\n",
            "Epoch 98/100\n",
            "13/18 [====================>.........] - ETA: 0s - loss: 109.5882 - mae: 109.5882\n",
            "Epoch 98: val_loss did not improve from 568.74774\n",
            "18/18 [==============================] - 0s 7ms/step - loss: 107.2926 - mae: 107.2926 - val_loss: 571.2960 - val_mae: 571.2960\n",
            "Epoch 99/100\n",
            "15/18 [========================>.....] - ETA: 0s - loss: 105.8064 - mae: 105.8064\n",
            "Epoch 99: val_loss improved from 568.74774 to 568.44159, saving model to model_experiments/model_1_dense.keras\n",
            "18/18 [==============================] - 0s 8ms/step - loss: 107.3413 - mae: 107.3413 - val_loss: 568.4416 - val_mae: 568.4416\n",
            "Epoch 100/100\n",
            "14/18 [======================>.......] - ETA: 0s - loss: 118.3619 - mae: 118.3619\n",
            "Epoch 100: val_loss did not improve from 568.44159\n",
            "18/18 [==============================] - 0s 7ms/step - loss: 112.2785 - mae: 112.2785 - val_loss: 646.0770 - val_mae: 646.0770\n"
          ]
        },
        {
          "output_type": "execute_result",
          "data": {
            "text/plain": [
              "<keras.src.callbacks.History at 0x79abb7473dc0>"
            ]
          },
          "metadata": {},
          "execution_count": 36
        }
      ]
    },
    {
      "cell_type": "code",
      "source": [
        "# Evaluate model on test data\n",
        "model_1.evaluate(test_windows, test_labels)"
      ],
      "metadata": {
        "colab": {
          "base_uri": "https://localhost:8080/"
        },
        "id": "ytcCA0HsUjou",
        "outputId": "3a726675-beaa-43f5-8552-b22a172318b9"
      },
      "execution_count": 37,
      "outputs": [
        {
          "output_type": "stream",
          "name": "stdout",
          "text": [
            "18/18 [==============================] - 0s 4ms/step - loss: 646.0769 - mae: 646.0769\n"
          ]
        },
        {
          "output_type": "execute_result",
          "data": {
            "text/plain": [
              "[646.076904296875, 646.076904296875]"
            ]
          },
          "metadata": {},
          "execution_count": 37
        }
      ]
    },
    {
      "cell_type": "code",
      "source": [
        "model_1 = tf.keras.models.load_model(\"/content/model_experiments/model_1_dense.keras\")\n",
        "model_1.evaluate(test_windows, test_labels)"
      ],
      "metadata": {
        "colab": {
          "base_uri": "https://localhost:8080/"
        },
        "id": "Dl76yqGVUsHc",
        "outputId": "2707172c-2cc4-47bc-98cb-09d1581d6b49"
      },
      "execution_count": 38,
      "outputs": [
        {
          "output_type": "stream",
          "name": "stdout",
          "text": [
            "18/18 [==============================] - 0s 5ms/step - loss: 568.4415 - mae: 568.4415\n"
          ]
        },
        {
          "output_type": "execute_result",
          "data": {
            "text/plain": [
              "[568.4414672851562, 568.4414672851562]"
            ]
          },
          "metadata": {},
          "execution_count": 38
        }
      ]
    },
    {
      "cell_type": "markdown",
      "source": [
        "## Making Forecasts with a Model (on the Test Dataset)\n",
        "\n",
        "We've trained our model and evaluated it on the test data. But since our project is called BitPredict 💰📈, how can we use our model to make predictions?\n",
        "\n",
        "Since we'll be running multiple modeling experiments, let's create a function that:\n",
        "1. Takes in a trained model (like `model_1`).\n",
        "2. Accepts some input data (similar to what the model was trained on).\n",
        "3. Passes the input data through the model's `predict()` method.\n",
        "4. Returns the predictions.\n"
      ],
      "metadata": {
        "id": "olrsTQ-JXQb0"
      }
    },
    {
      "cell_type": "code",
      "source": [
        "def make_preds(model, input_data):\n",
        "  \"\"\"\n",
        "  Uses model to make predictions on input_data.\n",
        "\n",
        "  Parameters\n",
        "  ----------\n",
        "  model: trained model\n",
        "  input_data: windowed input data (same kind of data model was trained on)\n",
        "\n",
        "  Returns model predictions on input_data.\n",
        "  \"\"\"\n",
        "  forecast = model.predict(input_data)\n",
        "  return tf.squeeze(forecast) # return 1D array of predictions"
      ],
      "metadata": {
        "id": "UJb0ButdVC94"
      },
      "execution_count": 39,
      "outputs": []
    },
    {
      "cell_type": "code",
      "source": [
        "# Make predictions using model_1 on the test dataset and view the results\n",
        "model_1_preds = make_preds(model_1, test_windows)\n",
        "len(model_1_preds), model_1_preds[:10]"
      ],
      "metadata": {
        "colab": {
          "base_uri": "https://localhost:8080/"
        },
        "id": "7ImL2mpoXUGf",
        "outputId": "a51508c6-6c66-45d5-b45a-1b7990baaa77"
      },
      "execution_count": 40,
      "outputs": [
        {
          "output_type": "stream",
          "name": "stdout",
          "text": [
            "18/18 [==============================] - 0s 2ms/step\n"
          ]
        },
        {
          "output_type": "execute_result",
          "data": {
            "text/plain": [
              "(556,\n",
              " <tf.Tensor: shape=(10,), dtype=float32, numpy=\n",
              " array([8873.76 , 8761.083, 9012.078, 8793.08 , 8733.852, 8745.79 ,\n",
              "        8688.67 , 8506.275, 8470.635, 8516.875], dtype=float32)>)"
            ]
          },
          "metadata": {},
          "execution_count": 40
        }
      ]
    },
    {
      "cell_type": "code",
      "source": [
        "#Evaluate preds\n",
        "model_1_results = evaluate_preds(y_true = tf.squeeze(test_labels),\n",
        "                                 y_pred = model_1_preds)\n",
        "\n",
        "model_1_results"
      ],
      "metadata": {
        "colab": {
          "base_uri": "https://localhost:8080/"
        },
        "id": "E6sse3CSXfNx",
        "outputId": "77ccd77c-a709-49ba-f6be-502d26724197"
      },
      "execution_count": 41,
      "outputs": [
        {
          "output_type": "execute_result",
          "data": {
            "text/plain": [
              "{'MAE': 568.44147,\n",
              " 'MSE': 1169459.8,\n",
              " 'RMSE': 1081.4156,\n",
              " 'MAPE': 2.5452263,\n",
              " 'MASE': 0.68579483}"
            ]
          },
          "metadata": {},
          "execution_count": 41
        }
      ]
    },
    {
      "cell_type": "code",
      "source": [
        "naive_results"
      ],
      "metadata": {
        "colab": {
          "base_uri": "https://localhost:8080/"
        },
        "id": "a-FNoQZIX0N5",
        "outputId": "b0d72eb9-cb6c-4e2f-ff6e-bee90b66e4c5"
      },
      "execution_count": 42,
      "outputs": [
        {
          "output_type": "execute_result",
          "data": {
            "text/plain": [
              "{'MAE': 567.9802,\n",
              " 'MSE': 1147547.0,\n",
              " 'RMSE': 1071.2362,\n",
              " 'MAPE': 2.516525,\n",
              " 'MASE': 0.69212395}"
            ]
          },
          "metadata": {},
          "execution_count": 42
        }
      ]
    },
    {
      "cell_type": "code",
      "source": [
        "offset = 300\n",
        "plt.figure(figsize=(10, 7))\n",
        "# Account for the test_window offset and index into test_labels to ensure correct plotting\n",
        "plot_time_series(timesteps=X_test[-len(test_windows):], values=test_labels[:,0], start=offset, label='Test_data')\n",
        "plot_time_series(timesteps=X_test[-len(test_windows):], values=model_1_preds, start=offset, format='-', label='model_1_preds')"
      ],
      "metadata": {
        "colab": {
          "base_uri": "https://localhost:8080/",
          "height": 619
        },
        "id": "msCGjm5cX4Dy",
        "outputId": "cf4029bb-107a-49e9-d295-9c36f7a72bc0"
      },
      "execution_count": 43,
      "outputs": [
        {
          "output_type": "display_data",
          "data": {
            "text/plain": [
              "<Figure size 1000x700 with 1 Axes>"
            ],
            "image/png": "[encoded data removed]"
          },
          "metadata": {}
        }
      ]
    },
    {
      "cell_type": "markdown",
      "source": [
        "## Model 2: Dense (window = 30, horizon = 1)\n",
        "\n",
        "A naïve model is currently beating our handcrafted deep learning model.\n",
        "\n",
        "We can't let this happen.\n",
        "\n",
        "Let's continue our modelling experiments.\n",
        "\n",
        "We'll keep the previous model architecture but use a window size of 30.\n",
        "\n",
        "In other words, we'll use the previous 30 days of Bitcoin prices to try and predict the next day price.\n",
        "\n",
        "> 🔑 **Note:** Recall from before, the window size (how many timesteps to use to fuel a forecast) and the horizon (how many timesteps to predict into the future) are **hyperparameters**. This means you can tune them to try and find values will result in better performance.\n",
        "\n",
        "We'll start our second modelling experiment by preparing datasets using the functions we created earlier."
      ],
      "metadata": {
        "id": "-xCBCHA9thoA"
      }
    },
    {
      "cell_type": "code",
      "source": [
        "HORIZON = 1\n",
        "WINDOW_SIZE = 30"
      ],
      "metadata": {
        "id": "zrca3-bcY-wV"
      },
      "execution_count": 44,
      "outputs": []
    },
    {
      "cell_type": "code",
      "source": [
        "# Make windowed data with appropriate horizon and window sizes\n",
        "full_windows, full_labels = make_windows(prices, window_size=WINDOW_SIZE, horizon=HORIZON)\n",
        "len(full_windows), len(full_labels)"
      ],
      "metadata": {
        "colab": {
          "base_uri": "https://localhost:8080/"
        },
        "id": "bPnTU_k6epX0",
        "outputId": "550aca55-f129-4f29-fc32-405345454a11"
      },
      "execution_count": 45,
      "outputs": [
        {
          "output_type": "execute_result",
          "data": {
            "text/plain": [
              "(2757, 2757)"
            ]
          },
          "metadata": {},
          "execution_count": 45
        }
      ]
    },
    {
      "cell_type": "code",
      "source": [
        "# Make train and testing windows\n",
        "train_windows, test_windows, train_labels, test_labels = make_train_test_splits(windows=full_windows, labels=full_labels)\n",
        "len(train_windows), len(test_windows), len(train_labels), len(test_labels)"
      ],
      "metadata": {
        "colab": {
          "base_uri": "https://localhost:8080/"
        },
        "id": "vH9PpsklfFBn",
        "outputId": "6f3f02eb-46a1-4875-f81f-1aae671ae8e9"
      },
      "execution_count": 46,
      "outputs": [
        {
          "output_type": "execute_result",
          "data": {
            "text/plain": [
              "(2205, 552, 2205, 552)"
            ]
          },
          "metadata": {},
          "execution_count": 46
        }
      ]
    },
    {
      "cell_type": "code",
      "source": [
        "tf.random.set_seed(42)\n",
        "\n",
        "# Create model (same model as model 1 but data input will be different)\n",
        "model_2 = tf.keras.Sequential([\n",
        "  layers.Dense(128, activation=\"relu\"),\n",
        "  layers.Dense(HORIZON)\n",
        "], name='model_2_dense')\n",
        "\n",
        "model_2.compile(loss='mae',\n",
        "                optimizer = tf.keras.optimizers.Adam())\n",
        "\n",
        "model_2.fit(train_windows,\n",
        "            train_labels,\n",
        "            epochs=100,\n",
        "            batch_size=128,\n",
        "            verbose=0,\n",
        "            validation_data = (test_windows, test_labels),\n",
        "            callbacks=[create_model_checkpoint(model_name=model_2.name)])"
      ],
      "metadata": {
        "colab": {
          "base_uri": "https://localhost:8080/"
        },
        "id": "oEjZzHF0fr6W",
        "outputId": "e966cc47-cdcb-4aa9-e8de-59effe4ff304"
      },
      "execution_count": 47,
      "outputs": [
        {
          "output_type": "stream",
          "name": "stdout",
          "text": [
            "\n",
            "Epoch 1: val_loss improved from inf to 6106.83984, saving model to model_experiments/model_2_dense.keras\n",
            "\n",
            "Epoch 2: val_loss improved from 6106.83984 to 1842.81982, saving model to model_experiments/model_2_dense.keras\n",
            "\n",
            "Epoch 3: val_loss improved from 1842.81982 to 1780.07104, saving model to model_experiments/model_2_dense.keras\n",
            "\n",
            "Epoch 4: val_loss improved from 1780.07104 to 1509.97681, saving model to model_experiments/model_2_dense.keras\n",
            "\n",
            "Epoch 5: val_loss improved from 1509.97681 to 1366.94031, saving model to model_experiments/model_2_dense.keras\n",
            "\n",
            "Epoch 6: val_loss improved from 1366.94031 to 1224.66504, saving model to model_experiments/model_2_dense.keras\n",
            "\n",
            "Epoch 7: val_loss improved from 1224.66504 to 1139.44934, saving model to model_experiments/model_2_dense.keras\n",
            "\n",
            "Epoch 8: val_loss did not improve from 1139.44934\n",
            "\n",
            "Epoch 9: val_loss improved from 1139.44934 to 1009.04211, saving model to model_experiments/model_2_dense.keras\n",
            "\n",
            "Epoch 10: val_loss improved from 1009.04211 to 959.68817, saving model to model_experiments/model_2_dense.keras\n",
            "\n",
            "Epoch 11: val_loss improved from 959.68817 to 948.93158, saving model to model_experiments/model_2_dense.keras\n",
            "\n",
            "Epoch 12: val_loss improved from 948.93158 to 885.64447, saving model to model_experiments/model_2_dense.keras\n",
            "\n",
            "Epoch 13: val_loss did not improve from 885.64447\n",
            "\n",
            "Epoch 14: val_loss did not improve from 885.64447\n",
            "\n",
            "Epoch 15: val_loss did not improve from 885.64447\n",
            "\n",
            "Epoch 16: val_loss improved from 885.64447 to 814.37476, saving model to model_experiments/model_2_dense.keras\n",
            "\n",
            "Epoch 17: val_loss did not improve from 814.37476\n",
            "\n",
            "Epoch 18: val_loss did not improve from 814.37476\n",
            "\n",
            "Epoch 19: val_loss did not improve from 814.37476\n",
            "\n",
            "Epoch 20: val_loss improved from 814.37476 to 804.74628, saving model to model_experiments/model_2_dense.keras\n",
            "\n",
            "Epoch 21: val_loss did not improve from 804.74628\n",
            "\n",
            "Epoch 22: val_loss did not improve from 804.74628\n",
            "\n",
            "Epoch 23: val_loss did not improve from 804.74628\n",
            "\n",
            "Epoch 24: val_loss improved from 804.74628 to 764.57245, saving model to model_experiments/model_2_dense.keras\n",
            "\n",
            "Epoch 25: val_loss improved from 764.57245 to 744.29712, saving model to model_experiments/model_2_dense.keras\n",
            "\n",
            "Epoch 26: val_loss did not improve from 744.29712\n",
            "\n",
            "Epoch 27: val_loss did not improve from 744.29712\n",
            "\n",
            "Epoch 28: val_loss did not improve from 744.29712\n",
            "\n",
            "Epoch 29: val_loss did not improve from 744.29712\n",
            "\n",
            "Epoch 30: val_loss did not improve from 744.29712\n",
            "\n",
            "Epoch 31: val_loss improved from 744.29712 to 711.80286, saving model to model_experiments/model_2_dense.keras\n",
            "\n",
            "Epoch 32: val_loss did not improve from 711.80286\n",
            "\n",
            "Epoch 33: val_loss did not improve from 711.80286\n",
            "\n",
            "Epoch 34: val_loss did not improve from 711.80286\n",
            "\n",
            "Epoch 35: val_loss improved from 711.80286 to 709.19745, saving model to model_experiments/model_2_dense.keras\n",
            "\n",
            "Epoch 36: val_loss improved from 709.19745 to 687.14459, saving model to model_experiments/model_2_dense.keras\n",
            "\n",
            "Epoch 37: val_loss did not improve from 687.14459\n",
            "\n",
            "Epoch 38: val_loss improved from 687.14459 to 679.82849, saving model to model_experiments/model_2_dense.keras\n",
            "\n",
            "Epoch 39: val_loss improved from 679.82849 to 677.06189, saving model to model_experiments/model_2_dense.keras\n",
            "\n",
            "Epoch 40: val_loss did not improve from 677.06189\n",
            "\n",
            "Epoch 41: val_loss did not improve from 677.06189\n",
            "\n",
            "Epoch 42: val_loss did not improve from 677.06189\n",
            "\n",
            "Epoch 43: val_loss did not improve from 677.06189\n",
            "\n",
            "Epoch 44: val_loss did not improve from 677.06189\n",
            "\n",
            "Epoch 45: val_loss did not improve from 677.06189\n",
            "\n",
            "Epoch 46: val_loss improved from 677.06189 to 658.89099, saving model to model_experiments/model_2_dense.keras\n",
            "\n",
            "Epoch 47: val_loss improved from 658.89099 to 649.96289, saving model to model_experiments/model_2_dense.keras\n",
            "\n",
            "Epoch 48: val_loss did not improve from 649.96289\n",
            "\n",
            "Epoch 49: val_loss did not improve from 649.96289\n",
            "\n",
            "Epoch 50: val_loss did not improve from 649.96289\n",
            "\n",
            "Epoch 51: val_loss did not improve from 649.96289\n",
            "\n",
            "Epoch 52: val_loss improved from 649.96289 to 645.75342, saving model to model_experiments/model_2_dense.keras\n",
            "\n",
            "Epoch 53: val_loss did not improve from 645.75342\n",
            "\n",
            "Epoch 54: val_loss did not improve from 645.75342\n",
            "\n",
            "Epoch 55: val_loss did not improve from 645.75342\n",
            "\n",
            "Epoch 56: val_loss did not improve from 645.75342\n",
            "\n",
            "Epoch 57: val_loss did not improve from 645.75342\n",
            "\n",
            "Epoch 58: val_loss did not improve from 645.75342\n",
            "\n",
            "Epoch 59: val_loss improved from 645.75342 to 633.74640, saving model to model_experiments/model_2_dense.keras\n",
            "\n",
            "Epoch 60: val_loss did not improve from 633.74640\n",
            "\n",
            "Epoch 61: val_loss did not improve from 633.74640\n",
            "\n",
            "Epoch 62: val_loss did not improve from 633.74640\n",
            "\n",
            "Epoch 63: val_loss did not improve from 633.74640\n",
            "\n",
            "Epoch 64: val_loss did not improve from 633.74640\n",
            "\n",
            "Epoch 65: val_loss improved from 633.74640 to 621.31549, saving model to model_experiments/model_2_dense.keras\n",
            "\n",
            "Epoch 66: val_loss did not improve from 621.31549\n",
            "\n",
            "Epoch 67: val_loss did not improve from 621.31549\n",
            "\n",
            "Epoch 68: val_loss did not improve from 621.31549\n",
            "\n",
            "Epoch 69: val_loss did not improve from 621.31549\n",
            "\n",
            "Epoch 70: val_loss did not improve from 621.31549\n",
            "\n",
            "Epoch 71: val_loss did not improve from 621.31549\n",
            "\n",
            "Epoch 72: val_loss did not improve from 621.31549\n",
            "\n",
            "Epoch 73: val_loss did not improve from 621.31549\n",
            "\n",
            "Epoch 74: val_loss did not improve from 621.31549\n",
            "\n",
            "Epoch 75: val_loss did not improve from 621.31549\n",
            "\n",
            "Epoch 76: val_loss improved from 621.31549 to 614.16882, saving model to model_experiments/model_2_dense.keras\n",
            "\n",
            "Epoch 77: val_loss did not improve from 614.16882\n",
            "\n",
            "Epoch 78: val_loss did not improve from 614.16882\n",
            "\n",
            "Epoch 79: val_loss did not improve from 614.16882\n",
            "\n",
            "Epoch 80: val_loss did not improve from 614.16882\n",
            "\n",
            "Epoch 81: val_loss did not improve from 614.16882\n",
            "\n",
            "Epoch 82: val_loss did not improve from 614.16882\n",
            "\n",
            "Epoch 83: val_loss did not improve from 614.16882\n",
            "\n",
            "Epoch 84: val_loss improved from 614.16882 to 612.97778, saving model to model_experiments/model_2_dense.keras\n",
            "\n",
            "Epoch 85: val_loss did not improve from 612.97778\n",
            "\n",
            "Epoch 86: val_loss did not improve from 612.97778\n",
            "\n",
            "Epoch 87: val_loss improved from 612.97778 to 605.06195, saving model to model_experiments/model_2_dense.keras\n",
            "\n",
            "Epoch 88: val_loss did not improve from 605.06195\n",
            "\n",
            "Epoch 89: val_loss did not improve from 605.06195\n",
            "\n",
            "Epoch 90: val_loss did not improve from 605.06195\n",
            "\n",
            "Epoch 91: val_loss did not improve from 605.06195\n",
            "\n",
            "Epoch 92: val_loss did not improve from 605.06195\n",
            "\n",
            "Epoch 93: val_loss did not improve from 605.06195\n",
            "\n",
            "Epoch 94: val_loss did not improve from 605.06195\n",
            "\n",
            "Epoch 95: val_loss did not improve from 605.06195\n",
            "\n",
            "Epoch 96: val_loss did not improve from 605.06195\n",
            "\n",
            "Epoch 97: val_loss did not improve from 605.06195\n",
            "\n",
            "Epoch 98: val_loss did not improve from 605.06195\n",
            "\n",
            "Epoch 99: val_loss did not improve from 605.06195\n",
            "\n",
            "Epoch 100: val_loss did not improve from 605.06195\n"
          ]
        },
        {
          "output_type": "execute_result",
          "data": {
            "text/plain": [
              "<keras.src.callbacks.History at 0x79abc1619e10>"
            ]
          },
          "metadata": {},
          "execution_count": 47
        }
      ]
    },
    {
      "cell_type": "code",
      "source": [
        "# Evaluate model 2 preds\n",
        "model_2.evaluate(test_windows, test_labels)"
      ],
      "metadata": {
        "colab": {
          "base_uri": "https://localhost:8080/"
        },
        "id": "KUF4B9QGgV3M",
        "outputId": "cff35666-5b1b-44a7-aba3-70c98a09b45f"
      },
      "execution_count": 48,
      "outputs": [
        {
          "output_type": "stream",
          "name": "stdout",
          "text": [
            "18/18 [==============================] - 0s 4ms/step - loss: 683.9862\n"
          ]
        },
        {
          "output_type": "execute_result",
          "data": {
            "text/plain": [
              "683.9862060546875"
            ]
          },
          "metadata": {},
          "execution_count": 48
        }
      ]
    },
    {
      "cell_type": "code",
      "source": [
        "# Load in best performing model\n",
        "model_2 = tf.keras.models.load_model(\"/content/model_experiments/model_2_dense.keras\")\n",
        "model_2.evaluate(test_windows, test_labels)"
      ],
      "metadata": {
        "colab": {
          "base_uri": "https://localhost:8080/"
        },
        "id": "bxu4R9plgf1v",
        "outputId": "ca92bacc-f0b6-482a-bcd0-1327a8d28f62"
      },
      "execution_count": 49,
      "outputs": [
        {
          "output_type": "stream",
          "name": "stdout",
          "text": [
            "18/18 [==============================] - 0s 2ms/step - loss: 605.0621\n"
          ]
        },
        {
          "output_type": "execute_result",
          "data": {
            "text/plain": [
              "605.0621337890625"
            ]
          },
          "metadata": {},
          "execution_count": 49
        }
      ]
    },
    {
      "cell_type": "code",
      "source": [
        "# Get forecast predictions\n",
        "model_2_preds = make_preds(model_2,\n",
        "                           input_data=test_windows)"
      ],
      "metadata": {
        "colab": {
          "base_uri": "https://localhost:8080/"
        },
        "id": "h4DkQnLvgky2",
        "outputId": "0d246623-8e7e-433f-bc8b-31502e6244d9"
      },
      "execution_count": 50,
      "outputs": [
        {
          "output_type": "stream",
          "name": "stdout",
          "text": [
            "18/18 [==============================] - 0s 2ms/step\n"
          ]
        }
      ]
    },
    {
      "cell_type": "code",
      "source": [
        "# Evaluate results for model 2 predictions\n",
        "model_2_results = evaluate_preds(y_true=tf.squeeze(test_labels), # remove 1 dimension of test labels\n",
        "                                 y_pred=model_2_preds)\n",
        "model_2_results"
      ],
      "metadata": {
        "colab": {
          "base_uri": "https://localhost:8080/"
        },
        "id": "UsG-dm7vg_X6",
        "outputId": "323fbc48-a3b0-497e-e7ce-da3c5510123a"
      },
      "execution_count": 51,
      "outputs": [
        {
          "output_type": "execute_result",
          "data": {
            "text/plain": [
              "{'MAE': 605.0621,\n",
              " 'MSE': 1236421.0,\n",
              " 'RMSE': 1111.9447,\n",
              " 'MAPE': 2.7251987,\n",
              " 'MASE': 0.7039921}"
            ]
          },
          "metadata": {},
          "execution_count": 51
        }
      ]
    },
    {
      "cell_type": "code",
      "source": [
        "offset = 300\n",
        "plt.figure(figsize=(10, 7))\n",
        "# Account for the test_window offset\n",
        "plot_time_series(timesteps=X_test[-len(test_windows):], values=test_labels[:, 0], start=offset, label=\"test_data\")\n",
        "plot_time_series(timesteps=X_test[-len(test_windows):], values=model_2_preds, start=offset, format=\"-\", label=\"model_2_preds\")"
      ],
      "metadata": {
        "colab": {
          "base_uri": "https://localhost:8080/",
          "height": 619
        },
        "id": "lVgoHKVutuMX",
        "outputId": "94dce9e7-f689-4973-cf45-3a0f3b730ec7"
      },
      "execution_count": 52,
      "outputs": [
        {
          "output_type": "display_data",
          "data": {
            "text/plain": [
              "<Figure size 1000x700 with 1 Axes>"
            ],
            "image/png": "[encoded data removed]"
          },
          "metadata": {}
        }
      ]
    },
    {
      "cell_type": "markdown",
      "source": [
        "## Model 3: Dense (window = 30, horizon = 7)\n",
        "\n",
        "Let's try and predict 7 days ahead given the previous 30 days.\n",
        "\n",
        "First, we'll update the `HORIZON` and `WINDOW_SIZE` variables and create windowed data.\n"
      ],
      "metadata": {
        "id": "3zz31HhJtb4m"
      }
    },
    {
      "cell_type": "code",
      "source": [
        "HORIZON= 7\n",
        "WINDOW_SIZE = 30\n",
        "\n",
        "full_windows, full_labels = make_windows(prices, window_size=WINDOW_SIZE, horizon=HORIZON)\n",
        "len(full_windows), len(full_labels)"
      ],
      "metadata": {
        "colab": {
          "base_uri": "https://localhost:8080/"
        },
        "id": "O7c4zBLLzG44",
        "outputId": "0050b457-7dfa-4402-970e-4435f12f02ce"
      },
      "execution_count": 53,
      "outputs": [
        {
          "output_type": "execute_result",
          "data": {
            "text/plain": [
              "(2751, 2751)"
            ]
          },
          "metadata": {},
          "execution_count": 53
        }
      ]
    },
    {
      "cell_type": "code",
      "source": [
        "train_windows, test_windows, train_labels, test_labels = make_train_test_splits(windows=full_windows, labels = full_labels, test_split=0.2)\n",
        "len(train_windows), len(test_windows), len(train_labels), len(test_labels)"
      ],
      "metadata": {
        "colab": {
          "base_uri": "https://localhost:8080/"
        },
        "id": "_qtiPtaCzaX9",
        "outputId": "892191c4-cb5a-4b07-ca89-b9ec702d7be0"
      },
      "execution_count": 54,
      "outputs": [
        {
          "output_type": "execute_result",
          "data": {
            "text/plain": [
              "(2200, 551, 2200, 551)"
            ]
          },
          "metadata": {},
          "execution_count": 54
        }
      ]
    },
    {
      "cell_type": "code",
      "source": [
        "tf.random.set_seed(42)\n",
        "\n",
        "# create model (same as model_1 except with diff data input size)\n",
        "model_3 = tf.keras.Sequential([\n",
        "    layers.Dense(128, activation='relu'),\n",
        "    layers.Dense(HORIZON)\n",
        "], name=\"model_3_dense\")\n",
        "\n",
        "model_3.compile(loss=\"mae\",\n",
        "                optimizer=tf.keras.optimizers.Adam())\n",
        "\n",
        "model_3.fit(train_windows,\n",
        "            train_labels,\n",
        "            batch_size=128,\n",
        "            epochs=100,\n",
        "            verbose=0,\n",
        "            validation_data = (test_windows, test_labels),\n",
        "            callbacks = [create_model_checkpoint(model_name=model_3.name)])"
      ],
      "metadata": {
        "colab": {
          "base_uri": "https://localhost:8080/"
        },
        "id": "w1N4GPjqzsfN",
        "outputId": "625cedcd-c76c-4a69-8415-d3665f4e2afb"
      },
      "execution_count": 55,
      "outputs": [
        {
          "output_type": "stream",
          "name": "stdout",
          "text": [
            "\n",
            "Epoch 1: val_loss improved from inf to 3121.47144, saving model to model_experiments/model_3_dense.keras\n",
            "\n",
            "Epoch 2: val_loss improved from 3121.47144 to 2862.29077, saving model to model_experiments/model_3_dense.keras\n",
            "\n",
            "Epoch 3: val_loss improved from 2862.29077 to 2380.00684, saving model to model_experiments/model_3_dense.keras\n",
            "\n",
            "Epoch 4: val_loss improved from 2380.00684 to 2023.50867, saving model to model_experiments/model_3_dense.keras\n",
            "\n",
            "Epoch 5: val_loss improved from 2023.50867 to 2012.84912, saving model to model_experiments/model_3_dense.keras\n",
            "\n",
            "Epoch 6: val_loss improved from 2012.84912 to 1833.07825, saving model to model_experiments/model_3_dense.keras\n",
            "\n",
            "Epoch 7: val_loss improved from 1833.07825 to 1586.36768, saving model to model_experiments/model_3_dense.keras\n",
            "\n",
            "Epoch 8: val_loss did not improve from 1586.36768\n",
            "\n",
            "Epoch 9: val_loss improved from 1586.36768 to 1574.89136, saving model to model_experiments/model_3_dense.keras\n",
            "\n",
            "Epoch 10: val_loss improved from 1574.89136 to 1507.51562, saving model to model_experiments/model_3_dense.keras\n",
            "\n",
            "Epoch 11: val_loss improved from 1507.51562 to 1455.93213, saving model to model_experiments/model_3_dense.keras\n",
            "\n",
            "Epoch 12: val_loss did not improve from 1455.93213\n",
            "\n",
            "Epoch 13: val_loss improved from 1455.93213 to 1436.25183, saving model to model_experiments/model_3_dense.keras\n",
            "\n",
            "Epoch 14: val_loss did not improve from 1436.25183\n",
            "\n",
            "Epoch 15: val_loss did not improve from 1436.25183\n",
            "\n",
            "Epoch 16: val_loss improved from 1436.25183 to 1405.66211, saving model to model_experiments/model_3_dense.keras\n",
            "\n",
            "Epoch 17: val_loss did not improve from 1405.66211\n",
            "\n",
            "Epoch 18: val_loss did not improve from 1405.66211\n",
            "\n",
            "Epoch 19: val_loss did not improve from 1405.66211\n",
            "\n",
            "Epoch 20: val_loss did not improve from 1405.66211\n",
            "\n",
            "Epoch 21: val_loss did not improve from 1405.66211\n",
            "\n",
            "Epoch 22: val_loss improved from 1405.66211 to 1376.80334, saving model to model_experiments/model_3_dense.keras\n",
            "\n",
            "Epoch 23: val_loss did not improve from 1376.80334\n",
            "\n",
            "Epoch 24: val_loss did not improve from 1376.80334\n",
            "\n",
            "Epoch 25: val_loss did not improve from 1376.80334\n",
            "\n",
            "Epoch 26: val_loss improved from 1376.80334 to 1374.98999, saving model to model_experiments/model_3_dense.keras\n",
            "\n",
            "Epoch 27: val_loss did not improve from 1374.98999\n",
            "\n",
            "Epoch 28: val_loss improved from 1374.98999 to 1370.95032, saving model to model_experiments/model_3_dense.keras\n",
            "\n",
            "Epoch 29: val_loss improved from 1370.95032 to 1365.25073, saving model to model_experiments/model_3_dense.keras\n",
            "\n",
            "Epoch 30: val_loss did not improve from 1365.25073\n",
            "\n",
            "Epoch 31: val_loss improved from 1365.25073 to 1322.06189, saving model to model_experiments/model_3_dense.keras\n",
            "\n",
            "Epoch 32: val_loss improved from 1322.06189 to 1310.31372, saving model to model_experiments/model_3_dense.keras\n",
            "\n",
            "Epoch 33: val_loss did not improve from 1310.31372\n",
            "\n",
            "Epoch 34: val_loss did not improve from 1310.31372\n",
            "\n",
            "Epoch 35: val_loss did not improve from 1310.31372\n",
            "\n",
            "Epoch 36: val_loss did not improve from 1310.31372\n",
            "\n",
            "Epoch 37: val_loss did not improve from 1310.31372\n",
            "\n",
            "Epoch 38: val_loss did not improve from 1310.31372\n",
            "\n",
            "Epoch 39: val_loss did not improve from 1310.31372\n",
            "\n",
            "Epoch 40: val_loss did not improve from 1310.31372\n",
            "\n",
            "Epoch 41: val_loss did not improve from 1310.31372\n",
            "\n",
            "Epoch 42: val_loss did not improve from 1310.31372\n",
            "\n",
            "Epoch 43: val_loss improved from 1310.31372 to 1290.78809, saving model to model_experiments/model_3_dense.keras\n",
            "\n",
            "Epoch 44: val_loss did not improve from 1290.78809\n",
            "\n",
            "Epoch 45: val_loss did not improve from 1290.78809\n",
            "\n",
            "Epoch 46: val_loss did not improve from 1290.78809\n",
            "\n",
            "Epoch 47: val_loss did not improve from 1290.78809\n",
            "\n",
            "Epoch 48: val_loss did not improve from 1290.78809\n",
            "\n",
            "Epoch 49: val_loss did not improve from 1290.78809\n",
            "\n",
            "Epoch 50: val_loss improved from 1290.78809 to 1288.68713, saving model to model_experiments/model_3_dense.keras\n",
            "\n",
            "Epoch 51: val_loss did not improve from 1288.68713\n",
            "\n",
            "Epoch 52: val_loss did not improve from 1288.68713\n",
            "\n",
            "Epoch 53: val_loss improved from 1288.68713 to 1275.63135, saving model to model_experiments/model_3_dense.keras\n",
            "\n",
            "Epoch 54: val_loss did not improve from 1275.63135\n",
            "\n",
            "Epoch 55: val_loss did not improve from 1275.63135\n",
            "\n",
            "Epoch 56: val_loss did not improve from 1275.63135\n",
            "\n",
            "Epoch 57: val_loss did not improve from 1275.63135\n",
            "\n",
            "Epoch 58: val_loss did not improve from 1275.63135\n",
            "\n",
            "Epoch 59: val_loss improved from 1275.63135 to 1273.13062, saving model to model_experiments/model_3_dense.keras\n",
            "\n",
            "Epoch 60: val_loss did not improve from 1273.13062\n",
            "\n",
            "Epoch 61: val_loss did not improve from 1273.13062\n",
            "\n",
            "Epoch 62: val_loss did not improve from 1273.13062\n",
            "\n",
            "Epoch 63: val_loss did not improve from 1273.13062\n",
            "\n",
            "Epoch 64: val_loss improved from 1273.13062 to 1253.63721, saving model to model_experiments/model_3_dense.keras\n",
            "\n",
            "Epoch 65: val_loss did not improve from 1253.63721\n",
            "\n",
            "Epoch 66: val_loss did not improve from 1253.63721\n",
            "\n",
            "Epoch 67: val_loss did not improve from 1253.63721\n",
            "\n",
            "Epoch 68: val_loss did not improve from 1253.63721\n",
            "\n",
            "Epoch 69: val_loss did not improve from 1253.63721\n",
            "\n",
            "Epoch 70: val_loss did not improve from 1253.63721\n",
            "\n",
            "Epoch 71: val_loss did not improve from 1253.63721\n",
            "\n",
            "Epoch 72: val_loss improved from 1253.63721 to 1243.61658, saving model to model_experiments/model_3_dense.keras\n",
            "\n",
            "Epoch 73: val_loss did not improve from 1243.61658\n",
            "\n",
            "Epoch 74: val_loss did not improve from 1243.61658\n",
            "\n",
            "Epoch 75: val_loss did not improve from 1243.61658\n",
            "\n",
            "Epoch 76: val_loss did not improve from 1243.61658\n",
            "\n",
            "Epoch 77: val_loss improved from 1243.61658 to 1239.18835, saving model to model_experiments/model_3_dense.keras\n",
            "\n",
            "Epoch 78: val_loss did not improve from 1239.18835\n",
            "\n",
            "Epoch 79: val_loss did not improve from 1239.18835\n",
            "\n",
            "Epoch 80: val_loss did not improve from 1239.18835\n",
            "\n",
            "Epoch 81: val_loss did not improve from 1239.18835\n",
            "\n",
            "Epoch 82: val_loss did not improve from 1239.18835\n",
            "\n",
            "Epoch 83: val_loss did not improve from 1239.18835\n",
            "\n",
            "Epoch 84: val_loss did not improve from 1239.18835\n",
            "\n",
            "Epoch 85: val_loss did not improve from 1239.18835\n",
            "\n",
            "Epoch 86: val_loss did not improve from 1239.18835\n",
            "\n",
            "Epoch 87: val_loss did not improve from 1239.18835\n",
            "\n",
            "Epoch 88: val_loss did not improve from 1239.18835\n",
            "\n",
            "Epoch 89: val_loss did not improve from 1239.18835\n",
            "\n",
            "Epoch 90: val_loss did not improve from 1239.18835\n",
            "\n",
            "Epoch 91: val_loss did not improve from 1239.18835\n",
            "\n",
            "Epoch 92: val_loss improved from 1239.18835 to 1234.71094, saving model to model_experiments/model_3_dense.keras\n",
            "\n",
            "Epoch 93: val_loss did not improve from 1234.71094\n",
            "\n",
            "Epoch 94: val_loss did not improve from 1234.71094\n",
            "\n",
            "Epoch 95: val_loss did not improve from 1234.71094\n",
            "\n",
            "Epoch 96: val_loss did not improve from 1234.71094\n",
            "\n",
            "Epoch 97: val_loss did not improve from 1234.71094\n",
            "\n",
            "Epoch 98: val_loss did not improve from 1234.71094\n",
            "\n",
            "Epoch 99: val_loss did not improve from 1234.71094\n",
            "\n",
            "Epoch 100: val_loss did not improve from 1234.71094\n"
          ]
        },
        {
          "output_type": "execute_result",
          "data": {
            "text/plain": [
              "<keras.src.callbacks.History at 0x79abb0111f30>"
            ]
          },
          "metadata": {},
          "execution_count": 55
        }
      ]
    },
    {
      "cell_type": "code",
      "source": [
        "# How did our model with a larger window size and horizon go?\n",
        "model_3.evaluate(test_windows, test_labels)"
      ],
      "metadata": {
        "colab": {
          "base_uri": "https://localhost:8080/"
        },
        "id": "qniLsyT65PmT",
        "outputId": "4fe70590-e2dc-4330-e593-a7aa49dfbc8b"
      },
      "execution_count": 56,
      "outputs": [
        {
          "output_type": "stream",
          "name": "stdout",
          "text": [
            "18/18 [==============================] - 0s 4ms/step - loss: 1327.9750\n"
          ]
        },
        {
          "output_type": "execute_result",
          "data": {
            "text/plain": [
              "1327.9749755859375"
            ]
          },
          "metadata": {},
          "execution_count": 56
        }
      ]
    },
    {
      "cell_type": "code",
      "source": [
        "model_3 = tf.keras.models.load_model(\"/content/model_experiments/model_3_dense.keras\")\n",
        "model_3.evaluate(test_windows, test_labels)"
      ],
      "metadata": {
        "colab": {
          "base_uri": "https://localhost:8080/"
        },
        "id": "vZjP43tN6uy7",
        "outputId": "46823e63-824a-47a4-b407-6d31c81fffd7"
      },
      "execution_count": 57,
      "outputs": [
        {
          "output_type": "stream",
          "name": "stdout",
          "text": [
            "18/18 [==============================] - 0s 4ms/step - loss: 1234.7109\n"
          ]
        },
        {
          "output_type": "execute_result",
          "data": {
            "text/plain": [
              "1234.7109375"
            ]
          },
          "metadata": {},
          "execution_count": 57
        }
      ]
    },
    {
      "cell_type": "code",
      "source": [
        "model_3_preds = make_preds(model_3, test_windows)\n",
        "model_3_preds[:5]"
      ],
      "metadata": {
        "colab": {
          "base_uri": "https://localhost:8080/"
        },
        "id": "FjoT3KEN6-D8",
        "outputId": "144a96b0-a77b-45c7-9689-a6799ad91070"
      },
      "execution_count": 58,
      "outputs": [
        {
          "output_type": "stream",
          "name": "stdout",
          "text": [
            "18/18 [==============================] - 0s 3ms/step\n"
          ]
        },
        {
          "output_type": "execute_result",
          "data": {
            "text/plain": [
              "<tf.Tensor: shape=(5, 7), dtype=float32, numpy=\n",
              "array([[9325.762 , 9299.127 , 9392.017 , 9593.341 , 9667.647 , 9586.647 ,\n",
              "        9688.476 ],\n",
              "       [9006.441 , 8969.827 , 9186.673 , 9334.484 , 9472.786 , 9231.677 ,\n",
              "        9406.927 ],\n",
              "       [8891.605 , 8697.669 , 9053.982 , 9099.718 , 9222.01  , 9197.733 ,\n",
              "        9304.904 ],\n",
              "       [9030.442 , 8841.155 , 9210.303 , 9227.092 , 9232.477 , 9366.61  ,\n",
              "        9587.835 ],\n",
              "       [8862.423 , 8763.977 , 9114.821 , 9174.054 , 9168.856 , 9118.4795,\n",
              "        9321.014 ]], dtype=float32)>"
            ]
          },
          "metadata": {},
          "execution_count": 58
        }
      ]
    },
    {
      "cell_type": "code",
      "source": [
        "model_3_results = evaluate_preds(tf.squeeze(test_labels),\n",
        "                                 model_3_preds)\n",
        "\n",
        "model_3_results"
      ],
      "metadata": {
        "colab": {
          "base_uri": "https://localhost:8080/"
        },
        "id": "YLT5P4vo7K1L",
        "outputId": "bba18618-1b7f-4fe3-b153-6ad97b74d6e0"
      },
      "execution_count": 59,
      "outputs": [
        {
          "output_type": "execute_result",
          "data": {
            "text/plain": [
              "{'MAE': 1234.7108,\n",
              " 'MSE': 5457043.5,\n",
              " 'RMSE': 2336.0315,\n",
              " 'MAPE': 5.57508,\n",
              " 'MASE': 0.8826382}"
            ]
          },
          "metadata": {},
          "execution_count": 59
        }
      ]
    },
    {
      "cell_type": "markdown",
      "source": [
        "Make our evaluation function work for larger horizons\n",
        "\n",
        "if you notice the outputs for `model_3_results` are multi-dimensional.\n",
        "\n",
        "This is because the predictions are getting evaluated across the `HORIZON` timesteps (7 predictions at a time).\n",
        "\n",
        "To fix this, adjust our `evaluate_preds()` function to work with multiple shapes of data."
      ],
      "metadata": {
        "id": "tQ51lLPrCP3N"
      }
    },
    {
      "cell_type": "code",
      "source": [
        "def evaluate_preds(y_true, y_pred):\n",
        "  # Make sure float32 (for metric calculations)\n",
        "  y_true = tf.cast(y_true, dtype=tf.float32)\n",
        "  y_pred = tf.cast(y_pred, dtype=tf.float32)\n",
        "\n",
        "  # Calculate various metrics\n",
        "  mae = tf.keras.metrics.mean_absolute_error(y_true, y_pred)\n",
        "  mse = tf.keras.metrics.mean_squared_error(y_true, y_pred)\n",
        "  rmse = tf.sqrt(mse)\n",
        "  mape = tf.keras.metrics.mean_absolute_percentage_error(y_true, y_pred)\n",
        "  mase = mean_absolute_scaled_error(y_true, y_pred)\n",
        "\n",
        "  # Account for different sized metrics (for longer horizons, reduce to single number)\n",
        "  if mae.ndim > 0: # if mae isn't already a scalar, reduce it to one by aggregating tensors to mean\n",
        "    mae = tf.reduce_mean(mae)\n",
        "    mse = tf.reduce_mean(mse)\n",
        "    rmse = tf.reduce_mean(rmse)\n",
        "    mape = tf.reduce_mean(mape)\n",
        "    mase = tf.reduce_mean(mase)\n",
        "\n",
        "  return {\"mae\": mae.numpy(),\n",
        "          \"mse\": mse.numpy(),\n",
        "          \"rmse\": rmse.numpy(),\n",
        "          \"mape\": mape.numpy(),\n",
        "          \"mase\": mase.numpy()}"
      ],
      "metadata": {
        "id": "uQ2IZsnnCAmQ"
      },
      "execution_count": 75,
      "outputs": []
    },
    {
      "cell_type": "code",
      "source": [
        "offset = 400\n",
        "plt.figure(figsize=(10, 7))\n",
        "plot_time_series(timesteps=X_test[-len(test_windows):], values=test_labels[:,0], start=offset, label='Test_data')\n",
        "plot_time_series(timesteps=X_test[-len(test_windows):], values=model_3_preds, start=offset, format='-', label=\"model_3_preds\")\n",
        "plt.legend(bbox_to_anchor=(1, 1))"
      ],
      "metadata": {
        "colab": {
          "base_uri": "https://localhost:8080/",
          "height": 628
        },
        "id": "KB1OZzG0Ceq3",
        "outputId": "2df7f3a7-fded-43cf-8211-1d35b9f4285b"
      },
      "execution_count": 61,
      "outputs": [
        {
          "output_type": "execute_result",
          "data": {
            "text/plain": [
              "<matplotlib.legend.Legend at 0x79ab5214d2a0>"
            ]
          },
          "metadata": {},
          "execution_count": 61
        },
        {
          "output_type": "display_data",
          "data": {
            "text/plain": [
              "<Figure size 1000x700 with 1 Axes>"
            ],
            "image/png": "[encoded data removed]"
          },
          "metadata": {}
        }
      ]
    },
    {
      "cell_type": "code",
      "source": [
        "offset = 300\n",
        "plt.figure(figsize=(10, 7))\n",
        "# Plot model_3_preds by aggregating them (note: this condenses information so the preds will look fruther ahead than the test data)\n",
        "plot_time_series(timesteps=X_test[-len(test_windows):],\n",
        "                 values=test_labels[:, 0],\n",
        "                 start=offset,\n",
        "                 label=\"Test_data\")\n",
        "plot_time_series(timesteps=X_test[-len(test_windows):],\n",
        "                 values=tf.reduce_mean(model_3_preds, axis=1),\n",
        "                 format=\"-\",\n",
        "                 start=offset,\n",
        "                 label=\"model_3_preds\")"
      ],
      "metadata": {
        "colab": {
          "base_uri": "https://localhost:8080/",
          "height": 619
        },
        "id": "Run5QhWHE4rP",
        "outputId": "0fc48480-a653-4d52-cd3e-cb2950b7c974"
      },
      "execution_count": 62,
      "outputs": [
        {
          "output_type": "display_data",
          "data": {
            "text/plain": [
              "<Figure size 1000x700 with 1 Axes>"
            ],
            "image/png": "[encoded data removed]"
          },
          "metadata": {}
        }
      ]
    },
    {
      "cell_type": "markdown",
      "source": [
        "## Which of our models is performing best so far?\n",
        "\n",
        "So far, we've trained 3 models which use the same architecture but use different data inputs.\n",
        "\n",
        "Let's compare them with the naïve model to see which model is performing the best so far."
      ],
      "metadata": {
        "id": "BgZ4HnyYFhzj"
      }
    },
    {
      "cell_type": "code",
      "source": [
        "pd.DataFrame({\"naive\": naive_results[\"MAE\"],\n",
        "              \"horizon_1_window_7\": model_1_results[\"MAE\"],\n",
        "              \"horizon_1_window_30\": model_2_results[\"MAE\"],\n",
        "              \"horizon_7_window_30\": model_3_results[\"MAE\"]}, index=[\"MAE\"]).plot(figsize=(10, 7), kind=\"bar\");"
      ],
      "metadata": {
        "colab": {
          "base_uri": "https://localhost:8080/",
          "height": 615
        },
        "id": "OK7qNAFlFXn3",
        "outputId": "614284f5-e407-48a6-fee0-b8598d355d48"
      },
      "execution_count": 63,
      "outputs": [
        {
          "output_type": "display_data",
          "data": {
            "text/plain": [
              "<Figure size 1000x700 with 1 Axes>"
            ],
            "image/png": "[encoded data removed]"
          },
          "metadata": {}
        }
      ]
    },
    {
      "cell_type": "markdown",
      "source": [
        "## Model 4: Conv1D\n",
        "\n",
        "Let's move on to the next modeling experiment!\n",
        "\n",
        "This time, we'll be using a Conv1D model. As we saw in the sequence modeling notebook, Conv1D models are well-suited for seq2seq (sequence to sequence) problems.\n",
        "\n",
        "In our case, the input sequence consists of the previous 7 days of Bitcoin price data, and the output is the next day's price (in seq2seq terms, this is known as a \"many-to-one\" problem).\n"
      ],
      "metadata": {
        "id": "5pgEluv79eT8"
      }
    },
    {
      "cell_type": "code",
      "source": [
        "HORIZON = 1 # predict next day\n",
        "WINDOW_SIZE = 7 # use previous week worth of data"
      ],
      "metadata": {
        "id": "70bvX3aBFrso"
      },
      "execution_count": 64,
      "outputs": []
    },
    {
      "cell_type": "code",
      "source": [
        "# Create windowed dataset\n",
        "full_windows, full_labels = make_windows(prices, window_size=WINDOW_SIZE, horizon=HORIZON)\n",
        "len(full_windows), len(full_labels)"
      ],
      "metadata": {
        "colab": {
          "base_uri": "https://localhost:8080/"
        },
        "id": "U6QRWc1O9yFF",
        "outputId": "13fea8df-ad2d-488e-c132-a3fb396cbba4"
      },
      "execution_count": 65,
      "outputs": [
        {
          "output_type": "execute_result",
          "data": {
            "text/plain": [
              "(2780, 2780)"
            ]
          },
          "metadata": {},
          "execution_count": 65
        }
      ]
    },
    {
      "cell_type": "code",
      "source": [
        "# Create train/test splits\n",
        "train_windows, test_windows, train_labels, test_labels = make_train_test_splits(full_windows, full_labels)\n",
        "len(train_windows), len(test_windows), len(train_labels), len(test_labels)"
      ],
      "metadata": {
        "colab": {
          "base_uri": "https://localhost:8080/"
        },
        "id": "P1jWXuOy9vkJ",
        "outputId": "2eb7da17-8a23-417c-cfa8-15c36ec8b7b9"
      },
      "execution_count": 66,
      "outputs": [
        {
          "output_type": "execute_result",
          "data": {
            "text/plain": [
              "(2224, 556, 2224, 556)"
            ]
          },
          "metadata": {},
          "execution_count": 66
        }
      ]
    },
    {
      "cell_type": "markdown",
      "source": [
        "Data windowed!\n",
        "\n",
        "Now, since we're going to be using [Conv1D layers](https://www.tensorflow.org/api_docs/python/tf/keras/layers/Conv1D), we need to make sure our input shapes are correct.\n",
        "\n",
        "The Conv1D layer in TensorFlow takes an input of: `(batch_size, timesteps, input_dim)`.\n",
        "\n",
        "In our case, the `batch_size` (by default this is 32 but we can change it) is handled for us but the other values will be:\n",
        "* `timesteps = WINDOW_SIZE` - the `timesteps` is also often referred to as `features`, our features are the previous `WINDOW_SIZE` values of Bitcoin\n",
        "* `input_dim = HORIZON` - our model views `WINDOW_SIZE` (one week) worth of data at a time to predict `HORIZON` (one day)\n",
        "\n",
        "Right now, our data has the `timesteps` dimension ready but we'll have to adjust it to have the `input_dim` dimension."
      ],
      "metadata": {
        "id": "1nVtNqqV-tXX"
      }
    },
    {
      "cell_type": "code",
      "source": [
        "# Check data sample shapes\n",
        "train_windows[0].shape"
      ],
      "metadata": {
        "colab": {
          "base_uri": "https://localhost:8080/"
        },
        "id": "2m2GWabE-V-H",
        "outputId": "f2dfaaa2-8ba0-4e7c-c810-7174220a5d71"
      },
      "execution_count": 67,
      "outputs": [
        {
          "output_type": "execute_result",
          "data": {
            "text/plain": [
              "(7,)"
            ]
          },
          "metadata": {},
          "execution_count": 67
        }
      ]
    },
    {
      "cell_type": "code",
      "source": [
        "# Before we pass our data to the Conv1D layer, we have to reshape it in order to make sure it works\n",
        "x = tf.constant(train_windows[0])\n",
        "expand_dims_layer = layers.Lambda(lambda x: tf.expand_dims(x, axis=1))\n",
        "print(f\"Original shape: {x.shape}\")\n",
        "print(f\"Expanded shape: {expand_dims_layer(x).shape}\")\n",
        "print(f\"Original values with expanded shape:\\n {expand_dims_layer(x)}\")"
      ],
      "metadata": {
        "colab": {
          "base_uri": "https://localhost:8080/"
        },
        "id": "G0Mj0mP--zwR",
        "outputId": "c5369757-5063-400c-9cb7-871fa83b0a1e"
      },
      "execution_count": 68,
      "outputs": [
        {
          "output_type": "stream",
          "name": "stdout",
          "text": [
            "Original shape: (7,)\n",
            "Expanded shape: (7, 1)\n",
            "Original values with expanded shape:\n",
            " [[123.65499]\n",
            " [125.455  ]\n",
            " [108.58483]\n",
            " [118.67466]\n",
            " [121.33866]\n",
            " [120.65533]\n",
            " [121.795  ]]\n"
          ]
        }
      ]
    },
    {
      "cell_type": "markdown",
      "source": [
        "Looking good!\n",
        "\n",
        "Now we've got a Lambda layer, let's build, compile, fit and evaluate a Conv1D model on our data.\n",
        "\n",
        "> 🔑 **Note:** If you run the model below without the Lambda layer, you'll get an input shape error (one of the most common errors when building neural networks)."
      ],
      "metadata": {
        "id": "qZvPEhWA_wyI"
      }
    },
    {
      "cell_type": "code",
      "source": [
        "tf.random.set_seed(42)\n",
        "\n",
        "# Create model\n",
        "model_4 = tf.keras.Sequential([\n",
        "    layers.Lambda(lambda x: tf.expand_dims(x, axis=1)),\n",
        "    layers.Conv1D(filters=128, kernel_size=5, padding='causal', activation='relu'),\n",
        "    layers.Dense(HORIZON)\n",
        "], name='model_4_conv1D')\n",
        "\n",
        "# compile the model\n",
        "model_4.compile(loss='mae',\n",
        "                optimizer=tf.keras.optimizers.Adam())\n",
        "\n",
        "# fit model\n",
        "model_4.fit(train_windows,\n",
        "            train_labels,\n",
        "            batch_size=128,\n",
        "            epochs=100,\n",
        "            verbose=0,\n",
        "            validation_data=(test_windows, test_labels),\n",
        "            callbacks = [create_model_checkpoint(model_name=model_4.name)])"
      ],
      "metadata": {
        "colab": {
          "base_uri": "https://localhost:8080/"
        },
        "id": "NxMDSrby_oJ6",
        "outputId": "e7409c87-9843-4582-94ba-03169e20cfe9"
      },
      "execution_count": 69,
      "outputs": [
        {
          "output_type": "stream",
          "name": "stdout",
          "text": [
            "\n",
            "Epoch 1: val_loss improved from inf to 3255.42310, saving model to model_experiments/model_4_conv1D.keras\n",
            "\n",
            "Epoch 2: val_loss improved from 3255.42310 to 1191.31592, saving model to model_experiments/model_4_conv1D.keras\n",
            "\n",
            "Epoch 3: val_loss improved from 1191.31592 to 1079.87109, saving model to model_experiments/model_4_conv1D.keras\n",
            "\n",
            "Epoch 4: val_loss improved from 1079.87109 to 1069.37427, saving model to model_experiments/model_4_conv1D.keras\n",
            "\n",
            "Epoch 5: val_loss improved from 1069.37427 to 1068.05676, saving model to model_experiments/model_4_conv1D.keras\n",
            "\n",
            "Epoch 6: val_loss improved from 1068.05676 to 1056.39661, saving model to model_experiments/model_4_conv1D.keras\n",
            "\n",
            "Epoch 7: val_loss improved from 1056.39661 to 1027.87537, saving model to model_experiments/model_4_conv1D.keras\n",
            "\n",
            "Epoch 8: val_loss did not improve from 1027.87537\n",
            "\n",
            "Epoch 9: val_loss did not improve from 1027.87537\n",
            "\n",
            "Epoch 10: val_loss improved from 1027.87537 to 988.27441, saving model to model_experiments/model_4_conv1D.keras\n",
            "\n",
            "Epoch 11: val_loss improved from 988.27441 to 966.85431, saving model to model_experiments/model_4_conv1D.keras\n",
            "\n",
            "Epoch 12: val_loss did not improve from 966.85431\n",
            "\n",
            "Epoch 13: val_loss did not improve from 966.85431\n",
            "\n",
            "Epoch 14: val_loss improved from 966.85431 to 934.59650, saving model to model_experiments/model_4_conv1D.keras\n",
            "\n",
            "Epoch 15: val_loss did not improve from 934.59650\n",
            "\n",
            "Epoch 16: val_loss improved from 934.59650 to 884.77185, saving model to model_experiments/model_4_conv1D.keras\n",
            "\n",
            "Epoch 17: val_loss did not improve from 884.77185\n",
            "\n",
            "Epoch 18: val_loss did not improve from 884.77185\n",
            "\n",
            "Epoch 19: val_loss improved from 884.77185 to 876.91522, saving model to model_experiments/model_4_conv1D.keras\n",
            "\n",
            "Epoch 20: val_loss improved from 876.91522 to 828.54742, saving model to model_experiments/model_4_conv1D.keras\n",
            "\n",
            "Epoch 21: val_loss improved from 828.54742 to 805.94312, saving model to model_experiments/model_4_conv1D.keras\n",
            "\n",
            "Epoch 22: val_loss did not improve from 805.94312\n",
            "\n",
            "Epoch 23: val_loss did not improve from 805.94312\n",
            "\n",
            "Epoch 24: val_loss improved from 805.94312 to 782.94708, saving model to model_experiments/model_4_conv1D.keras\n",
            "\n",
            "Epoch 25: val_loss improved from 782.94708 to 761.64679, saving model to model_experiments/model_4_conv1D.keras\n",
            "\n",
            "Epoch 26: val_loss improved from 761.64679 to 741.54266, saving model to model_experiments/model_4_conv1D.keras\n",
            "\n",
            "Epoch 27: val_loss improved from 741.54266 to 734.56586, saving model to model_experiments/model_4_conv1D.keras\n",
            "\n",
            "Epoch 28: val_loss improved from 734.56586 to 717.39844, saving model to model_experiments/model_4_conv1D.keras\n",
            "\n",
            "Epoch 29: val_loss did not improve from 717.39844\n",
            "\n",
            "Epoch 30: val_loss did not improve from 717.39844\n",
            "\n",
            "Epoch 31: val_loss did not improve from 717.39844\n",
            "\n",
            "Epoch 32: val_loss improved from 717.39844 to 700.14606, saving model to model_experiments/model_4_conv1D.keras\n",
            "\n",
            "Epoch 33: val_loss improved from 700.14606 to 687.54846, saving model to model_experiments/model_4_conv1D.keras\n",
            "\n",
            "Epoch 34: val_loss improved from 687.54846 to 670.49896, saving model to model_experiments/model_4_conv1D.keras\n",
            "\n",
            "Epoch 35: val_loss improved from 670.49896 to 666.55786, saving model to model_experiments/model_4_conv1D.keras\n",
            "\n",
            "Epoch 36: val_loss did not improve from 666.55786\n",
            "\n",
            "Epoch 37: val_loss improved from 666.55786 to 651.88983, saving model to model_experiments/model_4_conv1D.keras\n",
            "\n",
            "Epoch 38: val_loss improved from 651.88983 to 648.39728, saving model to model_experiments/model_4_conv1D.keras\n",
            "\n",
            "Epoch 39: val_loss improved from 648.39728 to 645.98132, saving model to model_experiments/model_4_conv1D.keras\n",
            "\n",
            "Epoch 40: val_loss improved from 645.98132 to 639.89209, saving model to model_experiments/model_4_conv1D.keras\n",
            "\n",
            "Epoch 41: val_loss improved from 639.89209 to 633.78973, saving model to model_experiments/model_4_conv1D.keras\n",
            "\n",
            "Epoch 42: val_loss improved from 633.78973 to 628.20312, saving model to model_experiments/model_4_conv1D.keras\n",
            "\n",
            "Epoch 43: val_loss did not improve from 628.20312\n",
            "\n",
            "Epoch 44: val_loss improved from 628.20312 to 626.93274, saving model to model_experiments/model_4_conv1D.keras\n",
            "\n",
            "Epoch 45: val_loss did not improve from 626.93274\n",
            "\n",
            "Epoch 46: val_loss improved from 626.93274 to 616.84930, saving model to model_experiments/model_4_conv1D.keras\n",
            "\n",
            "Epoch 47: val_loss did not improve from 616.84930\n",
            "\n",
            "Epoch 48: val_loss did not improve from 616.84930\n",
            "\n",
            "Epoch 49: val_loss improved from 616.84930 to 608.04279, saving model to model_experiments/model_4_conv1D.keras\n",
            "\n",
            "Epoch 50: val_loss did not improve from 608.04279\n",
            "\n",
            "Epoch 51: val_loss did not improve from 608.04279\n",
            "\n",
            "Epoch 52: val_loss did not improve from 608.04279\n",
            "\n",
            "Epoch 53: val_loss did not improve from 608.04279\n",
            "\n",
            "Epoch 54: val_loss did not improve from 608.04279\n",
            "\n",
            "Epoch 55: val_loss did not improve from 608.04279\n",
            "\n",
            "Epoch 56: val_loss did not improve from 608.04279\n",
            "\n",
            "Epoch 57: val_loss did not improve from 608.04279\n",
            "\n",
            "Epoch 58: val_loss did not improve from 608.04279\n",
            "\n",
            "Epoch 59: val_loss improved from 608.04279 to 593.71777, saving model to model_experiments/model_4_conv1D.keras\n",
            "\n",
            "Epoch 60: val_loss did not improve from 593.71777\n",
            "\n",
            "Epoch 61: val_loss did not improve from 593.71777\n",
            "\n",
            "Epoch 62: val_loss improved from 593.71777 to 589.74237, saving model to model_experiments/model_4_conv1D.keras\n",
            "\n",
            "Epoch 63: val_loss did not improve from 589.74237\n",
            "\n",
            "Epoch 64: val_loss did not improve from 589.74237\n",
            "\n",
            "Epoch 65: val_loss did not improve from 589.74237\n",
            "\n",
            "Epoch 66: val_loss did not improve from 589.74237\n",
            "\n",
            "Epoch 67: val_loss did not improve from 589.74237\n",
            "\n",
            "Epoch 68: val_loss did not improve from 589.74237\n",
            "\n",
            "Epoch 69: val_loss did not improve from 589.74237\n",
            "\n",
            "Epoch 70: val_loss improved from 589.74237 to 583.27350, saving model to model_experiments/model_4_conv1D.keras\n",
            "\n",
            "Epoch 71: val_loss did not improve from 583.27350\n",
            "\n",
            "Epoch 72: val_loss did not improve from 583.27350\n",
            "\n",
            "Epoch 73: val_loss did not improve from 583.27350\n",
            "\n",
            "Epoch 74: val_loss improved from 583.27350 to 579.14240, saving model to model_experiments/model_4_conv1D.keras\n",
            "\n",
            "Epoch 75: val_loss did not improve from 579.14240\n",
            "\n",
            "Epoch 76: val_loss did not improve from 579.14240\n",
            "\n",
            "Epoch 77: val_loss improved from 579.14240 to 578.05316, saving model to model_experiments/model_4_conv1D.keras\n",
            "\n",
            "Epoch 78: val_loss did not improve from 578.05316\n",
            "\n",
            "Epoch 79: val_loss did not improve from 578.05316\n",
            "\n",
            "Epoch 80: val_loss improved from 578.05316 to 577.67670, saving model to model_experiments/model_4_conv1D.keras\n",
            "\n",
            "Epoch 81: val_loss improved from 577.67670 to 576.96130, saving model to model_experiments/model_4_conv1D.keras\n",
            "\n",
            "Epoch 82: val_loss improved from 576.96130 to 575.22369, saving model to model_experiments/model_4_conv1D.keras\n",
            "\n",
            "Epoch 83: val_loss did not improve from 575.22369\n",
            "\n",
            "Epoch 84: val_loss improved from 575.22369 to 574.68579, saving model to model_experiments/model_4_conv1D.keras\n",
            "\n",
            "Epoch 85: val_loss did not improve from 574.68579\n",
            "\n",
            "Epoch 86: val_loss did not improve from 574.68579\n",
            "\n",
            "Epoch 87: val_loss improved from 574.68579 to 572.56091, saving model to model_experiments/model_4_conv1D.keras\n",
            "\n",
            "Epoch 88: val_loss did not improve from 572.56091\n",
            "\n",
            "Epoch 89: val_loss did not improve from 572.56091\n",
            "\n",
            "Epoch 90: val_loss did not improve from 572.56091\n",
            "\n",
            "Epoch 91: val_loss did not improve from 572.56091\n",
            "\n",
            "Epoch 92: val_loss did not improve from 572.56091\n",
            "\n",
            "Epoch 93: val_loss did not improve from 572.56091\n",
            "\n",
            "Epoch 94: val_loss did not improve from 572.56091\n",
            "\n",
            "Epoch 95: val_loss did not improve from 572.56091\n",
            "\n",
            "Epoch 96: val_loss did not improve from 572.56091\n",
            "\n",
            "Epoch 97: val_loss did not improve from 572.56091\n",
            "\n",
            "Epoch 98: val_loss did not improve from 572.56091\n",
            "\n",
            "Epoch 99: val_loss did not improve from 572.56091\n",
            "\n",
            "Epoch 100: val_loss did not improve from 572.56091\n"
          ]
        },
        {
          "output_type": "execute_result",
          "data": {
            "text/plain": [
              "<keras.src.callbacks.History at 0x79ab4ee05510>"
            ]
          },
          "metadata": {},
          "execution_count": 69
        }
      ]
    },
    {
      "cell_type": "code",
      "source": [
        "model_4.summary()"
      ],
      "metadata": {
        "colab": {
          "base_uri": "https://localhost:8080/"
        },
        "id": "YwVUTV7HBe9E",
        "outputId": "ef465d93-45dc-46ca-f03f-22f5ea8623c0"
      },
      "execution_count": 70,
      "outputs": [
        {
          "output_type": "stream",
          "name": "stdout",
          "text": [
            "Model: \"model_4_conv1D\"\n",
            "_________________________________________________________________\n",
            " Layer (type)                Output Shape              Param #   \n",
            "=================================================================\n",
            " lambda_1 (Lambda)           (None, 1, 7)              0         \n",
            "                                                                 \n",
            " conv1d (Conv1D)             (None, 1, 128)            4608      \n",
            "                                                                 \n",
            " dense_6 (Dense)             (None, 1, 1)              129       \n",
            "                                                                 \n",
            "=================================================================\n",
            "Total params: 4737 (18.50 KB)\n",
            "Trainable params: 4737 (18.50 KB)\n",
            "Non-trainable params: 0 (0.00 Byte)\n",
            "_________________________________________________________________\n"
          ]
        }
      ]
    },
    {
      "cell_type": "code",
      "source": [
        "# Load in best performing Conv1D model and evaluate it on the test data\n",
        "import keras\n",
        "\n",
        "model_4 = tf.keras.models.load_model(\"/content/model_experiments/model_4_conv1D.keras\", safe_mode=False)\n",
        "model_4.evaluate(test_windows, test_labels)"
      ],
      "metadata": {
        "colab": {
          "base_uri": "https://localhost:8080/"
        },
        "id": "feEUrf8LB-X9",
        "outputId": "7b240d1f-337f-4e80-b13f-c3f69628ee73"
      },
      "execution_count": 73,
      "outputs": [
        {
          "output_type": "stream",
          "name": "stdout",
          "text": [
            "18/18 [==============================] - 0s 4ms/step - loss: 572.5607\n"
          ]
        },
        {
          "output_type": "execute_result",
          "data": {
            "text/plain": [
              "572.5607299804688"
            ]
          },
          "metadata": {},
          "execution_count": 73
        }
      ]
    },
    {
      "cell_type": "code",
      "source": [
        "# Make predictions\n",
        "model_4_preds = make_preds(model_4, test_windows)\n",
        "model_4_preds[:10]"
      ],
      "metadata": {
        "colab": {
          "base_uri": "https://localhost:8080/"
        },
        "id": "L0u37A64LOuc",
        "outputId": "c1084909-15da-4c96-ffcf-bf4eaaf7c912"
      },
      "execution_count": 79,
      "outputs": [
        {
          "output_type": "stream",
          "name": "stdout",
          "text": [
            "18/18 [==============================] - 0s 4ms/step\n"
          ]
        },
        {
          "output_type": "execute_result",
          "data": {
            "text/plain": [
              "<tf.Tensor: shape=(10,), dtype=float32, numpy=\n",
              "array([8911.192, 8794.313, 8991.787, 8809.193, 8746.905, 8733.707,\n",
              "       8698.639, 8542.808, 8465.865, 8520.47 ], dtype=float32)>"
            ]
          },
          "metadata": {},
          "execution_count": 79
        }
      ]
    },
    {
      "cell_type": "code",
      "source": [
        "# Evaluate predictions\n",
        "model_4_results = evaluate_preds(y_true=tf.squeeze(test_labels),\n",
        "                                 y_pred=model_4_preds)\n",
        "model_4_results"
      ],
      "metadata": {
        "colab": {
          "base_uri": "https://localhost:8080/"
        },
        "id": "IAqiFlw6NLq7",
        "outputId": "06c41389-5e47-4051-9231-a03f31c66289"
      },
      "execution_count": 77,
      "outputs": [
        {
          "output_type": "execute_result",
          "data": {
            "text/plain": [
              "{'mae': 572.5607,\n",
              " 'mse': 1194838.2,\n",
              " 'rmse': 1093.0865,\n",
              " 'mape': 2.5708447,\n",
              " 'mase': 0.68563527}"
            ]
          },
          "metadata": {},
          "execution_count": 77
        }
      ]
    },
    {
      "cell_type": "markdown",
      "source": [
        "## Model 5: RNN (LSTM)\n",
        "\n",
        "As you might expect, we can also use a recurrent neural network (RNN) to model our sequential time series data.\n",
        "\n",
        "> 📖 **Resource:** For more information on the different types of RNNs you can use for sequence problems, check out the [Recurrent Neural Networks section of notebook 08](https://dev.mrdbourke.com/tensorflow-deep-learning/08_introduction_to_nlp_in_tensorflow/#recurrent-neural-networks-rnns).\n",
        "\n",
        "In this experiment, we'll reuse the same data we used for the Conv1D model but will apply an [LSTM-cell](https://www.tensorflow.org/api_docs/python/tf/keras/layers/LSTM) powered RNN to model our Bitcoin data.\n",
        "\n",
        "One of the key steps for the LSTM model will be getting our data into the right shape.\n",
        "\n",
        "The [`tf.keras.layers.LSTM()`](https://www.tensorflow.org/api_docs/python/tf/keras/layers/LSTM) layer requires input tensors with dimensions `[batch, timesteps, feature]`.\n",
        "\n",
        "While the `batch` dimension is handled automatically, our data currently only includes the `feature` dimension (`WINDOW_SIZE`).\n",
        "\n",
        "To address this, similar to how we did with the `Conv1D` model, we'll use a `tf.keras.layers.Lambda()` layer to reshape our input tensors appropriately for the LSTM layer.\n"
      ],
      "metadata": {
        "id": "per2PM3dT-wV"
      }
    },
    {
      "cell_type": "code",
      "source": [
        "tf.random.set_seed(42)\n",
        "\n",
        "# let's build an LSTM model with the functional API\n",
        "inputs = layers.Input(shape=(WINDOW_SIZE))\n",
        "x = layers.Lambda(lambda x: tf.expand_dims(x, axis=1))(inputs)\n",
        "# print(x.shape)\n",
        "# x = layers.LSTM(128, activation=\"relu\", return_sequences=True)(x) # this layer will error if the inputs are not the right shape\n",
        "x = layers.LSTM(124, activation='relu')(x)\n",
        "# print(x.shape)\n",
        "# Add another optional dense layer (you could add more of these to see if they improve model performance)\n",
        "# x = layers.Dense(32, activation=\"relu\")(x)\n",
        "output = layers.Dense(HORIZON)(x)\n",
        "model_5 = tf.keras.Model(inputs=inputs, outputs = output, name='model_5_lstm')\n",
        "\n",
        "#compile the model\n",
        "model_5.compile(loss='mae',\n",
        "                optimizer = tf.keras.optimizers.Adam())\n",
        "\n",
        "# fit the model\n",
        "model_5.fit(train_windows,\n",
        "            train_labels,\n",
        "            epochs=100,\n",
        "            verbose=0,\n",
        "            batch_size=128,\n",
        "            validation_data = (test_windows, test_labels),\n",
        "            callbacks=[create_model_checkpoint(model_name=model_5.name)])"
      ],
      "metadata": {
        "colab": {
          "base_uri": "https://localhost:8080/"
        },
        "id": "U4WdHiN7OHoC",
        "outputId": "962faaa7-40bc-4b51-c070-9ea445e8deaf"
      },
      "execution_count": 82,
      "outputs": [
        {
          "output_type": "stream",
          "name": "stderr",
          "text": [
            "WARNING:tensorflow:Layer lstm_2 will not use cuDNN kernels since it doesn't meet the criteria. It will use a generic GPU kernel as fallback when running on GPU.\n"
          ]
        },
        {
          "output_type": "stream",
          "name": "stdout",
          "text": [
            "\n",
            "Epoch 1: val_loss improved from inf to 11744.13477, saving model to model_experiments/model_5_lstm.keras\n",
            "\n",
            "Epoch 2: val_loss improved from 11744.13477 to 1774.80261, saving model to model_experiments/model_5_lstm.keras\n",
            "\n",
            "Epoch 3: val_loss improved from 1774.80261 to 1049.44055, saving model to model_experiments/model_5_lstm.keras\n",
            "\n",
            "Epoch 4: val_loss improved from 1049.44055 to 1047.40784, saving model to model_experiments/model_5_lstm.keras\n",
            "\n",
            "Epoch 5: val_loss did not improve from 1047.40784\n",
            "\n",
            "Epoch 6: val_loss improved from 1047.40784 to 1030.90210, saving model to model_experiments/model_5_lstm.keras\n",
            "\n",
            "Epoch 7: val_loss did not improve from 1030.90210\n",
            "\n",
            "Epoch 8: val_loss did not improve from 1030.90210\n",
            "\n",
            "Epoch 9: val_loss improved from 1030.90210 to 1021.90692, saving model to model_experiments/model_5_lstm.keras\n",
            "\n",
            "Epoch 10: val_loss improved from 1021.90692 to 1004.06781, saving model to model_experiments/model_5_lstm.keras\n",
            "\n",
            "Epoch 11: val_loss improved from 1004.06781 to 991.66693, saving model to model_experiments/model_5_lstm.keras\n",
            "\n",
            "Epoch 12: val_loss improved from 991.66693 to 988.62567, saving model to model_experiments/model_5_lstm.keras\n",
            "\n",
            "Epoch 13: val_loss improved from 988.62567 to 979.93481, saving model to model_experiments/model_5_lstm.keras\n",
            "\n",
            "Epoch 14: val_loss did not improve from 979.93481\n",
            "\n",
            "Epoch 15: val_loss improved from 979.93481 to 978.12677, saving model to model_experiments/model_5_lstm.keras\n",
            "\n",
            "Epoch 16: val_loss improved from 978.12677 to 940.66901, saving model to model_experiments/model_5_lstm.keras\n",
            "\n",
            "Epoch 17: val_loss did not improve from 940.66901\n",
            "\n",
            "Epoch 18: val_loss did not improve from 940.66901\n",
            "\n",
            "Epoch 19: val_loss did not improve from 940.66901\n",
            "\n",
            "Epoch 20: val_loss improved from 940.66901 to 910.64441, saving model to model_experiments/model_5_lstm.keras\n",
            "\n",
            "Epoch 21: val_loss did not improve from 910.64441\n",
            "\n",
            "Epoch 22: val_loss did not improve from 910.64441\n",
            "\n",
            "Epoch 23: val_loss did not improve from 910.64441\n",
            "\n",
            "Epoch 24: val_loss did not improve from 910.64441\n",
            "\n",
            "Epoch 25: val_loss improved from 910.64441 to 864.74707, saving model to model_experiments/model_5_lstm.keras\n",
            "\n",
            "Epoch 26: val_loss did not improve from 864.74707\n",
            "\n",
            "Epoch 27: val_loss improved from 864.74707 to 849.18683, saving model to model_experiments/model_5_lstm.keras\n",
            "\n",
            "Epoch 28: val_loss improved from 849.18683 to 827.68884, saving model to model_experiments/model_5_lstm.keras\n",
            "\n",
            "Epoch 29: val_loss did not improve from 827.68884\n",
            "\n",
            "Epoch 30: val_loss did not improve from 827.68884\n",
            "\n",
            "Epoch 31: val_loss improved from 827.68884 to 804.65930, saving model to model_experiments/model_5_lstm.keras\n",
            "\n",
            "Epoch 32: val_loss did not improve from 804.65930\n",
            "\n",
            "Epoch 33: val_loss did not improve from 804.65930\n",
            "\n",
            "Epoch 34: val_loss improved from 804.65930 to 774.18976, saving model to model_experiments/model_5_lstm.keras\n",
            "\n",
            "Epoch 35: val_loss did not improve from 774.18976\n",
            "\n",
            "Epoch 36: val_loss improved from 774.18976 to 770.21637, saving model to model_experiments/model_5_lstm.keras\n",
            "\n",
            "Epoch 37: val_loss did not improve from 770.21637\n",
            "\n",
            "Epoch 38: val_loss improved from 770.21637 to 746.01312, saving model to model_experiments/model_5_lstm.keras\n",
            "\n",
            "Epoch 39: val_loss improved from 746.01312 to 744.42322, saving model to model_experiments/model_5_lstm.keras\n",
            "\n",
            "Epoch 40: val_loss did not improve from 744.42322\n",
            "\n",
            "Epoch 41: val_loss improved from 744.42322 to 726.31403, saving model to model_experiments/model_5_lstm.keras\n",
            "\n",
            "Epoch 42: val_loss improved from 726.31403 to 726.16241, saving model to model_experiments/model_5_lstm.keras\n",
            "\n",
            "Epoch 43: val_loss improved from 726.16241 to 717.15771, saving model to model_experiments/model_5_lstm.keras\n",
            "\n",
            "Epoch 44: val_loss improved from 717.15771 to 710.63611, saving model to model_experiments/model_5_lstm.keras\n",
            "\n",
            "Epoch 45: val_loss improved from 710.63611 to 703.23199, saving model to model_experiments/model_5_lstm.keras\n",
            "\n",
            "Epoch 46: val_loss did not improve from 703.23199\n",
            "\n",
            "Epoch 47: val_loss improved from 703.23199 to 701.65173, saving model to model_experiments/model_5_lstm.keras\n",
            "\n",
            "Epoch 48: val_loss improved from 701.65173 to 697.98578, saving model to model_experiments/model_5_lstm.keras\n",
            "\n",
            "Epoch 49: val_loss did not improve from 697.98578\n",
            "\n",
            "Epoch 50: val_loss did not improve from 697.98578\n",
            "\n",
            "Epoch 51: val_loss did not improve from 697.98578\n",
            "\n",
            "Epoch 52: val_loss improved from 697.98578 to 681.84509, saving model to model_experiments/model_5_lstm.keras\n",
            "\n",
            "Epoch 53: val_loss did not improve from 681.84509\n",
            "\n",
            "Epoch 54: val_loss improved from 681.84509 to 673.89636, saving model to model_experiments/model_5_lstm.keras\n",
            "\n",
            "Epoch 55: val_loss improved from 673.89636 to 662.32800, saving model to model_experiments/model_5_lstm.keras\n",
            "\n",
            "Epoch 56: val_loss improved from 662.32800 to 655.87415, saving model to model_experiments/model_5_lstm.keras\n",
            "\n",
            "Epoch 57: val_loss did not improve from 655.87415\n",
            "\n",
            "Epoch 58: val_loss improved from 655.87415 to 649.32843, saving model to model_experiments/model_5_lstm.keras\n",
            "\n",
            "Epoch 59: val_loss improved from 649.32843 to 647.66974, saving model to model_experiments/model_5_lstm.keras\n",
            "\n",
            "Epoch 60: val_loss improved from 647.66974 to 646.68231, saving model to model_experiments/model_5_lstm.keras\n",
            "\n",
            "Epoch 61: val_loss did not improve from 646.68231\n",
            "\n",
            "Epoch 62: val_loss did not improve from 646.68231\n",
            "\n",
            "Epoch 63: val_loss improved from 646.68231 to 641.11774, saving model to model_experiments/model_5_lstm.keras\n",
            "\n",
            "Epoch 64: val_loss did not improve from 641.11774\n",
            "\n",
            "Epoch 65: val_loss improved from 641.11774 to 631.41278, saving model to model_experiments/model_5_lstm.keras\n",
            "\n",
            "Epoch 66: val_loss did not improve from 631.41278\n",
            "\n",
            "Epoch 67: val_loss improved from 631.41278 to 626.80957, saving model to model_experiments/model_5_lstm.keras\n",
            "\n",
            "Epoch 68: val_loss improved from 626.80957 to 624.67010, saving model to model_experiments/model_5_lstm.keras\n",
            "\n",
            "Epoch 69: val_loss improved from 624.67010 to 624.38037, saving model to model_experiments/model_5_lstm.keras\n",
            "\n",
            "Epoch 70: val_loss improved from 624.38037 to 621.34235, saving model to model_experiments/model_5_lstm.keras\n",
            "\n",
            "Epoch 71: val_loss did not improve from 621.34235\n",
            "\n",
            "Epoch 72: val_loss did not improve from 621.34235\n",
            "\n",
            "Epoch 73: val_loss did not improve from 621.34235\n",
            "\n",
            "Epoch 74: val_loss did not improve from 621.34235\n",
            "\n",
            "Epoch 75: val_loss did not improve from 621.34235\n",
            "\n",
            "Epoch 76: val_loss improved from 621.34235 to 614.01392, saving model to model_experiments/model_5_lstm.keras\n",
            "\n",
            "Epoch 77: val_loss did not improve from 614.01392\n",
            "\n",
            "Epoch 78: val_loss did not improve from 614.01392\n",
            "\n",
            "Epoch 79: val_loss improved from 614.01392 to 607.87183, saving model to model_experiments/model_5_lstm.keras\n",
            "\n",
            "Epoch 80: val_loss did not improve from 607.87183\n",
            "\n",
            "Epoch 81: val_loss did not improve from 607.87183\n",
            "\n",
            "Epoch 82: val_loss did not improve from 607.87183\n",
            "\n",
            "Epoch 83: val_loss did not improve from 607.87183\n",
            "\n",
            "Epoch 84: val_loss did not improve from 607.87183\n",
            "\n",
            "Epoch 85: val_loss did not improve from 607.87183\n",
            "\n",
            "Epoch 86: val_loss improved from 607.87183 to 607.55219, saving model to model_experiments/model_5_lstm.keras\n",
            "\n",
            "Epoch 87: val_loss improved from 607.55219 to 606.49384, saving model to model_experiments/model_5_lstm.keras\n",
            "\n",
            "Epoch 88: val_loss did not improve from 606.49384\n",
            "\n",
            "Epoch 89: val_loss did not improve from 606.49384\n",
            "\n",
            "Epoch 90: val_loss did not improve from 606.49384\n",
            "\n",
            "Epoch 91: val_loss did not improve from 606.49384\n",
            "\n",
            "Epoch 92: val_loss improved from 606.49384 to 600.97943, saving model to model_experiments/model_5_lstm.keras\n",
            "\n",
            "Epoch 93: val_loss improved from 600.97943 to 598.14716, saving model to model_experiments/model_5_lstm.keras\n",
            "\n",
            "Epoch 94: val_loss did not improve from 598.14716\n",
            "\n",
            "Epoch 95: val_loss improved from 598.14716 to 595.77350, saving model to model_experiments/model_5_lstm.keras\n",
            "\n",
            "Epoch 96: val_loss did not improve from 595.77350\n",
            "\n",
            "Epoch 97: val_loss did not improve from 595.77350\n",
            "\n",
            "Epoch 98: val_loss improved from 595.77350 to 593.05927, saving model to model_experiments/model_5_lstm.keras\n",
            "\n",
            "Epoch 99: val_loss improved from 593.05927 to 591.33301, saving model to model_experiments/model_5_lstm.keras\n",
            "\n",
            "Epoch 100: val_loss did not improve from 591.33301\n"
          ]
        },
        {
          "output_type": "execute_result",
          "data": {
            "text/plain": [
              "<keras.src.callbacks.History at 0x79ab2e25f8b0>"
            ]
          },
          "metadata": {},
          "execution_count": 82
        }
      ]
    },
    {
      "cell_type": "code",
      "source": [
        "# Load in best version of model 5 and evaluate on the test data\n",
        "model_5 = tf.keras.models.load_model(\"model_experiments/model_5_lstm.keras\", safe_mode=False)\n",
        "model_5.evaluate(test_windows, test_labels)"
      ],
      "metadata": {
        "colab": {
          "base_uri": "https://localhost:8080/"
        },
        "id": "MeRJ2RhEWWhP",
        "outputId": "efd98259-88ed-409e-ed7b-3f6f29c914f3"
      },
      "execution_count": 83,
      "outputs": [
        {
          "output_type": "stream",
          "name": "stderr",
          "text": [
            "WARNING:tensorflow:Layer lstm_2 will not use cuDNN kernels since it doesn't meet the criteria. It will use a generic GPU kernel as fallback when running on GPU.\n"
          ]
        },
        {
          "output_type": "stream",
          "name": "stdout",
          "text": [
            "18/18 [==============================] - 0s 2ms/step - loss: 591.3329\n"
          ]
        },
        {
          "output_type": "execute_result",
          "data": {
            "text/plain": [
              "591.3328857421875"
            ]
          },
          "metadata": {},
          "execution_count": 83
        }
      ]
    },
    {
      "cell_type": "code",
      "source": [
        "# Make predictions with our LSTM model\n",
        "model_5_preds = make_preds(model_5, test_windows)\n",
        "model_5_preds[:10]"
      ],
      "metadata": {
        "colab": {
          "base_uri": "https://localhost:8080/"
        },
        "id": "lVe2lOnDWsEl",
        "outputId": "23aeb732-6ee1-4ad5-ae4f-8639071180a5"
      },
      "execution_count": 84,
      "outputs": [
        {
          "output_type": "stream",
          "name": "stdout",
          "text": [
            "18/18 [==============================] - 0s 4ms/step\n"
          ]
        },
        {
          "output_type": "execute_result",
          "data": {
            "text/plain": [
              "<tf.Tensor: shape=(10,), dtype=float32, numpy=\n",
              "array([8952.332, 8801.473, 8964.708, 8807.041, 8730.164, 8740.216,\n",
              "       8701.413, 8541.923, 8471.535, 8509.977], dtype=float32)>"
            ]
          },
          "metadata": {},
          "execution_count": 84
        }
      ]
    },
    {
      "cell_type": "code",
      "source": [
        "# Evaluate model 5 preds\n",
        "model_5_results = evaluate_preds(y_true=tf.squeeze(test_labels),\n",
        "                                 y_pred=model_5_preds)\n",
        "model_5_results"
      ],
      "metadata": {
        "colab": {
          "base_uri": "https://localhost:8080/"
        },
        "id": "01SMgdF0W3op",
        "outputId": "5378aead-268f-4df6-ce4b-545f6f4d7f8f"
      },
      "execution_count": 85,
      "outputs": [
        {
          "output_type": "execute_result",
          "data": {
            "text/plain": [
              "{'mae': 591.3328,\n",
              " 'mse': 1253891.6,\n",
              " 'rmse': 1119.773,\n",
              " 'mape': 2.6579046,\n",
              " 'mase': 0.6942686}"
            ]
          },
          "metadata": {},
          "execution_count": 85
        }
      ]
    },
    {
      "cell_type": "markdown",
      "source": [
        " it seems even with an LSTM-powered RNN we weren't able to beat our naïve models results.\n",
        "\n",
        "Perhaps adding another variable will help?\n",
        "\n",
        "> 🔑 **Note:** I'm putting this here again as a reminder that because neural networks are such powerful algorithms, they can be used for almost any problem, however, that doesn't mean they'll achieve performant or usable results. You're probably starting to clue onto this now.\n"
      ],
      "metadata": {
        "id": "LVvRenSGW9IU"
      }
    }
  ]
}