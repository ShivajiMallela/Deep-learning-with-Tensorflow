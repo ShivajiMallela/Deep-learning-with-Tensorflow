{
  "nbformat": 4,
  "nbformat_minor": 0,
  "metadata": {
    "colab": {
      "provenance": [],
      "toc_visible": true,
      "authorship_tag": "ABX9TyN4XQam4aaMxOMD/C+VWLx1",
      "include_colab_link": true
    },
    "kernelspec": {
      "name": "python3",
      "display_name": "Python 3"
    },
    "language_info": {
      "name": "python"
    }
  },
  "cells": [
    {
      "cell_type": "markdown",
      "metadata": {
        "id": "view-in-github",
        "colab_type": "text"
      },
      "source": [
        "<a href=\"https://colab.research.google.com/github/ShivajiMallela/Deep-learning-with-Tensorflow/blob/main/10_time_series_forecasting_in_tensorflow.ipynb\" target=\"_parent\"><img src=\"https://colab.research.google.com/assets/colab-badge.svg\" alt=\"Open In Colab\"/></a>"
      ]
    },
    {
      "cell_type": "markdown",
      "source": [
        "# 10. Milestone Project 3: Time Series Forecasting in TensorFlow (BitPredict 💰📈)\n",
        "\n",
        "The goal of this notebook is to help you get familiar with working with time series data.\n",
        "\n",
        "In this project, we’ll build a series of models to attempt to predict the price of Bitcoin.\n",
        "\n",
        "Welcome to Milestone Project 3, BitPredict 💰📈!\n",
        "\n",
        "> 🔑 **Note:** ⚠️ This is not financial advice. As you'll see, time series forecasting for stock market prices can be quite challenging.\n",
        "\n",
        "## What is a Time Series Problem?\n",
        "\n",
        "Time series problems involve data collected over time.\n",
        "\n",
        "Examples include:\n",
        "- The number of staff members in a company over 10 years\n",
        "- Sales of computers over the past 5 years\n",
        "- Electricity usage over the past 50 years\n",
        "\n",
        "Time series can range from short (seconds/minutes) to long (years/decades). The problems you investigate can generally be categorized into two types:\n",
        "\n",
        "\n",
        "| Problem Type | Examples | Output |\n",
        "| ------------ | -------- | ------ |\n",
        "| **Classification** | Anomaly detection, time series identification (e.g., identifying the source of a time series) | Discrete (a label) |\n",
        "| **Forecasting** | Predicting stock market prices, forecasting future product demand, determining inventory requirements | Continuous (a number) |\n",
        "\n",
        "In both cases, a supervised learning approach is typically used, meaning you have example data with associated labels.\n",
        "\n",
        "For instance, in forecasting Bitcoin prices, your data could be the historical prices of Bitcoin over the past month, and the label could be today’s price (the label isn’t tomorrow’s price because that’s what we’re trying to predict).\n",
        "\n",
        "So, can you guess what kind of problem BitPredict 💰📈 is?\n",
        "\n",
        "## What We’re Going to Cover\n",
        "\n",
        "Are you ready? We have a lot to go through:\n",
        "\n",
        "* **Get Time Series Data**:\n",
        "  - Load historical Bitcoin prices using pandas/Python's CSV module\n",
        "* **Format Data for a Time Series Problem**:\n",
        "  - Creating training and test sets (the wrong way)\n",
        "  - Creating training and test sets (the right way)\n",
        "  - Visualizing time series data\n",
        "  - Turning time series data into a supervised learning problem (windowing)\n",
        "  - Preparing univariate and multivariate (more than one variable) data\n",
        "* **Evaluating a Time Series Forecasting Model**\n",
        "* **Setting Up a Series of Deep Learning Modelling Experiments**:\n",
        "  - Dense (fully-connected) networks\n",
        "  - Sequence models (LSTM and 1D CNN)\n",
        "  - Ensembling (combining multiple models together)\n",
        "  - Multivariate models\n",
        "  - Replicating the N-BEATS algorithm using TensorFlow layer subclassing\n",
        "* **Creating a Model Checkpoint** to save the best performing model during training\n",
        "* **Making Predictions (Forecasts)** with a Time Series Model\n",
        "* **Creating Prediction Intervals** for Time Series Model Forecasts\n",
        "* **Discussing Two Different Types of Uncertainty in Machine Learning**: Data Uncertainty and Model Uncertainty\n",
        "* **Demonstrating the Challenges of Forecasting in an Open System** (the Turkey Problem)\n"
      ],
      "metadata": {
        "id": "VlFEQB5hSmVf"
      }
    },
    {
      "cell_type": "markdown",
      "source": [
        "## Get Data\n",
        "\n",
        "To build a time series forecasting model, the first thing we need is data.\n",
        "\n",
        "Since we’re aiming to predict the price of Bitcoin, we’ll require historical Bitcoin data.\n",
        "\n",
        "Specifically, we’ll be using Bitcoin prices from **01 October 2013** to **18 May 2021**.\n",
        "\n",
        "### Why these dates?\n",
        "\n",
        "- **01 October 2013**: This is when our data source ([Coindesk](https://www.coindesk.com/price/bitcoin)) started recording Bitcoin prices.\n",
        "- **18 May 2021**: This is the date when this notebook was created by instructor.\n",
        "\n",
        "If you’re following this notebook at a later date, you can apply the same methods to predict on newer data—you’ll just need to adjust the data source accordingly.\n",
        "\n",
        "> 📖 **Resource:** To get the historical Bitcoin data, visit the [Coindesk page for Bitcoin prices](https://www.coindesk.com/price/bitcoin), click on \"All,\" then click on \"Export Data\" and select \"CSV.\"\n",
        "\n",
        "You can also access the data we’re using from [GitHub](https://github.com/mrdbourke/tensorflow-deep-learning/blob/main/extras/BTC_USD_2013-10-01_2021-05-18-CoinDesk.csv).\n"
      ],
      "metadata": {
        "id": "OM7kelNuTT-o"
      }
    },
    {
      "cell_type": "code",
      "execution_count": 1,
      "metadata": {
        "id": "ABU6JPfsQVYe",
        "colab": {
          "base_uri": "https://localhost:8080/"
        },
        "outputId": "2358a0a4-6b83-474b-d28a-e406459c685e"
      },
      "outputs": [
        {
          "output_type": "stream",
          "name": "stdout",
          "text": [
            "--2024-08-25 16:05:22--  https://raw.githubusercontent.com/mrdbourke/tensorflow-deep-learning/main/extras/BTC_USD_2013-10-01_2021-05-18-CoinDesk.csv\n",
            "Resolving raw.githubusercontent.com (raw.githubusercontent.com)... 185.199.108.133, 185.199.109.133, 185.199.110.133, ...\n",
            "Connecting to raw.githubusercontent.com (raw.githubusercontent.com)|185.199.108.133|:443... connected.\n",
            "HTTP request sent, awaiting response... 200 OK\n",
            "Length: 178509 (174K) [text/plain]\n",
            "Saving to: ‘BTC_USD_2013-10-01_2021-05-18-CoinDesk.csv’\n",
            "\n",
            "BTC_USD_2013-10-01_ 100%[===================>] 174.33K  --.-KB/s    in 0.004s  \n",
            "\n",
            "2024-08-25 16:05:22 (38.4 MB/s) - ‘BTC_USD_2013-10-01_2021-05-18-CoinDesk.csv’ saved [178509/178509]\n",
            "\n"
          ]
        }
      ],
      "source": [
        "# Download Bitcoin historical data from GitHub\n",
        "# Note: you'll need to select \"Raw\" to download the data in the correct format\n",
        "!wget https://raw.githubusercontent.com/mrdbourke/tensorflow-deep-learning/main/extras/BTC_USD_2013-10-01_2021-05-18-CoinDesk.csv"
      ]
    },
    {
      "cell_type": "markdown",
      "source": [
        "### Importing time series data with pandas\n",
        "Now we've got some data to work with, let's import it using pandas so we can visualize it.\n",
        "\n",
        "Because our data is in **CSV (comma separated values)** format (a very common data format for time series), we'll use the pandas [`read_csv()`](https://pandas.pydata.org/pandas-docs/stable/reference/api/pandas.read_csv.html) function.\n",
        "\n",
        "And because our data has a date component, we'll tell pandas to parse the dates using the `parse_dates` parameter passing it the name our of the date column (\"Date\")."
      ],
      "metadata": {
        "id": "WN4fEb2RUa_M"
      }
    },
    {
      "cell_type": "code",
      "source": [
        "#import with pandas\n",
        "import pandas as pd\n",
        "# parse dates and set date column to index\n",
        "df = pd.read_csv(\"/content/BTC_USD_2013-10-01_2021-05-18-CoinDesk.csv\",\n",
        "                 parse_dates = ['Date'],\n",
        "                 index_col = ['Date']) # parse the date column\n",
        "\n",
        "df.head()"
      ],
      "metadata": {
        "colab": {
          "base_uri": "https://localhost:8080/",
          "height": 238
        },
        "id": "NDSBZkIZUYpU",
        "outputId": "545b26ed-d1cd-4f87-d362-3e251efe05ae"
      },
      "execution_count": 2,
      "outputs": [
        {
          "output_type": "execute_result",
          "data": {
            "text/plain": [
              "           Currency  Closing Price (USD)  24h Open (USD)  24h High (USD)  \\\n",
              "Date                                                                       \n",
              "2013-10-01      BTC            123.65499       124.30466       124.75166   \n",
              "2013-10-02      BTC            125.45500       123.65499       125.75850   \n",
              "2013-10-03      BTC            108.58483       125.45500       125.66566   \n",
              "2013-10-04      BTC            118.67466       108.58483       118.67500   \n",
              "2013-10-05      BTC            121.33866       118.67466       121.93633   \n",
              "\n",
              "            24h Low (USD)  \n",
              "Date                       \n",
              "2013-10-01      122.56349  \n",
              "2013-10-02      123.63383  \n",
              "2013-10-03       83.32833  \n",
              "2013-10-04      107.05816  \n",
              "2013-10-05      118.00566  "
            ],
            "text/html": [
              "\n",
              "  <div id=\"df-8b023ca0-ffa6-407e-bb6c-e7b74813b296\" class=\"colab-df-container\">\n",
              "    <div>\n",
              "<style scoped>\n",
              "    .dataframe tbody tr th:only-of-type {\n",
              "        vertical-align: middle;\n",
              "    }\n",
              "\n",
              "    .dataframe tbody tr th {\n",
              "        vertical-align: top;\n",
              "    }\n",
              "\n",
              "    .dataframe thead th {\n",
              "        text-align: right;\n",
              "    }\n",
              "</style>\n",
              "<table border=\"1\" class=\"dataframe\">\n",
              "  <thead>\n",
              "    <tr style=\"text-align: right;\">\n",
              "      <th></th>\n",
              "      <th>Currency</th>\n",
              "      <th>Closing Price (USD)</th>\n",
              "      <th>24h Open (USD)</th>\n",
              "      <th>24h High (USD)</th>\n",
              "      <th>24h Low (USD)</th>\n",
              "    </tr>\n",
              "    <tr>\n",
              "      <th>Date</th>\n",
              "      <th></th>\n",
              "      <th></th>\n",
              "      <th></th>\n",
              "      <th></th>\n",
              "      <th></th>\n",
              "    </tr>\n",
              "  </thead>\n",
              "  <tbody>\n",
              "    <tr>\n",
              "      <th>2013-10-01</th>\n",
              "      <td>BTC</td>\n",
              "      <td>123.65499</td>\n",
              "      <td>124.30466</td>\n",
              "      <td>124.75166</td>\n",
              "      <td>122.56349</td>\n",
              "    </tr>\n",
              "    <tr>\n",
              "      <th>2013-10-02</th>\n",
              "      <td>BTC</td>\n",
              "      <td>125.45500</td>\n",
              "      <td>123.65499</td>\n",
              "      <td>125.75850</td>\n",
              "      <td>123.63383</td>\n",
              "    </tr>\n",
              "    <tr>\n",
              "      <th>2013-10-03</th>\n",
              "      <td>BTC</td>\n",
              "      <td>108.58483</td>\n",
              "      <td>125.45500</td>\n",
              "      <td>125.66566</td>\n",
              "      <td>83.32833</td>\n",
              "    </tr>\n",
              "    <tr>\n",
              "      <th>2013-10-04</th>\n",
              "      <td>BTC</td>\n",
              "      <td>118.67466</td>\n",
              "      <td>108.58483</td>\n",
              "      <td>118.67500</td>\n",
              "      <td>107.05816</td>\n",
              "    </tr>\n",
              "    <tr>\n",
              "      <th>2013-10-05</th>\n",
              "      <td>BTC</td>\n",
              "      <td>121.33866</td>\n",
              "      <td>118.67466</td>\n",
              "      <td>121.93633</td>\n",
              "      <td>118.00566</td>\n",
              "    </tr>\n",
              "  </tbody>\n",
              "</table>\n",
              "</div>\n",
              "    <div class=\"colab-df-buttons\">\n",
              "\n",
              "  <div class=\"colab-df-container\">\n",
              "    <button class=\"colab-df-convert\" onclick=\"convertToInteractive('df-8b023ca0-ffa6-407e-bb6c-e7b74813b296')\"\n",
              "            title=\"Convert this dataframe to an interactive table.\"\n",
              "            style=\"display:none;\">\n",
              "\n",
              "  <svg xmlns=\"http://www.w3.org/2000/svg\" height=\"24px\" viewBox=\"0 -960 960 960\">\n",
              "    <path d=\"M120-120v-720h720v720H120Zm60-500h600v-160H180v160Zm220 220h160v-160H400v160Zm0 220h160v-160H400v160ZM180-400h160v-160H180v160Zm440 0h160v-160H620v160ZM180-180h160v-160H180v160Zm440 0h160v-160H620v160Z\"/>\n",
              "  </svg>\n",
              "    </button>\n",
              "\n",
              "  <style>\n",
              "    .colab-df-container {\n",
              "      display:flex;\n",
              "      gap: 12px;\n",
              "    }\n",
              "\n",
              "    .colab-df-convert {\n",
              "      background-color: #E8F0FE;\n",
              "      border: none;\n",
              "      border-radius: 50%;\n",
              "      cursor: pointer;\n",
              "      display: none;\n",
              "      fill: #1967D2;\n",
              "      height: 32px;\n",
              "      padding: 0 0 0 0;\n",
              "      width: 32px;\n",
              "    }\n",
              "\n",
              "    .colab-df-convert:hover {\n",
              "      background-color: #E2EBFA;\n",
              "      box-shadow: 0px 1px 2px rgba(60, 64, 67, 0.3), 0px 1px 3px 1px rgba(60, 64, 67, 0.15);\n",
              "      fill: #174EA6;\n",
              "    }\n",
              "\n",
              "    .colab-df-buttons div {\n",
              "      margin-bottom: 4px;\n",
              "    }\n",
              "\n",
              "    [theme=dark] .colab-df-convert {\n",
              "      background-color: #3B4455;\n",
              "      fill: #D2E3FC;\n",
              "    }\n",
              "\n",
              "    [theme=dark] .colab-df-convert:hover {\n",
              "      background-color: #434B5C;\n",
              "      box-shadow: 0px 1px 3px 1px rgba(0, 0, 0, 0.15);\n",
              "      filter: drop-shadow(0px 1px 2px rgba(0, 0, 0, 0.3));\n",
              "      fill: #FFFFFF;\n",
              "    }\n",
              "  </style>\n",
              "\n",
              "    <script>\n",
              "      const buttonEl =\n",
              "        document.querySelector('#df-8b023ca0-ffa6-407e-bb6c-e7b74813b296 button.colab-df-convert');\n",
              "      buttonEl.style.display =\n",
              "        google.colab.kernel.accessAllowed ? 'block' : 'none';\n",
              "\n",
              "      async function convertToInteractive(key) {\n",
              "        const element = document.querySelector('#df-8b023ca0-ffa6-407e-bb6c-e7b74813b296');\n",
              "        const dataTable =\n",
              "          await google.colab.kernel.invokeFunction('convertToInteractive',\n",
              "                                                    [key], {});\n",
              "        if (!dataTable) return;\n",
              "\n",
              "        const docLinkHtml = 'Like what you see? Visit the ' +\n",
              "          '<a target=\"_blank\" href=https://colab.research.google.com/notebooks/data_table.ipynb>data table notebook</a>'\n",
              "          + ' to learn more about interactive tables.';\n",
              "        element.innerHTML = '';\n",
              "        dataTable['output_type'] = 'display_data';\n",
              "        await google.colab.output.renderOutput(dataTable, element);\n",
              "        const docLink = document.createElement('div');\n",
              "        docLink.innerHTML = docLinkHtml;\n",
              "        element.appendChild(docLink);\n",
              "      }\n",
              "    </script>\n",
              "  </div>\n",
              "\n",
              "\n",
              "<div id=\"df-062a69e6-2e8f-47ee-960b-2fa131744c10\">\n",
              "  <button class=\"colab-df-quickchart\" onclick=\"quickchart('df-062a69e6-2e8f-47ee-960b-2fa131744c10')\"\n",
              "            title=\"Suggest charts\"\n",
              "            style=\"display:none;\">\n",
              "\n",
              "<svg xmlns=\"http://www.w3.org/2000/svg\" height=\"24px\"viewBox=\"0 0 24 24\"\n",
              "     width=\"24px\">\n",
              "    <g>\n",
              "        <path d=\"M19 3H5c-1.1 0-2 .9-2 2v14c0 1.1.9 2 2 2h14c1.1 0 2-.9 2-2V5c0-1.1-.9-2-2-2zM9 17H7v-7h2v7zm4 0h-2V7h2v10zm4 0h-2v-4h2v4z\"/>\n",
              "    </g>\n",
              "</svg>\n",
              "  </button>\n",
              "\n",
              "<style>\n",
              "  .colab-df-quickchart {\n",
              "      --bg-color: #E8F0FE;\n",
              "      --fill-color: #1967D2;\n",
              "      --hover-bg-color: #E2EBFA;\n",
              "      --hover-fill-color: #174EA6;\n",
              "      --disabled-fill-color: #AAA;\n",
              "      --disabled-bg-color: #DDD;\n",
              "  }\n",
              "\n",
              "  [theme=dark] .colab-df-quickchart {\n",
              "      --bg-color: #3B4455;\n",
              "      --fill-color: #D2E3FC;\n",
              "      --hover-bg-color: #434B5C;\n",
              "      --hover-fill-color: #FFFFFF;\n",
              "      --disabled-bg-color: #3B4455;\n",
              "      --disabled-fill-color: #666;\n",
              "  }\n",
              "\n",
              "  .colab-df-quickchart {\n",
              "    background-color: var(--bg-color);\n",
              "    border: none;\n",
              "    border-radius: 50%;\n",
              "    cursor: pointer;\n",
              "    display: none;\n",
              "    fill: var(--fill-color);\n",
              "    height: 32px;\n",
              "    padding: 0;\n",
              "    width: 32px;\n",
              "  }\n",
              "\n",
              "  .colab-df-quickchart:hover {\n",
              "    background-color: var(--hover-bg-color);\n",
              "    box-shadow: 0 1px 2px rgba(60, 64, 67, 0.3), 0 1px 3px 1px rgba(60, 64, 67, 0.15);\n",
              "    fill: var(--button-hover-fill-color);\n",
              "  }\n",
              "\n",
              "  .colab-df-quickchart-complete:disabled,\n",
              "  .colab-df-quickchart-complete:disabled:hover {\n",
              "    background-color: var(--disabled-bg-color);\n",
              "    fill: var(--disabled-fill-color);\n",
              "    box-shadow: none;\n",
              "  }\n",
              "\n",
              "  .colab-df-spinner {\n",
              "    border: 2px solid var(--fill-color);\n",
              "    border-color: transparent;\n",
              "    border-bottom-color: var(--fill-color);\n",
              "    animation:\n",
              "      spin 1s steps(1) infinite;\n",
              "  }\n",
              "\n",
              "  @keyframes spin {\n",
              "    0% {\n",
              "      border-color: transparent;\n",
              "      border-bottom-color: var(--fill-color);\n",
              "      border-left-color: var(--fill-color);\n",
              "    }\n",
              "    20% {\n",
              "      border-color: transparent;\n",
              "      border-left-color: var(--fill-color);\n",
              "      border-top-color: var(--fill-color);\n",
              "    }\n",
              "    30% {\n",
              "      border-color: transparent;\n",
              "      border-left-color: var(--fill-color);\n",
              "      border-top-color: var(--fill-color);\n",
              "      border-right-color: var(--fill-color);\n",
              "    }\n",
              "    40% {\n",
              "      border-color: transparent;\n",
              "      border-right-color: var(--fill-color);\n",
              "      border-top-color: var(--fill-color);\n",
              "    }\n",
              "    60% {\n",
              "      border-color: transparent;\n",
              "      border-right-color: var(--fill-color);\n",
              "    }\n",
              "    80% {\n",
              "      border-color: transparent;\n",
              "      border-right-color: var(--fill-color);\n",
              "      border-bottom-color: var(--fill-color);\n",
              "    }\n",
              "    90% {\n",
              "      border-color: transparent;\n",
              "      border-bottom-color: var(--fill-color);\n",
              "    }\n",
              "  }\n",
              "</style>\n",
              "\n",
              "  <script>\n",
              "    async function quickchart(key) {\n",
              "      const quickchartButtonEl =\n",
              "        document.querySelector('#' + key + ' button');\n",
              "      quickchartButtonEl.disabled = true;  // To prevent multiple clicks.\n",
              "      quickchartButtonEl.classList.add('colab-df-spinner');\n",
              "      try {\n",
              "        const charts = await google.colab.kernel.invokeFunction(\n",
              "            'suggestCharts', [key], {});\n",
              "      } catch (error) {\n",
              "        console.error('Error during call to suggestCharts:', error);\n",
              "      }\n",
              "      quickchartButtonEl.classList.remove('colab-df-spinner');\n",
              "      quickchartButtonEl.classList.add('colab-df-quickchart-complete');\n",
              "    }\n",
              "    (() => {\n",
              "      let quickchartButtonEl =\n",
              "        document.querySelector('#df-062a69e6-2e8f-47ee-960b-2fa131744c10 button');\n",
              "      quickchartButtonEl.style.display =\n",
              "        google.colab.kernel.accessAllowed ? 'block' : 'none';\n",
              "    })();\n",
              "  </script>\n",
              "</div>\n",
              "\n",
              "    </div>\n",
              "  </div>\n"
            ],
            "application/vnd.google.colaboratory.intrinsic+json": {
              "type": "dataframe",
              "variable_name": "df",
              "summary": "{\n  \"name\": \"df\",\n  \"rows\": 2787,\n  \"fields\": [\n    {\n      \"column\": \"Date\",\n      \"properties\": {\n        \"dtype\": \"date\",\n        \"min\": \"2013-10-01 00:00:00\",\n        \"max\": \"2021-05-18 00:00:00\",\n        \"num_unique_values\": 2787,\n        \"samples\": [\n          \"2019-06-11 00:00:00\",\n          \"2021-05-03 00:00:00\",\n          \"2017-10-05 00:00:00\"\n        ],\n        \"semantic_type\": \"\",\n        \"description\": \"\"\n      }\n    },\n    {\n      \"column\": \"Currency\",\n      \"properties\": {\n        \"dtype\": \"category\",\n        \"num_unique_values\": 1,\n        \"samples\": [\n          \"BTC\"\n        ],\n        \"semantic_type\": \"\",\n        \"description\": \"\"\n      }\n    },\n    {\n      \"column\": \"Closing Price (USD)\",\n      \"properties\": {\n        \"dtype\": \"number\",\n        \"std\": 10887.84744436952,\n        \"min\": 108.58483,\n        \"max\": 63346.7890351052,\n        \"num_unique_values\": 2787,\n        \"samples\": [\n          7954.0062377205\n        ],\n        \"semantic_type\": \"\",\n        \"description\": \"\"\n      }\n    },\n    {\n      \"column\": \"24h Open (USD)\",\n      \"properties\": {\n        \"dtype\": \"number\",\n        \"std\": 10863.80077212387,\n        \"min\": 108.58483,\n        \"max\": 63562.6735446382,\n        \"num_unique_values\": 2787,\n        \"samples\": [\n          7600.9225047785\n        ],\n        \"semantic_type\": \"\",\n        \"description\": \"\"\n      }\n    },\n    {\n      \"column\": \"24h High (USD)\",\n      \"properties\": {\n        \"dtype\": \"number\",\n        \"std\": 11206.779756254151,\n        \"min\": 118.675,\n        \"max\": 64801.787869525,\n        \"num_unique_values\": 2787,\n        \"samples\": [\n          8064.9001353225\n        ],\n        \"semantic_type\": \"\",\n        \"description\": \"\"\n      }\n    },\n    {\n      \"column\": \"24h Low (USD)\",\n      \"properties\": {\n        \"dtype\": \"number\",\n        \"std\": 10475.8112518284,\n        \"min\": 83.32833,\n        \"max\": 62094.6329143272,\n        \"num_unique_values\": 2785,\n        \"samples\": [\n          7714.610306452\n        ],\n        \"semantic_type\": \"\",\n        \"description\": \"\"\n      }\n    }\n  ]\n}"
            }
          },
          "metadata": {},
          "execution_count": 2
        }
      ]
    },
    {
      "cell_type": "code",
      "source": [
        "df.info()"
      ],
      "metadata": {
        "colab": {
          "base_uri": "https://localhost:8080/"
        },
        "id": "2Ukqci1cVEr4",
        "outputId": "70bcfc4e-b715-4464-cb6b-17d858195db7"
      },
      "execution_count": 3,
      "outputs": [
        {
          "output_type": "stream",
          "name": "stdout",
          "text": [
            "<class 'pandas.core.frame.DataFrame'>\n",
            "DatetimeIndex: 2787 entries, 2013-10-01 to 2021-05-18\n",
            "Data columns (total 5 columns):\n",
            " #   Column               Non-Null Count  Dtype  \n",
            "---  ------               --------------  -----  \n",
            " 0   Currency             2787 non-null   object \n",
            " 1   Closing Price (USD)  2787 non-null   float64\n",
            " 2   24h Open (USD)       2787 non-null   float64\n",
            " 3   24h High (USD)       2787 non-null   float64\n",
            " 4   24h Low (USD)        2787 non-null   float64\n",
            "dtypes: float64(4), object(1)\n",
            "memory usage: 130.6+ KB\n"
          ]
        }
      ]
    },
    {
      "cell_type": "code",
      "source": [
        "len(df)"
      ],
      "metadata": {
        "colab": {
          "base_uri": "https://localhost:8080/"
        },
        "id": "n5iLM3OfVGd0",
        "outputId": "09630ef8-0b58-48b0-90be-2aa692cd7b8e"
      },
      "execution_count": 4,
      "outputs": [
        {
          "output_type": "execute_result",
          "data": {
            "text/plain": [
              "2787"
            ]
          },
          "metadata": {},
          "execution_count": 4
        }
      ]
    },
    {
      "cell_type": "code",
      "source": [
        "bitcoin_prices = pd.DataFrame(df['Closing Price (USD)']).rename(columns={\"Closing Price (USD)\":\"Price\"})\n",
        "bitcoin_prices.head()"
      ],
      "metadata": {
        "colab": {
          "base_uri": "https://localhost:8080/",
          "height": 238
        },
        "id": "TgcNg_gxVIZq",
        "outputId": "16e8955b-ca97-476f-cc02-8eef4b7c426d"
      },
      "execution_count": 5,
      "outputs": [
        {
          "output_type": "execute_result",
          "data": {
            "text/plain": [
              "                Price\n",
              "Date                 \n",
              "2013-10-01  123.65499\n",
              "2013-10-02  125.45500\n",
              "2013-10-03  108.58483\n",
              "2013-10-04  118.67466\n",
              "2013-10-05  121.33866"
            ],
            "text/html": [
              "\n",
              "  <div id=\"df-da354def-4f16-4560-8091-1ce82d7b5e7a\" class=\"colab-df-container\">\n",
              "    <div>\n",
              "<style scoped>\n",
              "    .dataframe tbody tr th:only-of-type {\n",
              "        vertical-align: middle;\n",
              "    }\n",
              "\n",
              "    .dataframe tbody tr th {\n",
              "        vertical-align: top;\n",
              "    }\n",
              "\n",
              "    .dataframe thead th {\n",
              "        text-align: right;\n",
              "    }\n",
              "</style>\n",
              "<table border=\"1\" class=\"dataframe\">\n",
              "  <thead>\n",
              "    <tr style=\"text-align: right;\">\n",
              "      <th></th>\n",
              "      <th>Price</th>\n",
              "    </tr>\n",
              "    <tr>\n",
              "      <th>Date</th>\n",
              "      <th></th>\n",
              "    </tr>\n",
              "  </thead>\n",
              "  <tbody>\n",
              "    <tr>\n",
              "      <th>2013-10-01</th>\n",
              "      <td>123.65499</td>\n",
              "    </tr>\n",
              "    <tr>\n",
              "      <th>2013-10-02</th>\n",
              "      <td>125.45500</td>\n",
              "    </tr>\n",
              "    <tr>\n",
              "      <th>2013-10-03</th>\n",
              "      <td>108.58483</td>\n",
              "    </tr>\n",
              "    <tr>\n",
              "      <th>2013-10-04</th>\n",
              "      <td>118.67466</td>\n",
              "    </tr>\n",
              "    <tr>\n",
              "      <th>2013-10-05</th>\n",
              "      <td>121.33866</td>\n",
              "    </tr>\n",
              "  </tbody>\n",
              "</table>\n",
              "</div>\n",
              "    <div class=\"colab-df-buttons\">\n",
              "\n",
              "  <div class=\"colab-df-container\">\n",
              "    <button class=\"colab-df-convert\" onclick=\"convertToInteractive('df-da354def-4f16-4560-8091-1ce82d7b5e7a')\"\n",
              "            title=\"Convert this dataframe to an interactive table.\"\n",
              "            style=\"display:none;\">\n",
              "\n",
              "  <svg xmlns=\"http://www.w3.org/2000/svg\" height=\"24px\" viewBox=\"0 -960 960 960\">\n",
              "    <path d=\"M120-120v-720h720v720H120Zm60-500h600v-160H180v160Zm220 220h160v-160H400v160Zm0 220h160v-160H400v160ZM180-400h160v-160H180v160Zm440 0h160v-160H620v160ZM180-180h160v-160H180v160Zm440 0h160v-160H620v160Z\"/>\n",
              "  </svg>\n",
              "    </button>\n",
              "\n",
              "  <style>\n",
              "    .colab-df-container {\n",
              "      display:flex;\n",
              "      gap: 12px;\n",
              "    }\n",
              "\n",
              "    .colab-df-convert {\n",
              "      background-color: #E8F0FE;\n",
              "      border: none;\n",
              "      border-radius: 50%;\n",
              "      cursor: pointer;\n",
              "      display: none;\n",
              "      fill: #1967D2;\n",
              "      height: 32px;\n",
              "      padding: 0 0 0 0;\n",
              "      width: 32px;\n",
              "    }\n",
              "\n",
              "    .colab-df-convert:hover {\n",
              "      background-color: #E2EBFA;\n",
              "      box-shadow: 0px 1px 2px rgba(60, 64, 67, 0.3), 0px 1px 3px 1px rgba(60, 64, 67, 0.15);\n",
              "      fill: #174EA6;\n",
              "    }\n",
              "\n",
              "    .colab-df-buttons div {\n",
              "      margin-bottom: 4px;\n",
              "    }\n",
              "\n",
              "    [theme=dark] .colab-df-convert {\n",
              "      background-color: #3B4455;\n",
              "      fill: #D2E3FC;\n",
              "    }\n",
              "\n",
              "    [theme=dark] .colab-df-convert:hover {\n",
              "      background-color: #434B5C;\n",
              "      box-shadow: 0px 1px 3px 1px rgba(0, 0, 0, 0.15);\n",
              "      filter: drop-shadow(0px 1px 2px rgba(0, 0, 0, 0.3));\n",
              "      fill: #FFFFFF;\n",
              "    }\n",
              "  </style>\n",
              "\n",
              "    <script>\n",
              "      const buttonEl =\n",
              "        document.querySelector('#df-da354def-4f16-4560-8091-1ce82d7b5e7a button.colab-df-convert');\n",
              "      buttonEl.style.display =\n",
              "        google.colab.kernel.accessAllowed ? 'block' : 'none';\n",
              "\n",
              "      async function convertToInteractive(key) {\n",
              "        const element = document.querySelector('#df-da354def-4f16-4560-8091-1ce82d7b5e7a');\n",
              "        const dataTable =\n",
              "          await google.colab.kernel.invokeFunction('convertToInteractive',\n",
              "                                                    [key], {});\n",
              "        if (!dataTable) return;\n",
              "\n",
              "        const docLinkHtml = 'Like what you see? Visit the ' +\n",
              "          '<a target=\"_blank\" href=https://colab.research.google.com/notebooks/data_table.ipynb>data table notebook</a>'\n",
              "          + ' to learn more about interactive tables.';\n",
              "        element.innerHTML = '';\n",
              "        dataTable['output_type'] = 'display_data';\n",
              "        await google.colab.output.renderOutput(dataTable, element);\n",
              "        const docLink = document.createElement('div');\n",
              "        docLink.innerHTML = docLinkHtml;\n",
              "        element.appendChild(docLink);\n",
              "      }\n",
              "    </script>\n",
              "  </div>\n",
              "\n",
              "\n",
              "<div id=\"df-9224c2b7-a78d-46df-ac9b-919b71ac7308\">\n",
              "  <button class=\"colab-df-quickchart\" onclick=\"quickchart('df-9224c2b7-a78d-46df-ac9b-919b71ac7308')\"\n",
              "            title=\"Suggest charts\"\n",
              "            style=\"display:none;\">\n",
              "\n",
              "<svg xmlns=\"http://www.w3.org/2000/svg\" height=\"24px\"viewBox=\"0 0 24 24\"\n",
              "     width=\"24px\">\n",
              "    <g>\n",
              "        <path d=\"M19 3H5c-1.1 0-2 .9-2 2v14c0 1.1.9 2 2 2h14c1.1 0 2-.9 2-2V5c0-1.1-.9-2-2-2zM9 17H7v-7h2v7zm4 0h-2V7h2v10zm4 0h-2v-4h2v4z\"/>\n",
              "    </g>\n",
              "</svg>\n",
              "  </button>\n",
              "\n",
              "<style>\n",
              "  .colab-df-quickchart {\n",
              "      --bg-color: #E8F0FE;\n",
              "      --fill-color: #1967D2;\n",
              "      --hover-bg-color: #E2EBFA;\n",
              "      --hover-fill-color: #174EA6;\n",
              "      --disabled-fill-color: #AAA;\n",
              "      --disabled-bg-color: #DDD;\n",
              "  }\n",
              "\n",
              "  [theme=dark] .colab-df-quickchart {\n",
              "      --bg-color: #3B4455;\n",
              "      --fill-color: #D2E3FC;\n",
              "      --hover-bg-color: #434B5C;\n",
              "      --hover-fill-color: #FFFFFF;\n",
              "      --disabled-bg-color: #3B4455;\n",
              "      --disabled-fill-color: #666;\n",
              "  }\n",
              "\n",
              "  .colab-df-quickchart {\n",
              "    background-color: var(--bg-color);\n",
              "    border: none;\n",
              "    border-radius: 50%;\n",
              "    cursor: pointer;\n",
              "    display: none;\n",
              "    fill: var(--fill-color);\n",
              "    height: 32px;\n",
              "    padding: 0;\n",
              "    width: 32px;\n",
              "  }\n",
              "\n",
              "  .colab-df-quickchart:hover {\n",
              "    background-color: var(--hover-bg-color);\n",
              "    box-shadow: 0 1px 2px rgba(60, 64, 67, 0.3), 0 1px 3px 1px rgba(60, 64, 67, 0.15);\n",
              "    fill: var(--button-hover-fill-color);\n",
              "  }\n",
              "\n",
              "  .colab-df-quickchart-complete:disabled,\n",
              "  .colab-df-quickchart-complete:disabled:hover {\n",
              "    background-color: var(--disabled-bg-color);\n",
              "    fill: var(--disabled-fill-color);\n",
              "    box-shadow: none;\n",
              "  }\n",
              "\n",
              "  .colab-df-spinner {\n",
              "    border: 2px solid var(--fill-color);\n",
              "    border-color: transparent;\n",
              "    border-bottom-color: var(--fill-color);\n",
              "    animation:\n",
              "      spin 1s steps(1) infinite;\n",
              "  }\n",
              "\n",
              "  @keyframes spin {\n",
              "    0% {\n",
              "      border-color: transparent;\n",
              "      border-bottom-color: var(--fill-color);\n",
              "      border-left-color: var(--fill-color);\n",
              "    }\n",
              "    20% {\n",
              "      border-color: transparent;\n",
              "      border-left-color: var(--fill-color);\n",
              "      border-top-color: var(--fill-color);\n",
              "    }\n",
              "    30% {\n",
              "      border-color: transparent;\n",
              "      border-left-color: var(--fill-color);\n",
              "      border-top-color: var(--fill-color);\n",
              "      border-right-color: var(--fill-color);\n",
              "    }\n",
              "    40% {\n",
              "      border-color: transparent;\n",
              "      border-right-color: var(--fill-color);\n",
              "      border-top-color: var(--fill-color);\n",
              "    }\n",
              "    60% {\n",
              "      border-color: transparent;\n",
              "      border-right-color: var(--fill-color);\n",
              "    }\n",
              "    80% {\n",
              "      border-color: transparent;\n",
              "      border-right-color: var(--fill-color);\n",
              "      border-bottom-color: var(--fill-color);\n",
              "    }\n",
              "    90% {\n",
              "      border-color: transparent;\n",
              "      border-bottom-color: var(--fill-color);\n",
              "    }\n",
              "  }\n",
              "</style>\n",
              "\n",
              "  <script>\n",
              "    async function quickchart(key) {\n",
              "      const quickchartButtonEl =\n",
              "        document.querySelector('#' + key + ' button');\n",
              "      quickchartButtonEl.disabled = true;  // To prevent multiple clicks.\n",
              "      quickchartButtonEl.classList.add('colab-df-spinner');\n",
              "      try {\n",
              "        const charts = await google.colab.kernel.invokeFunction(\n",
              "            'suggestCharts', [key], {});\n",
              "      } catch (error) {\n",
              "        console.error('Error during call to suggestCharts:', error);\n",
              "      }\n",
              "      quickchartButtonEl.classList.remove('colab-df-spinner');\n",
              "      quickchartButtonEl.classList.add('colab-df-quickchart-complete');\n",
              "    }\n",
              "    (() => {\n",
              "      let quickchartButtonEl =\n",
              "        document.querySelector('#df-9224c2b7-a78d-46df-ac9b-919b71ac7308 button');\n",
              "      quickchartButtonEl.style.display =\n",
              "        google.colab.kernel.accessAllowed ? 'block' : 'none';\n",
              "    })();\n",
              "  </script>\n",
              "</div>\n",
              "\n",
              "    </div>\n",
              "  </div>\n"
            ],
            "application/vnd.google.colaboratory.intrinsic+json": {
              "type": "dataframe",
              "variable_name": "bitcoin_prices",
              "summary": "{\n  \"name\": \"bitcoin_prices\",\n  \"rows\": 2787,\n  \"fields\": [\n    {\n      \"column\": \"Date\",\n      \"properties\": {\n        \"dtype\": \"date\",\n        \"min\": \"2013-10-01 00:00:00\",\n        \"max\": \"2021-05-18 00:00:00\",\n        \"num_unique_values\": 2787,\n        \"samples\": [\n          \"2019-06-11 00:00:00\",\n          \"2021-05-03 00:00:00\",\n          \"2017-10-05 00:00:00\"\n        ],\n        \"semantic_type\": \"\",\n        \"description\": \"\"\n      }\n    },\n    {\n      \"column\": \"Price\",\n      \"properties\": {\n        \"dtype\": \"number\",\n        \"std\": 10887.84744436952,\n        \"min\": 108.58483,\n        \"max\": 63346.7890351052,\n        \"num_unique_values\": 2787,\n        \"samples\": [\n          7954.0062377205,\n          56427.0431250152,\n          4186.78374\n        ],\n        \"semantic_type\": \"\",\n        \"description\": \"\"\n      }\n    }\n  ]\n}"
            }
          },
          "metadata": {},
          "execution_count": 5
        }
      ]
    },
    {
      "cell_type": "code",
      "source": [
        "import matplotlib.pyplot as plt\n",
        "bitcoin_prices.plot(figsize=(10,7))\n",
        "plt.ylabel(\"BTC Price\")\n",
        "plt.title(\"Price of Bitcoin from 1 oct 2013 to 18 May 2021\", fontsize=16)\n",
        "plt.legend(fontsize=14);"
      ],
      "metadata": {
        "colab": {
          "base_uri": "https://localhost:8080/",
          "height": 643
        },
        "id": "4_WpdYDuZTbB",
        "outputId": "f223ce47-56e6-4eb3-9869-2a191d7145b6"
      },
      "execution_count": 6,
      "outputs": [
        {
          "output_type": "display_data",
          "data": {
            "text/plain": [
              "<Figure size 1000x700 with 1 Axes>"
            ],
            "image/png": "[encoded data removed]"
          },
          "metadata": {}
        }
      ]
    },
    {
      "cell_type": "markdown",
      "source": [
        "## Format Data Part 1: Creating Train and Test Sets for Time Series Data\n",
        "\n",
        "What’s the next step?\n",
        "\n",
        "If you guessed preparing our data for the model, you’re spot on.\n",
        "\n",
        "### What’s the most important first step in preparing any machine learning dataset?\n",
        "\n",
        "- Scaling?\n",
        "  - No...\n",
        "- Removing outliers?\n",
        "  - No...\n",
        "- How about creating train and test splits?\n",
        "  - Yes!\n",
        "\n",
        "Typically, you might use a function like Scikit-Learn’s [`train_test_split()`](https://scikit-learn.org/stable/modules/generated/sklearn.model_selection.train_test_split.html) to create train and test splits. However, as we’ll soon discover, this approach isn’t ideal for time series data.\n",
        "\n",
        "### What kind of data do we have?\n",
        "\n",
        "Before creating splits, it’s essential to understand the type of data we're working with.\n",
        "\n",
        "In time series problems, your data can be either **univariate** or **multivariate**.\n",
        "\n",
        "- **Univariate** time series data involves a single variable, such as using the price of Bitcoin to predict future prices of Bitcoin.\n",
        "- **Multivariate** time series data involves multiple variables, such as predicting electricity demand using factors like the day of the week, time of year, and the number of houses in a region.\n",
        "  \n",
        "Can you guess which one our data falls under?\n"
      ],
      "metadata": {
        "id": "-eUVqmePNpsA"
      }
    },
    {
      "cell_type": "markdown",
      "source": [
        "### Create train & test sets for time series (the wrong way)\n",
        "\n",
        "ok, we've figured out we're dealing with a univariate time series, so we only have to make a split on one variable (for multivariate time series, you will have to split multiple variables).\n",
        "\n",
        "How about we first see the *wrong way* for splitting time series data?\n",
        "\n",
        "Let's turn our DataFrame index and column into NumPy arrays."
      ],
      "metadata": {
        "id": "IcBEKpV7NtV3"
      }
    },
    {
      "cell_type": "code",
      "source": [
        "# Get bitcoin date array\n",
        "timesteps = bitcoin_prices.index.to_numpy()\n",
        "prices = bitcoin_prices['Price'].to_numpy()\n",
        "\n",
        "timesteps[:10], prices[:10]"
      ],
      "metadata": {
        "id": "aD0GPn-MasEa",
        "colab": {
          "base_uri": "https://localhost:8080/"
        },
        "outputId": "39d73704-8503-49ef-c498-2546c6862420"
      },
      "execution_count": 7,
      "outputs": [
        {
          "output_type": "execute_result",
          "data": {
            "text/plain": [
              "(array(['2013-10-01T00:00:00.000000000', '2013-10-02T00:00:00.000000000',\n",
              "        '2013-10-03T00:00:00.000000000', '2013-10-04T00:00:00.000000000',\n",
              "        '2013-10-05T00:00:00.000000000', '2013-10-06T00:00:00.000000000',\n",
              "        '2013-10-07T00:00:00.000000000', '2013-10-08T00:00:00.000000000',\n",
              "        '2013-10-09T00:00:00.000000000', '2013-10-10T00:00:00.000000000'],\n",
              "       dtype='datetime64[ns]'),\n",
              " array([123.65499, 125.455  , 108.58483, 118.67466, 121.33866, 120.65533,\n",
              "        121.795  , 123.033  , 124.049  , 125.96116]))"
            ]
          },
          "metadata": {},
          "execution_count": 7
        }
      ]
    },
    {
      "cell_type": "code",
      "source": [
        "# wrong way of splitting train and test sets\n",
        "from sklearn.model_selection import train_test_split\n",
        "\n",
        "X_train, X_test, y_train, y_test = train_test_split(timesteps,\n",
        "                                                  prices,\n",
        "                                                  test_size=0.2,\n",
        "                                                  random_state=42)\n",
        "\n",
        "X_train.shape, X_test.shape, y_train.shape, y_test.shape"
      ],
      "metadata": {
        "colab": {
          "base_uri": "https://localhost:8080/"
        },
        "id": "w104t6vfOIqT",
        "outputId": "b40204e6-4f1b-4fd0-8d18-fc99afab8282"
      },
      "execution_count": 8,
      "outputs": [
        {
          "output_type": "execute_result",
          "data": {
            "text/plain": [
              "((2229,), (558,), (2229,), (558,))"
            ]
          },
          "metadata": {},
          "execution_count": 8
        }
      ]
    },
    {
      "cell_type": "code",
      "source": [
        "# Let's plot wrong train and test splits\n",
        "plt.figure(figsize=(10, 7))\n",
        "plt.scatter(X_train, y_train, s=5, label=\"Train data\")\n",
        "plt.scatter(X_test, y_test, s=5, label=\"Test data\")\n",
        "plt.xlabel(\"Date\")\n",
        "plt.ylabel(\"BTC Price\")\n",
        "plt.legend(fontsize=14)\n",
        "plt.show();"
      ],
      "metadata": {
        "colab": {
          "base_uri": "https://localhost:8080/",
          "height": 619
        },
        "id": "pKBrtzL_O0es",
        "outputId": "8a1b50ee-a6a1-41e1-b0b6-a977427598bb"
      },
      "execution_count": 9,
      "outputs": [
        {
          "output_type": "display_data",
          "data": {
            "text/plain": [
              "<Figure size 1000x700 with 1 Axes>"
            ],
            "image/png": "[encoded data removed]"
          },
          "metadata": {}
        }
      ]
    },
    {
      "cell_type": "markdown",
      "source": [
        "### Create train & test sets for time series (the right way)\n",
        "\n",
        "Of course, there's no way we can actually access data from the future.\n",
        "\n",
        "But we can engineer our test set to be in the future with respect to the training set.\n",
        "\n",
        "To do this, we can create an abitrary point in time to split our data.\n",
        "\n",
        "Everything before the point in time can be considered the training set and everything after the point in time can be considered the test set."
      ],
      "metadata": {
        "id": "pUsApPy6f9FX"
      }
    },
    {
      "cell_type": "code",
      "source": [
        "# Create train and test splits the right way for time series data\n",
        "split_size = int(0.8*len(prices))\n",
        "\n",
        "# Create train data splits (everything before the split)\n",
        "X_train, y_train = timesteps[:split_size], prices[:split_size]\n",
        "\n",
        "# Create test data splits (everything after the split)\n",
        "X_test, y_test = timesteps[split_size:], prices[split_size:]\n",
        "\n",
        "len(X_train), len(X_test), len(y_train), len(y_test)"
      ],
      "metadata": {
        "colab": {
          "base_uri": "https://localhost:8080/"
        },
        "id": "QbbLprySf1Ch",
        "outputId": "8e28cf6b-8f3e-46da-c58b-408a0ca6d253"
      },
      "execution_count": 10,
      "outputs": [
        {
          "output_type": "execute_result",
          "data": {
            "text/plain": [
              "(2229, 558, 2229, 558)"
            ]
          },
          "metadata": {},
          "execution_count": 10
        }
      ]
    },
    {
      "cell_type": "markdown",
      "source": [
        "### Create a plotting function\n",
        "\n",
        "Rather than retyping `matplotlib` commands to continuously plot data, let's make a plotting function we can reuse later."
      ],
      "metadata": {
        "id": "gHihvi_se8un"
      }
    },
    {
      "cell_type": "code",
      "source": [
        "def plot_time_series(timesteps, values, format='.', start=0, end=None, label=None):\n",
        "  \"\"\"\n",
        "  Plots a timesteps (a series of points in time) against values (a series of values across timesteps).\n",
        "\n",
        "  Parameters\n",
        "  ---------\n",
        "  timesteps : array of timesteps\n",
        "  values : array of values across time\n",
        "  format : style of plot, default \".\"\n",
        "  start : where to start the plot (setting a value will index from start of timesteps & values)\n",
        "  end : where to end the plot (setting a value will index from end of timesteps & values)\n",
        "  label : label to show on plot of values\n",
        "  \"\"\"\n",
        "  #plot the series\n",
        "  plt.plot(timesteps[start:end], values[start:end], format, label=label)\n",
        "  plt.xlabel(\"Time\")\n",
        "  plt.ylabel(\"BTC Price\")\n",
        "  if label:\n",
        "    plt.legend(fontsize=14) #Make label bigger\n",
        "  plt.grid(True)"
      ],
      "metadata": {
        "id": "9Tb8n5EmO9uv"
      },
      "execution_count": 11,
      "outputs": []
    },
    {
      "cell_type": "code",
      "source": [
        "# Try out our plotting function\n",
        "plt.figure(figsize=(10, 7))\n",
        "plot_time_series(X_train, y_train, label='Train data')\n",
        "plot_time_series(X_test, y_test, label=\"Test data\")"
      ],
      "metadata": {
        "colab": {
          "base_uri": "https://localhost:8080/",
          "height": 619
        },
        "id": "K2kK1nb1fc1R",
        "outputId": "2156ddd4-0945-47e3-9ad2-028595b61999"
      },
      "execution_count": 12,
      "outputs": [
        {
          "output_type": "display_data",
          "data": {
            "text/plain": [
              "<Figure size 1000x700 with 1 Axes>"
            ],
            "image/png": "[encoded data removed]"
          },
          "metadata": {}
        }
      ]
    },
    {
      "cell_type": "markdown",
      "source": [
        "## Modeling Experiments\n",
        "\n",
        "We can create a wide variety of models for our problem, as long as the data inputs and outputs are properly formatted.\n",
        "\n",
        "However, just because we *can* build *almost any* model, it doesn't mean it will perform well or be suitable for production use. We’ll explore this as we build and evaluate different models.\n",
        "\n",
        "### Two Key Terms: **Horizon** and **Window**\n",
        "\n",
        "Before diving into our modeling experiments, it's important to understand two key concepts:\n",
        "\n",
        "- **Horizon**: The number of time steps to predict into the future.\n",
        "- **Window**: The number of past time steps used to predict the horizon.\n",
        "\n",
        "For example, if we want to predict tomorrow's Bitcoin price (1-day horizon) using the last week's worth of prices (7-day window), the horizon would be 1, and the window would be 7.\n",
        "\n",
        "### Modeling Experiments Overview\n",
        "\n",
        "Now, let’s take a look at the modeling experiments we’ll run:\n",
        "\n",
        "| Model Number | Model Type | Horizon size | Window size | Extra data |\n",
        "| ------------- | ------------- | ------------- | ------------- | ------------- |\n",
        "| 0 | Naïve model (baseline) | NA | NA | NA |\n",
        "| 1 | Dense model | 1 | 7 | NA |\n",
        "| 2 | Same as 1 | 1 | 30 | NA |\n",
        "| 3 | Same as 1 | 7 | 30 | NA |\n",
        "| 4 | Conv1D | 1 | 7 | NA |\n",
        "| 5 | LSTM | 1 | 7 | NA |\n",
        "| 6 | Same as 1 (with multivariate data) | 1 | 7 | Block reward size |\n",
        "| 7 | [N-BEATs Algorithm](https://arxiv.org/pdf/1905.10437.pdf) | 1 | 7 | NA |\n",
        "| 8 | Ensemble (multiple models optimized on different loss functions) | 1 | 7 | NA |\n",
        "| 9 | Future prediction model | 1 | 7 | NA|\n",
        "| 10 | Same as 1 (with turkey 🦃 data introduced) | 1 | 7 | NA |\n",
        "\n",
        "> 🔑 **Note:** As you can see, we can build various models for the data we’re working with. However, this doesn’t guarantee their performance. Deep learning is a powerful tool, but it doesn’t always work. Always start with a simple model, then add complexity as needed.\n"
      ],
      "metadata": {
        "id": "9dSu0NAEfsTz"
      }
    },
    {
      "cell_type": "markdown",
      "source": [
        "## Model 0: Naïve Forecast (Baseline)\n",
        "\n",
        "Let's begin with a baseline model.\n",
        "\n",
        "One of the most common baselines for time series forecasting is the naïve model (also known as the [naïve forecast](https://otexts.com/fpp3/simple-methods.html#na%C3%AFve-method)). The best part? It requires no training.\n",
        "\n",
        "The naïve model simply predicts that the next timestep's value will be the same as the previous timestep's value. The formula for this is:\n",
        "\n",
        "$$\\hat{y}_{t} = y_{t-1}$$\n",
        "\n",
        "In plain English:\n",
        "> The prediction at timestep `t` (y-hat) is the same as the value at timestep `t-1` (the previous timestep).\n",
        "\n",
        "Sounds simple, right?\n",
        "\n",
        "But in an open system, like a stock or crypto market, it’s often surprisingly difficult to beat the naïve forecast with more complex models.\n",
        "\n",
        "> 🔑 **Note:** In this notebook, an **open system** refers to a system where inputs and outputs can freely flow, such as a market (stock or crypto). On the other hand, a **closed system** is where inputs and outputs are contained within the system (like a poker game with your friends, where you know the buy-in and the potential winnings). Time series forecasting in **open systems** is typically challenging.\n"
      ],
      "metadata": {
        "id": "8OATpPUiiqvM"
      }
    },
    {
      "cell_type": "code",
      "source": [
        "# creata a naive forecast\n",
        "naive_forecast = y_test[:-1] # Naive forecast equals value excluding the last value\n",
        "naive_forecast[:10], naive_forecast[-10:]"
      ],
      "metadata": {
        "colab": {
          "base_uri": "https://localhost:8080/"
        },
        "id": "2zA_MwYHiits",
        "outputId": "d4ce594e-d63a-4697-8a8a-34a232b8e73f"
      },
      "execution_count": 13,
      "outputs": [
        {
          "output_type": "execute_result",
          "data": {
            "text/plain": [
              "(array([9226.48582088, 8794.35864452, 8798.04205463, 9081.18687849,\n",
              "        8711.53433917, 8760.89271814, 8749.52059102, 8656.97092235,\n",
              "        8500.64355816, 8469.2608989 ]),\n",
              " array([57107.12067189, 58788.20967893, 58102.19142623, 55715.54665129,\n",
              "        56573.5554719 , 52147.82118698, 49764.1320816 , 50032.69313676,\n",
              "        47885.62525472, 45604.61575361]))"
            ]
          },
          "metadata": {},
          "execution_count": 13
        }
      ]
    },
    {
      "cell_type": "code",
      "source": [
        "y_test[-10:]"
      ],
      "metadata": {
        "colab": {
          "base_uri": "https://localhost:8080/"
        },
        "id": "ImXqdlQ5jkSi",
        "outputId": "85725338-e0c1-472d-d114-fc2e2371091c"
      },
      "execution_count": 14,
      "outputs": [
        {
          "output_type": "execute_result",
          "data": {
            "text/plain": [
              "array([58788.20967893, 58102.19142623, 55715.54665129, 56573.5554719 ,\n",
              "       52147.82118698, 49764.1320816 , 50032.69313676, 47885.62525472,\n",
              "       45604.61575361, 43144.47129086])"
            ]
          },
          "metadata": {},
          "execution_count": 14
        }
      ]
    },
    {
      "cell_type": "code",
      "source": [
        "# Plot naive forecast\n",
        "plt.figure(figsize=(10, 7))\n",
        "plot_time_series(X_train, y_train, label=\"Train data\")\n",
        "plot_time_series(X_test, y_test, label='Test data')\n",
        "plot_time_series(X_test[1:], naive_forecast, format='-', label='Naive forecast')"
      ],
      "metadata": {
        "colab": {
          "base_uri": "https://localhost:8080/",
          "height": 619
        },
        "id": "yj0Oq6CejCI6",
        "outputId": "82413be4-76f1-4615-e8af-829a794cb38f"
      },
      "execution_count": 15,
      "outputs": [
        {
          "output_type": "display_data",
          "data": {
            "text/plain": [
              "<Figure size 1000x700 with 1 Axes>"
            ],
            "image/png": "[encoded data removed]"
          },
          "metadata": {}
        }
      ]
    },
    {
      "cell_type": "markdown",
      "source": [
        "The naive forecast looks like it's following the data well.\n",
        "\n",
        "Let's zoom in to take a better look.\n",
        "\n",
        "We can do so by creating an offset value and passing it to the `start` parameter of our `plot_time_series()` function."
      ],
      "metadata": {
        "id": "jjk7pkColuaW"
      }
    },
    {
      "cell_type": "code",
      "source": [
        "plt.figure(figsize=(10,7))\n",
        "offset=300\n",
        "plot_time_series(X_test, y_test, start=offset, label=\"Test_data\")\n",
        "plot_time_series(X_test[1:], naive_forecast, format='-', start=offset, label='Naive forecast')"
      ],
      "metadata": {
        "colab": {
          "base_uri": "https://localhost:8080/",
          "height": 619
        },
        "id": "pZ1Etqw2j_Ge",
        "outputId": "bb3ea317-e2dc-43c2-d39f-0f1cd324badb"
      },
      "execution_count": 16,
      "outputs": [
        {
          "output_type": "display_data",
          "data": {
            "text/plain": [
              "<Figure size 1000x700 with 1 Axes>"
            ],
            "image/png": "[encoded data removed]"
          },
          "metadata": {}
        }
      ]
    },
    {
      "cell_type": "markdown",
      "source": [
        "## Evaluating a Time Series Model\n",
        "\n",
        "When forecasting time series data, like predicting Bitcoin's price, we're often dealing with a regression problem.\n",
        "\n",
        "This means we can use regression evaluation metrics to measure how well our models perform.\n",
        "\n",
        "The key question we'll focus on is: **How do our model's predictions (`y_pred`) compare to the actual values (`y_true` or *ground truth values*)?**\n",
        "\n",
        "> 📖 **Resource:** We'll be using several metrics to evaluate the accuracy of our time series forecasts. Many of these metrics are detailed in [Forecasting: Principles and Practice chapter 5.8](https://otexts.com/fpp3/accuracy.html), which provides a deeper understanding of the concepts we'll cover.\n",
        "\n",
        "For the metrics below, **lower values indicate better performance** (e.g., an MAE of 0 is better than an MAE of 100).\n",
        "\n",
        "### Scale-Dependent Errors\n",
        "\n",
        "These metrics compare time series values and forecasts that are on the same scale.\n",
        "\n",
        "For example, comparing Bitcoin historical prices in USD to forecast values in USD.\n",
        "\n",
        "| Metric | Details | Code |\n",
        "| ----- | ----- | ----- |\n",
        "| **MAE** (Mean Absolute Error) | Easy to interpret (a forecast is X amount different from the actual value). Minimizing MAE leads to forecasts of the median. | [`tf.keras.metrics.mean_absolute_error()`](https://www.tensorflow.org/api_docs/python/tf/keras/metrics/MeanAbsoluteError) |\n",
        "| **RMSE** (Root Mean Square Error) | Minimizing RMSE leads to forecasts of the mean. | `tf.sqrt(`[`tf.keras.metrics.mean_squared_error()`](https://www.tensorflow.org/api_docs/python/tf/keras/metrics/RootMeanSquaredError)`)`|\n",
        "\n",
        "### Percentage Errors\n",
        "\n",
        "Percentage errors have no units, allowing comparisons across different datasets.\n",
        "\n",
        "| **Metric** | **Details** | **Code** |\n",
        "| ----- | ----- | ----- |\n",
        "| **MAPE** (Mean Absolute Percentage Error) | Most commonly used percentage error. May not work if `y=0`. | [`tf.keras.metrics.mean_absolute_percentage_error()`](https://www.tensorflow.org/api_docs/python/tf/keras/losses/MAPE) |\n",
        "| **sMAPE** (Symmetric Mean Absolute Percentage Error) | Not recommended by [Forecasting: Principles and Practice](https://otexts.com/fpp3/accuracy.html#percentage-errors), though used in forecasting competitions. | Custom implementation |\n",
        "\n",
        "### Scaled Errors\n",
        "\n",
        "Scaled errors are an alternative to percentage errors for comparing forecast performance across different time series.\n",
        "\n",
        "| **Metric** | **Details** | **Code** |\n",
        "| ----- | ----- | ----- |\n",
        "| **MASE** (Mean Absolute Scaled Error) | MASE equals one for the naïve forecast. A forecast performing better than the naïve should have a MASE of less than 1. | See sktime's [`mase_loss()`](https://github.com/alan-turing-institute/sktime/blob/ee7a06843a44f4aaec7582d847e36073a9ab0566/sktime/performance_metrics/forecasting/_functions.py#L16) |\n",
        "\n",
        "> 🤔 **Question:** With so many metrics, which one should I focus on? It depends on your problem, but MAE is often a good place to start due to its simplicity and ease of explanation.\n",
        "\n",
        "Since we'll be evaluating many models, let’s write a function to calculate these evaluation metrics for our forecasts.\n",
        "\n",
        "First, we’ll need TensorFlow.\n"
      ],
      "metadata": {
        "id": "L6Zl0sbAySvV"
      }
    },
    {
      "cell_type": "code",
      "source": [
        "import tensorflow as tf"
      ],
      "metadata": {
        "id": "E7ONyeRnmGf_"
      },
      "execution_count": 17,
      "outputs": []
    },
    {
      "cell_type": "code",
      "source": [
        "# MASE implemented courtesy of sktime - https://github.com/alan-turing-institute/sktime/blob/ee7a06843a44f4aaec7582d847e36073a9ab0566/sktime/performance_metrics/forecasting/_functions.py#L16\n",
        "def mean_absolute_scaled_error(y_true, y_pred):\n",
        "  \"\"\"\n",
        "  Implement MASE (assuming no seasonality of data)\n",
        "  \"\"\"\n",
        "  mae = tf.reduce_mean(tf.abs(y_true - y_pred))\n",
        "\n",
        "  # Find MAE of naive forecast (no seasonality)\n",
        "  mae_naive_no_season = tf.reduce_mean(tf.abs(y_true[1:] - y_pred[:-1])) # our seasonality is 1 day (hence the shifting of 1 day)\n",
        "\n",
        "  return mae/ mae_naive_no_season"
      ],
      "metadata": {
        "id": "071f7WjhwFss"
      },
      "execution_count": 18,
      "outputs": []
    },
    {
      "cell_type": "code",
      "source": [
        "def evaluate_preds(y_true, y_pred):\n",
        "    # Make sure float32 for metric calculations\n",
        "    y_true = tf.cast(y_true, dtype=tf.float32)\n",
        "    y_pred = tf.cast(y_pred, dtype=tf.float32)\n",
        "\n",
        "    # Calculate various metrics\n",
        "    mae = tf.keras.metrics.MeanAbsoluteError()(y_true, y_pred)\n",
        "    mse = tf.keras.metrics.MeanSquaredError()(y_true, y_pred)\n",
        "    rmse = tf.sqrt(mse)\n",
        "    mape = tf.keras.metrics.MeanAbsolutePercentageError()(y_true, y_pred)\n",
        "    mase = mean_absolute_scaled_error(y_true, y_pred)\n",
        "\n",
        "    return {\n",
        "        \"MAE\": mae.numpy(),\n",
        "        \"MSE\": mse.numpy(),\n",
        "        \"RMSE\": rmse.numpy(),\n",
        "        \"MAPE\": mape.numpy(),\n",
        "        \"MASE\": mase.numpy()\n",
        "    }"
      ],
      "metadata": {
        "id": "oRuAAOxawThD"
      },
      "execution_count": 19,
      "outputs": []
    },
    {
      "cell_type": "code",
      "source": [
        "naive_results = evaluate_preds(y_test[1:],\n",
        "                               naive_forecast)\n",
        "naive_results"
      ],
      "metadata": {
        "colab": {
          "base_uri": "https://localhost:8080/"
        },
        "id": "Z36gcqk-z9O8",
        "outputId": "a67987d3-96d0-499d-92d3-2326bdb98288"
      },
      "execution_count": 20,
      "outputs": [
        {
          "output_type": "execute_result",
          "data": {
            "text/plain": [
              "{'MAE': 567.9802,\n",
              " 'MSE': 1147547.0,\n",
              " 'RMSE': 1071.2362,\n",
              " 'MAPE': 2.516525,\n",
              " 'MASE': 0.69212395}"
            ]
          },
          "metadata": {},
          "execution_count": 20
        }
      ]
    },
    {
      "cell_type": "code",
      "source": [
        "# Find average price of Bitcoin in test dataset\n",
        "tf.reduce_mean(y_test).numpy()"
      ],
      "metadata": {
        "colab": {
          "base_uri": "https://localhost:8080/"
        },
        "id": "SD3yYQrT0HDA",
        "outputId": "c3297483-9976-4deb-aa07-2e7a1b894000"
      },
      "execution_count": 21,
      "outputs": [
        {
          "output_type": "execute_result",
          "data": {
            "text/plain": [
              "20056.632963737222"
            ]
          },
          "metadata": {},
          "execution_count": 21
        }
      ]
    },
    {
      "cell_type": "markdown",
      "source": [
        "## Other kinds of time series forecasting models which can be used for baselines and actual forecasts\n",
        "\n",
        "Since we've got a naïve forecast baseline to work with, it's time we start building models to try and beat it.\n",
        "\n",
        "And because this course is focused on TensorFlow and deep learning, we're going to be using TensorFlow to build deep learning models to try and improve on our naïve forecasting results.\n",
        "\n",
        "That being said, there are many other kinds of models you may want to look into for building baselines/performing forecasts.\n",
        "\n",
        "Some of them may even beat our best performing models in this notebook, however, I'll leave trying them out for extra-curriculum.\n",
        "\n",
        "| **Model/Library Name** | **Resource** |\n",
        "| ----- | ----- |\n",
        "| Moving average | https://machinelearningmastery.com/moving-average-smoothing-for-time-series-forecasting-python/ |\n",
        "| ARIMA (Autoregression Integrated Moving Average) | https://machinelearningmastery.com/arima-for-time-series-forecasting-with-python/ |\n",
        "| sktime (Scikit-Learn for time series) | https://github.com/alan-turing-institute/sktime |\n",
        "| TensorFlow Decision Forests (random forest, gradient boosting trees) | https://www.tensorflow.org/decision_forests |\n",
        "| Facebook Kats (purpose-built forecasting and time series analysis library by Facebook) | https://github.com/facebookresearch/Kats |\n",
        "| LinkedIn Greykite (flexible, intuitive and fast forecasts) | https://github.com/linkedin/greykite |"
      ],
      "metadata": {
        "id": "2xLACIMCP9LN"
      }
    },
    {
      "cell_type": "markdown",
      "source": [
        "## Format Data Part 2: Windowing Dataset\n",
        "\n",
        "We’re almost ready to start building our models, but there's one more step (really two) to complete.\n",
        "\n",
        "We need to **window** our time series data.\n",
        "\n",
        "### Why Window the Data?\n",
        "\n",
        "Windowing transforms a time series dataset into a **supervised learning problem**.\n",
        "\n",
        "In other words, we use past data windows to predict future values.\n",
        "\n",
        "For instance, if we want to use a window of one week (`window=7`) to predict the next single value (`horizon=1`) for a univariate time series, it might look like this:\n",
        "\n",
        "```\n",
        "Window for one week (univariate time series)\n",
        "\n",
        "[0, 1, 2, 3, 4, 5, 6] -> [7]\n",
        "[1, 2, 3, 4, 5, 6, 7] -> [8]\n",
        "[2, 3, 4, 5, 6, 7, 8] -> [9]\n",
        "```\n",
        "\n",
        "\n",
        "For predicting Bitcoin prices, it would look like this:\n",
        "\n",
        "```\n",
        "Window for one week with the target of predicting the next day (Bitcoin prices)\n",
        "\n",
        "[123.654, 125.455, 108.584, 118.674, 121.338, 120.655, 121.795] -> [123.033]\n",
        "[125.455, 108.584, 118.674, 121.338, 120.655, 121.795, 123.033] -> [124.049]\n",
        "[108.584, 118.674, 121.338, 120.655, 121.795, 123.033, 124.049] -> [125.961]\n",
        "```\n",
        "\n",
        "Let's build some functions which take in a univariate time series and turn it into windows and horizons of specified sizes.\n",
        "\n",
        "We'll start with the default horizon size of 1 and a window size of 7 (these aren't necessarily the best values to use, I've just picked them).\n"
      ],
      "metadata": {
        "id": "9TGxGWKZPvUU"
      }
    },
    {
      "cell_type": "code",
      "source": [
        "HORIZON = 1\n",
        "WINDOW_SIZE = 7"
      ],
      "metadata": {
        "id": "OiF1-ceoQSZe"
      },
      "execution_count": 22,
      "outputs": []
    },
    {
      "cell_type": "code",
      "source": [
        "def get_labelled_windows(x, horizon=1):\n",
        "  \"\"\"\n",
        "  Creates labels for windowed dataset\n",
        "\n",
        "  E.g. if horizon=1 (Default)\n",
        "  Input: [1,2,3,4,5,6] -> output: ([1,2,3,4,5], [6])\n",
        "  \"\"\"\n",
        "  return x[:, :-horizon], x[:, -horizon:]"
      ],
      "metadata": {
        "id": "aof_Lnw1QepT"
      },
      "execution_count": 23,
      "outputs": []
    },
    {
      "cell_type": "code",
      "source": [
        "# Test out the window labelling function\n",
        "test_window, test_label = get_labelled_windows(tf.expand_dims(tf.range(8)+1, axis=0), horizon=HORIZON)\n",
        "print(f\"Window: {tf.squeeze(test_window).numpy()} -> Label: {tf.squeeze(test_label).numpy()}\")"
      ],
      "metadata": {
        "colab": {
          "base_uri": "https://localhost:8080/"
        },
        "id": "99KUzHgcRNan",
        "outputId": "c6c12581-14ed-47ad-f81c-a1b6504fa3f6"
      },
      "execution_count": 24,
      "outputs": [
        {
          "output_type": "stream",
          "name": "stdout",
          "text": [
            "Window: [1 2 3 4 5 6 7] -> Label: 8\n"
          ]
        }
      ]
    },
    {
      "cell_type": "markdown",
      "source": [
        "### Creating Windows for the Entire Time Series\n",
        "\n",
        "To efficiently create windows for the entire time series, we could use Python for loops. However, for large datasets, this approach can be slow.\n",
        "\n",
        "To speed up the process, we’ll use [NumPy's array indexing](https://numpy.org/doc/stable/reference/arrays.indexing.html).\n",
        "\n",
        "The following steps will help us:\n",
        "\n",
        "1. We’ll use NumPy to create overlapping slices (windows) of our time series data.\n",
        "2. These windows will be used to train our models.\n",
        "3. We’ll apply the `get_labelled_windows()` function (created earlier) to convert these window slices into labeled windows with a specified horizon.\n",
        "\n",
        "> 📖 **Resource:** The function created below is adapted from Syafiq Kamarul Azman's article [*Fast and Robust Sliding Window Vectorization with NumPy*](https://towardsdatascience.com/fast-and-robust-sliding-window-vectorization-with-numpy-3ad950ed62f5).\n"
      ],
      "metadata": {
        "id": "m36_iWYbNyxQ"
      }
    },
    {
      "cell_type": "code",
      "source": [
        "import numpy as np\n",
        "# create function to view NumPy arrays as windows\n",
        "def make_windows(x, window_size=7, horizon=1):\n",
        "  \"\"\"\n",
        "  Turns a 1D array into a 2D array of sequential windows of window size\n",
        "  \"\"\"\n",
        "  # 1. create a window of specific window_size (add the horizon on the end for later labelling)\n",
        "  window_step = np.expand_dims(np.arange(window_size+horizon), axis=0)\n",
        "\n",
        "  # 2. Create a 2D array of multiple window steps (minus 1 to account for 0 indexing)\n",
        "  window_indexes = window_step + np.expand_dims(np.arange(len(x)-(window_size+horizon-1)), axis=0).T # create 2D array of windows of size window_size\n",
        "\n",
        "  # 3. Index on the target array (time series) with 2D array of multiple window steps\n",
        "  windowed_array = x[window_indexes]\n",
        "\n",
        "  # 4. Get the labelled windows\n",
        "  windows, labels = get_labelled_windows(windowed_array, horizon=horizon)\n",
        "\n",
        "  return windows, labels\n"
      ],
      "metadata": {
        "id": "Q-LxRhHdRU-D"
      },
      "execution_count": 25,
      "outputs": []
    },
    {
      "cell_type": "markdown",
      "source": [
        "To understand above func refer to this:\n",
        "\n",
        "window_step = `[[0, 1, 2, 3, 4, 5, 6, 7]]`\n",
        "\n",
        "window_indexes will result in:\n",
        "`[[0], [1], [2],....] + [[0, 1, 2, 3, 4, 5, 6, 7]]`\n",
        "\n",
        "This results in:\n",
        "```\n",
        "[[0]+[0, 1, 2, 3, 4, 5, 6, 7],\n",
        "[1]+[0, 1, 2, 3, 4, 5, 6, 7],\n",
        "[2]+[0, 1, 2, 3, 4, 5, 6, 7],\n",
        "....] = [[0, 1, 2, 3, 4, 5, 6, 7], [1, 2, 3, 4, 5, 6, 7, 8], [2, 3, 4, 5, 6, 7, 8, 9],....]\n",
        "```"
      ],
      "metadata": {
        "id": "qnja2qpdTKvg"
      }
    },
    {
      "cell_type": "code",
      "source": [
        "full_windows, full_labels = make_windows(prices, window_size=WINDOW_SIZE, horizon=HORIZON)\n",
        "len(full_windows), len(full_labels)"
      ],
      "metadata": {
        "colab": {
          "base_uri": "https://localhost:8080/"
        },
        "id": "pPSBZN4oP2xh",
        "outputId": "ccb0cafd-a631-4a38-f4ca-49bb2f6ecc8e"
      },
      "execution_count": 26,
      "outputs": [
        {
          "output_type": "execute_result",
          "data": {
            "text/plain": [
              "(2780, 2780)"
            ]
          },
          "metadata": {},
          "execution_count": 26
        }
      ]
    },
    {
      "cell_type": "code",
      "source": [
        "# View the first 3 windows/labels\n",
        "for i in range(3):\n",
        "  print(f\"Window: {full_windows[i]} -> Label: {full_labels[i]}\")"
      ],
      "metadata": {
        "colab": {
          "base_uri": "https://localhost:8080/"
        },
        "id": "iH6q3jnuUuY1",
        "outputId": "77ce6989-b714-4e3b-dfc2-29bc6f8420e0"
      },
      "execution_count": 27,
      "outputs": [
        {
          "output_type": "stream",
          "name": "stdout",
          "text": [
            "Window: [123.65499 125.455   108.58483 118.67466 121.33866 120.65533 121.795  ] -> Label: [123.033]\n",
            "Window: [125.455   108.58483 118.67466 121.33866 120.65533 121.795   123.033  ] -> Label: [124.049]\n",
            "Window: [108.58483 118.67466 121.33866 120.65533 121.795   123.033   124.049  ] -> Label: [125.96116]\n"
          ]
        }
      ]
    },
    {
      "cell_type": "code",
      "source": [
        "# View the last 3 windows/labels\n",
        "for i in range(3):\n",
        "  print(f\"Window: {full_windows[i-3]} -> Label: {full_labels[i-3]}\")"
      ],
      "metadata": {
        "colab": {
          "base_uri": "https://localhost:8080/"
        },
        "id": "FWT73V4fUuxF",
        "outputId": "361f9886-6193-4b78-a7a9-64ba8e4b166b"
      },
      "execution_count": 28,
      "outputs": [
        {
          "output_type": "stream",
          "name": "stdout",
          "text": [
            "Window: [58788.20967893 58102.19142623 55715.54665129 56573.5554719\n",
            " 52147.82118698 49764.1320816  50032.69313676] -> Label: [47885.62525472]\n",
            "Window: [58102.19142623 55715.54665129 56573.5554719  52147.82118698\n",
            " 49764.1320816  50032.69313676 47885.62525472] -> Label: [45604.61575361]\n",
            "Window: [55715.54665129 56573.5554719  52147.82118698 49764.1320816\n",
            " 50032.69313676 47885.62525472 45604.61575361] -> Label: [43144.47129086]\n"
          ]
        }
      ]
    },
    {
      "cell_type": "code",
      "source": [
        "# Make the train/test splits\n",
        "def make_train_test_splits(windows, labels, test_split=0.2):\n",
        "  \"\"\"\n",
        "  Splits matching pairs of windows and labels into train and test splits.\n",
        "  \"\"\"\n",
        "  split_size = int(len(windows) * (1-test_split))\n",
        "  train_windows = windows[:split_size]\n",
        "  train_labels = labels[:split_size]\n",
        "  test_windows = windows[split_size:]\n",
        "  test_labels = labels[split_size:]\n",
        "  return train_windows, test_windows, train_labels, test_labels"
      ],
      "metadata": {
        "id": "jUJQY1_HXlQG"
      },
      "execution_count": 29,
      "outputs": []
    },
    {
      "cell_type": "code",
      "source": [
        "train_windows, test_windows, train_labels, test_labels = make_train_test_splits(full_windows, full_labels)\n",
        "len(train_windows), len(test_windows), len(train_labels), len(test_labels)"
      ],
      "metadata": {
        "colab": {
          "base_uri": "https://localhost:8080/"
        },
        "id": "HridSDpSpH39",
        "outputId": "df5be76d-dc82-4ff0-96d4-902cf501cab9"
      },
      "execution_count": 30,
      "outputs": [
        {
          "output_type": "execute_result",
          "data": {
            "text/plain": [
              "(2224, 556, 2224, 556)"
            ]
          },
          "metadata": {},
          "execution_count": 30
        }
      ]
    },
    {
      "cell_type": "code",
      "source": [
        "train_windows[:5], train_labels[:5]"
      ],
      "metadata": {
        "colab": {
          "base_uri": "https://localhost:8080/"
        },
        "id": "_C-VK0MnpSF8",
        "outputId": "ee1878fc-99ba-4726-e0c2-c8b2ac8150b8"
      },
      "execution_count": 31,
      "outputs": [
        {
          "output_type": "execute_result",
          "data": {
            "text/plain": [
              "(array([[123.65499, 125.455  , 108.58483, 118.67466, 121.33866, 120.65533,\n",
              "         121.795  ],\n",
              "        [125.455  , 108.58483, 118.67466, 121.33866, 120.65533, 121.795  ,\n",
              "         123.033  ],\n",
              "        [108.58483, 118.67466, 121.33866, 120.65533, 121.795  , 123.033  ,\n",
              "         124.049  ],\n",
              "        [118.67466, 121.33866, 120.65533, 121.795  , 123.033  , 124.049  ,\n",
              "         125.96116],\n",
              "        [121.33866, 120.65533, 121.795  , 123.033  , 124.049  , 125.96116,\n",
              "         125.27966]]),\n",
              " array([[123.033  ],\n",
              "        [124.049  ],\n",
              "        [125.96116],\n",
              "        [125.27966],\n",
              "        [125.9275 ]]))"
            ]
          },
          "metadata": {},
          "execution_count": 31
        }
      ]
    },
    {
      "cell_type": "code",
      "source": [
        "# Check to see if same (accounting for horizon and window size)\n",
        "np.array_equal(np.squeeze(train_labels[:-HORIZON-1]), y_train[WINDOW_SIZE:])"
      ],
      "metadata": {
        "colab": {
          "base_uri": "https://localhost:8080/"
        },
        "id": "yRNpFqwmpUOs",
        "outputId": "9372208f-6697-4b3e-e5d8-b66f35dc968f"
      },
      "execution_count": 32,
      "outputs": [
        {
          "output_type": "execute_result",
          "data": {
            "text/plain": [
              "True"
            ]
          },
          "metadata": {},
          "execution_count": 32
        }
      ]
    },
    {
      "cell_type": "markdown",
      "source": [
        "## Create a Model Checkpoint\n",
        "\n",
        "We're almost ready to build our models—just one more crucial step!\n",
        "\n",
        "Given that our model's performance may vary across different experiments, it's important to ensure that we're comparing them fairly. This means we need to compare the best performance of each model against the best performance of other models.\n",
        "\n",
        "To make this comparison consistent, we'll save each model's best version during training. This approach allows us to run multiple experiments while keeping track of the best-performing models by saving them under different names.\n",
        "\n",
        "Next, we'll write a small function to create a `ModelCheckpoint` callback, which saves a model to a specified filename.\n"
      ],
      "metadata": {
        "id": "woQv4gFAszTg"
      }
    },
    {
      "cell_type": "code",
      "source": [
        "import os\n",
        "# create a function to implement a ModelCheckpoint callback with a specific filename\n",
        "def create_model_checkpoint(model_name, save_path=\"model_experiments\"):\n",
        "  return tf.keras.callbacks.ModelCheckpoint(filepath=os.path.join(save_path, model_name+\".keras\"),\n",
        "                                            verbose=1,\n",
        "                                            monitor='val_loss',\n",
        "                                            save_best_only= True)"
      ],
      "metadata": {
        "id": "dbpYREhus0mS"
      },
      "execution_count": 39,
      "outputs": []
    },
    {
      "cell_type": "markdown",
      "source": [
        "## Model 1: Dense model (window = 7, horizon = 1)\n",
        "\n",
        "Finally!\n",
        "\n",
        "Time to build one of our models.\n",
        "\n",
        "If you think we've been through a fair bit of preprocessing before getting here, you're right.\n",
        "\n",
        "Often, preparing data for a model is one of the largest parts of any machine learning project.\n",
        "\n",
        "And once you've got a good model in place, you'll probably notice far more improvements from manipulating the data (e.g. collecting more, improving the quality) than manipulating the model.\n",
        "\n",
        "We're going to start by keeping it simple, model_1 will have:\n",
        "\n",
        "A single dense layer with 128 hidden units and ReLU (rectified linear unit) activation\n",
        "An output layer with linear activation (or no activation)\n",
        "Adam optimizer and MAE loss function\n",
        "Batch size of 128\n",
        "100 epochs\n",
        "Why these values?\n",
        "\n",
        "I picked them out of experimentation.\n",
        "\n",
        "A batch size of 32 works pretty well too and we could always train for less epochs but since the model runs so fast (you'll see in a second, it's because the number of samples we have isn't massive) we might as well train for more.\n",
        "\n",
        "> 🔑 **Note:** As always, many of the values for machine learning problems are experimental. A reminder that the values you can set yourself in a machine learning algorithm (the hidden units, the batch size, horizon size, window size) are called [**hyperparameters**](https://en.wikipedia.org/wiki/Hyperparameter_(machine_learning). And experimenting to find the best values for hyperparameters is called **hyperparameter tuning**. Where as parameters learned by a model itself (patterns in the data, formally called weights & biases) are referred to as **parameters**.\n",
        "\n",
        "Let's import TensorFlow and build our first deep learning model for time series."
      ],
      "metadata": {
        "id": "OL7wayg5tReI"
      }
    },
    {
      "cell_type": "code",
      "source": [
        "import tensorflow as tf\n",
        "from tensorflow.keras import layers\n",
        "\n",
        "#set random seed for as reproducible results as possible\n",
        "tf.random.set_seed(42)\n",
        "\n",
        "# construct model\n",
        "model_1 = tf.keras.Sequential([\n",
        "    layers.Dense(128, activation='relu'),\n",
        "    layers.Dense(HORIZON, activation='linear')\n",
        "], name='model_1_dense')\n",
        "\n",
        "# Compile model\n",
        "model_1.compile(loss=\"mae\",\n",
        "                optimizer=tf.keras.optimizers.Adam(),\n",
        "                metrics=[\"mae\"]) # we don't necessarily need this when the loss function is already MAE\n",
        "\n",
        "# fit the model\n",
        "model_1.fit(x=train_windows,\n",
        "            y=train_labels,\n",
        "            epochs=100,\n",
        "            verbose=1,\n",
        "            batch_size=128,\n",
        "            validation_data = (test_windows, test_labels),\n",
        "            callbacks= [create_model_checkpoint(model_name=model_1.name)])"
      ],
      "metadata": {
        "colab": {
          "base_uri": "https://localhost:8080/"
        },
        "id": "lWtfEcHxS1MM",
        "outputId": "5d849c63-f54a-4bc1-b065-f9118b8aa6da"
      },
      "execution_count": 40,
      "outputs": [
        {
          "output_type": "stream",
          "name": "stdout",
          "text": [
            "Epoch 1/100\n",
            "\u001b[1m18/18\u001b[0m \u001b[32m━━━━━━━━━━━━━━━━━━━━\u001b[0m\u001b[37m\u001b[0m \u001b[1m0s\u001b[0m 16ms/step - loss: 3446.8054 - mae: 3446.8054\n",
            "Epoch 1: val_loss improved from inf to 5913.01904, saving model to model_experiments/model_1_dense.keras\n",
            "\u001b[1m18/18\u001b[0m \u001b[32m━━━━━━━━━━━━━━━━━━━━\u001b[0m\u001b[37m\u001b[0m \u001b[1m2s\u001b[0m 39ms/step - loss: 3408.3459 - mae: 3408.3459 - val_loss: 5913.0190 - val_mae: 5913.0190\n",
            "Epoch 2/100\n",
            "\u001b[1m 1/18\u001b[0m \u001b[32m━\u001b[0m\u001b[37m━━━━━━━━━━━━━━━━━━━\u001b[0m \u001b[1m0s\u001b[0m 20ms/step - loss: 1006.9390 - mae: 1006.9390\n",
            "Epoch 2: val_loss improved from 5913.01904 to 1030.50989, saving model to model_experiments/model_1_dense.keras\n",
            "\u001b[1m18/18\u001b[0m \u001b[32m━━━━━━━━━━━━━━━━━━━━\u001b[0m\u001b[37m\u001b[0m \u001b[1m0s\u001b[0m 5ms/step - loss: 545.4313 - mae: 545.4313 - val_loss: 1030.5099 - val_mae: 1030.5099\n",
            "Epoch 3/100\n",
            "\u001b[1m 1/18\u001b[0m \u001b[32m━\u001b[0m\u001b[37m━━━━━━━━━━━━━━━━━━━\u001b[0m \u001b[1m0s\u001b[0m 58ms/step - loss: 180.3123 - mae: 180.3123\n",
            "Epoch 3: val_loss did not improve from 1030.50989\n",
            "\u001b[1m18/18\u001b[0m \u001b[32m━━━━━━━━━━━━━━━━━━━━\u001b[0m\u001b[37m\u001b[0m \u001b[1m0s\u001b[0m 4ms/step - loss: 218.2297 - mae: 218.2297 - val_loss: 1116.1375 - val_mae: 1116.1375\n",
            "Epoch 4/100\n",
            "\u001b[1m 1/18\u001b[0m \u001b[32m━\u001b[0m\u001b[37m━━━━━━━━━━━━━━━━━━━\u001b[0m \u001b[1m1s\u001b[0m 66ms/step - loss: 202.8755 - mae: 202.8755\n",
            "Epoch 4: val_loss improved from 1030.50989 to 989.71967, saving model to model_experiments/model_1_dense.keras\n",
            "\u001b[1m18/18\u001b[0m \u001b[32m━━━━━━━━━━━━━━━━━━━━\u001b[0m\u001b[37m\u001b[0m \u001b[1m0s\u001b[0m 4ms/step - loss: 188.2735 - mae: 188.2735 - val_loss: 989.7197 - val_mae: 989.7197\n",
            "Epoch 5/100\n",
            "\u001b[1m 1/18\u001b[0m \u001b[32m━\u001b[0m\u001b[37m━━━━━━━━━━━━━━━━━━━\u001b[0m \u001b[1m0s\u001b[0m 20ms/step - loss: 170.6992 - mae: 170.6992\n",
            "Epoch 5: val_loss improved from 989.71967 to 963.25250, saving model to model_experiments/model_1_dense.keras\n",
            "\u001b[1m18/18\u001b[0m \u001b[32m━━━━━━━━━━━━━━━━━━━━\u001b[0m\u001b[37m\u001b[0m \u001b[1m0s\u001b[0m 5ms/step - loss: 174.1749 - mae: 174.1749 - val_loss: 963.2525 - val_mae: 963.2525\n",
            "Epoch 6/100\n",
            "\u001b[1m 1/18\u001b[0m \u001b[32m━\u001b[0m\u001b[37m━━━━━━━━━━━━━━━━━━━\u001b[0m \u001b[1m0s\u001b[0m 19ms/step - loss: 157.9992 - mae: 157.9992\n",
            "Epoch 6: val_loss did not improve from 963.25250\n",
            "\u001b[1m18/18\u001b[0m \u001b[32m━━━━━━━━━━━━━━━━━━━━\u001b[0m\u001b[37m\u001b[0m \u001b[1m0s\u001b[0m 3ms/step - loss: 166.7507 - mae: 166.7507 - val_loss: 968.7046 - val_mae: 968.7046\n",
            "Epoch 7/100\n",
            "\u001b[1m 1/18\u001b[0m \u001b[32m━\u001b[0m\u001b[37m━━━━━━━━━━━━━━━━━━━\u001b[0m \u001b[1m0s\u001b[0m 20ms/step - loss: 155.7234 - mae: 155.7234\n",
            "Epoch 7: val_loss improved from 963.25250 to 944.91919, saving model to model_experiments/model_1_dense.keras\n",
            "\u001b[1m18/18\u001b[0m \u001b[32m━━━━━━━━━━━━━━━━━━━━\u001b[0m\u001b[37m\u001b[0m \u001b[1m0s\u001b[0m 5ms/step - loss: 163.0767 - mae: 163.0767 - val_loss: 944.9192 - val_mae: 944.9192\n",
            "Epoch 8/100\n",
            "\u001b[1m 1/18\u001b[0m \u001b[32m━\u001b[0m\u001b[37m━━━━━━━━━━━━━━━━━━━\u001b[0m \u001b[1m0s\u001b[0m 49ms/step - loss: 151.9730 - mae: 151.9730\n",
            "Epoch 8: val_loss improved from 944.91919 to 921.90588, saving model to model_experiments/model_1_dense.keras\n",
            "\u001b[1m18/18\u001b[0m \u001b[32m━━━━━━━━━━━━━━━━━━━━\u001b[0m\u001b[37m\u001b[0m \u001b[1m0s\u001b[0m 6ms/step - loss: 159.1692 - mae: 159.1692 - val_loss: 921.9059 - val_mae: 921.9059\n",
            "Epoch 9/100\n",
            "\u001b[1m 1/18\u001b[0m \u001b[32m━\u001b[0m\u001b[37m━━━━━━━━━━━━━━━━━━━\u001b[0m \u001b[1m0s\u001b[0m 39ms/step - loss: 148.2842 - mae: 148.2842\n",
            "Epoch 9: val_loss improved from 921.90588 to 889.85620, saving model to model_experiments/model_1_dense.keras\n",
            "\u001b[1m18/18\u001b[0m \u001b[32m━━━━━━━━━━━━━━━━━━━━\u001b[0m\u001b[37m\u001b[0m \u001b[1m0s\u001b[0m 5ms/step - loss: 155.1695 - mae: 155.1695 - val_loss: 889.8562 - val_mae: 889.8562\n",
            "Epoch 10/100\n",
            "\u001b[1m 1/18\u001b[0m \u001b[32m━\u001b[0m\u001b[37m━━━━━━━━━━━━━━━━━━━\u001b[0m \u001b[1m0s\u001b[0m 19ms/step - loss: 143.4780 - mae: 143.4780\n",
            "Epoch 10: val_loss improved from 889.85620 to 868.13110, saving model to model_experiments/model_1_dense.keras\n",
            "\u001b[1m18/18\u001b[0m \u001b[32m━━━━━━━━━━━━━━━━━━━━\u001b[0m\u001b[37m\u001b[0m \u001b[1m0s\u001b[0m 5ms/step - loss: 151.1060 - mae: 151.1060 - val_loss: 868.1311 - val_mae: 868.1311\n",
            "Epoch 11/100\n",
            "\u001b[1m 1/18\u001b[0m \u001b[32m━\u001b[0m\u001b[37m━━━━━━━━━━━━━━━━━━━\u001b[0m \u001b[1m0s\u001b[0m 59ms/step - loss: 139.8689 - mae: 139.8689\n",
            "Epoch 11: val_loss improved from 868.13110 to 843.55157, saving model to model_experiments/model_1_dense.keras\n",
            "\u001b[1m18/18\u001b[0m \u001b[32m━━━━━━━━━━━━━━━━━━━━\u001b[0m\u001b[37m\u001b[0m \u001b[1m0s\u001b[0m 4ms/step - loss: 147.1646 - mae: 147.1646 - val_loss: 843.5516 - val_mae: 843.5516\n",
            "Epoch 12/100\n",
            "\u001b[1m 1/18\u001b[0m \u001b[32m━\u001b[0m\u001b[37m━━━━━━━━━━━━━━━━━━━\u001b[0m \u001b[1m0s\u001b[0m 23ms/step - loss: 136.9204 - mae: 136.9204\n",
            "Epoch 12: val_loss improved from 843.55157 to 806.15063, saving model to model_experiments/model_1_dense.keras\n",
            "\u001b[1m18/18\u001b[0m \u001b[32m━━━━━━━━━━━━━━━━━━━━\u001b[0m\u001b[37m\u001b[0m \u001b[1m0s\u001b[0m 5ms/step - loss: 143.3329 - mae: 143.3329 - val_loss: 806.1506 - val_mae: 806.1506\n",
            "Epoch 13/100\n",
            "\u001b[1m 1/18\u001b[0m \u001b[32m━\u001b[0m\u001b[37m━━━━━━━━━━━━━━━━━━━\u001b[0m \u001b[1m0s\u001b[0m 59ms/step - loss: 133.3621 - mae: 133.3621\n",
            "Epoch 13: val_loss improved from 806.15063 to 791.85913, saving model to model_experiments/model_1_dense.keras\n",
            "\u001b[1m18/18\u001b[0m \u001b[32m━━━━━━━━━━━━━━━━━━━━\u001b[0m\u001b[37m\u001b[0m \u001b[1m0s\u001b[0m 4ms/step - loss: 139.5890 - mae: 139.5890 - val_loss: 791.8591 - val_mae: 791.8591\n",
            "Epoch 14/100\n",
            "\u001b[1m 1/18\u001b[0m \u001b[32m━\u001b[0m\u001b[37m━━━━━━━━━━━━━━━━━━━\u001b[0m \u001b[1m1s\u001b[0m 63ms/step - loss: 130.6437 - mae: 130.6437\n",
            "Epoch 14: val_loss improved from 791.85913 to 761.48682, saving model to model_experiments/model_1_dense.keras\n",
            "\u001b[1m18/18\u001b[0m \u001b[32m━━━━━━━━━━━━━━━━━━━━\u001b[0m\u001b[37m\u001b[0m \u001b[1m0s\u001b[0m 4ms/step - loss: 136.3029 - mae: 136.3029 - val_loss: 761.4868 - val_mae: 761.4868\n",
            "Epoch 15/100\n",
            "\u001b[1m 1/18\u001b[0m \u001b[32m━\u001b[0m\u001b[37m━━━━━━━━━━━━━━━━━━━\u001b[0m \u001b[1m0s\u001b[0m 21ms/step - loss: 127.4389 - mae: 127.4389\n",
            "Epoch 15: val_loss improved from 761.48682 to 740.06506, saving model to model_experiments/model_1_dense.keras\n",
            "\u001b[1m18/18\u001b[0m \u001b[32m━━━━━━━━━━━━━━━━━━━━\u001b[0m\u001b[37m\u001b[0m \u001b[1m0s\u001b[0m 4ms/step - loss: 131.7883 - mae: 131.7883 - val_loss: 740.0651 - val_mae: 740.0651\n",
            "Epoch 16/100\n",
            "\u001b[1m 1/18\u001b[0m \u001b[32m━\u001b[0m\u001b[37m━━━━━━━━━━━━━━━━━━━\u001b[0m \u001b[1m0s\u001b[0m 21ms/step - loss: 124.6671 - mae: 124.6671\n",
            "Epoch 16: val_loss improved from 740.06506 to 718.68762, saving model to model_experiments/model_1_dense.keras\n",
            "\u001b[1m18/18\u001b[0m \u001b[32m━━━━━━━━━━━━━━━━━━━━\u001b[0m\u001b[37m\u001b[0m \u001b[1m0s\u001b[0m 5ms/step - loss: 128.8954 - mae: 128.8954 - val_loss: 718.6876 - val_mae: 718.6876\n",
            "Epoch 17/100\n",
            "\u001b[1m 1/18\u001b[0m \u001b[32m━\u001b[0m\u001b[37m━━━━━━━━━━━━━━━━━━━\u001b[0m \u001b[1m0s\u001b[0m 31ms/step - loss: 122.0152 - mae: 122.0152\n",
            "Epoch 17: val_loss improved from 718.68762 to 700.41254, saving model to model_experiments/model_1_dense.keras\n",
            "\u001b[1m18/18\u001b[0m \u001b[32m━━━━━━━━━━━━━━━━━━━━\u001b[0m\u001b[37m\u001b[0m \u001b[1m0s\u001b[0m 5ms/step - loss: 125.6005 - mae: 125.6005 - val_loss: 700.4125 - val_mae: 700.4125\n",
            "Epoch 18/100\n",
            "\u001b[1m 1/18\u001b[0m \u001b[32m━\u001b[0m\u001b[37m━━━━━━━━━━━━━━━━━━━\u001b[0m \u001b[1m0s\u001b[0m 54ms/step - loss: 119.7682 - mae: 119.7682\n",
            "Epoch 18: val_loss improved from 700.41254 to 679.99957, saving model to model_experiments/model_1_dense.keras\n",
            "\u001b[1m18/18\u001b[0m \u001b[32m━━━━━━━━━━━━━━━━━━━━\u001b[0m\u001b[37m\u001b[0m \u001b[1m0s\u001b[0m 4ms/step - loss: 122.9302 - mae: 122.9302 - val_loss: 679.9996 - val_mae: 679.9996\n",
            "Epoch 19/100\n",
            "\u001b[1m 1/18\u001b[0m \u001b[32m━\u001b[0m\u001b[37m━━━━━━━━━━━━━━━━━━━\u001b[0m \u001b[1m0s\u001b[0m 19ms/step - loss: 119.6353 - mae: 119.6353\n",
            "Epoch 19: val_loss improved from 679.99957 to 667.18219, saving model to model_experiments/model_1_dense.keras\n",
            "\u001b[1m18/18\u001b[0m \u001b[32m━━━━━━━━━━━━━━━━━━━━\u001b[0m\u001b[37m\u001b[0m \u001b[1m0s\u001b[0m 5ms/step - loss: 121.1543 - mae: 121.1543 - val_loss: 667.1822 - val_mae: 667.1822\n",
            "Epoch 20/100\n",
            "\u001b[1m 1/18\u001b[0m \u001b[32m━\u001b[0m\u001b[37m━━━━━━━━━━━━━━━━━━━\u001b[0m \u001b[1m1s\u001b[0m 59ms/step - loss: 122.5875 - mae: 122.5875\n",
            "Epoch 20: val_loss improved from 667.18219 to 655.20349, saving model to model_experiments/model_1_dense.keras\n",
            "\u001b[1m18/18\u001b[0m \u001b[32m━━━━━━━━━━━━━━━━━━━━\u001b[0m\u001b[37m\u001b[0m \u001b[1m0s\u001b[0m 5ms/step - loss: 119.4626 - mae: 119.4626 - val_loss: 655.2035 - val_mae: 655.2035\n",
            "Epoch 21/100\n",
            "\u001b[1m 1/18\u001b[0m \u001b[32m━\u001b[0m\u001b[37m━━━━━━━━━━━━━━━━━━━\u001b[0m \u001b[1m0s\u001b[0m 20ms/step - loss: 121.6665 - mae: 121.6665\n",
            "Epoch 21: val_loss improved from 655.20349 to 642.86359, saving model to model_experiments/model_1_dense.keras\n",
            "\u001b[1m18/18\u001b[0m \u001b[32m━━━━━━━━━━━━━━━━━━━━\u001b[0m\u001b[37m\u001b[0m \u001b[1m0s\u001b[0m 4ms/step - loss: 117.9024 - mae: 117.9024 - val_loss: 642.8636 - val_mae: 642.8636\n",
            "Epoch 22/100\n",
            "\u001b[1m 1/18\u001b[0m \u001b[32m━\u001b[0m\u001b[37m━━━━━━━━━━━━━━━━━━━\u001b[0m \u001b[1m1s\u001b[0m 69ms/step - loss: 116.4913 - mae: 116.4913\n",
            "Epoch 22: val_loss improved from 642.86359 to 630.72876, saving model to model_experiments/model_1_dense.keras\n",
            "\u001b[1m18/18\u001b[0m \u001b[32m━━━━━━━━━━━━━━━━━━━━\u001b[0m\u001b[37m\u001b[0m \u001b[1m0s\u001b[0m 5ms/step - loss: 116.2223 - mae: 116.2223 - val_loss: 630.7288 - val_mae: 630.7288\n",
            "Epoch 23/100\n",
            "\u001b[1m 1/18\u001b[0m \u001b[32m━\u001b[0m\u001b[37m━━━━━━━━━━━━━━━━━━━\u001b[0m \u001b[1m0s\u001b[0m 19ms/step - loss: 116.9192 - mae: 116.9192\n",
            "Epoch 23: val_loss improved from 630.72876 to 621.42535, saving model to model_experiments/model_1_dense.keras\n",
            "\u001b[1m18/18\u001b[0m \u001b[32m━━━━━━━━━━━━━━━━━━━━\u001b[0m\u001b[37m\u001b[0m \u001b[1m0s\u001b[0m 6ms/step - loss: 114.5782 - mae: 114.5782 - val_loss: 621.4254 - val_mae: 621.4254\n",
            "Epoch 24/100\n",
            "\u001b[1m16/18\u001b[0m \u001b[32m━━━━━━━━━━━━━━━━━\u001b[0m\u001b[37m━━━\u001b[0m \u001b[1m0s\u001b[0m 3ms/step - loss: 113.7903 - mae: 113.7903 \n",
            "Epoch 24: val_loss improved from 621.42535 to 611.80640, saving model to model_experiments/model_1_dense.keras\n",
            "\u001b[1m18/18\u001b[0m \u001b[32m━━━━━━━━━━━━━━━━━━━━\u001b[0m\u001b[37m\u001b[0m \u001b[1m0s\u001b[0m 8ms/step - loss: 113.6537 - mae: 113.6537 - val_loss: 611.8064 - val_mae: 611.8064\n",
            "Epoch 25/100\n",
            "\u001b[1m 1/18\u001b[0m \u001b[32m━\u001b[0m\u001b[37m━━━━━━━━━━━━━━━━━━━\u001b[0m \u001b[1m2s\u001b[0m 153ms/step - loss: 115.7427 - mae: 115.7427\n",
            "Epoch 25: val_loss improved from 611.80640 to 608.51025, saving model to model_experiments/model_1_dense.keras\n",
            "\u001b[1m18/18\u001b[0m \u001b[32m━━━━━━━━━━━━━━━━━━━━\u001b[0m\u001b[37m\u001b[0m \u001b[1m0s\u001b[0m 6ms/step - loss: 112.7859 - mae: 112.7859 - val_loss: 608.5103 - val_mae: 608.5103\n",
            "Epoch 26/100\n",
            "\u001b[1m 1/18\u001b[0m \u001b[32m━\u001b[0m\u001b[37m━━━━━━━━━━━━━━━━━━━\u001b[0m \u001b[1m0s\u001b[0m 27ms/step - loss: 116.5829 - mae: 116.5829\n",
            "Epoch 26: val_loss improved from 608.51025 to 601.68927, saving model to model_experiments/model_1_dense.keras\n",
            "\u001b[1m18/18\u001b[0m \u001b[32m━━━━━━━━━━━━━━━━━━━━\u001b[0m\u001b[37m\u001b[0m \u001b[1m0s\u001b[0m 6ms/step - loss: 112.2316 - mae: 112.2316 - val_loss: 601.6893 - val_mae: 601.6893\n",
            "Epoch 27/100\n",
            "\u001b[1m 1/18\u001b[0m \u001b[32m━\u001b[0m\u001b[37m━━━━━━━━━━━━━━━━━━━\u001b[0m \u001b[1m3s\u001b[0m 187ms/step - loss: 112.7391 - mae: 112.7391\n",
            "Epoch 27: val_loss improved from 601.68927 to 596.73224, saving model to model_experiments/model_1_dense.keras\n",
            "\u001b[1m18/18\u001b[0m \u001b[32m━━━━━━━━━━━━━━━━━━━━\u001b[0m\u001b[37m\u001b[0m \u001b[1m0s\u001b[0m 6ms/step - loss: 111.4774 - mae: 111.4774 - val_loss: 596.7322 - val_mae: 596.7322\n",
            "Epoch 28/100\n",
            "\u001b[1m 1/18\u001b[0m \u001b[32m━\u001b[0m\u001b[37m━━━━━━━━━━━━━━━━━━━\u001b[0m \u001b[1m3s\u001b[0m 189ms/step - loss: 113.2171 - mae: 113.2171\n",
            "Epoch 28: val_loss did not improve from 596.73224\n",
            "\u001b[1m18/18\u001b[0m \u001b[32m━━━━━━━━━━━━━━━━━━━━\u001b[0m\u001b[37m\u001b[0m \u001b[1m0s\u001b[0m 5ms/step - loss: 111.4464 - mae: 111.4464 - val_loss: 601.4894 - val_mae: 601.4894\n",
            "Epoch 29/100\n",
            "\u001b[1m 1/18\u001b[0m \u001b[32m━\u001b[0m\u001b[37m━━━━━━━━━━━━━━━━━━━\u001b[0m \u001b[1m0s\u001b[0m 43ms/step - loss: 115.7568 - mae: 115.7568\n",
            "Epoch 29: val_loss improved from 596.73224 to 592.56702, saving model to model_experiments/model_1_dense.keras\n",
            "\u001b[1m18/18\u001b[0m \u001b[32m━━━━━━━━━━━━━━━━━━━━\u001b[0m\u001b[37m\u001b[0m \u001b[1m0s\u001b[0m 6ms/step - loss: 111.1898 - mae: 111.1898 - val_loss: 592.5670 - val_mae: 592.5670\n",
            "Epoch 30/100\n",
            "\u001b[1m 1/18\u001b[0m \u001b[32m━\u001b[0m\u001b[37m━━━━━━━━━━━━━━━━━━━\u001b[0m \u001b[1m3s\u001b[0m 189ms/step - loss: 112.3003 - mae: 112.3003\n",
            "Epoch 30: val_loss did not improve from 592.56702\n",
            "\u001b[1m18/18\u001b[0m \u001b[32m━━━━━━━━━━━━━━━━━━━━\u001b[0m\u001b[37m\u001b[0m \u001b[1m0s\u001b[0m 5ms/step - loss: 110.8333 - mae: 110.8333 - val_loss: 619.9501 - val_mae: 619.9501\n",
            "Epoch 31/100\n",
            "\u001b[1m 1/18\u001b[0m \u001b[32m━\u001b[0m\u001b[37m━━━━━━━━━━━━━━━━━━━\u001b[0m \u001b[1m0s\u001b[0m 49ms/step - loss: 120.7996 - mae: 120.7996\n",
            "Epoch 31: val_loss improved from 592.56702 to 591.55780, saving model to model_experiments/model_1_dense.keras\n",
            "\u001b[1m18/18\u001b[0m \u001b[32m━━━━━━━━━━━━━━━━━━━━\u001b[0m\u001b[37m\u001b[0m \u001b[1m0s\u001b[0m 7ms/step - loss: 111.8344 - mae: 111.8344 - val_loss: 591.5578 - val_mae: 591.5578\n",
            "Epoch 32/100\n",
            "\u001b[1m 1/18\u001b[0m \u001b[32m━\u001b[0m\u001b[37m━━━━━━━━━━━━━━━━━━━\u001b[0m \u001b[1m0s\u001b[0m 47ms/step - loss: 112.0772 - mae: 112.0772\n",
            "Epoch 32: val_loss did not improve from 591.55780\n",
            "\u001b[1m18/18\u001b[0m \u001b[32m━━━━━━━━━━━━━━━━━━━━\u001b[0m\u001b[37m\u001b[0m \u001b[1m0s\u001b[0m 5ms/step - loss: 111.7912 - mae: 111.7912 - val_loss: 597.3671 - val_mae: 597.3671\n",
            "Epoch 33/100\n",
            "\u001b[1m 1/18\u001b[0m \u001b[32m━\u001b[0m\u001b[37m━━━━━━━━━━━━━━━━━━━\u001b[0m \u001b[1m0s\u001b[0m 30ms/step - loss: 115.2134 - mae: 115.2134\n",
            "Epoch 33: val_loss improved from 591.55780 to 586.68280, saving model to model_experiments/model_1_dense.keras\n",
            "\u001b[1m18/18\u001b[0m \u001b[32m━━━━━━━━━━━━━━━━━━━━\u001b[0m\u001b[37m\u001b[0m \u001b[1m0s\u001b[0m 6ms/step - loss: 110.4301 - mae: 110.4301 - val_loss: 586.6828 - val_mae: 586.6828\n",
            "Epoch 34/100\n",
            "\u001b[1m 1/18\u001b[0m \u001b[32m━\u001b[0m\u001b[37m━━━━━━━━━━━━━━━━━━━\u001b[0m \u001b[1m3s\u001b[0m 185ms/step - loss: 112.1385 - mae: 112.1385\n",
            "Epoch 34: val_loss did not improve from 586.68280\n",
            "\u001b[1m18/18\u001b[0m \u001b[32m━━━━━━━━━━━━━━━━━━━━\u001b[0m\u001b[37m\u001b[0m \u001b[1m0s\u001b[0m 3ms/step - loss: 109.8919 - mae: 109.8919 - val_loss: 586.7003 - val_mae: 586.7003\n",
            "Epoch 35/100\n",
            "\u001b[1m 1/18\u001b[0m \u001b[32m━\u001b[0m\u001b[37m━━━━━━━━━━━━━━━━━━━\u001b[0m \u001b[1m1s\u001b[0m 81ms/step - loss: 112.1996 - mae: 112.1996\n",
            "Epoch 35: val_loss did not improve from 586.68280\n",
            "\u001b[1m18/18\u001b[0m \u001b[32m━━━━━━━━━━━━━━━━━━━━\u001b[0m\u001b[37m\u001b[0m \u001b[1m0s\u001b[0m 4ms/step - loss: 109.6331 - mae: 109.6331 - val_loss: 590.3995 - val_mae: 590.3995\n",
            "Epoch 36/100\n",
            "\u001b[1m 1/18\u001b[0m \u001b[32m━\u001b[0m\u001b[37m━━━━━━━━━━━━━━━━━━━\u001b[0m \u001b[1m1s\u001b[0m 62ms/step - loss: 113.6563 - mae: 113.6563\n",
            "Epoch 36: val_loss did not improve from 586.68280\n",
            "\u001b[1m18/18\u001b[0m \u001b[32m━━━━━━━━━━━━━━━━━━━━\u001b[0m\u001b[37m\u001b[0m \u001b[1m0s\u001b[0m 4ms/step - loss: 109.9066 - mae: 109.9066 - val_loss: 586.8894 - val_mae: 586.8894\n",
            "Epoch 37/100\n",
            "\u001b[1m 1/18\u001b[0m \u001b[32m━\u001b[0m\u001b[37m━━━━━━━━━━━━━━━━━━━\u001b[0m \u001b[1m1s\u001b[0m 70ms/step - loss: 112.4893 - mae: 112.4893\n",
            "Epoch 37: val_loss improved from 586.68280 to 583.73175, saving model to model_experiments/model_1_dense.keras\n",
            "\u001b[1m18/18\u001b[0m \u001b[32m━━━━━━━━━━━━━━━━━━━━\u001b[0m\u001b[37m\u001b[0m \u001b[1m0s\u001b[0m 4ms/step - loss: 109.6854 - mae: 109.6854 - val_loss: 583.7318 - val_mae: 583.7318\n",
            "Epoch 38/100\n",
            "\u001b[1m 1/18\u001b[0m \u001b[32m━\u001b[0m\u001b[37m━━━━━━━━━━━━━━━━━━━\u001b[0m \u001b[1m1s\u001b[0m 67ms/step - loss: 111.4097 - mae: 111.4097\n",
            "Epoch 38: val_loss did not improve from 583.73175\n",
            "\u001b[1m18/18\u001b[0m \u001b[32m━━━━━━━━━━━━━━━━━━━━\u001b[0m\u001b[37m\u001b[0m \u001b[1m0s\u001b[0m 3ms/step - loss: 108.8929 - mae: 108.8929 - val_loss: 584.0627 - val_mae: 584.0627\n",
            "Epoch 39/100\n",
            "\u001b[1m 1/18\u001b[0m \u001b[32m━\u001b[0m\u001b[37m━━━━━━━━━━━━━━━━━━━\u001b[0m \u001b[1m1s\u001b[0m 83ms/step - loss: 111.0931 - mae: 111.0931\n",
            "Epoch 39: val_loss did not improve from 583.73175\n",
            "\u001b[1m18/18\u001b[0m \u001b[32m━━━━━━━━━━━━━━━━━━━━\u001b[0m\u001b[37m\u001b[0m \u001b[1m0s\u001b[0m 3ms/step - loss: 109.3023 - mae: 109.3023 - val_loss: 604.1531 - val_mae: 604.1531\n",
            "Epoch 40/100\n",
            "\u001b[1m 1/18\u001b[0m \u001b[32m━\u001b[0m\u001b[37m━━━━━━━━━━━━━━━━━━━\u001b[0m \u001b[1m1s\u001b[0m 80ms/step - loss: 117.7675 - mae: 117.7675\n",
            "Epoch 40: val_loss did not improve from 583.73175\n",
            "\u001b[1m18/18\u001b[0m \u001b[32m━━━━━━━━━━━━━━━━━━━━\u001b[0m\u001b[37m\u001b[0m \u001b[1m0s\u001b[0m 3ms/step - loss: 110.2873 - mae: 110.2873 - val_loss: 585.9708 - val_mae: 585.9708\n",
            "Epoch 41/100\n",
            "\u001b[1m 1/18\u001b[0m \u001b[32m━\u001b[0m\u001b[37m━━━━━━━━━━━━━━━━━━━\u001b[0m \u001b[1m0s\u001b[0m 21ms/step - loss: 112.8432 - mae: 112.8432\n",
            "Epoch 41: val_loss improved from 583.73175 to 583.69202, saving model to model_experiments/model_1_dense.keras\n",
            "\u001b[1m18/18\u001b[0m \u001b[32m━━━━━━━━━━━━━━━━━━━━\u001b[0m\u001b[37m\u001b[0m \u001b[1m0s\u001b[0m 5ms/step - loss: 108.8774 - mae: 108.8774 - val_loss: 583.6920 - val_mae: 583.6920\n",
            "Epoch 42/100\n",
            "\u001b[1m 1/18\u001b[0m \u001b[32m━\u001b[0m\u001b[37m━━━━━━━━━━━━━━━━━━━\u001b[0m \u001b[1m0s\u001b[0m 22ms/step - loss: 111.8070 - mae: 111.8070\n",
            "Epoch 42: val_loss did not improve from 583.69202\n",
            "\u001b[1m18/18\u001b[0m \u001b[32m━━━━━━━━━━━━━━━━━━━━\u001b[0m\u001b[37m\u001b[0m \u001b[1m0s\u001b[0m 3ms/step - loss: 108.8667 - mae: 108.8667 - val_loss: 592.3043 - val_mae: 592.3043\n",
            "Epoch 43/100\n",
            "\u001b[1m 1/18\u001b[0m \u001b[32m━\u001b[0m\u001b[37m━━━━━━━━━━━━━━━━━━━\u001b[0m \u001b[1m1s\u001b[0m 85ms/step - loss: 114.9821 - mae: 114.9821\n",
            "Epoch 43: val_loss improved from 583.69202 to 581.92737, saving model to model_experiments/model_1_dense.keras\n",
            "\u001b[1m18/18\u001b[0m \u001b[32m━━━━━━━━━━━━━━━━━━━━\u001b[0m\u001b[37m\u001b[0m \u001b[1m0s\u001b[0m 4ms/step - loss: 108.8108 - mae: 108.8108 - val_loss: 581.9274 - val_mae: 581.9274\n",
            "Epoch 44/100\n",
            "\u001b[1m 1/18\u001b[0m \u001b[32m━\u001b[0m\u001b[37m━━━━━━━━━━━━━━━━━━━\u001b[0m \u001b[1m1s\u001b[0m 68ms/step - loss: 111.2450 - mae: 111.2450\n",
            "Epoch 44: val_loss did not improve from 581.92737\n",
            "\u001b[1m18/18\u001b[0m \u001b[32m━━━━━━━━━━━━━━━━━━━━\u001b[0m\u001b[37m\u001b[0m \u001b[1m0s\u001b[0m 3ms/step - loss: 108.1854 - mae: 108.1854 - val_loss: 585.7689 - val_mae: 585.7689\n",
            "Epoch 45/100\n",
            "\u001b[1m 1/18\u001b[0m \u001b[32m━\u001b[0m\u001b[37m━━━━━━━━━━━━━━━━━━━\u001b[0m \u001b[1m0s\u001b[0m 20ms/step - loss: 113.2493 - mae: 113.2493\n",
            "Epoch 45: val_loss did not improve from 581.92737\n",
            "\u001b[1m18/18\u001b[0m \u001b[32m━━━━━━━━━━━━━━━━━━━━\u001b[0m\u001b[37m\u001b[0m \u001b[1m0s\u001b[0m 4ms/step - loss: 108.5783 - mae: 108.5783 - val_loss: 583.2993 - val_mae: 583.2993\n",
            "Epoch 46/100\n",
            "\u001b[1m 1/18\u001b[0m \u001b[32m━\u001b[0m\u001b[37m━━━━━━━━━━━━━━━━━━━\u001b[0m \u001b[1m1s\u001b[0m 73ms/step - loss: 112.2952 - mae: 112.2952\n",
            "Epoch 46: val_loss improved from 581.92737 to 579.66321, saving model to model_experiments/model_1_dense.keras\n",
            "\u001b[1m18/18\u001b[0m \u001b[32m━━━━━━━━━━━━━━━━━━━━\u001b[0m\u001b[37m\u001b[0m \u001b[1m0s\u001b[0m 5ms/step - loss: 108.0782 - mae: 108.0782 - val_loss: 579.6632 - val_mae: 579.6632\n",
            "Epoch 47/100\n",
            "\u001b[1m 1/18\u001b[0m \u001b[32m━\u001b[0m\u001b[37m━━━━━━━━━━━━━━━━━━━\u001b[0m \u001b[1m0s\u001b[0m 22ms/step - loss: 110.7902 - mae: 110.7902\n",
            "Epoch 47: val_loss did not improve from 579.66321\n",
            "\u001b[1m18/18\u001b[0m \u001b[32m━━━━━━━━━━━━━━━━━━━━\u001b[0m\u001b[37m\u001b[0m \u001b[1m0s\u001b[0m 3ms/step - loss: 108.3840 - mae: 108.3840 - val_loss: 583.7390 - val_mae: 583.7390\n",
            "Epoch 48/100\n",
            "\u001b[1m 1/18\u001b[0m \u001b[32m━\u001b[0m\u001b[37m━━━━━━━━━━━━━━━━━━━\u001b[0m \u001b[1m1s\u001b[0m 76ms/step - loss: 112.6320 - mae: 112.6320\n",
            "Epoch 48: val_loss improved from 579.66321 to 579.22357, saving model to model_experiments/model_1_dense.keras\n",
            "\u001b[1m18/18\u001b[0m \u001b[32m━━━━━━━━━━━━━━━━━━━━\u001b[0m\u001b[37m\u001b[0m \u001b[1m0s\u001b[0m 5ms/step - loss: 107.9210 - mae: 107.9210 - val_loss: 579.2236 - val_mae: 579.2236\n",
            "Epoch 49/100\n",
            "\u001b[1m 1/18\u001b[0m \u001b[32m━\u001b[0m\u001b[37m━━━━━━━━━━━━━━━━━━━\u001b[0m \u001b[1m0s\u001b[0m 24ms/step - loss: 110.4466 - mae: 110.4466\n",
            "Epoch 49: val_loss did not improve from 579.22357\n",
            "\u001b[1m18/18\u001b[0m \u001b[32m━━━━━━━━━━━━━━━━━━━━\u001b[0m\u001b[37m\u001b[0m \u001b[1m0s\u001b[0m 3ms/step - loss: 108.9977 - mae: 108.9977 - val_loss: 586.0118 - val_mae: 586.0118\n",
            "Epoch 50/100\n",
            "\u001b[1m 1/18\u001b[0m \u001b[32m━\u001b[0m\u001b[37m━━━━━━━━━━━━━━━━━━━\u001b[0m \u001b[1m0s\u001b[0m 19ms/step - loss: 113.6448 - mae: 113.6448\n",
            "Epoch 50: val_loss did not improve from 579.22357\n",
            "\u001b[1m18/18\u001b[0m \u001b[32m━━━━━━━━━━━━━━━━━━━━\u001b[0m\u001b[37m\u001b[0m \u001b[1m0s\u001b[0m 3ms/step - loss: 107.6894 - mae: 107.6894 - val_loss: 580.0875 - val_mae: 580.0875\n",
            "Epoch 51/100\n",
            "\u001b[1m 1/18\u001b[0m \u001b[32m━\u001b[0m\u001b[37m━━━━━━━━━━━━━━━━━━━\u001b[0m \u001b[1m0s\u001b[0m 22ms/step - loss: 110.5370 - mae: 110.5370\n",
            "Epoch 51: val_loss did not improve from 579.22357\n",
            "\u001b[1m18/18\u001b[0m \u001b[32m━━━━━━━━━━━━━━━━━━━━\u001b[0m\u001b[37m\u001b[0m \u001b[1m0s\u001b[0m 4ms/step - loss: 108.4124 - mae: 108.4124 - val_loss: 585.8718 - val_mae: 585.8718\n",
            "Epoch 52/100\n",
            "\u001b[1m 1/18\u001b[0m \u001b[32m━\u001b[0m\u001b[37m━━━━━━━━━━━━━━━━━━━\u001b[0m \u001b[1m1s\u001b[0m 70ms/step - loss: 113.7694 - mae: 113.7694\n",
            "Epoch 52: val_loss did not improve from 579.22357\n",
            "\u001b[1m18/18\u001b[0m \u001b[32m━━━━━━━━━━━━━━━━━━━━\u001b[0m\u001b[37m\u001b[0m \u001b[1m0s\u001b[0m 4ms/step - loss: 108.0204 - mae: 108.0204 - val_loss: 591.0021 - val_mae: 591.0021\n",
            "Epoch 53/100\n",
            "\u001b[1m 1/18\u001b[0m \u001b[32m━\u001b[0m\u001b[37m━━━━━━━━━━━━━━━━━━━\u001b[0m \u001b[1m1s\u001b[0m 68ms/step - loss: 115.0833 - mae: 115.0833\n",
            "Epoch 53: val_loss improved from 579.22357 to 577.44922, saving model to model_experiments/model_1_dense.keras\n",
            "\u001b[1m18/18\u001b[0m \u001b[32m━━━━━━━━━━━━━━━━━━━━\u001b[0m\u001b[37m\u001b[0m \u001b[1m0s\u001b[0m 4ms/step - loss: 107.7994 - mae: 107.7994 - val_loss: 577.4492 - val_mae: 577.4492\n",
            "Epoch 54/100\n",
            "\u001b[1m 1/18\u001b[0m \u001b[32m━\u001b[0m\u001b[37m━━━━━━━━━━━━━━━━━━━\u001b[0m \u001b[1m1s\u001b[0m 68ms/step - loss: 111.0114 - mae: 111.0114\n",
            "Epoch 54: val_loss did not improve from 577.44922\n",
            "\u001b[1m18/18\u001b[0m \u001b[32m━━━━━━━━━━━━━━━━━━━━\u001b[0m\u001b[37m\u001b[0m \u001b[1m0s\u001b[0m 4ms/step - loss: 108.1487 - mae: 108.1487 - val_loss: 582.7064 - val_mae: 582.7064\n",
            "Epoch 55/100\n",
            "\u001b[1m 1/18\u001b[0m \u001b[32m━\u001b[0m\u001b[37m━━━━━━━━━━━━━━━━━━━\u001b[0m \u001b[1m1s\u001b[0m 70ms/step - loss: 112.9996 - mae: 112.9996\n",
            "Epoch 55: val_loss did not improve from 577.44922\n",
            "\u001b[1m18/18\u001b[0m \u001b[32m━━━━━━━━━━━━━━━━━━━━\u001b[0m\u001b[37m\u001b[0m \u001b[1m0s\u001b[0m 4ms/step - loss: 107.3498 - mae: 107.3498 - val_loss: 588.2431 - val_mae: 588.2431\n",
            "Epoch 56/100\n",
            "\u001b[1m 1/18\u001b[0m \u001b[32m━\u001b[0m\u001b[37m━━━━━━━━━━━━━━━━━━━\u001b[0m \u001b[1m0s\u001b[0m 20ms/step - loss: 114.5889 - mae: 114.5889\n",
            "Epoch 56: val_loss improved from 577.44922 to 576.61163, saving model to model_experiments/model_1_dense.keras\n",
            "\u001b[1m18/18\u001b[0m \u001b[32m━━━━━━━━━━━━━━━━━━━━\u001b[0m\u001b[37m\u001b[0m \u001b[1m0s\u001b[0m 5ms/step - loss: 107.5030 - mae: 107.5030 - val_loss: 576.6116 - val_mae: 576.6116\n",
            "Epoch 57/100\n",
            "\u001b[1m 1/18\u001b[0m \u001b[32m━\u001b[0m\u001b[37m━━━━━━━━━━━━━━━━━━━\u001b[0m \u001b[1m0s\u001b[0m 25ms/step - loss: 111.1124 - mae: 111.1124\n",
            "Epoch 57: val_loss did not improve from 576.61163\n",
            "\u001b[1m18/18\u001b[0m \u001b[32m━━━━━━━━━━━━━━━━━━━━\u001b[0m\u001b[37m\u001b[0m \u001b[1m0s\u001b[0m 5ms/step - loss: 108.1341 - mae: 108.1341 - val_loss: 588.9213 - val_mae: 588.9213\n",
            "Epoch 58/100\n",
            "\u001b[1m 1/18\u001b[0m \u001b[32m━\u001b[0m\u001b[37m━━━━━━━━━━━━━━━━━━━\u001b[0m \u001b[1m0s\u001b[0m 55ms/step - loss: 114.7920 - mae: 114.7920\n",
            "Epoch 58: val_loss did not improve from 576.61163\n",
            "\u001b[1m18/18\u001b[0m \u001b[32m━━━━━━━━━━━━━━━━━━━━\u001b[0m\u001b[37m\u001b[0m \u001b[1m0s\u001b[0m 4ms/step - loss: 107.6190 - mae: 107.6190 - val_loss: 576.8047 - val_mae: 576.8047\n",
            "Epoch 59/100\n",
            "\u001b[1m 1/18\u001b[0m \u001b[32m━\u001b[0m\u001b[37m━━━━━━━━━━━━━━━━━━━\u001b[0m \u001b[1m1s\u001b[0m 72ms/step - loss: 111.4746 - mae: 111.4746\n",
            "Epoch 59: val_loss improved from 576.61163 to 575.19128, saving model to model_experiments/model_1_dense.keras\n",
            "\u001b[1m18/18\u001b[0m \u001b[32m━━━━━━━━━━━━━━━━━━━━\u001b[0m\u001b[37m\u001b[0m \u001b[1m0s\u001b[0m 4ms/step - loss: 107.0308 - mae: 107.0308 - val_loss: 575.1913 - val_mae: 575.1913\n",
            "Epoch 60/100\n",
            "\u001b[1m 1/18\u001b[0m \u001b[32m━\u001b[0m\u001b[37m━━━━━━━━━━━━━━━━━━━\u001b[0m \u001b[1m0s\u001b[0m 20ms/step - loss: 110.9397 - mae: 110.9397\n",
            "Epoch 60: val_loss did not improve from 575.19128\n",
            "\u001b[1m18/18\u001b[0m \u001b[32m━━━━━━━━━━━━━━━━━━━━\u001b[0m\u001b[37m\u001b[0m \u001b[1m0s\u001b[0m 3ms/step - loss: 107.1201 - mae: 107.1201 - val_loss: 586.1612 - val_mae: 586.1612\n",
            "Epoch 61/100\n",
            "\u001b[1m 1/18\u001b[0m \u001b[32m━\u001b[0m\u001b[37m━━━━━━━━━━━━━━━━━━━\u001b[0m \u001b[1m1s\u001b[0m 80ms/step - loss: 114.2914 - mae: 114.2914\n",
            "Epoch 61: val_loss did not improve from 575.19128\n",
            "\u001b[1m18/18\u001b[0m \u001b[32m━━━━━━━━━━━━━━━━━━━━\u001b[0m\u001b[37m\u001b[0m \u001b[1m0s\u001b[0m 3ms/step - loss: 107.2007 - mae: 107.2007 - val_loss: 575.5549 - val_mae: 575.5549\n",
            "Epoch 62/100\n",
            "\u001b[1m 1/18\u001b[0m \u001b[32m━\u001b[0m\u001b[37m━━━━━━━━━━━━━━━━━━━\u001b[0m \u001b[1m0s\u001b[0m 20ms/step - loss: 111.2688 - mae: 111.2688\n",
            "Epoch 62: val_loss did not improve from 575.19128\n",
            "\u001b[1m18/18\u001b[0m \u001b[32m━━━━━━━━━━━━━━━━━━━━\u001b[0m\u001b[37m\u001b[0m \u001b[1m0s\u001b[0m 3ms/step - loss: 107.5532 - mae: 107.5532 - val_loss: 578.2636 - val_mae: 578.2636\n",
            "Epoch 63/100\n",
            "\u001b[1m 1/18\u001b[0m \u001b[32m━\u001b[0m\u001b[37m━━━━━━━━━━━━━━━━━━━\u001b[0m \u001b[1m0s\u001b[0m 20ms/step - loss: 112.3617 - mae: 112.3617\n",
            "Epoch 63: val_loss did not improve from 575.19128\n",
            "\u001b[1m18/18\u001b[0m \u001b[32m━━━━━━━━━━━━━━━━━━━━\u001b[0m\u001b[37m\u001b[0m \u001b[1m0s\u001b[0m 3ms/step - loss: 106.7101 - mae: 106.7101 - val_loss: 576.6235 - val_mae: 576.6235\n",
            "Epoch 64/100\n",
            "\u001b[1m 1/18\u001b[0m \u001b[32m━\u001b[0m\u001b[37m━━━━━━━━━━━━━━━━━━━\u001b[0m \u001b[1m1s\u001b[0m 87ms/step - loss: 110.5538 - mae: 110.5538\n",
            "Epoch 64: val_loss improved from 575.19128 to 574.63824, saving model to model_experiments/model_1_dense.keras\n",
            "\u001b[1m18/18\u001b[0m \u001b[32m━━━━━━━━━━━━━━━━━━━━\u001b[0m\u001b[37m\u001b[0m \u001b[1m0s\u001b[0m 5ms/step - loss: 108.1113 - mae: 108.1113 - val_loss: 574.6382 - val_mae: 574.6382\n",
            "Epoch 65/100\n",
            "\u001b[1m 1/18\u001b[0m \u001b[32m━\u001b[0m\u001b[37m━━━━━━━━━━━━━━━━━━━\u001b[0m \u001b[1m0s\u001b[0m 49ms/step - loss: 110.7561 - mae: 110.7561\n",
            "Epoch 65: val_loss did not improve from 574.63824\n",
            "\u001b[1m18/18\u001b[0m \u001b[32m━━━━━━━━━━━━━━━━━━━━\u001b[0m\u001b[37m\u001b[0m \u001b[1m0s\u001b[0m 4ms/step - loss: 108.5324 - mae: 108.5324 - val_loss: 585.5820 - val_mae: 585.5820\n",
            "Epoch 66/100\n",
            "\u001b[1m 1/18\u001b[0m \u001b[32m━\u001b[0m\u001b[37m━━━━━━━━━━━━━━━━━━━\u001b[0m \u001b[1m1s\u001b[0m 71ms/step - loss: 114.4235 - mae: 114.4235\n",
            "Epoch 66: val_loss did not improve from 574.63824\n",
            "\u001b[1m18/18\u001b[0m \u001b[32m━━━━━━━━━━━━━━━━━━━━\u001b[0m\u001b[37m\u001b[0m \u001b[1m0s\u001b[0m 3ms/step - loss: 107.6145 - mae: 107.6145 - val_loss: 576.9221 - val_mae: 576.9221\n",
            "Epoch 67/100\n",
            "\u001b[1m 1/18\u001b[0m \u001b[32m━\u001b[0m\u001b[37m━━━━━━━━━━━━━━━━━━━\u001b[0m \u001b[1m1s\u001b[0m 83ms/step - loss: 112.1483 - mae: 112.1483\n",
            "Epoch 67: val_loss did not improve from 574.63824\n",
            "\u001b[1m18/18\u001b[0m \u001b[32m━━━━━━━━━━━━━━━━━━━━\u001b[0m\u001b[37m\u001b[0m \u001b[1m0s\u001b[0m 4ms/step - loss: 106.3393 - mae: 106.3393 - val_loss: 574.8199 - val_mae: 574.8199\n",
            "Epoch 68/100\n",
            "\u001b[1m 1/18\u001b[0m \u001b[32m━\u001b[0m\u001b[37m━━━━━━━━━━━━━━━━━━━\u001b[0m \u001b[1m1s\u001b[0m 72ms/step - loss: 110.6936 - mae: 110.6936\n",
            "Epoch 68: val_loss did not improve from 574.63824\n",
            "\u001b[1m18/18\u001b[0m \u001b[32m━━━━━━━━━━━━━━━━━━━━\u001b[0m\u001b[37m\u001b[0m \u001b[1m0s\u001b[0m 3ms/step - loss: 107.4367 - mae: 107.4367 - val_loss: 576.9292 - val_mae: 576.9292\n",
            "Epoch 69/100\n",
            "\u001b[1m 1/18\u001b[0m \u001b[32m━\u001b[0m\u001b[37m━━━━━━━━━━━━━━━━━━━\u001b[0m \u001b[1m0s\u001b[0m 20ms/step - loss: 112.2255 - mae: 112.2255\n",
            "Epoch 69: val_loss improved from 574.63824 to 574.19940, saving model to model_experiments/model_1_dense.keras\n",
            "\u001b[1m18/18\u001b[0m \u001b[32m━━━━━━━━━━━━━━━━━━━━\u001b[0m\u001b[37m\u001b[0m \u001b[1m0s\u001b[0m 4ms/step - loss: 106.4804 - mae: 106.4804 - val_loss: 574.1994 - val_mae: 574.1994\n",
            "Epoch 70/100\n",
            "\u001b[1m 1/18\u001b[0m \u001b[32m━\u001b[0m\u001b[37m━━━━━━━━━━━━━━━━━━━\u001b[0m \u001b[1m1s\u001b[0m 70ms/step - loss: 111.1982 - mae: 111.1982\n",
            "Epoch 70: val_loss improved from 574.19940 to 573.38770, saving model to model_experiments/model_1_dense.keras\n",
            "\u001b[1m18/18\u001b[0m \u001b[32m━━━━━━━━━━━━━━━━━━━━\u001b[0m\u001b[37m\u001b[0m \u001b[1m0s\u001b[0m 5ms/step - loss: 107.0236 - mae: 107.0236 - val_loss: 573.3877 - val_mae: 573.3877\n",
            "Epoch 71/100\n",
            "\u001b[1m 1/18\u001b[0m \u001b[32m━\u001b[0m\u001b[37m━━━━━━━━━━━━━━━━━━━\u001b[0m \u001b[1m0s\u001b[0m 21ms/step - loss: 110.9028 - mae: 110.9028\n",
            "Epoch 71: val_loss did not improve from 573.38770\n",
            "\u001b[1m18/18\u001b[0m \u001b[32m━━━━━━━━━━━━━━━━━━━━\u001b[0m\u001b[37m\u001b[0m \u001b[1m0s\u001b[0m 4ms/step - loss: 107.7421 - mae: 107.7421 - val_loss: 574.2397 - val_mae: 574.2397\n",
            "Epoch 72/100\n",
            "\u001b[1m 1/18\u001b[0m \u001b[32m━\u001b[0m\u001b[37m━━━━━━━━━━━━━━━━━━━\u001b[0m \u001b[1m1s\u001b[0m 68ms/step - loss: 111.4944 - mae: 111.4944\n",
            "Epoch 72: val_loss did not improve from 573.38770\n",
            "\u001b[1m18/18\u001b[0m \u001b[32m━━━━━━━━━━━━━━━━━━━━\u001b[0m\u001b[37m\u001b[0m \u001b[1m0s\u001b[0m 4ms/step - loss: 106.8899 - mae: 106.8899 - val_loss: 573.5488 - val_mae: 573.5488\n",
            "Epoch 73/100\n",
            "\u001b[1m 1/18\u001b[0m \u001b[32m━\u001b[0m\u001b[37m━━━━━━━━━━━━━━━━━━━\u001b[0m \u001b[1m1s\u001b[0m 61ms/step - loss: 111.2881 - mae: 111.2881\n",
            "Epoch 73: val_loss did not improve from 573.38770\n",
            "\u001b[1m18/18\u001b[0m \u001b[32m━━━━━━━━━━━━━━━━━━━━\u001b[0m\u001b[37m\u001b[0m \u001b[1m0s\u001b[0m 4ms/step - loss: 106.4636 - mae: 106.4636 - val_loss: 573.8708 - val_mae: 573.8708\n",
            "Epoch 74/100\n",
            "\u001b[1m 1/18\u001b[0m \u001b[32m━\u001b[0m\u001b[37m━━━━━━━━━━━━━━━━━━━\u001b[0m \u001b[1m1s\u001b[0m 75ms/step - loss: 110.9565 - mae: 110.9565\n",
            "Epoch 74: val_loss did not improve from 573.38770\n",
            "\u001b[1m18/18\u001b[0m \u001b[32m━━━━━━━━━━━━━━━━━━━━\u001b[0m\u001b[37m\u001b[0m \u001b[1m0s\u001b[0m 4ms/step - loss: 107.0468 - mae: 107.0468 - val_loss: 576.1971 - val_mae: 576.1971\n",
            "Epoch 75/100\n",
            "\u001b[1m 1/18\u001b[0m \u001b[32m━\u001b[0m\u001b[37m━━━━━━━━━━━━━━━━━━━\u001b[0m \u001b[1m0s\u001b[0m 24ms/step - loss: 110.9723 - mae: 110.9723\n",
            "Epoch 75: val_loss improved from 573.38770 to 573.35132, saving model to model_experiments/model_1_dense.keras\n",
            "\u001b[1m18/18\u001b[0m \u001b[32m━━━━━━━━━━━━━━━━━━━━\u001b[0m\u001b[37m\u001b[0m \u001b[1m0s\u001b[0m 4ms/step - loss: 108.1141 - mae: 108.1141 - val_loss: 573.3513 - val_mae: 573.3513\n",
            "Epoch 76/100\n",
            "\u001b[1m 1/18\u001b[0m \u001b[32m━\u001b[0m\u001b[37m━━━━━━━━━━━━━━━━━━━\u001b[0m \u001b[1m0s\u001b[0m 21ms/step - loss: 110.8737 - mae: 110.8737\n",
            "Epoch 76: val_loss did not improve from 573.35132\n",
            "\u001b[1m18/18\u001b[0m \u001b[32m━━━━━━━━━━━━━━━━━━━━\u001b[0m\u001b[37m\u001b[0m \u001b[1m0s\u001b[0m 3ms/step - loss: 108.1211 - mae: 108.1211 - val_loss: 573.4031 - val_mae: 573.4031\n",
            "Epoch 77/100\n",
            "\u001b[1m 1/18\u001b[0m \u001b[32m━\u001b[0m\u001b[37m━━━━━━━━━━━━━━━━━━━\u001b[0m \u001b[1m0s\u001b[0m 20ms/step - loss: 111.0084 - mae: 111.0084\n",
            "Epoch 77: val_loss improved from 573.35132 to 573.29779, saving model to model_experiments/model_1_dense.keras\n",
            "\u001b[1m18/18\u001b[0m \u001b[32m━━━━━━━━━━━━━━━━━━━━\u001b[0m\u001b[37m\u001b[0m \u001b[1m0s\u001b[0m 4ms/step - loss: 107.0186 - mae: 107.0186 - val_loss: 573.2978 - val_mae: 573.2978\n",
            "Epoch 78/100\n",
            "\u001b[1m 1/18\u001b[0m \u001b[32m━\u001b[0m\u001b[37m━━━━━━━━━━━━━━━━━━━\u001b[0m \u001b[1m1s\u001b[0m 69ms/step - loss: 110.9910 - mae: 110.9910\n",
            "Epoch 78: val_loss improved from 573.29779 to 573.09210, saving model to model_experiments/model_1_dense.keras\n",
            "\u001b[1m18/18\u001b[0m \u001b[32m━━━━━━━━━━━━━━━━━━━━\u001b[0m\u001b[37m\u001b[0m \u001b[1m0s\u001b[0m 4ms/step - loss: 106.9418 - mae: 106.9418 - val_loss: 573.0921 - val_mae: 573.0921\n",
            "Epoch 79/100\n",
            "\u001b[1m 1/18\u001b[0m \u001b[32m━\u001b[0m\u001b[37m━━━━━━━━━━━━━━━━━━━\u001b[0m \u001b[1m0s\u001b[0m 22ms/step - loss: 111.2089 - mae: 111.2089\n",
            "Epoch 79: val_loss improved from 573.09210 to 572.77826, saving model to model_experiments/model_1_dense.keras\n",
            "\u001b[1m18/18\u001b[0m \u001b[32m━━━━━━━━━━━━━━━━━━━━\u001b[0m\u001b[37m\u001b[0m \u001b[1m0s\u001b[0m 4ms/step - loss: 106.9691 - mae: 106.9691 - val_loss: 572.7783 - val_mae: 572.7783\n",
            "Epoch 80/100\n",
            "\u001b[1m 1/18\u001b[0m \u001b[32m━\u001b[0m\u001b[37m━━━━━━━━━━━━━━━━━━━\u001b[0m \u001b[1m1s\u001b[0m 61ms/step - loss: 111.1304 - mae: 111.1304\n",
            "Epoch 80: val_loss did not improve from 572.77826\n",
            "\u001b[1m18/18\u001b[0m \u001b[32m━━━━━━━━━━━━━━━━━━━━\u001b[0m\u001b[37m\u001b[0m \u001b[1m0s\u001b[0m 3ms/step - loss: 106.8828 - mae: 106.8828 - val_loss: 573.2485 - val_mae: 573.2485\n",
            "Epoch 81/100\n",
            "\u001b[1m 1/18\u001b[0m \u001b[32m━\u001b[0m\u001b[37m━━━━━━━━━━━━━━━━━━━\u001b[0m \u001b[1m1s\u001b[0m 82ms/step - loss: 111.5193 - mae: 111.5193\n",
            "Epoch 81: val_loss did not improve from 572.77826\n",
            "\u001b[1m18/18\u001b[0m \u001b[32m━━━━━━━━━━━━━━━━━━━━\u001b[0m\u001b[37m\u001b[0m \u001b[1m0s\u001b[0m 4ms/step - loss: 106.3372 - mae: 106.3372 - val_loss: 572.9703 - val_mae: 572.9703\n",
            "Epoch 82/100\n",
            "\u001b[1m 1/18\u001b[0m \u001b[32m━\u001b[0m\u001b[37m━━━━━━━━━━━━━━━━━━━\u001b[0m \u001b[1m1s\u001b[0m 67ms/step - loss: 111.2182 - mae: 111.2182\n",
            "Epoch 82: val_loss improved from 572.77826 to 572.73285, saving model to model_experiments/model_1_dense.keras\n",
            "\u001b[1m18/18\u001b[0m \u001b[32m━━━━━━━━━━━━━━━━━━━━\u001b[0m\u001b[37m\u001b[0m \u001b[1m0s\u001b[0m 4ms/step - loss: 106.9438 - mae: 106.9438 - val_loss: 572.7328 - val_mae: 572.7328\n",
            "Epoch 83/100\n",
            "\u001b[1m 1/18\u001b[0m \u001b[32m━\u001b[0m\u001b[37m━━━━━━━━━━━━━━━━━━━\u001b[0m \u001b[1m1s\u001b[0m 67ms/step - loss: 111.3103 - mae: 111.3103\n",
            "Epoch 83: val_loss did not improve from 572.73285\n",
            "\u001b[1m18/18\u001b[0m \u001b[32m━━━━━━━━━━━━━━━━━━━━\u001b[0m\u001b[37m\u001b[0m \u001b[1m0s\u001b[0m 4ms/step - loss: 106.8238 - mae: 106.8238 - val_loss: 572.8342 - val_mae: 572.8342\n",
            "Epoch 84/100\n",
            "\u001b[1m 1/18\u001b[0m \u001b[32m━\u001b[0m\u001b[37m━━━━━━━━━━━━━━━━━━━\u001b[0m \u001b[1m1s\u001b[0m 62ms/step - loss: 111.4264 - mae: 111.4264\n",
            "Epoch 84: val_loss did not improve from 572.73285\n",
            "\u001b[1m18/18\u001b[0m \u001b[32m━━━━━━━━━━━━━━━━━━━━\u001b[0m\u001b[37m\u001b[0m \u001b[1m0s\u001b[0m 3ms/step - loss: 106.3034 - mae: 106.3034 - val_loss: 572.7930 - val_mae: 572.7930\n",
            "Epoch 85/100\n",
            "\u001b[1m 1/18\u001b[0m \u001b[32m━\u001b[0m\u001b[37m━━━━━━━━━━━━━━━━━━━\u001b[0m \u001b[1m1s\u001b[0m 78ms/step - loss: 111.0737 - mae: 111.0737\n",
            "Epoch 85: val_loss improved from 572.73285 to 572.28052, saving model to model_experiments/model_1_dense.keras\n",
            "\u001b[1m18/18\u001b[0m \u001b[32m━━━━━━━━━━━━━━━━━━━━\u001b[0m\u001b[37m\u001b[0m \u001b[1m0s\u001b[0m 4ms/step - loss: 106.7565 - mae: 106.7565 - val_loss: 572.2805 - val_mae: 572.2805\n",
            "Epoch 86/100\n",
            "\u001b[1m 1/18\u001b[0m \u001b[32m━\u001b[0m\u001b[37m━━━━━━━━━━━━━━━━━━━\u001b[0m \u001b[1m1s\u001b[0m 67ms/step - loss: 111.0318 - mae: 111.0318\n",
            "Epoch 86: val_loss improved from 572.28052 to 572.23627, saving model to model_experiments/model_1_dense.keras\n",
            "\u001b[1m18/18\u001b[0m \u001b[32m━━━━━━━━━━━━━━━━━━━━\u001b[0m\u001b[37m\u001b[0m \u001b[1m0s\u001b[0m 4ms/step - loss: 106.4657 - mae: 106.4657 - val_loss: 572.2363 - val_mae: 572.2363\n",
            "Epoch 87/100\n",
            "\u001b[1m 1/18\u001b[0m \u001b[32m━\u001b[0m\u001b[37m━━━━━━━━━━━━━━━━━━━\u001b[0m \u001b[1m0s\u001b[0m 23ms/step - loss: 111.0571 - mae: 111.0571\n",
            "Epoch 87: val_loss did not improve from 572.23627\n",
            "\u001b[1m18/18\u001b[0m \u001b[32m━━━━━━━━━━━━━━━━━━━━\u001b[0m\u001b[37m\u001b[0m \u001b[1m0s\u001b[0m 3ms/step - loss: 106.5638 - mae: 106.5638 - val_loss: 573.5796 - val_mae: 573.5796\n",
            "Epoch 88/100\n",
            "\u001b[1m 1/18\u001b[0m \u001b[32m━\u001b[0m\u001b[37m━━━━━━━━━━━━━━━━━━━\u001b[0m \u001b[1m1s\u001b[0m 80ms/step - loss: 111.0801 - mae: 111.0801\n",
            "Epoch 88: val_loss improved from 572.23627 to 571.98615, saving model to model_experiments/model_1_dense.keras\n",
            "\u001b[1m18/18\u001b[0m \u001b[32m━━━━━━━━━━━━━━━━━━━━\u001b[0m\u001b[37m\u001b[0m \u001b[1m0s\u001b[0m 5ms/step - loss: 106.7641 - mae: 106.7641 - val_loss: 571.9861 - val_mae: 571.9861\n",
            "Epoch 89/100\n",
            "\u001b[1m 1/18\u001b[0m \u001b[32m━\u001b[0m\u001b[37m━━━━━━━━━━━━━━━━━━━\u001b[0m \u001b[1m0s\u001b[0m 42ms/step - loss: 111.0518 - mae: 111.0518\n",
            "Epoch 89: val_loss did not improve from 571.98615\n",
            "\u001b[1m18/18\u001b[0m \u001b[32m━━━━━━━━━━━━━━━━━━━━\u001b[0m\u001b[37m\u001b[0m \u001b[1m0s\u001b[0m 4ms/step - loss: 106.9650 - mae: 106.9650 - val_loss: 575.0195 - val_mae: 575.0195\n",
            "Epoch 90/100\n",
            "\u001b[1m 1/18\u001b[0m \u001b[32m━\u001b[0m\u001b[37m━━━━━━━━━━━━━━━━━━━\u001b[0m \u001b[1m1s\u001b[0m 73ms/step - loss: 111.2683 - mae: 111.2683\n",
            "Epoch 90: val_loss did not improve from 571.98615\n",
            "\u001b[1m18/18\u001b[0m \u001b[32m━━━━━━━━━━━━━━━━━━━━\u001b[0m\u001b[37m\u001b[0m \u001b[1m0s\u001b[0m 4ms/step - loss: 107.6522 - mae: 107.6522 - val_loss: 573.3902 - val_mae: 573.3902\n",
            "Epoch 91/100\n",
            "\u001b[1m 1/18\u001b[0m \u001b[32m━\u001b[0m\u001b[37m━━━━━━━━━━━━━━━━━━━\u001b[0m \u001b[1m1s\u001b[0m 67ms/step - loss: 111.8830 - mae: 111.8830\n",
            "Epoch 91: val_loss did not improve from 571.98615\n",
            "\u001b[1m18/18\u001b[0m \u001b[32m━━━━━━━━━━━━━━━━━━━━\u001b[0m\u001b[37m\u001b[0m \u001b[1m0s\u001b[0m 4ms/step - loss: 107.4621 - mae: 107.4621 - val_loss: 572.0754 - val_mae: 572.0754\n",
            "Epoch 92/100\n",
            "\u001b[1m 1/18\u001b[0m \u001b[32m━\u001b[0m\u001b[37m━━━━━━━━━━━━━━━━━━━\u001b[0m \u001b[1m1s\u001b[0m 66ms/step - loss: 111.6173 - mae: 111.6173\n",
            "Epoch 92: val_loss did not improve from 571.98615\n",
            "\u001b[1m18/18\u001b[0m \u001b[32m━━━━━━━━━━━━━━━━━━━━\u001b[0m\u001b[37m\u001b[0m \u001b[1m0s\u001b[0m 4ms/step - loss: 105.8543 - mae: 105.8543 - val_loss: 573.9013 - val_mae: 573.9013\n",
            "Epoch 93/100\n",
            "\u001b[1m 1/18\u001b[0m \u001b[32m━\u001b[0m\u001b[37m━━━━━━━━━━━━━━━━━━━\u001b[0m \u001b[1m0s\u001b[0m 23ms/step - loss: 111.1700 - mae: 111.1700\n",
            "Epoch 93: val_loss did not improve from 571.98615\n",
            "\u001b[1m18/18\u001b[0m \u001b[32m━━━━━━━━━━━━━━━━━━━━\u001b[0m\u001b[37m\u001b[0m \u001b[1m0s\u001b[0m 4ms/step - loss: 106.8130 - mae: 106.8130 - val_loss: 575.0533 - val_mae: 575.0533\n",
            "Epoch 94/100\n",
            "\u001b[1m 1/18\u001b[0m \u001b[32m━\u001b[0m\u001b[37m━━━━━━━━━━━━━━━━━━━\u001b[0m \u001b[1m1s\u001b[0m 75ms/step - loss: 111.4683 - mae: 111.4683\n",
            "Epoch 94: val_loss did not improve from 571.98615\n",
            "\u001b[1m18/18\u001b[0m \u001b[32m━━━━━━━━━━━━━━━━━━━━\u001b[0m\u001b[37m\u001b[0m \u001b[1m0s\u001b[0m 4ms/step - loss: 107.6876 - mae: 107.6876 - val_loss: 573.1114 - val_mae: 573.1114\n",
            "Epoch 95/100\n",
            "\u001b[1m 1/18\u001b[0m \u001b[32m━\u001b[0m\u001b[37m━━━━━━━━━━━━━━━━━━━\u001b[0m \u001b[1m0s\u001b[0m 24ms/step - loss: 111.9454 - mae: 111.9454\n",
            "Epoch 95: val_loss improved from 571.98615 to 571.74615, saving model to model_experiments/model_1_dense.keras\n",
            "\u001b[1m18/18\u001b[0m \u001b[32m━━━━━━━━━━━━━━━━━━━━\u001b[0m\u001b[37m\u001b[0m \u001b[1m0s\u001b[0m 4ms/step - loss: 106.8957 - mae: 106.8957 - val_loss: 571.7462 - val_mae: 571.7462\n",
            "Epoch 96/100\n",
            "\u001b[1m 1/18\u001b[0m \u001b[32m━\u001b[0m\u001b[37m━━━━━━━━━━━━━━━━━━━\u001b[0m \u001b[1m0s\u001b[0m 26ms/step - loss: 111.3816 - mae: 111.3816\n",
            "Epoch 96: val_loss did not improve from 571.74615\n",
            "\u001b[1m18/18\u001b[0m \u001b[32m━━━━━━━━━━━━━━━━━━━━\u001b[0m\u001b[37m\u001b[0m \u001b[1m0s\u001b[0m 4ms/step - loss: 106.3589 - mae: 106.3589 - val_loss: 572.0842 - val_mae: 572.0842\n",
            "Epoch 97/100\n",
            "\u001b[1m 1/18\u001b[0m \u001b[32m━\u001b[0m\u001b[37m━━━━━━━━━━━━━━━━━━━\u001b[0m \u001b[1m0s\u001b[0m 26ms/step - loss: 111.1583 - mae: 111.1583\n",
            "Epoch 97: val_loss did not improve from 571.74615\n",
            "\u001b[1m18/18\u001b[0m \u001b[32m━━━━━━━━━━━━━━━━━━━━\u001b[0m\u001b[37m\u001b[0m \u001b[1m0s\u001b[0m 4ms/step - loss: 106.5574 - mae: 106.5574 - val_loss: 571.8984 - val_mae: 571.8984\n",
            "Epoch 98/100\n",
            "\u001b[1m 1/18\u001b[0m \u001b[32m━\u001b[0m\u001b[37m━━━━━━━━━━━━━━━━━━━\u001b[0m \u001b[1m0s\u001b[0m 23ms/step - loss: 111.1298 - mae: 111.1298\n",
            "Epoch 98: val_loss did not improve from 571.74615\n",
            "\u001b[1m18/18\u001b[0m \u001b[32m━━━━━━━━━━━━━━━━━━━━\u001b[0m\u001b[37m\u001b[0m \u001b[1m0s\u001b[0m 3ms/step - loss: 106.1210 - mae: 106.1210 - val_loss: 575.7334 - val_mae: 575.7334\n",
            "Epoch 99/100\n",
            "\u001b[1m 1/18\u001b[0m \u001b[32m━\u001b[0m\u001b[37m━━━━━━━━━━━━━━━━━━━\u001b[0m \u001b[1m0s\u001b[0m 22ms/step - loss: 111.5623 - mae: 111.5623\n",
            "Epoch 99: val_loss improved from 571.74615 to 571.09937, saving model to model_experiments/model_1_dense.keras\n",
            "\u001b[1m18/18\u001b[0m \u001b[32m━━━━━━━━━━━━━━━━━━━━\u001b[0m\u001b[37m\u001b[0m \u001b[1m0s\u001b[0m 5ms/step - loss: 107.5358 - mae: 107.5358 - val_loss: 571.0994 - val_mae: 571.0994\n",
            "Epoch 100/100\n",
            "\u001b[1m 1/18\u001b[0m \u001b[32m━\u001b[0m\u001b[37m━━━━━━━━━━━━━━━━━━━\u001b[0m \u001b[1m0s\u001b[0m 56ms/step - loss: 111.4351 - mae: 111.4351\n",
            "Epoch 100: val_loss did not improve from 571.09937\n",
            "\u001b[1m18/18\u001b[0m \u001b[32m━━━━━━━━━━━━━━━━━━━━\u001b[0m\u001b[37m\u001b[0m \u001b[1m0s\u001b[0m 4ms/step - loss: 105.9959 - mae: 105.9959 - val_loss: 571.1243 - val_mae: 571.1243\n"
          ]
        },
        {
          "output_type": "execute_result",
          "data": {
            "text/plain": [
              "<keras.src.callbacks.history.History at 0x7918271093c0>"
            ]
          },
          "metadata": {},
          "execution_count": 40
        }
      ]
    },
    {
      "cell_type": "code",
      "source": [
        "# Evaluate model on test data\n",
        "model_1.evaluate(test_windows, test_labels)"
      ],
      "metadata": {
        "colab": {
          "base_uri": "https://localhost:8080/"
        },
        "id": "ytcCA0HsUjou",
        "outputId": "3b65464c-98ac-44a3-a40a-fbe9dfc7bee8"
      },
      "execution_count": 41,
      "outputs": [
        {
          "output_type": "stream",
          "name": "stdout",
          "text": [
            "\u001b[1m18/18\u001b[0m \u001b[32m━━━━━━━━━━━━━━━━━━━━\u001b[0m\u001b[37m\u001b[0m \u001b[1m0s\u001b[0m 7ms/step - loss: 284.7914 - mae: 284.7914\n"
          ]
        },
        {
          "output_type": "execute_result",
          "data": {
            "text/plain": [
              "[571.1243286132812, 571.1243286132812]"
            ]
          },
          "metadata": {},
          "execution_count": 41
        }
      ]
    },
    {
      "cell_type": "code",
      "source": [
        "model_1 = tf.keras.models.load_model(\"/content/model_experiments/model_1_dense.keras\")\n",
        "model_1.evaluate(test_windows, test_labels)"
      ],
      "metadata": {
        "colab": {
          "base_uri": "https://localhost:8080/"
        },
        "id": "Dl76yqGVUsHc",
        "outputId": "30f2f187-dd3f-49e9-c5a5-e600831b060d"
      },
      "execution_count": 42,
      "outputs": [
        {
          "output_type": "stream",
          "name": "stdout",
          "text": [
            "\u001b[1m18/18\u001b[0m \u001b[32m━━━━━━━━━━━━━━━━━━━━\u001b[0m\u001b[37m\u001b[0m \u001b[1m0s\u001b[0m 7ms/step - loss: 285.1469 - mae: 285.1469\n"
          ]
        },
        {
          "output_type": "execute_result",
          "data": {
            "text/plain": [
              "[571.0994262695312, 571.0994262695312]"
            ]
          },
          "metadata": {},
          "execution_count": 42
        }
      ]
    },
    {
      "cell_type": "markdown",
      "source": [
        "## Making Forecasts with a Model (on the Test Dataset)\n",
        "\n",
        "We've trained our model and evaluated it on the test data. But since our project is called BitPredict 💰📈, how can we use our model to make predictions?\n",
        "\n",
        "Since we'll be running multiple modeling experiments, let's create a function that:\n",
        "1. Takes in a trained model (like `model_1`).\n",
        "2. Accepts some input data (similar to what the model was trained on).\n",
        "3. Passes the input data through the model's `predict()` method.\n",
        "4. Returns the predictions.\n"
      ],
      "metadata": {
        "id": "olrsTQ-JXQb0"
      }
    },
    {
      "cell_type": "code",
      "source": [
        "def make_preds(model, input_data):\n",
        "  \"\"\"\n",
        "  Uses model to make predictions on input_data.\n",
        "\n",
        "  Parameters\n",
        "  ----------\n",
        "  model: trained model\n",
        "  input_data: windowed input data (same kind of data model was trained on)\n",
        "\n",
        "  Returns model predictions on input_data.\n",
        "  \"\"\"\n",
        "  forecast = model.predict(input_data)\n",
        "  return tf.squeeze(forecast) # return 1D array of predictions"
      ],
      "metadata": {
        "id": "UJb0ButdVC94"
      },
      "execution_count": 43,
      "outputs": []
    },
    {
      "cell_type": "code",
      "source": [
        "# Make predictions using model_1 on the test dataset and view the results\n",
        "model_1_preds = make_preds(model_1, test_windows)\n",
        "len(model_1_preds), model_1_preds[:10]"
      ],
      "metadata": {
        "colab": {
          "base_uri": "https://localhost:8080/"
        },
        "id": "7ImL2mpoXUGf",
        "outputId": "cdfa1f20-3457-4489-ef53-5bd36bac2e47"
      },
      "execution_count": 44,
      "outputs": [
        {
          "output_type": "stream",
          "name": "stdout",
          "text": [
            "\u001b[1m18/18\u001b[0m \u001b[32m━━━━━━━━━━━━━━━━━━━━\u001b[0m\u001b[37m\u001b[0m \u001b[1m0s\u001b[0m 14ms/step\n"
          ]
        },
        {
          "output_type": "execute_result",
          "data": {
            "text/plain": [
              "(556,\n",
              " <tf.Tensor: shape=(10,), dtype=float32, numpy=\n",
              " array([8858.87 , 8773.532, 9055.829, 8786.824, 8712.585, 8761.53 ,\n",
              "        8696.831, 8491.698, 8481.834, 8526.588], dtype=float32)>)"
            ]
          },
          "metadata": {},
          "execution_count": 44
        }
      ]
    },
    {
      "cell_type": "code",
      "source": [
        "#Evaluate preds\n",
        "model_1_results = evaluate_preds(y_true = tf.squeeze(test_labels),\n",
        "                                 y_pred = model_1_preds)\n",
        "\n",
        "model_1_results"
      ],
      "metadata": {
        "colab": {
          "base_uri": "https://localhost:8080/"
        },
        "id": "E6sse3CSXfNx",
        "outputId": "3b372427-8643-47ee-d836-4e9eaed440e4"
      },
      "execution_count": 45,
      "outputs": [
        {
          "output_type": "execute_result",
          "data": {
            "text/plain": [
              "{'MAE': 571.09937,\n",
              " 'MSE': 1174121.2,\n",
              " 'RMSE': 1083.5687,\n",
              " 'MAPE': 2.5541058,\n",
              " 'MASE': 0.69746816}"
            ]
          },
          "metadata": {},
          "execution_count": 45
        }
      ]
    },
    {
      "cell_type": "code",
      "source": [
        "naive_results"
      ],
      "metadata": {
        "colab": {
          "base_uri": "https://localhost:8080/"
        },
        "id": "a-FNoQZIX0N5",
        "outputId": "4abf225a-bc38-4bcf-c6af-9809ddb98ce9"
      },
      "execution_count": 46,
      "outputs": [
        {
          "output_type": "execute_result",
          "data": {
            "text/plain": [
              "{'MAE': 567.9802,\n",
              " 'MSE': 1147547.0,\n",
              " 'RMSE': 1071.2362,\n",
              " 'MAPE': 2.516525,\n",
              " 'MASE': 0.69212395}"
            ]
          },
          "metadata": {},
          "execution_count": 46
        }
      ]
    },
    {
      "cell_type": "code",
      "source": [
        "offset = 300\n",
        "plt.figure(figsize=(10, 7))\n",
        "# Account for the test_window offset and index into test_labels to ensure correct plotting\n",
        "plot_time_series(timesteps=X_test[-len(test_windows):], values=test_labels[:,0], start=offset, label='Test_data')\n",
        "plot_time_series(timesteps=X_test[-len(test_windows):], values=model_1_preds, start=offset, format='-', label='model_1_preds')"
      ],
      "metadata": {
        "colab": {
          "base_uri": "https://localhost:8080/",
          "height": 619
        },
        "id": "msCGjm5cX4Dy",
        "outputId": "6249c0ec-55cd-495e-ffc7-a816a74a1dbb"
      },
      "execution_count": 51,
      "outputs": [
        {
          "output_type": "display_data",
          "data": {
            "text/plain": [
              "<Figure size 1000x700 with 1 Axes>"
            ],
            "image/png": "[encoded data removed]"
          },
          "metadata": {}
        }
      ]
    },
    {
      "cell_type": "code",
      "source": [],
      "metadata": {
        "id": "zrca3-bcY-wV"
      },
      "execution_count": null,
      "outputs": []
    }
  ]
}